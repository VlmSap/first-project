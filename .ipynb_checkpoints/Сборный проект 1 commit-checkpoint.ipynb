{
 "cells": [
  {
   "cell_type": "markdown",
   "metadata": {},
   "source": [
    "**Владимир, привет!**\n",
    "\n",
    "Меня зовут Анна Кузьмина, я буду проверять твой проект. Предлагаю общаться на «ты», но если тебе не комфортно — напиши мне и мы перейдем на «вы». Моя цель помочь тебе сделать этот проект еще лучше, что бы его можно было смело добавить в твое портфолио.\n",
    "\n",
    "Для удобства я буду выделять комментарии разными цветами, вот так:\n",
    "\n",
    "<div class=\"alert alert-danger\">\n",
    "<b> Красный цвет ❌</b>\n",
    "\n",
    "По таким комментариям нужно будет поправить недочеты, без этого я не смогу принять твою работу.\n",
    "    \n",
    "</div>\n",
    "\n",
    "<div class=\"alert alert-warning\">\n",
    "<b> Желтый цвет ⚠️ </b>\n",
    "    \n",
    "В таких комментариях я отмечу то, на что стоит обратить внимание в будущем. По-желанию ты можешь применить мои советы уже в этой работе.\n",
    "\n",
    "</div>\n",
    "\n",
    "<div class=\"alert alert-success\">\n",
    "<b> Зеленый цвет ✅ </b>\n",
    "    \n",
    "Так я отмечу твои удачные решения и все остальные комментарии.\n",
    "\n",
    "</div>\n",
    "\n",
    "При повторном ревью я буду выделять комментарии такими же цветами, только подпишу их так: «Комментарий ревьюера 2».\n",
    "\n",
    "\n",
    "Предлагаю общаться в диалоге. Будет отлично, если ты, отвечая на мои комментарии или что-то изменяя в работе, добавишь свой комментарий, например так:\n",
    "\n",
    "<div class=\"alert alert-info\">\n",
    "<b> Комментарий студента</b>\n",
    "\n",
    "Проект доработан по твоим комментариям, но у меня есть вопрос...\n",
    "</div>\n",
    "\n",
    "Пожалуйста, не перемещай и не удаляй мои комментарии,это может увеличить время повторной проверки."
   ]
  },
  {
   "cell_type": "markdown",
   "metadata": {
    "id": "sIfNaMOxgFyK"
   },
   "source": [
    "## Исследование данных о российском кинопрокате\n",
    "\n"
   ]
  },
  {
   "cell_type": "markdown",
   "metadata": {},
   "source": [
    "<div class=\"alert alert-success\">\n",
    "<b> Комментарий ревьюера ✅ </b>\n",
    "\n",
    "Хорошо, что есть название, можно добавить цель работы и информацию об источниках исходных данных — это помогает сразу понять в чем суть исследования.\n",
    "    \n",
    "Что бы после обучения можно было добавлять проект в портфолио, лучше не просто копировать описание проекта из задания, а написать цели и задачи своими словами: «В данной работе мы будем изучать рынок...». То же касается и пояснений по ходу выполнения.\n",
    "\n",
    "</div>"
   ]
  },
  {
   "cell_type": "markdown",
   "metadata": {
    "id": "3bSlkCsbgFyL"
   },
   "source": [
    "### Шаг 1. Откройте файлы с данными и объедините их в один датафрейм. \n",
    "\n",
    "Объедините данные таким образом, чтобы все объекты из датасета `mkrf_movies` обязательно вошли в получившийся датафрейм. \n",
    "\n",
    "<div id=\"accordion\">\n",
    "    <div class=\"card\">\n",
    "        <div class=\"card-header\" id=\"headingThree\">\n",
    "            <button class=\"btn btn-link collapsed\" data-toggle=\"collapse\" data-target=\"#collapseHint_0\" aria-expanded=\"false\" aria-controls=\"collapseHint_0\">Подсказка</button>\n",
    "        </div>\n",
    "        <div id=\"collapseHint_0\" class=\"collapse\" aria-labelledby=\"headingThree\" data-parent=\"#accordion\">\n",
    "            <div class=\"card-body\">\n",
    "Обратите внимание на тип данных столбца, по которому будете соединять датафреймы. Тип данных этих столбцов должен быть одинаковым в обоих датафреймах.\n",
    "            </div>\n",
    "        </div>\n",
    "    </div>\n",
    "</div>"
   ]
  },
  {
   "cell_type": "code",
   "execution_count": 1,
   "metadata": {
    "id": "dw87FlzMgFyM"
   },
   "outputs": [],
   "source": [
    "import pandas as pd\n",
    "import warnings"
   ]
  },
  {
   "cell_type": "code",
   "execution_count": 2,
   "metadata": {},
   "outputs": [],
   "source": [
    "warnings.filterwarnings(action='ignore', category=FutureWarning)"
   ]
  },
  {
   "cell_type": "markdown",
   "metadata": {},
   "source": [
    "<div class=\"alert alert-success\">\n",
    "<b> Комментарий ревьюера ✅ </b>\n",
    "\n",
    "Очень удобно когда импорт всех библиотек и настроек формата вывода данных, используемых в проекте, сохраняют в одной ячейке в начале проекта. Если по ходу работы над проектом потребуется импортировать еще какие-то библиотеки, то можно их добавить в эту ячейку и перезапустить, без повторного чтения файлов и других преобразований.\n",
    "\n",
    "</div>"
   ]
  },
  {
   "cell_type": "markdown",
   "metadata": {},
   "source": [
    "тест коммит"
   ]
  },
  {
   "cell_type": "markdown",
   "metadata": {},
   "source": [
    "для коммита vghl"
   ]
  },
  {
   "cell_type": "code",
   "execution_count": 3,
   "metadata": {
    "scrolled": false
   },
   "outputs": [
    {
     "data": {
      "text/html": [
       "<div>\n",
       "<style scoped>\n",
       "    .dataframe tbody tr th:only-of-type {\n",
       "        vertical-align: middle;\n",
       "    }\n",
       "\n",
       "    .dataframe tbody tr th {\n",
       "        vertical-align: top;\n",
       "    }\n",
       "\n",
       "    .dataframe thead th {\n",
       "        text-align: right;\n",
       "    }\n",
       "</style>\n",
       "<table border=\"1\" class=\"dataframe\">\n",
       "  <thead>\n",
       "    <tr style=\"text-align: right;\">\n",
       "      <th></th>\n",
       "      <th>title</th>\n",
       "      <th>puNumber</th>\n",
       "      <th>show_start_date</th>\n",
       "      <th>type</th>\n",
       "      <th>film_studio</th>\n",
       "      <th>production_country</th>\n",
       "      <th>director</th>\n",
       "      <th>producer</th>\n",
       "      <th>age_restriction</th>\n",
       "      <th>refundable_support</th>\n",
       "      <th>nonrefundable_support</th>\n",
       "      <th>budget</th>\n",
       "      <th>financing_source</th>\n",
       "      <th>ratings</th>\n",
       "      <th>genres</th>\n",
       "    </tr>\n",
       "  </thead>\n",
       "  <tbody>\n",
       "    <tr>\n",
       "      <th>0</th>\n",
       "      <td>Открытый простор</td>\n",
       "      <td>221048915</td>\n",
       "      <td>2015-11-27T12:00:00.000Z</td>\n",
       "      <td>Художественный</td>\n",
       "      <td>Тачстоун Пикчерз, Кобальт Пикчерз, Бикон Пикче...</td>\n",
       "      <td>США</td>\n",
       "      <td>Кевин Костнер</td>\n",
       "      <td>Дэвид Валдес, Кевин Костнер, Джейк Эбертс</td>\n",
       "      <td>«18+» - запрещено для детей</td>\n",
       "      <td>NaN</td>\n",
       "      <td>NaN</td>\n",
       "      <td>NaN</td>\n",
       "      <td>NaN</td>\n",
       "      <td>7.2</td>\n",
       "      <td>боевик,драма,мелодрама</td>\n",
       "    </tr>\n",
       "    <tr>\n",
       "      <th>1</th>\n",
       "      <td>Особо важное задание</td>\n",
       "      <td>111013716</td>\n",
       "      <td>2016-09-13T12:00:00.000Z</td>\n",
       "      <td>Художественный</td>\n",
       "      <td>Киностудия \"Мосфильм\"</td>\n",
       "      <td>СССР</td>\n",
       "      <td>Е.Матвеев</td>\n",
       "      <td>NaN</td>\n",
       "      <td>«6+» - для детей старше 6 лет</td>\n",
       "      <td>NaN</td>\n",
       "      <td>NaN</td>\n",
       "      <td>NaN</td>\n",
       "      <td>NaN</td>\n",
       "      <td>6.6</td>\n",
       "      <td>драма,военный</td>\n",
       "    </tr>\n",
       "    <tr>\n",
       "      <th>2</th>\n",
       "      <td>Особо опасен</td>\n",
       "      <td>221038416</td>\n",
       "      <td>2016-10-10T12:00:00.000Z</td>\n",
       "      <td>Художественный</td>\n",
       "      <td>Юниверсал Пикчерз, Кикстарт Продакшнз, Марк Пл...</td>\n",
       "      <td>США</td>\n",
       "      <td>Тимур Бекмамбетов</td>\n",
       "      <td>Джим Лемли, Джейсон Нетер, Марк Е.Платт, Яйн Смит</td>\n",
       "      <td>«18+» - запрещено для детей</td>\n",
       "      <td>NaN</td>\n",
       "      <td>NaN</td>\n",
       "      <td>NaN</td>\n",
       "      <td>NaN</td>\n",
       "      <td>6.8</td>\n",
       "      <td>фантастика,боевик,триллер</td>\n",
       "    </tr>\n",
       "    <tr>\n",
       "      <th>3</th>\n",
       "      <td>Особо опасен</td>\n",
       "      <td>221026916</td>\n",
       "      <td>2016-06-10T12:00:00.000Z</td>\n",
       "      <td>Художественный</td>\n",
       "      <td>Юниверсал Пикчерз, Кикстарт Продакшнз, Марк Пл...</td>\n",
       "      <td>США</td>\n",
       "      <td>Тимур Бекмамбетов</td>\n",
       "      <td>Джим Лемли, Джейсон Нетер, Марк Е.Платт, Яйн Смит</td>\n",
       "      <td>«18+» - запрещено для детей</td>\n",
       "      <td>NaN</td>\n",
       "      <td>NaN</td>\n",
       "      <td>NaN</td>\n",
       "      <td>NaN</td>\n",
       "      <td>6.8</td>\n",
       "      <td>фантастика,боевик,триллер</td>\n",
       "    </tr>\n",
       "    <tr>\n",
       "      <th>4</th>\n",
       "      <td>Особо опасен</td>\n",
       "      <td>221030815</td>\n",
       "      <td>2015-07-29T12:00:00.000Z</td>\n",
       "      <td>Художественный</td>\n",
       "      <td>Юниверсал Пикчерз, Кикстарт Продакшнз, Марк Пл...</td>\n",
       "      <td>США</td>\n",
       "      <td>Тимур Бекмамбетов</td>\n",
       "      <td>Джим Лемли, Джейсон Нетер, Марк Е.Платт, Яйн Смит</td>\n",
       "      <td>«18+» - запрещено для детей</td>\n",
       "      <td>NaN</td>\n",
       "      <td>NaN</td>\n",
       "      <td>NaN</td>\n",
       "      <td>NaN</td>\n",
       "      <td>6.8</td>\n",
       "      <td>фантастика,боевик,триллер</td>\n",
       "    </tr>\n",
       "  </tbody>\n",
       "</table>\n",
       "</div>"
      ],
      "text/plain": [
       "                  title   puNumber           show_start_date            type  \\\n",
       "0      Открытый простор  221048915  2015-11-27T12:00:00.000Z  Художественный   \n",
       "1  Особо важное задание  111013716  2016-09-13T12:00:00.000Z  Художественный   \n",
       "2          Особо опасен  221038416  2016-10-10T12:00:00.000Z  Художественный   \n",
       "3          Особо опасен  221026916  2016-06-10T12:00:00.000Z  Художественный   \n",
       "4          Особо опасен  221030815  2015-07-29T12:00:00.000Z  Художественный   \n",
       "\n",
       "                                         film_studio production_country  \\\n",
       "0  Тачстоун Пикчерз, Кобальт Пикчерз, Бикон Пикче...                США   \n",
       "1                              Киностудия \"Мосфильм\"               СССР   \n",
       "2  Юниверсал Пикчерз, Кикстарт Продакшнз, Марк Пл...                США   \n",
       "3  Юниверсал Пикчерз, Кикстарт Продакшнз, Марк Пл...                США   \n",
       "4  Юниверсал Пикчерз, Кикстарт Продакшнз, Марк Пл...                США   \n",
       "\n",
       "            director                                           producer  \\\n",
       "0      Кевин Костнер          Дэвид Валдес, Кевин Костнер, Джейк Эбертс   \n",
       "1          Е.Матвеев                                                NaN   \n",
       "2  Тимур Бекмамбетов  Джим Лемли, Джейсон Нетер, Марк Е.Платт, Яйн Смит   \n",
       "3  Тимур Бекмамбетов  Джим Лемли, Джейсон Нетер, Марк Е.Платт, Яйн Смит   \n",
       "4  Тимур Бекмамбетов  Джим Лемли, Джейсон Нетер, Марк Е.Платт, Яйн Смит   \n",
       "\n",
       "                 age_restriction  refundable_support  nonrefundable_support  \\\n",
       "0    «18+» - запрещено для детей                 NaN                    NaN   \n",
       "1  «6+» - для детей старше 6 лет                 NaN                    NaN   \n",
       "2    «18+» - запрещено для детей                 NaN                    NaN   \n",
       "3    «18+» - запрещено для детей                 NaN                    NaN   \n",
       "4    «18+» - запрещено для детей                 NaN                    NaN   \n",
       "\n",
       "   budget financing_source ratings                     genres  \n",
       "0     NaN              NaN     7.2     боевик,драма,мелодрама  \n",
       "1     NaN              NaN     6.6              драма,военный  \n",
       "2     NaN              NaN     6.8  фантастика,боевик,триллер  \n",
       "3     NaN              NaN     6.8  фантастика,боевик,триллер  \n",
       "4     NaN              NaN     6.8  фантастика,боевик,триллер  "
      ]
     },
     "metadata": {},
     "output_type": "display_data"
    },
    {
     "data": {
      "text/html": [
       "<div>\n",
       "<style scoped>\n",
       "    .dataframe tbody tr th:only-of-type {\n",
       "        vertical-align: middle;\n",
       "    }\n",
       "\n",
       "    .dataframe tbody tr th {\n",
       "        vertical-align: top;\n",
       "    }\n",
       "\n",
       "    .dataframe thead th {\n",
       "        text-align: right;\n",
       "    }\n",
       "</style>\n",
       "<table border=\"1\" class=\"dataframe\">\n",
       "  <thead>\n",
       "    <tr style=\"text-align: right;\">\n",
       "      <th></th>\n",
       "      <th>puNumber</th>\n",
       "      <th>box_office</th>\n",
       "    </tr>\n",
       "  </thead>\n",
       "  <tbody>\n",
       "    <tr>\n",
       "      <th>0</th>\n",
       "      <td>111000113</td>\n",
       "      <td>2.450000e+03</td>\n",
       "    </tr>\n",
       "    <tr>\n",
       "      <th>1</th>\n",
       "      <td>111000115</td>\n",
       "      <td>6.104000e+04</td>\n",
       "    </tr>\n",
       "    <tr>\n",
       "      <th>2</th>\n",
       "      <td>111000116</td>\n",
       "      <td>1.530300e+08</td>\n",
       "    </tr>\n",
       "    <tr>\n",
       "      <th>3</th>\n",
       "      <td>111000117</td>\n",
       "      <td>1.226096e+07</td>\n",
       "    </tr>\n",
       "    <tr>\n",
       "      <th>4</th>\n",
       "      <td>111000118</td>\n",
       "      <td>1.636841e+08</td>\n",
       "    </tr>\n",
       "  </tbody>\n",
       "</table>\n",
       "</div>"
      ],
      "text/plain": [
       "    puNumber    box_office\n",
       "0  111000113  2.450000e+03\n",
       "1  111000115  6.104000e+04\n",
       "2  111000116  1.530300e+08\n",
       "3  111000117  1.226096e+07\n",
       "4  111000118  1.636841e+08"
      ]
     },
     "metadata": {},
     "output_type": "display_data"
    },
    {
     "name": "stdout",
     "output_type": "stream",
     "text": [
      "<class 'pandas.core.frame.DataFrame'>\n",
      "RangeIndex: 7486 entries, 0 to 7485\n",
      "Data columns (total 15 columns):\n",
      " #   Column                 Non-Null Count  Dtype  \n",
      "---  ------                 --------------  -----  \n",
      " 0   title                  7486 non-null   object \n",
      " 1   puNumber               7486 non-null   object \n",
      " 2   show_start_date        7486 non-null   object \n",
      " 3   type                   7486 non-null   object \n",
      " 4   film_studio            7468 non-null   object \n",
      " 5   production_country     7484 non-null   object \n",
      " 6   director               7477 non-null   object \n",
      " 7   producer               6918 non-null   object \n",
      " 8   age_restriction        7486 non-null   object \n",
      " 9   refundable_support     332 non-null    float64\n",
      " 10  nonrefundable_support  332 non-null    float64\n",
      " 11  budget                 332 non-null    float64\n",
      " 12  financing_source       332 non-null    object \n",
      " 13  ratings                6519 non-null   object \n",
      " 14  genres                 6510 non-null   object \n",
      "dtypes: float64(3), object(12)\n",
      "memory usage: 877.4+ KB\n"
     ]
    },
    {
     "data": {
      "text/plain": [
       "None"
      ]
     },
     "metadata": {},
     "output_type": "display_data"
    },
    {
     "name": "stdout",
     "output_type": "stream",
     "text": [
      "<class 'pandas.core.frame.DataFrame'>\n",
      "RangeIndex: 3158 entries, 0 to 3157\n",
      "Data columns (total 2 columns):\n",
      " #   Column      Non-Null Count  Dtype  \n",
      "---  ------      --------------  -----  \n",
      " 0   puNumber    3158 non-null   int64  \n",
      " 1   box_office  3158 non-null   float64\n",
      "dtypes: float64(1), int64(1)\n",
      "memory usage: 49.5 KB\n"
     ]
    },
    {
     "data": {
      "text/plain": [
       "None"
      ]
     },
     "metadata": {},
     "output_type": "display_data"
    }
   ],
   "source": [
    "data_movies = pd.read_csv('/datasets/mkrf_movies.csv')\n",
    "data_shows = pd.read_csv('/datasets/mkrf_shows.csv')\n",
    "display(data_movies.head())\n",
    "display(data_shows.head())\n",
    "\n",
    "display(data_movies.info())\n",
    "display(data_shows.info())\n",
    "\n",
    "#Уберу строку со значением \"нет\" чтобы перевести столбец в int64\n",
    "data_movies = data_movies.query('puNumber != \"нет\"')\n",
    "\n",
    "#Перевожу тип столбца по которому будет производится объединение.\n",
    "data_movies['puNumber'] = data_movies['puNumber'].astype('int64')"
   ]
  },
  {
   "cell_type": "markdown",
   "metadata": {},
   "source": [
    "<div class=\"alert alert-success\">\n",
    "<b> Комментарий ревьюера ✅ </b>\n",
    "    \n",
    "Артефакт в столбце `puNumber` найден и удален, столбцы приведены к одному типу данных.\n",
    "\n",
    "1. Постарайся не выводить весь датафрейм целиком — так можно «уронить» Jupyter Hub. Лучше использовать для вывода первых и последних строк методы `head()` и `tail()`. Или метод `sample()` для вывода рандомной строки датафрейма.\n",
    "    \n",
    "1. Здесь можно заметить, что количественные данные `box_office` выводятся в неудобном для чтения экспоненциальном формате, это можно исправить, применив метод:\n",
    "    \n",
    "    `pd.options.display.float_format = '{:.2f}'.format`\n",
    "    \n",
    "    Лучше всего разместить строку кода с настройками формата вывода в первой ячейке вместе с импортами библиотек, что бы эти настройки действовали для всех ячеек проекта.\n",
    "\n",
    "1. Можно добавить описание хранящихся в каждом столбце данных — так как не всегда названия столбцов четко передают информацию.  \n",
    "\n",
    "</div>"
   ]
  },
  {
   "cell_type": "code",
   "execution_count": 4,
   "metadata": {},
   "outputs": [
    {
     "data": {
      "text/html": [
       "<div>\n",
       "<style scoped>\n",
       "    .dataframe tbody tr th:only-of-type {\n",
       "        vertical-align: middle;\n",
       "    }\n",
       "\n",
       "    .dataframe tbody tr th {\n",
       "        vertical-align: top;\n",
       "    }\n",
       "\n",
       "    .dataframe thead th {\n",
       "        text-align: right;\n",
       "    }\n",
       "</style>\n",
       "<table border=\"1\" class=\"dataframe\">\n",
       "  <thead>\n",
       "    <tr style=\"text-align: right;\">\n",
       "      <th></th>\n",
       "      <th>title</th>\n",
       "      <th>pu_number</th>\n",
       "      <th>show_start_date</th>\n",
       "      <th>type</th>\n",
       "      <th>film_studio</th>\n",
       "      <th>production_country</th>\n",
       "      <th>director</th>\n",
       "      <th>producer</th>\n",
       "      <th>age_restriction</th>\n",
       "      <th>refundable_support</th>\n",
       "      <th>nonrefundable_support</th>\n",
       "      <th>budget</th>\n",
       "      <th>financing_source</th>\n",
       "      <th>ratings</th>\n",
       "      <th>genres</th>\n",
       "      <th>box_office</th>\n",
       "    </tr>\n",
       "  </thead>\n",
       "  <tbody>\n",
       "    <tr>\n",
       "      <th>0</th>\n",
       "      <td>Открытый простор</td>\n",
       "      <td>221048915</td>\n",
       "      <td>2015-11-27T12:00:00.000Z</td>\n",
       "      <td>Художественный</td>\n",
       "      <td>Тачстоун Пикчерз, Кобальт Пикчерз, Бикон Пикче...</td>\n",
       "      <td>США</td>\n",
       "      <td>Кевин Костнер</td>\n",
       "      <td>Дэвид Валдес, Кевин Костнер, Джейк Эбертс</td>\n",
       "      <td>«18+» - запрещено для детей</td>\n",
       "      <td>NaN</td>\n",
       "      <td>NaN</td>\n",
       "      <td>NaN</td>\n",
       "      <td>NaN</td>\n",
       "      <td>7.2</td>\n",
       "      <td>боевик,драма,мелодрама</td>\n",
       "      <td>NaN</td>\n",
       "    </tr>\n",
       "    <tr>\n",
       "      <th>1</th>\n",
       "      <td>Особо важное задание</td>\n",
       "      <td>111013716</td>\n",
       "      <td>2016-09-13T12:00:00.000Z</td>\n",
       "      <td>Художественный</td>\n",
       "      <td>Киностудия \"Мосфильм\"</td>\n",
       "      <td>СССР</td>\n",
       "      <td>Е.Матвеев</td>\n",
       "      <td>NaN</td>\n",
       "      <td>«6+» - для детей старше 6 лет</td>\n",
       "      <td>NaN</td>\n",
       "      <td>NaN</td>\n",
       "      <td>NaN</td>\n",
       "      <td>NaN</td>\n",
       "      <td>6.6</td>\n",
       "      <td>драма,военный</td>\n",
       "      <td>NaN</td>\n",
       "    </tr>\n",
       "    <tr>\n",
       "      <th>2</th>\n",
       "      <td>Особо опасен</td>\n",
       "      <td>221038416</td>\n",
       "      <td>2016-10-10T12:00:00.000Z</td>\n",
       "      <td>Художественный</td>\n",
       "      <td>Юниверсал Пикчерз, Кикстарт Продакшнз, Марк Пл...</td>\n",
       "      <td>США</td>\n",
       "      <td>Тимур Бекмамбетов</td>\n",
       "      <td>Джим Лемли, Джейсон Нетер, Марк Е.Платт, Яйн Смит</td>\n",
       "      <td>«18+» - запрещено для детей</td>\n",
       "      <td>NaN</td>\n",
       "      <td>NaN</td>\n",
       "      <td>NaN</td>\n",
       "      <td>NaN</td>\n",
       "      <td>6.8</td>\n",
       "      <td>фантастика,боевик,триллер</td>\n",
       "      <td>NaN</td>\n",
       "    </tr>\n",
       "    <tr>\n",
       "      <th>3</th>\n",
       "      <td>Особо опасен</td>\n",
       "      <td>221026916</td>\n",
       "      <td>2016-06-10T12:00:00.000Z</td>\n",
       "      <td>Художественный</td>\n",
       "      <td>Юниверсал Пикчерз, Кикстарт Продакшнз, Марк Пл...</td>\n",
       "      <td>США</td>\n",
       "      <td>Тимур Бекмамбетов</td>\n",
       "      <td>Джим Лемли, Джейсон Нетер, Марк Е.Платт, Яйн Смит</td>\n",
       "      <td>«18+» - запрещено для детей</td>\n",
       "      <td>NaN</td>\n",
       "      <td>NaN</td>\n",
       "      <td>NaN</td>\n",
       "      <td>NaN</td>\n",
       "      <td>6.8</td>\n",
       "      <td>фантастика,боевик,триллер</td>\n",
       "      <td>NaN</td>\n",
       "    </tr>\n",
       "    <tr>\n",
       "      <th>4</th>\n",
       "      <td>Особо опасен</td>\n",
       "      <td>221030815</td>\n",
       "      <td>2015-07-29T12:00:00.000Z</td>\n",
       "      <td>Художественный</td>\n",
       "      <td>Юниверсал Пикчерз, Кикстарт Продакшнз, Марк Пл...</td>\n",
       "      <td>США</td>\n",
       "      <td>Тимур Бекмамбетов</td>\n",
       "      <td>Джим Лемли, Джейсон Нетер, Марк Е.Платт, Яйн Смит</td>\n",
       "      <td>«18+» - запрещено для детей</td>\n",
       "      <td>NaN</td>\n",
       "      <td>NaN</td>\n",
       "      <td>NaN</td>\n",
       "      <td>NaN</td>\n",
       "      <td>6.8</td>\n",
       "      <td>фантастика,боевик,триллер</td>\n",
       "      <td>NaN</td>\n",
       "    </tr>\n",
       "    <tr>\n",
       "      <th>5</th>\n",
       "      <td>Остановился поезд</td>\n",
       "      <td>111013816</td>\n",
       "      <td>2016-09-13T12:00:00.000Z</td>\n",
       "      <td>Художественный</td>\n",
       "      <td>Киностудия \"Мосфильм\"</td>\n",
       "      <td>СССР</td>\n",
       "      <td>В.Абдрашитов</td>\n",
       "      <td>NaN</td>\n",
       "      <td>«6+» - для детей старше 6 лет</td>\n",
       "      <td>NaN</td>\n",
       "      <td>NaN</td>\n",
       "      <td>NaN</td>\n",
       "      <td>NaN</td>\n",
       "      <td>7.7</td>\n",
       "      <td>драма</td>\n",
       "      <td>NaN</td>\n",
       "    </tr>\n",
       "    <tr>\n",
       "      <th>6</th>\n",
       "      <td>Любовь и голуби</td>\n",
       "      <td>111007013</td>\n",
       "      <td>2013-10-18T12:00:00.000Z</td>\n",
       "      <td>Художественный</td>\n",
       "      <td>Киностудия \"Мосфильм\"</td>\n",
       "      <td>СССР</td>\n",
       "      <td>В.Меньшов</td>\n",
       "      <td>NaN</td>\n",
       "      <td>«12+» - для детей старше 12 лет</td>\n",
       "      <td>NaN</td>\n",
       "      <td>NaN</td>\n",
       "      <td>NaN</td>\n",
       "      <td>NaN</td>\n",
       "      <td>8.3</td>\n",
       "      <td>мелодрама,комедия</td>\n",
       "      <td>2700.0</td>\n",
       "    </tr>\n",
       "    <tr>\n",
       "      <th>7</th>\n",
       "      <td>Любовь и сигареты</td>\n",
       "      <td>221074614</td>\n",
       "      <td>2014-12-29T12:00:00.000Z</td>\n",
       "      <td>Художественный</td>\n",
       "      <td>Юнайтед Артистс, Грин Стрит Филмз, Айкон Интер...</td>\n",
       "      <td>США</td>\n",
       "      <td>Джон Туртурро</td>\n",
       "      <td>Джон Пенотти, Джон Туртурро</td>\n",
       "      <td>«18+» - запрещено для детей</td>\n",
       "      <td>NaN</td>\n",
       "      <td>NaN</td>\n",
       "      <td>NaN</td>\n",
       "      <td>NaN</td>\n",
       "      <td>6.6</td>\n",
       "      <td>мюзикл,мелодрама,комедия</td>\n",
       "      <td>NaN</td>\n",
       "    </tr>\n",
       "    <tr>\n",
       "      <th>8</th>\n",
       "      <td>Отпетые мошенники.</td>\n",
       "      <td>121011416</td>\n",
       "      <td>2016-05-05T12:00:00.000Z</td>\n",
       "      <td>Художественный</td>\n",
       "      <td>Пульсар Продюксьон, ТФ1 Фильм</td>\n",
       "      <td>Франция</td>\n",
       "      <td>Эрик Беснард</td>\n",
       "      <td>Патрис Леду</td>\n",
       "      <td>«18+» - запрещено для детей</td>\n",
       "      <td>NaN</td>\n",
       "      <td>NaN</td>\n",
       "      <td>NaN</td>\n",
       "      <td>NaN</td>\n",
       "      <td>8.0</td>\n",
       "      <td>комедия,криминал</td>\n",
       "      <td>NaN</td>\n",
       "    </tr>\n",
       "    <tr>\n",
       "      <th>9</th>\n",
       "      <td>Отпуск за свой счет</td>\n",
       "      <td>111019114</td>\n",
       "      <td>2014-12-01T12:00:00.000Z</td>\n",
       "      <td>Художественный</td>\n",
       "      <td>Киностудия \"Мосфильм\", Телевидение ВНР</td>\n",
       "      <td>СССР, Венгрия</td>\n",
       "      <td>В.Титов</td>\n",
       "      <td>NaN</td>\n",
       "      <td>«12+» - для детей старше 12 лет</td>\n",
       "      <td>NaN</td>\n",
       "      <td>NaN</td>\n",
       "      <td>NaN</td>\n",
       "      <td>NaN</td>\n",
       "      <td>7.8</td>\n",
       "      <td>мелодрама,комедия</td>\n",
       "      <td>NaN</td>\n",
       "    </tr>\n",
       "  </tbody>\n",
       "</table>\n",
       "</div>"
      ],
      "text/plain": [
       "                  title  pu_number           show_start_date            type  \\\n",
       "0      Открытый простор  221048915  2015-11-27T12:00:00.000Z  Художественный   \n",
       "1  Особо важное задание  111013716  2016-09-13T12:00:00.000Z  Художественный   \n",
       "2          Особо опасен  221038416  2016-10-10T12:00:00.000Z  Художественный   \n",
       "3          Особо опасен  221026916  2016-06-10T12:00:00.000Z  Художественный   \n",
       "4          Особо опасен  221030815  2015-07-29T12:00:00.000Z  Художественный   \n",
       "5     Остановился поезд  111013816  2016-09-13T12:00:00.000Z  Художественный   \n",
       "6       Любовь и голуби  111007013  2013-10-18T12:00:00.000Z  Художественный   \n",
       "7     Любовь и сигареты  221074614  2014-12-29T12:00:00.000Z  Художественный   \n",
       "8    Отпетые мошенники.  121011416  2016-05-05T12:00:00.000Z  Художественный   \n",
       "9   Отпуск за свой счет  111019114  2014-12-01T12:00:00.000Z  Художественный   \n",
       "\n",
       "                                         film_studio production_country  \\\n",
       "0  Тачстоун Пикчерз, Кобальт Пикчерз, Бикон Пикче...                США   \n",
       "1                              Киностудия \"Мосфильм\"               СССР   \n",
       "2  Юниверсал Пикчерз, Кикстарт Продакшнз, Марк Пл...                США   \n",
       "3  Юниверсал Пикчерз, Кикстарт Продакшнз, Марк Пл...                США   \n",
       "4  Юниверсал Пикчерз, Кикстарт Продакшнз, Марк Пл...                США   \n",
       "5                              Киностудия \"Мосфильм\"               СССР   \n",
       "6                              Киностудия \"Мосфильм\"               СССР   \n",
       "7  Юнайтед Артистс, Грин Стрит Филмз, Айкон Интер...                США   \n",
       "8                     Пульсар Продюксьон, ТФ1 Фильм             Франция   \n",
       "9             Киностудия \"Мосфильм\", Телевидение ВНР      СССР, Венгрия   \n",
       "\n",
       "            director                                           producer  \\\n",
       "0      Кевин Костнер          Дэвид Валдес, Кевин Костнер, Джейк Эбертс   \n",
       "1          Е.Матвеев                                                NaN   \n",
       "2  Тимур Бекмамбетов  Джим Лемли, Джейсон Нетер, Марк Е.Платт, Яйн Смит   \n",
       "3  Тимур Бекмамбетов  Джим Лемли, Джейсон Нетер, Марк Е.Платт, Яйн Смит   \n",
       "4  Тимур Бекмамбетов  Джим Лемли, Джейсон Нетер, Марк Е.Платт, Яйн Смит   \n",
       "5       В.Абдрашитов                                                NaN   \n",
       "6          В.Меньшов                                                NaN   \n",
       "7      Джон Туртурро                        Джон Пенотти, Джон Туртурро   \n",
       "8       Эрик Беснард                                        Патрис Леду   \n",
       "9            В.Титов                                                NaN   \n",
       "\n",
       "                   age_restriction  refundable_support  nonrefundable_support  \\\n",
       "0      «18+» - запрещено для детей                 NaN                    NaN   \n",
       "1    «6+» - для детей старше 6 лет                 NaN                    NaN   \n",
       "2      «18+» - запрещено для детей                 NaN                    NaN   \n",
       "3      «18+» - запрещено для детей                 NaN                    NaN   \n",
       "4      «18+» - запрещено для детей                 NaN                    NaN   \n",
       "5    «6+» - для детей старше 6 лет                 NaN                    NaN   \n",
       "6  «12+» - для детей старше 12 лет                 NaN                    NaN   \n",
       "7      «18+» - запрещено для детей                 NaN                    NaN   \n",
       "8      «18+» - запрещено для детей                 NaN                    NaN   \n",
       "9  «12+» - для детей старше 12 лет                 NaN                    NaN   \n",
       "\n",
       "   budget financing_source ratings                     genres  box_office  \n",
       "0     NaN              NaN     7.2     боевик,драма,мелодрама         NaN  \n",
       "1     NaN              NaN     6.6              драма,военный         NaN  \n",
       "2     NaN              NaN     6.8  фантастика,боевик,триллер         NaN  \n",
       "3     NaN              NaN     6.8  фантастика,боевик,триллер         NaN  \n",
       "4     NaN              NaN     6.8  фантастика,боевик,триллер         NaN  \n",
       "5     NaN              NaN     7.7                      драма         NaN  \n",
       "6     NaN              NaN     8.3          мелодрама,комедия      2700.0  \n",
       "7     NaN              NaN     6.6   мюзикл,мелодрама,комедия         NaN  \n",
       "8     NaN              NaN     8.0           комедия,криминал         NaN  \n",
       "9     NaN              NaN     7.8          мелодрама,комедия         NaN  "
      ]
     },
     "metadata": {},
     "output_type": "display_data"
    },
    {
     "name": "stdout",
     "output_type": "stream",
     "text": [
      "<class 'pandas.core.frame.DataFrame'>\n",
      "Int64Index: 7485 entries, 0 to 7484\n",
      "Data columns (total 16 columns):\n",
      " #   Column                 Non-Null Count  Dtype  \n",
      "---  ------                 --------------  -----  \n",
      " 0   title                  7485 non-null   object \n",
      " 1   pu_number              7485 non-null   int64  \n",
      " 2   show_start_date        7485 non-null   object \n",
      " 3   type                   7485 non-null   object \n",
      " 4   film_studio            7467 non-null   object \n",
      " 5   production_country     7483 non-null   object \n",
      " 6   director               7476 non-null   object \n",
      " 7   producer               6917 non-null   object \n",
      " 8   age_restriction        7485 non-null   object \n",
      " 9   refundable_support     332 non-null    float64\n",
      " 10  nonrefundable_support  332 non-null    float64\n",
      " 11  budget                 332 non-null    float64\n",
      " 12  financing_source       332 non-null    object \n",
      " 13  ratings                6519 non-null   object \n",
      " 14  genres                 6510 non-null   object \n",
      " 15  box_office             3158 non-null   float64\n",
      "dtypes: float64(4), int64(1), object(11)\n",
      "memory usage: 994.1+ KB\n"
     ]
    }
   ],
   "source": [
    "#Объединил 2 датасета в 1 по столбцу puNumber:\n",
    "data = data_movies.merge(data_shows, on='puNumber', how='left')\n",
    "#Приведем столбцы к единому стилю:\n",
    "data = data.rename(columns={'puNumber':'pu_number'})\n",
    "display(data.head(10))\n",
    "data.info()"
   ]
  },
  {
   "cell_type": "markdown",
   "metadata": {},
   "source": [
    "Объединил 2 датасета в один при помощи метода **merge()** по левому датасету, тем самым сохранив все данные датасета mkrf_movies, что подтверждает информация о новом датасете: количество строк не изменилось и добавился столбец \"box_office\"."
   ]
  },
  {
   "cell_type": "markdown",
   "metadata": {},
   "source": [
    "<div class=\"alert alert-success\">\n",
    "<b> Комментарий ревьюера ✅ </b>\n",
    "\n",
    "Объединение выполнено.\n",
    "    \n",
    "</div>\n",
    "\n",
    "<div class=\"alert alert-danger\">\n",
    "<b> Комментарий ревьюера ❌</b>\n",
    "\n",
    "При объединении датафреймов важно не потерять часть данных, поэтому обычно после объединения выполняют проверку. Для этого можно сравнить сколько было значений по столбцу `box_office` в исходном датафреме и сколько их попало в объединенный. \n",
    "    \n",
    "Ты написал в выводе:\n",
    "    \n",
    "> тем самым сохранив все данные датасета mkrf_movies\n",
    "    \n",
    "Если ты выполнил проверку, то стоит показать как ты это сделал.\n",
    "    \n",
    "</div>"
   ]
  },
  {
   "cell_type": "markdown",
   "metadata": {},
   "source": [
    "<div class=\"alert alert-info\">\n",
    "<b> Комментарий студента</b>\n",
    "\n",
    "Исправил, проверку делал методом info()\n",
    "</div>"
   ]
  },
  {
   "cell_type": "markdown",
   "metadata": {},
   "source": [
    "<div class=\"alert alert-success\">\n",
    "<b> Комментарий ревьюера 2 ✅ </b>\n",
    "\n",
    "Отлично, данные на месте, идем дальше.\n",
    "    \n",
    "</div>"
   ]
  },
  {
   "cell_type": "markdown",
   "metadata": {
    "id": "KLDGpPG0gFyM"
   },
   "source": [
    "### Шаг 2. Предобработка данных"
   ]
  },
  {
   "cell_type": "markdown",
   "metadata": {
    "id": "ssWwKXsxgFyO"
   },
   "source": [
    "#### Шаг 2.1. Проверьте типы данных\n",
    "\n",
    "- Проверьте типы данных в датафрейме и преобразуйте их там, где это необходимо."
   ]
  },
  {
   "cell_type": "code",
   "execution_count": 5,
   "metadata": {
    "id": "kVGSplJOgFyO"
   },
   "outputs": [],
   "source": [
    "#Изменю тип данных на float и переведу все значения рейтинга в 10-бальную шкалу:\n",
    "data['ratings'] = data['ratings'].astype('object')\n",
    "data['ratings'] = data['ratings'].str.replace('%', '')\n",
    "data['ratings'] = data['ratings'].astype('float64')\n",
    "data.loc[data['ratings'] > 10, 'ratings'] = data['ratings']/10\n",
    "\n",
    "#Переведу данные столбца show_start_date в датетайм:\n",
    "data['show_start_date'] = pd.to_datetime(data['show_start_date'], format='%Y-%m-%dT%H:%M:%S')"
   ]
  },
  {
   "cell_type": "markdown",
   "metadata": {},
   "source": [
    "Изучив типы данных, заметил, что в столбце с рейтингом есть процентные значения, решил привести  данные к одному типу, убрав % и  поделив такие значения на 10. Для этого привел сначала все данные к одному типу \"object\", убрал знак %, затем привел к типу \"float\".\n",
    "\n",
    "Также в столбце \"show_start_date\" привел данные к  типу \"datetime\"."
   ]
  },
  {
   "cell_type": "markdown",
   "metadata": {},
   "source": [
    "<div class=\"alert alert-success\">\n",
    "<b> Комментарий ревьюера ✅ </b>\n",
    "\n",
    "Отлично, столбцы приведены к удобным для обработки типам данных.\n",
    "    \n",
    "Хорошо, что ты стараешься «спасти» часть данных, записанных в процентах. Но тут интересно проверить, правда ли процентные значения соответствуют рейтингу фильмов — ведь у некоторых получается рейтинг 9.9, что довольно редкое явление для Кинопоиска.\n",
    "\n",
    "</div>"
   ]
  },
  {
   "cell_type": "markdown",
   "metadata": {
    "id": "i0MOLbF-gFyP"
   },
   "source": [
    "#### Шаг 2.2. Изучите пропуски в датафрейме\n",
    "\n",
    "- Объясните, почему заполнили пропуски определённым образом или почему не стали этого делать."
   ]
  },
  {
   "cell_type": "code",
   "execution_count": 6,
   "metadata": {
    "id": "8MJD_lkngFyP"
   },
   "outputs": [
    {
     "data": {
      "text/plain": [
       "title                       0\n",
       "pu_number                   0\n",
       "show_start_date             0\n",
       "type                        0\n",
       "film_studio                18\n",
       "production_country          2\n",
       "director                    9\n",
       "producer                  568\n",
       "age_restriction             0\n",
       "refundable_support       7153\n",
       "nonrefundable_support    7153\n",
       "budget                   7153\n",
       "financing_source         7153\n",
       "ratings                   966\n",
       "genres                    975\n",
       "box_office               4327\n",
       "dtype: int64"
      ]
     },
     "metadata": {},
     "output_type": "display_data"
    },
    {
     "data": {
      "text/plain": [
       "title                       0\n",
       "pu_number                   0\n",
       "show_start_date             0\n",
       "type                        0\n",
       "film_studio                 0\n",
       "production_country          0\n",
       "director                    0\n",
       "producer                    0\n",
       "age_restriction             0\n",
       "refundable_support       6564\n",
       "nonrefundable_support    6564\n",
       "budget                   6564\n",
       "financing_source         6564\n",
       "ratings                   860\n",
       "genres                    869\n",
       "box_office               3855\n",
       "dtype: int64"
      ]
     },
     "execution_count": 6,
     "metadata": {},
     "output_type": "execute_result"
    }
   ],
   "source": [
    "#Проверим количество пропусков в каждом из столбцов.\n",
    "display(data.isna().sum())\n",
    "\n",
    "#Удалим пустые строки  в столбцах где есть незначительное количество пропусков, отсутствие которых не повлияет на анализ\n",
    "data = data.dropna(subset={'film_studio', 'production_country', 'producer', 'director'}).reset_index(drop=True)\n",
    "#Проверим результат\n",
    "data.isna().sum()"
   ]
  },
  {
   "cell_type": "markdown",
   "metadata": {},
   "source": [
    "Принял решение удалить строки с пропусками в столбцах 'film_studio', 'production_country', 'producer', 'director', и сбросил индекс, так как отношу их к полностью случайным пропускам, и заменить пропуски нечем, а оставлять пустыми не имеет смысла. Учитывая, что в столбцах 'refundable_support', 'nonrefundable_support', 'budget', 'financing_source' одинаковое количество пропусков, можно предположить, что на данные фильмы не выделялись средства государственной поддержки. Пропуски в этих столбцах отношу к неслучайным, можно заполнить пропуски нулевым значением, но не вижу в этом необходиомости, поэтому оставил как есть. В столбцах 'genres', 'ratings' имеются полностью случайные пропуски, но решил их не удалять, так как будет большая потеря данных. Это может быть связано с ошибкой при передаче данных. Пропуски в столбце 'box_office' образовались при объединении двух датасетов, поэтому отношу их к случайным, так как вероятность пропуска зависит от значения в столбце 'pu_number' второго детасета (всего было 3158). Решил, что заполнение пропусков медианным или средним значением столбца может привести к искажению данных."
   ]
  },
  {
   "cell_type": "markdown",
   "metadata": {},
   "source": [
    "<div class=\"alert alert-danger\">\n",
    "<b> Комментарий ревьюера ❌</b>\n",
    "\n",
    "В задании сказано ***«Объясните, почему заполнили пропуски определённым образом или почему не стали этого делать.»***\n",
    "    \n",
    "То есть, прежде чем производить какие-то действия по удалению строк с пропусками или их заполнению, необходимо посчитать количество или процент пропущенных значений, предположить какие есть причины у пропусков в каждом из столбцов. Выяснить к какому типу можно отнести пропуски:\n",
    "    \n",
    "- полностью случайные — вероятность встретить пропуск не зависит ни от каких других значений;\n",
    "\n",
    "- случайные — вероятность пропуска зависит от других значений в наборе данных, но не от значений собственного столбца;\n",
    "\n",
    "- неслучайные — вероятность пропуска зависит от других значений, в том числе и от значений собственного столбца.\n",
    "    \n",
    "От того какой у нас тип пропуска зависит как этот пропуск лучше обрабатывать.\n",
    "    \n",
    "Дополни, пожалуйста, этот пункт.\n",
    "    \n",
    "</div>"
   ]
  },
  {
   "cell_type": "markdown",
   "metadata": {},
   "source": [
    "<div class=\"alert alert-info\">\n",
    "<b> Комментарий студента</b>\n",
    "\n",
    "Так действительно  удобней, потому что оказалось, что в первый раз пропустил пропуски в столбце 'director'.\n",
    "</div>"
   ]
  },
  {
   "cell_type": "markdown",
   "metadata": {},
   "source": [
    "<div class=\"alert alert-success\">\n",
    "<b> Комментарий ревьюера 2 ✅ </b>\n",
    "\n",
    "Очень хороошо, что ты посчитал количество пропусков в каждом из столбцов и обосновал удаление некоторых.\n",
    "\n",
    "</div>\n",
    "\n",
    "<div class=\"alert alert-danger\">\n",
    "<b> Комментарий ревьюера 2 ❌</b>\n",
    "\n",
    "Но без пояснения остались пропуски в столбцах `refundable_support`, `nonrefundable_support`, `budget`, `financing_source`, `genres`, `ratings`, `box_office`. Какие возможные причины появления этих пропусков? К какому типу их можем отнести? Если ты принял решение не заполнять эти пропуски, то стоит написать почему.\n",
    "    \n",
    "</div>"
   ]
  },
  {
   "cell_type": "markdown",
   "metadata": {},
   "source": [
    "<div class=\"alert alert-info\">\n",
    "<b> Комментарий студента</b>\n",
    "\n",
    "Дополнил\n",
    "</div>"
   ]
  },
  {
   "cell_type": "markdown",
   "metadata": {},
   "source": [
    "<div class=\"alert alert-success\">\n",
    "<b> Комментарий ревьюера 3 ✅ </b>\n",
    "\n",
    "Ты дал логичные объяснения, почему нет смысла заполнять пропуски.\n",
    "\n",
    "</div>"
   ]
  },
  {
   "cell_type": "markdown",
   "metadata": {
    "id": "4c6k1t9ygFyQ"
   },
   "source": [
    "#### Шаг 2.3. Изучите дубликаты в датафрейме\n",
    "- Проверьте, есть ли в данных дубликаты. Опишите причины, которые могли повлиять на появление дублей."
   ]
  },
  {
   "cell_type": "markdown",
   "metadata": {},
   "source": [
    "<div class=\"alert alert-danger\">\n",
    "<b> Комментарий ревьюера ❌</b>\n",
    "\n",
    "Сначала стоит выполнить проверку на полные дубликаты. Если ты ее уже сделал, то напиши, пожалуйста об этом в выводе.\n",
    "    \n",
    "</div>"
   ]
  },
  {
   "cell_type": "markdown",
   "metadata": {},
   "source": [
    "<div class=\"alert alert-info\">\n",
    "<b> Комментарий студента</b>\n",
    "\n",
    "Добавил проверку полных дубликатов\n",
    "</div>"
   ]
  },
  {
   "cell_type": "markdown",
   "metadata": {},
   "source": [
    "<div class=\"alert alert-success\">\n",
    "<b> Комментарий ревьюера 2 ✅ </b>\n",
    "\n",
    "Полных дубликатов и правда нет, но проверить стоило.\n",
    "    \n",
    "</div>"
   ]
  },
  {
   "cell_type": "code",
   "execution_count": 7,
   "metadata": {
    "id": "aKck8RIdgFyQ",
    "scrolled": false
   },
   "outputs": [
    {
     "data": {
      "text/plain": [
       "0"
      ]
     },
     "metadata": {},
     "output_type": "display_data"
    },
    {
     "data": {
      "text/html": [
       "<div>\n",
       "<style scoped>\n",
       "    .dataframe tbody tr th:only-of-type {\n",
       "        vertical-align: middle;\n",
       "    }\n",
       "\n",
       "    .dataframe tbody tr th {\n",
       "        vertical-align: top;\n",
       "    }\n",
       "\n",
       "    .dataframe thead th {\n",
       "        text-align: right;\n",
       "    }\n",
       "</style>\n",
       "<table border=\"1\" class=\"dataframe\">\n",
       "  <thead>\n",
       "    <tr style=\"text-align: right;\">\n",
       "      <th></th>\n",
       "      <th>title</th>\n",
       "      <th>pu_number</th>\n",
       "      <th>show_start_date</th>\n",
       "      <th>type</th>\n",
       "      <th>film_studio</th>\n",
       "      <th>production_country</th>\n",
       "      <th>director</th>\n",
       "      <th>producer</th>\n",
       "      <th>age_restriction</th>\n",
       "      <th>refundable_support</th>\n",
       "      <th>nonrefundable_support</th>\n",
       "      <th>budget</th>\n",
       "      <th>financing_source</th>\n",
       "      <th>ratings</th>\n",
       "      <th>genres</th>\n",
       "      <th>box_office</th>\n",
       "    </tr>\n",
       "  </thead>\n",
       "  <tbody>\n",
       "    <tr>\n",
       "      <th>0</th>\n",
       "      <td>открытый простор</td>\n",
       "      <td>221048915</td>\n",
       "      <td>2015-11-27 12:00:00+00:00</td>\n",
       "      <td>художественный</td>\n",
       "      <td>тачстоун пикчерз, кобальт пикчерз, бикон пикче...</td>\n",
       "      <td>сша</td>\n",
       "      <td>Кевин Костнер</td>\n",
       "      <td>дэвид валдес, кевин костнер, джейк эбертс</td>\n",
       "      <td>«18+» - запрещено для детей</td>\n",
       "      <td>NaN</td>\n",
       "      <td>NaN</td>\n",
       "      <td>NaN</td>\n",
       "      <td>NaN</td>\n",
       "      <td>7.2</td>\n",
       "      <td>боевик,драма,мелодрама</td>\n",
       "      <td>NaN</td>\n",
       "    </tr>\n",
       "    <tr>\n",
       "      <th>1</th>\n",
       "      <td>особо опасен</td>\n",
       "      <td>221038416</td>\n",
       "      <td>2016-10-10 12:00:00+00:00</td>\n",
       "      <td>художественный</td>\n",
       "      <td>юниверсал пикчерз, кикстарт продакшнз, марк пл...</td>\n",
       "      <td>сша</td>\n",
       "      <td>Тимур Бекмамбетов</td>\n",
       "      <td>джим лемли, джейсон нетер, марк е.платт, яйн смит</td>\n",
       "      <td>«18+» - запрещено для детей</td>\n",
       "      <td>NaN</td>\n",
       "      <td>NaN</td>\n",
       "      <td>NaN</td>\n",
       "      <td>NaN</td>\n",
       "      <td>6.8</td>\n",
       "      <td>фантастика,боевик,триллер</td>\n",
       "      <td>NaN</td>\n",
       "    </tr>\n",
       "    <tr>\n",
       "      <th>2</th>\n",
       "      <td>любовь и сигареты</td>\n",
       "      <td>221074614</td>\n",
       "      <td>2014-12-29 12:00:00+00:00</td>\n",
       "      <td>художественный</td>\n",
       "      <td>юнайтед артистс, грин стрит филмз, айкон интер...</td>\n",
       "      <td>сша</td>\n",
       "      <td>Джон Туртурро</td>\n",
       "      <td>джон пенотти, джон туртурро</td>\n",
       "      <td>«18+» - запрещено для детей</td>\n",
       "      <td>NaN</td>\n",
       "      <td>NaN</td>\n",
       "      <td>NaN</td>\n",
       "      <td>NaN</td>\n",
       "      <td>6.6</td>\n",
       "      <td>мюзикл,мелодрама,комедия</td>\n",
       "      <td>NaN</td>\n",
       "    </tr>\n",
       "    <tr>\n",
       "      <th>3</th>\n",
       "      <td>отпетые мошенники.</td>\n",
       "      <td>121011416</td>\n",
       "      <td>2016-05-05 12:00:00+00:00</td>\n",
       "      <td>художественный</td>\n",
       "      <td>пульсар продюксьон, тф1 фильм</td>\n",
       "      <td>франция</td>\n",
       "      <td>Эрик Беснард</td>\n",
       "      <td>патрис леду</td>\n",
       "      <td>«18+» - запрещено для детей</td>\n",
       "      <td>NaN</td>\n",
       "      <td>NaN</td>\n",
       "      <td>NaN</td>\n",
       "      <td>NaN</td>\n",
       "      <td>8.0</td>\n",
       "      <td>комедия,криминал</td>\n",
       "      <td>NaN</td>\n",
       "    </tr>\n",
       "    <tr>\n",
       "      <th>4</th>\n",
       "      <td>превосходство борна /по одноименной новелле ро...</td>\n",
       "      <td>221031416</td>\n",
       "      <td>2016-06-29 12:00:00+00:00</td>\n",
       "      <td>художественный</td>\n",
       "      <td>кеннеди/маршал компани, юниверсал пикчерз, гип...</td>\n",
       "      <td>сша</td>\n",
       "      <td>Пол Грингросс</td>\n",
       "      <td>патрик кроули, фрэнк маршалл, пол сэндберг</td>\n",
       "      <td>«16+» - для детей старше 16 лет</td>\n",
       "      <td>NaN</td>\n",
       "      <td>NaN</td>\n",
       "      <td>NaN</td>\n",
       "      <td>NaN</td>\n",
       "      <td>7.7</td>\n",
       "      <td>боевик,триллер,детектив</td>\n",
       "      <td>NaN</td>\n",
       "    </tr>\n",
       "    <tr>\n",
       "      <th>5</th>\n",
       "      <td>малышка на миллион /по мотивам рассказов ф.х.т...</td>\n",
       "      <td>221011415</td>\n",
       "      <td>2015-04-03 12:00:00+00:00</td>\n",
       "      <td>художественный</td>\n",
       "      <td>уорнер бразерс, лейкшор интертейнмент, малпасо...</td>\n",
       "      <td>сша</td>\n",
       "      <td>Клинт Иствуд</td>\n",
       "      <td>клинт иствуд, том розенберг, альберт с.рудди, ...</td>\n",
       "      <td>«16+» - для детей старше 16 лет</td>\n",
       "      <td>NaN</td>\n",
       "      <td>NaN</td>\n",
       "      <td>NaN</td>\n",
       "      <td>NaN</td>\n",
       "      <td>8.1</td>\n",
       "      <td>драма,спорт</td>\n",
       "      <td>NaN</td>\n",
       "    </tr>\n",
       "    <tr>\n",
       "      <th>6</th>\n",
       "      <td>преданный садовник</td>\n",
       "      <td>121003106</td>\n",
       "      <td>2013-08-26 12:00:00+00:00</td>\n",
       "      <td>художественный</td>\n",
       "      <td>потбойлер продакшнз, эпсилон моушн пикчерз, ск...</td>\n",
       "      <td>германия-великобритания</td>\n",
       "      <td>Фернанду Мейрелльеш</td>\n",
       "      <td>саймон чэннинг уильямс</td>\n",
       "      <td>«16+» - для детей старше 16 лет</td>\n",
       "      <td>NaN</td>\n",
       "      <td>NaN</td>\n",
       "      <td>NaN</td>\n",
       "      <td>NaN</td>\n",
       "      <td>7.1</td>\n",
       "      <td>триллер,драма,мелодрама</td>\n",
       "      <td>NaN</td>\n",
       "    </tr>\n",
       "    <tr>\n",
       "      <th>7</th>\n",
       "      <td>отель /по мотивам пьесы джона уэбстера/</td>\n",
       "      <td>221008812</td>\n",
       "      <td>2012-01-27 12:00:00+00:00</td>\n",
       "      <td>художественный</td>\n",
       "      <td>кэтлей, отель продакшнс, мунстоун интертейнмен...</td>\n",
       "      <td>великобритания - италия</td>\n",
       "      <td>Майк Фиггис</td>\n",
       "      <td>этчи стро, анни стюарт, майк фиггис</td>\n",
       "      <td>«18+» - запрещено для детей</td>\n",
       "      <td>NaN</td>\n",
       "      <td>NaN</td>\n",
       "      <td>NaN</td>\n",
       "      <td>NaN</td>\n",
       "      <td>6.0</td>\n",
       "      <td>комедия,мелодрама</td>\n",
       "      <td>NaN</td>\n",
       "    </tr>\n",
       "    <tr>\n",
       "      <th>8</th>\n",
       "      <td>незаконченная жизнь</td>\n",
       "      <td>121015405</td>\n",
       "      <td>2015-05-06 12:00:00+00:00</td>\n",
       "      <td>художественный</td>\n",
       "      <td>инишиэл интертейнмент групп, мирамакс филмз, п...</td>\n",
       "      <td>сша</td>\n",
       "      <td>Лассе Халлстрем</td>\n",
       "      <td>лесли холлеран, алан лэдд мл., келлиан лэдд, х...</td>\n",
       "      <td>«12+» - для детей старше 12 лет</td>\n",
       "      <td>NaN</td>\n",
       "      <td>NaN</td>\n",
       "      <td>NaN</td>\n",
       "      <td>NaN</td>\n",
       "      <td>7.2</td>\n",
       "      <td>драма,мелодрама,семейный</td>\n",
       "      <td>NaN</td>\n",
       "    </tr>\n",
       "    <tr>\n",
       "      <th>9</th>\n",
       "      <td>оружейный барон</td>\n",
       "      <td>221012515</td>\n",
       "      <td>2015-04-03 12:00:00+00:00</td>\n",
       "      <td>художественный</td>\n",
       "      <td>вэ и пэ медиенфондс 3, асендант пикчерз, сатур...</td>\n",
       "      <td>сша - франция - турция</td>\n",
       "      <td>Эндрю Никкол</td>\n",
       "      <td>норман голуайтли, энди грош, николас кейдж, эн...</td>\n",
       "      <td>«18+» - запрещено для детей</td>\n",
       "      <td>NaN</td>\n",
       "      <td>NaN</td>\n",
       "      <td>NaN</td>\n",
       "      <td>NaN</td>\n",
       "      <td>7.7</td>\n",
       "      <td>боевик,драма,криминал</td>\n",
       "      <td>NaN</td>\n",
       "    </tr>\n",
       "  </tbody>\n",
       "</table>\n",
       "</div>"
      ],
      "text/plain": [
       "                                               title  pu_number  \\\n",
       "0                                   открытый простор  221048915   \n",
       "1                                       особо опасен  221038416   \n",
       "2                                  любовь и сигареты  221074614   \n",
       "3                                 отпетые мошенники.  121011416   \n",
       "4  превосходство борна /по одноименной новелле ро...  221031416   \n",
       "5  малышка на миллион /по мотивам рассказов ф.х.т...  221011415   \n",
       "6                                 преданный садовник  121003106   \n",
       "7            отель /по мотивам пьесы джона уэбстера/  221008812   \n",
       "8                                незаконченная жизнь  121015405   \n",
       "9                                    оружейный барон  221012515   \n",
       "\n",
       "            show_start_date            type  \\\n",
       "0 2015-11-27 12:00:00+00:00  художественный   \n",
       "1 2016-10-10 12:00:00+00:00  художественный   \n",
       "2 2014-12-29 12:00:00+00:00  художественный   \n",
       "3 2016-05-05 12:00:00+00:00  художественный   \n",
       "4 2016-06-29 12:00:00+00:00  художественный   \n",
       "5 2015-04-03 12:00:00+00:00  художественный   \n",
       "6 2013-08-26 12:00:00+00:00  художественный   \n",
       "7 2012-01-27 12:00:00+00:00  художественный   \n",
       "8 2015-05-06 12:00:00+00:00  художественный   \n",
       "9 2015-04-03 12:00:00+00:00  художественный   \n",
       "\n",
       "                                         film_studio       production_country  \\\n",
       "0  тачстоун пикчерз, кобальт пикчерз, бикон пикче...                      сша   \n",
       "1  юниверсал пикчерз, кикстарт продакшнз, марк пл...                      сша   \n",
       "2  юнайтед артистс, грин стрит филмз, айкон интер...                      сша   \n",
       "3                     пульсар продюксьон, тф1 фильм                   франция   \n",
       "4  кеннеди/маршал компани, юниверсал пикчерз, гип...                      сша   \n",
       "5  уорнер бразерс, лейкшор интертейнмент, малпасо...                      сша   \n",
       "6  потбойлер продакшнз, эпсилон моушн пикчерз, ск...  германия-великобритания   \n",
       "7  кэтлей, отель продакшнс, мунстоун интертейнмен...  великобритания - италия   \n",
       "8  инишиэл интертейнмент групп, мирамакс филмз, п...                      сша   \n",
       "9  вэ и пэ медиенфондс 3, асендант пикчерз, сатур...   сша - франция - турция   \n",
       "\n",
       "              director                                           producer  \\\n",
       "0        Кевин Костнер          дэвид валдес, кевин костнер, джейк эбертс   \n",
       "1    Тимур Бекмамбетов  джим лемли, джейсон нетер, марк е.платт, яйн смит   \n",
       "2        Джон Туртурро                        джон пенотти, джон туртурро   \n",
       "3         Эрик Беснард                                        патрис леду   \n",
       "4        Пол Грингросс         патрик кроули, фрэнк маршалл, пол сэндберг   \n",
       "5         Клинт Иствуд  клинт иствуд, том розенберг, альберт с.рудди, ...   \n",
       "6  Фернанду Мейрелльеш                             саймон чэннинг уильямс   \n",
       "7          Майк Фиггис                этчи стро, анни стюарт, майк фиггис   \n",
       "8      Лассе Халлстрем  лесли холлеран, алан лэдд мл., келлиан лэдд, х...   \n",
       "9         Эндрю Никкол  норман голуайтли, энди грош, николас кейдж, эн...   \n",
       "\n",
       "                   age_restriction  refundable_support  nonrefundable_support  \\\n",
       "0      «18+» - запрещено для детей                 NaN                    NaN   \n",
       "1      «18+» - запрещено для детей                 NaN                    NaN   \n",
       "2      «18+» - запрещено для детей                 NaN                    NaN   \n",
       "3      «18+» - запрещено для детей                 NaN                    NaN   \n",
       "4  «16+» - для детей старше 16 лет                 NaN                    NaN   \n",
       "5  «16+» - для детей старше 16 лет                 NaN                    NaN   \n",
       "6  «16+» - для детей старше 16 лет                 NaN                    NaN   \n",
       "7      «18+» - запрещено для детей                 NaN                    NaN   \n",
       "8  «12+» - для детей старше 12 лет                 NaN                    NaN   \n",
       "9      «18+» - запрещено для детей                 NaN                    NaN   \n",
       "\n",
       "   budget financing_source  ratings                     genres  box_office  \n",
       "0     NaN              NaN      7.2     боевик,драма,мелодрама         NaN  \n",
       "1     NaN              NaN      6.8  фантастика,боевик,триллер         NaN  \n",
       "2     NaN              NaN      6.6   мюзикл,мелодрама,комедия         NaN  \n",
       "3     NaN              NaN      8.0           комедия,криминал         NaN  \n",
       "4     NaN              NaN      7.7    боевик,триллер,детектив         NaN  \n",
       "5     NaN              NaN      8.1                драма,спорт         NaN  \n",
       "6     NaN              NaN      7.1    триллер,драма,мелодрама         NaN  \n",
       "7     NaN              NaN      6.0          комедия,мелодрама         NaN  \n",
       "8     NaN              NaN      7.2   драма,мелодрама,семейный         NaN  \n",
       "9     NaN              NaN      7.7      боевик,драма,криминал         NaN  "
      ]
     },
     "execution_count": 7,
     "metadata": {},
     "output_type": "execute_result"
    }
   ],
   "source": [
    "#Проверим датасет на явные дубликаты:\n",
    "display(data.duplicated().sum())\n",
    "\n",
    "#Удалим явные дубликаты по нескольким столбцам, так как поиск дубликатов показал 0, потому что в столбце pu_number нет одинаковых значений.\n",
    "#Первым делом посчитал нужным перевести все под один регистр, так как могут быть неявные дубли.\n",
    "\n",
    "columns = ['title', 'film_studio', 'type', 'production_country', 'producer']\n",
    "\n",
    "for column in columns:\n",
    "    data[column] = data[column].str.lower()\n",
    "data = data.drop_duplicates(['title', 'film_studio', 'type', 'production_country', 'producer']).reset_index(drop=True)\n",
    "\n",
    "data.head(10)\n",
    "\n"
   ]
  },
  {
   "cell_type": "markdown",
   "metadata": {},
   "source": [
    "<div class=\"alert alert-success\">\n",
    "<b> Комментарий ревьюера ✅ </b>\n",
    "\n",
    "Для выполнения однотипных операций удобно использовать цикл:\n",
    "    \n",
    "```\n",
    "columns = ['column_1', 'column_2', 'column_3']\n",
    "    \n",
    "for column in columns:\n",
    "    data[column] = data[column].str.lower()\n",
    "```\n",
    "\n",
    "</div>"
   ]
  },
  {
   "cell_type": "markdown",
   "metadata": {},
   "source": [
    "<div class=\"alert alert-info\">\n",
    "<b> Комментарий студента</b>\n",
    "\n",
    "Переделал, почему-то не подумал про это)\n",
    "</div>"
   ]
  },
  {
   "cell_type": "markdown",
   "metadata": {},
   "source": [
    "<div class=\"alert alert-success\">\n",
    "<b> Комментарий ревьюера 2 ✅ </b>\n",
    "\n",
    "👌\n",
    "    \n",
    "</div>"
   ]
  },
  {
   "cell_type": "markdown",
   "metadata": {},
   "source": [
    "Заметил, что есть дубликаты строк, с одинаковыми названиями фильмов, киностудий, рейтингом и прочим, но с разными номерами прокатного удостоверения, такие строки решил удалить. Однако, есть фильмы с одним названием, но различными киностудиями или ретингом и т.д., такие решил оставить.\n",
    "\n",
    "Обнаружил наличие неявных дубликатов, следующим шагом уберу такие дубликаты."
   ]
  },
  {
   "cell_type": "markdown",
   "metadata": {},
   "source": [
    "<div class=\"alert alert-success\">\n",
    "<b> Комментарий ревьюера ✅ </b>\n",
    "    \n",
    "По пояснению понимаю, что ты проверил отдельно столбец `title` на дубликаты и принял решение их не удалять, так как строки не являются полными дубликатами. \n",
    "    \n",
    "Да, так как в описании говорилось, что ***« У одного фильма может быть несколько прокатных удостоверений»***, то дубликаты по `title` возможны и удалять их не стоит.\n",
    "\n",
    "</div>\n",
    "\n",
    "<div class=\"alert alert-warning\">\n",
    "<b> Комментарий ревьюера ⚠️ </b>\n",
    "\n",
    "У нас есть еще один столбец в котором потенциально должны содержаться только уникальные значения. Его тоже стоит проверить на дубликаты.\n",
    "    \n",
    "</div>"
   ]
  },
  {
   "cell_type": "code",
   "execution_count": 8,
   "metadata": {},
   "outputs": [
    {
     "data": {
      "text/html": [
       "<div>\n",
       "<style scoped>\n",
       "    .dataframe tbody tr th:only-of-type {\n",
       "        vertical-align: middle;\n",
       "    }\n",
       "\n",
       "    .dataframe tbody tr th {\n",
       "        vertical-align: top;\n",
       "    }\n",
       "\n",
       "    .dataframe thead th {\n",
       "        text-align: right;\n",
       "    }\n",
       "</style>\n",
       "<table border=\"1\" class=\"dataframe\">\n",
       "  <thead>\n",
       "    <tr style=\"text-align: right;\">\n",
       "      <th></th>\n",
       "      <th>title</th>\n",
       "      <th>pu_number</th>\n",
       "      <th>show_start_date</th>\n",
       "      <th>type</th>\n",
       "      <th>film_studio</th>\n",
       "      <th>production_country</th>\n",
       "      <th>director</th>\n",
       "      <th>producer</th>\n",
       "      <th>age_restriction</th>\n",
       "      <th>refundable_support</th>\n",
       "      <th>nonrefundable_support</th>\n",
       "      <th>budget</th>\n",
       "      <th>financing_source</th>\n",
       "      <th>ratings</th>\n",
       "      <th>genres</th>\n",
       "      <th>box_office</th>\n",
       "    </tr>\n",
       "  </thead>\n",
       "  <tbody>\n",
       "    <tr>\n",
       "      <th>0</th>\n",
       "      <td>открытый простор</td>\n",
       "      <td>221048915</td>\n",
       "      <td>2015-11-27 12:00:00+00:00</td>\n",
       "      <td>художественный</td>\n",
       "      <td>тачстоун пикчерз, кобальт пикчерз, бикон пикче...</td>\n",
       "      <td>сша</td>\n",
       "      <td>Кевин Костнер</td>\n",
       "      <td>дэвид валдес, кевин костнер, джейк эбертс</td>\n",
       "      <td>«18+» - запрещено для детей</td>\n",
       "      <td>NaN</td>\n",
       "      <td>NaN</td>\n",
       "      <td>NaN</td>\n",
       "      <td>NaN</td>\n",
       "      <td>7.2</td>\n",
       "      <td>боевик,драма,мелодрама</td>\n",
       "      <td>NaN</td>\n",
       "    </tr>\n",
       "    <tr>\n",
       "      <th>1</th>\n",
       "      <td>особо опасен</td>\n",
       "      <td>221038416</td>\n",
       "      <td>2016-10-10 12:00:00+00:00</td>\n",
       "      <td>художественный</td>\n",
       "      <td>юниверсал пикчерз, кикстарт продакшнз, марк пл...</td>\n",
       "      <td>сша</td>\n",
       "      <td>Тимур Бекмамбетов</td>\n",
       "      <td>джим лемли, джейсон нетер, марк е.платт, яйн смит</td>\n",
       "      <td>«18+» - запрещено для детей</td>\n",
       "      <td>NaN</td>\n",
       "      <td>NaN</td>\n",
       "      <td>NaN</td>\n",
       "      <td>NaN</td>\n",
       "      <td>6.8</td>\n",
       "      <td>фантастика,боевик,триллер</td>\n",
       "      <td>NaN</td>\n",
       "    </tr>\n",
       "    <tr>\n",
       "      <th>2</th>\n",
       "      <td>любовь и сигареты</td>\n",
       "      <td>221074614</td>\n",
       "      <td>2014-12-29 12:00:00+00:00</td>\n",
       "      <td>художественный</td>\n",
       "      <td>юнайтед артистс, грин стрит филмз, айкон интер...</td>\n",
       "      <td>сша</td>\n",
       "      <td>Джон Туртурро</td>\n",
       "      <td>джон пенотти, джон туртурро</td>\n",
       "      <td>«18+» - запрещено для детей</td>\n",
       "      <td>NaN</td>\n",
       "      <td>NaN</td>\n",
       "      <td>NaN</td>\n",
       "      <td>NaN</td>\n",
       "      <td>6.6</td>\n",
       "      <td>мюзикл,мелодрама,комедия</td>\n",
       "      <td>NaN</td>\n",
       "    </tr>\n",
       "    <tr>\n",
       "      <th>3</th>\n",
       "      <td>отпетые мошенники.</td>\n",
       "      <td>121011416</td>\n",
       "      <td>2016-05-05 12:00:00+00:00</td>\n",
       "      <td>художественный</td>\n",
       "      <td>пульсар продюксьон, тф1 фильм</td>\n",
       "      <td>франция</td>\n",
       "      <td>Эрик Беснард</td>\n",
       "      <td>патрис леду</td>\n",
       "      <td>«18+» - запрещено для детей</td>\n",
       "      <td>NaN</td>\n",
       "      <td>NaN</td>\n",
       "      <td>NaN</td>\n",
       "      <td>NaN</td>\n",
       "      <td>8.0</td>\n",
       "      <td>комедия,криминал</td>\n",
       "      <td>NaN</td>\n",
       "    </tr>\n",
       "    <tr>\n",
       "      <th>4</th>\n",
       "      <td>превосходство борна /по одноименной новелле ро...</td>\n",
       "      <td>221031416</td>\n",
       "      <td>2016-06-29 12:00:00+00:00</td>\n",
       "      <td>художественный</td>\n",
       "      <td>кеннеди/маршал компани, юниверсал пикчерз, гип...</td>\n",
       "      <td>сша</td>\n",
       "      <td>Пол Грингросс</td>\n",
       "      <td>патрик кроули, фрэнк маршалл, пол сэндберг</td>\n",
       "      <td>«16+» - для детей старше 16 лет</td>\n",
       "      <td>NaN</td>\n",
       "      <td>NaN</td>\n",
       "      <td>NaN</td>\n",
       "      <td>NaN</td>\n",
       "      <td>7.7</td>\n",
       "      <td>боевик,триллер,детектив</td>\n",
       "      <td>NaN</td>\n",
       "    </tr>\n",
       "    <tr>\n",
       "      <th>5</th>\n",
       "      <td>малышка на миллион /по мотивам рассказов ф.х.т...</td>\n",
       "      <td>221011415</td>\n",
       "      <td>2015-04-03 12:00:00+00:00</td>\n",
       "      <td>художественный</td>\n",
       "      <td>уорнер бразерс, лейкшор интертейнмент, малпасо...</td>\n",
       "      <td>сша</td>\n",
       "      <td>Клинт Иствуд</td>\n",
       "      <td>клинт иствуд, том розенберг, альберт с.рудди, ...</td>\n",
       "      <td>«16+» - для детей старше 16 лет</td>\n",
       "      <td>NaN</td>\n",
       "      <td>NaN</td>\n",
       "      <td>NaN</td>\n",
       "      <td>NaN</td>\n",
       "      <td>8.1</td>\n",
       "      <td>драма,спорт</td>\n",
       "      <td>NaN</td>\n",
       "    </tr>\n",
       "    <tr>\n",
       "      <th>6</th>\n",
       "      <td>преданный садовник</td>\n",
       "      <td>121003106</td>\n",
       "      <td>2013-08-26 12:00:00+00:00</td>\n",
       "      <td>художественный</td>\n",
       "      <td>потбойлер продакшнз, эпсилон моушн пикчерз, ск...</td>\n",
       "      <td>германия, великобритания</td>\n",
       "      <td>Фернанду Мейрелльеш</td>\n",
       "      <td>саймон чэннинг уильямс</td>\n",
       "      <td>«16+» - для детей старше 16 лет</td>\n",
       "      <td>NaN</td>\n",
       "      <td>NaN</td>\n",
       "      <td>NaN</td>\n",
       "      <td>NaN</td>\n",
       "      <td>7.1</td>\n",
       "      <td>триллер,драма,мелодрама</td>\n",
       "      <td>NaN</td>\n",
       "    </tr>\n",
       "    <tr>\n",
       "      <th>7</th>\n",
       "      <td>отель /по мотивам пьесы джона уэбстера/</td>\n",
       "      <td>221008812</td>\n",
       "      <td>2012-01-27 12:00:00+00:00</td>\n",
       "      <td>художественный</td>\n",
       "      <td>кэтлей, отель продакшнс, мунстоун интертейнмен...</td>\n",
       "      <td>великобритания, италия</td>\n",
       "      <td>Майк Фиггис</td>\n",
       "      <td>этчи стро, анни стюарт, майк фиггис</td>\n",
       "      <td>«18+» - запрещено для детей</td>\n",
       "      <td>NaN</td>\n",
       "      <td>NaN</td>\n",
       "      <td>NaN</td>\n",
       "      <td>NaN</td>\n",
       "      <td>6.0</td>\n",
       "      <td>мелодрама,комедия</td>\n",
       "      <td>NaN</td>\n",
       "    </tr>\n",
       "    <tr>\n",
       "      <th>8</th>\n",
       "      <td>незаконченная жизнь</td>\n",
       "      <td>121015405</td>\n",
       "      <td>2015-05-06 12:00:00+00:00</td>\n",
       "      <td>художественный</td>\n",
       "      <td>инишиэл интертейнмент групп, мирамакс филмз, п...</td>\n",
       "      <td>сша</td>\n",
       "      <td>Лассе Халлстрем</td>\n",
       "      <td>лесли холлеран, алан лэдд мл., келлиан лэдд, х...</td>\n",
       "      <td>«12+» - для детей старше 12 лет</td>\n",
       "      <td>NaN</td>\n",
       "      <td>NaN</td>\n",
       "      <td>NaN</td>\n",
       "      <td>NaN</td>\n",
       "      <td>7.2</td>\n",
       "      <td>драма,мелодрама,семейный</td>\n",
       "      <td>NaN</td>\n",
       "    </tr>\n",
       "    <tr>\n",
       "      <th>9</th>\n",
       "      <td>оружейный барон</td>\n",
       "      <td>221012515</td>\n",
       "      <td>2015-04-03 12:00:00+00:00</td>\n",
       "      <td>художественный</td>\n",
       "      <td>вэ и пэ медиенфондс 3, асендант пикчерз, сатур...</td>\n",
       "      <td>сша, франция, турция</td>\n",
       "      <td>Эндрю Никкол</td>\n",
       "      <td>норман голуайтли, энди грош, николас кейдж, эн...</td>\n",
       "      <td>«18+» - запрещено для детей</td>\n",
       "      <td>NaN</td>\n",
       "      <td>NaN</td>\n",
       "      <td>NaN</td>\n",
       "      <td>NaN</td>\n",
       "      <td>7.7</td>\n",
       "      <td>боевик,драма,криминал</td>\n",
       "      <td>NaN</td>\n",
       "    </tr>\n",
       "  </tbody>\n",
       "</table>\n",
       "</div>"
      ],
      "text/plain": [
       "                                               title  pu_number  \\\n",
       "0                                   открытый простор  221048915   \n",
       "1                                       особо опасен  221038416   \n",
       "2                                  любовь и сигареты  221074614   \n",
       "3                                 отпетые мошенники.  121011416   \n",
       "4  превосходство борна /по одноименной новелле ро...  221031416   \n",
       "5  малышка на миллион /по мотивам рассказов ф.х.т...  221011415   \n",
       "6                                 преданный садовник  121003106   \n",
       "7            отель /по мотивам пьесы джона уэбстера/  221008812   \n",
       "8                                незаконченная жизнь  121015405   \n",
       "9                                    оружейный барон  221012515   \n",
       "\n",
       "            show_start_date            type  \\\n",
       "0 2015-11-27 12:00:00+00:00  художественный   \n",
       "1 2016-10-10 12:00:00+00:00  художественный   \n",
       "2 2014-12-29 12:00:00+00:00  художественный   \n",
       "3 2016-05-05 12:00:00+00:00  художественный   \n",
       "4 2016-06-29 12:00:00+00:00  художественный   \n",
       "5 2015-04-03 12:00:00+00:00  художественный   \n",
       "6 2013-08-26 12:00:00+00:00  художественный   \n",
       "7 2012-01-27 12:00:00+00:00  художественный   \n",
       "8 2015-05-06 12:00:00+00:00  художественный   \n",
       "9 2015-04-03 12:00:00+00:00  художественный   \n",
       "\n",
       "                                         film_studio  \\\n",
       "0  тачстоун пикчерз, кобальт пикчерз, бикон пикче...   \n",
       "1  юниверсал пикчерз, кикстарт продакшнз, марк пл...   \n",
       "2  юнайтед артистс, грин стрит филмз, айкон интер...   \n",
       "3                     пульсар продюксьон, тф1 фильм    \n",
       "4  кеннеди/маршал компани, юниверсал пикчерз, гип...   \n",
       "5  уорнер бразерс, лейкшор интертейнмент, малпасо...   \n",
       "6  потбойлер продакшнз, эпсилон моушн пикчерз, ск...   \n",
       "7  кэтлей, отель продакшнс, мунстоун интертейнмен...   \n",
       "8  инишиэл интертейнмент групп, мирамакс филмз, п...   \n",
       "9  вэ и пэ медиенфондс 3, асендант пикчерз, сатур...   \n",
       "\n",
       "         production_country             director  \\\n",
       "0                       сша        Кевин Костнер   \n",
       "1                       сша    Тимур Бекмамбетов   \n",
       "2                       сша        Джон Туртурро   \n",
       "3                   франция         Эрик Беснард   \n",
       "4                       сша        Пол Грингросс   \n",
       "5                       сша         Клинт Иствуд   \n",
       "6  германия, великобритания  Фернанду Мейрелльеш   \n",
       "7    великобритания, италия          Майк Фиггис   \n",
       "8                       сша      Лассе Халлстрем   \n",
       "9      сша, франция, турция         Эндрю Никкол   \n",
       "\n",
       "                                            producer  \\\n",
       "0          дэвид валдес, кевин костнер, джейк эбертс   \n",
       "1  джим лемли, джейсон нетер, марк е.платт, яйн смит   \n",
       "2                        джон пенотти, джон туртурро   \n",
       "3                                        патрис леду   \n",
       "4         патрик кроули, фрэнк маршалл, пол сэндберг   \n",
       "5  клинт иствуд, том розенберг, альберт с.рудди, ...   \n",
       "6                             саймон чэннинг уильямс   \n",
       "7                этчи стро, анни стюарт, майк фиггис   \n",
       "8  лесли холлеран, алан лэдд мл., келлиан лэдд, х...   \n",
       "9  норман голуайтли, энди грош, николас кейдж, эн...   \n",
       "\n",
       "                   age_restriction  refundable_support  nonrefundable_support  \\\n",
       "0      «18+» - запрещено для детей                 NaN                    NaN   \n",
       "1      «18+» - запрещено для детей                 NaN                    NaN   \n",
       "2      «18+» - запрещено для детей                 NaN                    NaN   \n",
       "3      «18+» - запрещено для детей                 NaN                    NaN   \n",
       "4  «16+» - для детей старше 16 лет                 NaN                    NaN   \n",
       "5  «16+» - для детей старше 16 лет                 NaN                    NaN   \n",
       "6  «16+» - для детей старше 16 лет                 NaN                    NaN   \n",
       "7      «18+» - запрещено для детей                 NaN                    NaN   \n",
       "8  «12+» - для детей старше 12 лет                 NaN                    NaN   \n",
       "9      «18+» - запрещено для детей                 NaN                    NaN   \n",
       "\n",
       "   budget financing_source  ratings                     genres  box_office  \n",
       "0     NaN              NaN      7.2     боевик,драма,мелодрама         NaN  \n",
       "1     NaN              NaN      6.8  фантастика,боевик,триллер         NaN  \n",
       "2     NaN              NaN      6.6   мюзикл,мелодрама,комедия         NaN  \n",
       "3     NaN              NaN      8.0           комедия,криминал         NaN  \n",
       "4     NaN              NaN      7.7    боевик,триллер,детектив         NaN  \n",
       "5     NaN              NaN      8.1                драма,спорт         NaN  \n",
       "6     NaN              NaN      7.1    триллер,драма,мелодрама         NaN  \n",
       "7     NaN              NaN      6.0          мелодрама,комедия         NaN  \n",
       "8     NaN              NaN      7.2   драма,мелодрама,семейный         NaN  \n",
       "9     NaN              NaN      7.7      боевик,драма,криминал         NaN  "
      ]
     },
     "execution_count": 8,
     "metadata": {},
     "output_type": "execute_result"
    }
   ],
   "source": [
    "#Уберем неявный дубликат в столбце 'film_studio':\n",
    "def studio(stud):\n",
    "    for studi in data['film_studio']:\n",
    "        if 'анимаккорд' in stud:\n",
    "            return 'анимаккорд лтд' \n",
    "        return stud\n",
    "data['film_studio'] = data['film_studio'].apply(studio)\n",
    "\n",
    "#Уберем неявный дубликат в столбце 'production_country' и 'genres':\n",
    "data['production_country'] = data['production_country'].str.replace(' - ','-')\\\n",
    ".str.replace('-',', ').str.replace('сша, великобритания', 'великобритания, сша')\\\n",
    ".str.replace('франция, великобритания', 'великобритания, франция')\\\n",
    ".str.replace('франция, сша', 'сша, франция')\\\n",
    ".str.replace('германия, сша', 'сша, германия')\\\n",
    ".str.replace('республика кипр', 'кипр')\\\n",
    ".str.replace('кипр, россия', 'россия, кипр')\\\n",
    ".str.replace('сша, канада', 'канада, сша')\\\n",
    ".str.replace('сша, кнр', 'кнр, сша')\\\n",
    ".str.replace('сша, австралия', 'австралия, сша')\n",
    "\n",
    "data['genres'] = data['genres'].str.replace('комедия,мелодрама', 'мелодрама,комедия')\n",
    "data.head(10)\n"
   ]
  },
  {
   "cell_type": "markdown",
   "metadata": {},
   "source": []
  },
  {
   "cell_type": "markdown",
   "metadata": {},
   "source": [
    "<div class=\"alert alert-success\">\n",
    "<b> Комментарий ревьюера ✅ </b>\n",
    "\n",
    "Молодец, то постарался унифицировать записи в столбцах `film_studio` и `production_country`.\n",
    "    \n",
    "Я бы упростила твою функцию, вот так:\n",
    "    \n",
    "```\n",
    "def studio(stud):\n",
    "    if 'анимаккорд' in stud:\n",
    "        return 'анимаккорд лтд'\n",
    "data['film_studio'] = data['film_studio'].apply(studio)\n",
    "```\n",
    "    \n",
    "Так как функция применяется через `apply()`, который построчно обрабатывает каждую ячейку, нет смысла внутри функции пробегаться циклом по столбцу.\n",
    "    \n",
    "</div>"
   ]
  },
  {
   "cell_type": "markdown",
   "metadata": {
    "id": "52fOPrEBgFyQ"
   },
   "source": [
    "#### Шаг 2.4. Изучите категориальные значения\n",
    "\n",
    "- Посмотрите, какая общая проблема встречается почти во всех категориальных столбцах;\n",
    "- Исправьте проблемные значения в поле `type`.\n",
    "\n",
    "<div id=\"accordion\">\n",
    "    <div class=\"card\">\n",
    "        <div class=\"card-header\" id=\"headingThree\">\n",
    "            <button class=\"btn btn-link collapsed\" data-toggle=\"collapse\" data-target=\"#collapseHint_1\" aria-expanded=\"false\" aria-controls=\"collapseHint_1\">Подсказка</button>\n",
    "        </div>\n",
    "        <div id=\"collapseHint_1\" class=\"collapse\" aria-labelledby=\"headingThree\" data-parent=\"#accordion\">\n",
    "            <div class=\"card-body\">\n",
    "В поле <code>type</code> есть несколько значений, у которых появился пробел в начале строки. Самый простой способ их «починить» -- использовать метод <a href=\"https://pandas.pydata.org/docs/reference/api/pandas.Series.str.strip.html#pandas.Series.str.strip\">.str.strip</a>. Этот метод удаляет все пробелы, которые встречаются в начале и в конце строки. Применяют его таким образом:<br>\n",
    "<code>df['type'].str.strip()</code>\n",
    "            </div>\n",
    "        </div>\n",
    "    </div>\n",
    "</div>"
   ]
  },
  {
   "cell_type": "code",
   "execution_count": 9,
   "metadata": {
    "id": "PnXKIVdFgFyR"
   },
   "outputs": [
    {
     "name": "stdout",
     "output_type": "stream",
     "text": [
      "<class 'pandas.core.frame.DataFrame'>\n",
      "RangeIndex: 6238 entries, 0 to 6237\n",
      "Data columns (total 16 columns):\n",
      " #   Column                 Non-Null Count  Dtype              \n",
      "---  ------                 --------------  -----              \n",
      " 0   title                  6238 non-null   object             \n",
      " 1   pu_number              6238 non-null   int64              \n",
      " 2   show_start_date        6238 non-null   datetime64[ns, UTC]\n",
      " 3   type                   6238 non-null   object             \n",
      " 4   film_studio            6238 non-null   object             \n",
      " 5   production_country     6238 non-null   object             \n",
      " 6   director               6238 non-null   object             \n",
      " 7   producer               6238 non-null   object             \n",
      " 8   age_restriction        6238 non-null   object             \n",
      " 9   refundable_support     330 non-null    float64            \n",
      " 10  nonrefundable_support  330 non-null    float64            \n",
      " 11  budget                 330 non-null    float64            \n",
      " 12  financing_source       330 non-null    object             \n",
      " 13  ratings                5384 non-null   float64            \n",
      " 14  genres                 5375 non-null   object             \n",
      " 15  box_office             2910 non-null   float64            \n",
      "dtypes: datetime64[ns, UTC](1), float64(5), int64(1), object(9)\n",
      "memory usage: 779.9+ KB\n"
     ]
    }
   ],
   "source": [
    "#Удалим пробел в начале и в конце строк:\n",
    "columns = ['director', 'film_studio', 'type', 'production_country', 'producer', 'financing_source', 'genres', 'title']\n",
    "\n",
    "for column in columns:\n",
    "    data[column] = data[column].str.strip()\n",
    "data.info()"
   ]
  },
  {
   "cell_type": "markdown",
   "metadata": {},
   "source": [
    "Изучил столбцы с категориальными значениями, заметил, что в некоторых столбцах есть пробелы в начале и конце строки. Из-за этого могут появляться дубликаты, поэтому удалил  пробелы методом **str.strip()**\n",
    "\n",
    "Такие столбцы как: `production_country`, `film_studio`, `director`, `producer`, `genres` содержат совокупность данных через запятую, к примеру несколько студий могут выпускать один фильм и этот фильм может относится к нескольким жанрам, по этим столбцам нельзя провести корректную категоризацию."
   ]
  },
  {
   "cell_type": "markdown",
   "metadata": {},
   "source": [
    "<div class=\"alert alert-success\">\n",
    "<b> Комментарий ревьюера ✅ </b>\n",
    "\n",
    "В столбце `type` были неявные дубликаты из-за пробелов перед названиями типов фильмов. С этой проблемой ты легко справился👍\n",
    "    \n",
    "</div>\n",
    "\n",
    "<div class=\"alert alert-danger\">\n",
    "<b> Комментарий ревьюера ❌</b>\n",
    "\n",
    "Но в остальных столбцах не это является оснвной проблемой.\n",
    "    \n",
    "Почему мы называем столбцы категориальными? Потому что хотим по значениям этих столбцов формировать категории и сравнивать. Формировать категории мы могли бы по `type`, `production_country`, `film_studio`, `age_restriction`, `financing_source`, `director`, `producer` и `genres`. Но сможем ли мы это сделать?\n",
    "    \n",
    "Посмотри, пожалуйста, еще раз на значения этих столбцов и опиши словами, какая проблема прослеживается в данных. В каких столбцах такой проблемы нет?\n",
    "    \n",
    "</div>"
   ]
  },
  {
   "cell_type": "markdown",
   "metadata": {},
   "source": [
    "<div class=\"alert alert-info\">\n",
    "<b> Комментарий студента</b>\n",
    "\n",
    "Сделал обработку пробелов сразу всего на всякий случай, потому что могу)\n",
    "\n",
    "Дополнил вывод, в целом не планировал их использовать в дальнейшем в том виде в котором они в этом пункте.\n",
    "</div>"
   ]
  },
  {
   "cell_type": "markdown",
   "metadata": {},
   "source": [
    "<div class=\"alert alert-success\">\n",
    "<b> Комментарий ревьюера 2 ✅ </b>\n",
    "    \n",
    "Хорошо 🙂\n",
    "\n",
    "Ты верно выявил основную проблему, по таким данным не очень удобно формировать категории и сравнивать их по разным параметрам.\n",
    "\n",
    "</div>"
   ]
  },
  {
   "cell_type": "markdown",
   "metadata": {
    "id": "XFSN5lrEgFyR"
   },
   "source": [
    "#### Шаг 2.5. Проверьте количественные значения\n",
    "\n",
    "- Проверьте, обнаружились ли в таких столбцах подозрительные данные. Как с такими данными лучше поступить?\n",
    "\n",
    "<div id=\"accordion\">\n",
    "    <div class=\"card\">\n",
    "        <div class=\"card-header\" id=\"headingThree\">\n",
    "            <button class=\"btn btn-link collapsed\" data-toggle=\"collapse\" data-target=\"#collapseHint_budget\" aria-expanded=\"false\" aria-controls=\"collapseHint_budget\">Подсказка</button>\n",
    "        </div>\n",
    "        <div id=\"collapseHint_budget\" class=\"collapse\" aria-labelledby=\"headingThree\" data-parent=\"#accordion\">\n",
    "            <div class=\"card-body\">\n",
    "Обратите внимание на описание столбца <code>budget</code>. Как этот столбец соотносится с двумя другими: <code>refundable_support</code> и <code>nonrefundable_support</code>?\n",
    "            </div>\n",
    "        </div>\n",
    "    </div>\n",
    "</div>"
   ]
  },
  {
   "cell_type": "code",
   "execution_count": 10,
   "metadata": {
    "id": "YbzClBxagFyS"
   },
   "outputs": [
    {
     "data": {
      "image/png": "[encoded data removed]",
      "text/plain": [
       "<Figure size 504x360 with 1 Axes>"
      ]
     },
     "metadata": {
      "needs_background": "light"
     },
     "output_type": "display_data"
    },
    {
     "data": {
      "image/png": "[encoded data removed]",
      "text/plain": [
       "<Figure size 504x360 with 1 Axes>"
      ]
     },
     "metadata": {
      "needs_background": "light"
     },
     "output_type": "display_data"
    },
    {
     "data": {
      "image/png": "[encoded data removed]",
      "text/plain": [
       "<Figure size 504x360 with 1 Axes>"
      ]
     },
     "metadata": {
      "needs_background": "light"
     },
     "output_type": "display_data"
    },
    {
     "data": {
      "image/png": "[encoded data removed]",
      "text/plain": [
       "<Figure size 504x360 with 1 Axes>"
      ]
     },
     "metadata": {
      "needs_background": "light"
     },
     "output_type": "display_data"
    }
   ],
   "source": [
    "columns = ['refundable_support', 'nonrefundable_support', 'budget', 'box_office']\n",
    "for column in columns:\n",
    "    data.plot(y=column, kind='hist', figsize=(7,5), grid=True, bins=15, title=column)"
   ]
  },
  {
   "cell_type": "markdown",
   "metadata": {},
   "source": [
    "<div class=\"alert alert-warning\">\n",
    "<b> Комментарий ревьюера ⚠️ </b>\n",
    "\n",
    "1. Столбец `ratings` можно так же отнести к количественным и посмотреть как там распределены данные.\n",
    "    \n",
    "1. Можно подробнее остановиться на аномальных значениях — есть ли фильмы с аномально большим бюджетом или сборами, реальные это цифры или может ошибка? Как влияют такие значения на анализ, нужно ли что то с ними делать?\n",
    "    \n",
    "</div>\n",
    "\n",
    "<div class=\"alert alert-success\">\n",
    "<b> Комментарий ревьюера ✅ </b>\n",
    "\n",
    "Для визуализации распределения данных часто еще используют диаграммы размаха, их можно построить методом [boxplot()](https://pandas.pydata.org/docs/reference/api/pandas.DataFrame.boxplot.html).\n",
    "\n",
    "</div>"
   ]
  },
  {
   "cell_type": "markdown",
   "metadata": {},
   "source": [
    "Изучив построенные графики по количественным параметрам, заметил, что значения общего бюджета близки к нулю, хотя должны включать в себя возвратные и невозвратные вложения. Рассмотрим какие значения имеются в возвратных и невозвратных средствах при нулевом бюджете. "
   ]
  },
  {
   "cell_type": "code",
   "execution_count": 11,
   "metadata": {},
   "outputs": [
    {
     "data": {
      "text/html": [
       "<div>\n",
       "<style scoped>\n",
       "    .dataframe tbody tr th:only-of-type {\n",
       "        vertical-align: middle;\n",
       "    }\n",
       "\n",
       "    .dataframe tbody tr th {\n",
       "        vertical-align: top;\n",
       "    }\n",
       "\n",
       "    .dataframe thead th {\n",
       "        text-align: right;\n",
       "    }\n",
       "</style>\n",
       "<table border=\"1\" class=\"dataframe\">\n",
       "  <thead>\n",
       "    <tr style=\"text-align: right;\">\n",
       "      <th></th>\n",
       "      <th>title</th>\n",
       "      <th>refundable_support</th>\n",
       "      <th>nonrefundable_support</th>\n",
       "      <th>budget</th>\n",
       "    </tr>\n",
       "  </thead>\n",
       "  <tbody>\n",
       "    <tr>\n",
       "      <th>1577</th>\n",
       "      <td>14+</td>\n",
       "      <td>0.0</td>\n",
       "      <td>23000000.0</td>\n",
       "      <td>0.0</td>\n",
       "    </tr>\n",
       "    <tr>\n",
       "      <th>1578</th>\n",
       "      <td>дуxless 2</td>\n",
       "      <td>0.0</td>\n",
       "      <td>75000000.0</td>\n",
       "      <td>0.0</td>\n",
       "    </tr>\n",
       "    <tr>\n",
       "      <th>1878</th>\n",
       "      <td>воин (2015)</td>\n",
       "      <td>10000000.0</td>\n",
       "      <td>70000000.0</td>\n",
       "      <td>0.0</td>\n",
       "    </tr>\n",
       "    <tr>\n",
       "      <th>1935</th>\n",
       "      <td>бармен.</td>\n",
       "      <td>20000000.0</td>\n",
       "      <td>0.0</td>\n",
       "      <td>0.0</td>\n",
       "    </tr>\n",
       "    <tr>\n",
       "      <th>1991</th>\n",
       "      <td>савва. сердце воина</td>\n",
       "      <td>60000000.0</td>\n",
       "      <td>100000000.0</td>\n",
       "      <td>0.0</td>\n",
       "    </tr>\n",
       "    <tr>\n",
       "      <th>2050</th>\n",
       "      <td>тряпичный союз</td>\n",
       "      <td>0.0</td>\n",
       "      <td>59000000.0</td>\n",
       "      <td>0.0</td>\n",
       "    </tr>\n",
       "    <tr>\n",
       "      <th>2142</th>\n",
       "      <td>срочно выйду замуж</td>\n",
       "      <td>0.0</td>\n",
       "      <td>35000000.0</td>\n",
       "      <td>0.0</td>\n",
       "    </tr>\n",
       "    <tr>\n",
       "      <th>2222</th>\n",
       "      <td>помню - не помню!</td>\n",
       "      <td>0.0</td>\n",
       "      <td>6000000.0</td>\n",
       "      <td>0.0</td>\n",
       "    </tr>\n",
       "    <tr>\n",
       "      <th>2386</th>\n",
       "      <td>любовь с ограничениями</td>\n",
       "      <td>19000000.0</td>\n",
       "      <td>51000000.0</td>\n",
       "      <td>0.0</td>\n",
       "    </tr>\n",
       "    <tr>\n",
       "      <th>2844</th>\n",
       "      <td>притяжение (2016)</td>\n",
       "      <td>0.0</td>\n",
       "      <td>250000000.0</td>\n",
       "      <td>0.0</td>\n",
       "    </tr>\n",
       "    <tr>\n",
       "      <th>2951</th>\n",
       "      <td>чудо-юдо</td>\n",
       "      <td>20000000.0</td>\n",
       "      <td>20000000.0</td>\n",
       "      <td>0.0</td>\n",
       "    </tr>\n",
       "    <tr>\n",
       "      <th>3013</th>\n",
       "      <td>мифы</td>\n",
       "      <td>25000000.0</td>\n",
       "      <td>20000000.0</td>\n",
       "      <td>0.0</td>\n",
       "    </tr>\n",
       "    <tr>\n",
       "      <th>4491</th>\n",
       "      <td>селфи</td>\n",
       "      <td>20000000.0</td>\n",
       "      <td>40000000.0</td>\n",
       "      <td>0.0</td>\n",
       "    </tr>\n",
       "    <tr>\n",
       "      <th>4622</th>\n",
       "      <td>два хвоста</td>\n",
       "      <td>10000000.0</td>\n",
       "      <td>60000000.0</td>\n",
       "      <td>0.0</td>\n",
       "    </tr>\n",
       "    <tr>\n",
       "      <th>4823</th>\n",
       "      <td>принцесса и дракон</td>\n",
       "      <td>40000000.0</td>\n",
       "      <td>40000000.0</td>\n",
       "      <td>0.0</td>\n",
       "    </tr>\n",
       "    <tr>\n",
       "      <th>5127</th>\n",
       "      <td>баба яга</td>\n",
       "      <td>0.0</td>\n",
       "      <td>138969465.0</td>\n",
       "      <td>0.0</td>\n",
       "    </tr>\n",
       "    <tr>\n",
       "      <th>5603</th>\n",
       "      <td>большое путешествие</td>\n",
       "      <td>60000000.0</td>\n",
       "      <td>120000000.0</td>\n",
       "      <td>0.0</td>\n",
       "    </tr>\n",
       "  </tbody>\n",
       "</table>\n",
       "</div>"
      ],
      "text/plain": [
       "                       title  refundable_support  nonrefundable_support  \\\n",
       "1577                     14+                 0.0             23000000.0   \n",
       "1578               дуxless 2                 0.0             75000000.0   \n",
       "1878             воин (2015)          10000000.0             70000000.0   \n",
       "1935                 бармен.          20000000.0                    0.0   \n",
       "1991     савва. сердце воина          60000000.0            100000000.0   \n",
       "2050          тряпичный союз                 0.0             59000000.0   \n",
       "2142      срочно выйду замуж                 0.0             35000000.0   \n",
       "2222       помню - не помню!                 0.0              6000000.0   \n",
       "2386  любовь с ограничениями          19000000.0             51000000.0   \n",
       "2844       притяжение (2016)                 0.0            250000000.0   \n",
       "2951                чудо-юдо          20000000.0             20000000.0   \n",
       "3013                    мифы          25000000.0             20000000.0   \n",
       "4491                   селфи          20000000.0             40000000.0   \n",
       "4622              два хвоста          10000000.0             60000000.0   \n",
       "4823      принцесса и дракон          40000000.0             40000000.0   \n",
       "5127                баба яга                 0.0            138969465.0   \n",
       "5603     большое путешествие          60000000.0            120000000.0   \n",
       "\n",
       "      budget  \n",
       "1577     0.0  \n",
       "1578     0.0  \n",
       "1878     0.0  \n",
       "1935     0.0  \n",
       "1991     0.0  \n",
       "2050     0.0  \n",
       "2142     0.0  \n",
       "2222     0.0  \n",
       "2386     0.0  \n",
       "2844     0.0  \n",
       "2951     0.0  \n",
       "3013     0.0  \n",
       "4491     0.0  \n",
       "4622     0.0  \n",
       "4823     0.0  \n",
       "5127     0.0  \n",
       "5603     0.0  "
      ]
     },
     "execution_count": 11,
     "metadata": {},
     "output_type": "execute_result"
    }
   ],
   "source": [
    "data[data['budget'] == 0][['title', 'refundable_support', 'nonrefundable_support', 'budget']]"
   ]
  },
  {
   "cell_type": "code",
   "execution_count": 12,
   "metadata": {},
   "outputs": [
    {
     "data": {
      "text/html": [
       "<div>\n",
       "<style scoped>\n",
       "    .dataframe tbody tr th:only-of-type {\n",
       "        vertical-align: middle;\n",
       "    }\n",
       "\n",
       "    .dataframe tbody tr th {\n",
       "        vertical-align: top;\n",
       "    }\n",
       "\n",
       "    .dataframe thead th {\n",
       "        text-align: right;\n",
       "    }\n",
       "</style>\n",
       "<table border=\"1\" class=\"dataframe\">\n",
       "  <thead>\n",
       "    <tr style=\"text-align: right;\">\n",
       "      <th></th>\n",
       "      <th>title</th>\n",
       "      <th>refundable_support</th>\n",
       "      <th>nonrefundable_support</th>\n",
       "      <th>budget</th>\n",
       "    </tr>\n",
       "  </thead>\n",
       "  <tbody>\n",
       "  </tbody>\n",
       "</table>\n",
       "</div>"
      ],
      "text/plain": [
       "Empty DataFrame\n",
       "Columns: [title, refundable_support, nonrefundable_support, budget]\n",
       "Index: []"
      ]
     },
     "execution_count": 12,
     "metadata": {},
     "output_type": "execute_result"
    }
   ],
   "source": [
    "#Заменим нулевые значения в бюджете медианой разницы значениий бюджета к сумме возвратных и невозвратных вложений\n",
    "data['differ'] = data['budget'] - (data['refundable_support'] + data['nonrefundable_support'])\n",
    "\n",
    "median_diff = data[data['differ']>0].median()\n",
    "median = median_diff['differ']\n",
    "\n",
    "data['median_sum'] = data['refundable_support'] + data['nonrefundable_support'] + median\n",
    "for nul in data['budget']==0:\n",
    "    data.loc[data['budget'] == nul, 'budget']  = data.loc[data['budget'] == nul, 'budget'] = data['median_sum']\n",
    "    \n",
    "#Проверим полученный результат\n",
    "\n",
    "data[data['budget'] == 0][['title', 'refundable_support', 'nonrefundable_support', 'budget']]\n",
    "\n",
    "#Нулевые значения отсутствуют"
   ]
  },
  {
   "cell_type": "markdown",
   "metadata": {},
   "source": [
    "<div class=\"alert alert-success\">\n",
    "<b> Комментарий ревьюера ✅ </b>\n",
    "\n",
    "Молодец, что нашел строки с ошибочным бюджетом и постарался заменить их.\n",
    "    \n",
    "Здесь так же можно упростить код, вместо:\n",
    "    \n",
    "```\n",
    "median_diff = data[data['differ']>0].median()\n",
    "median = median_diff['differ']\n",
    "\n",
    "data['median_sum'] = data['refundable_support'] + data['nonrefundable_support'] + median\n",
    "for nul in data['budget']==0:\n",
    "    data.loc[data['budget'] == nul, 'budget']  = data.loc[data['budget'] == nul, 'budget'] = data['median_sum']\n",
    "    \n",
    "```\n",
    "Сделать так:\n",
    "    \n",
    "```\n",
    "#сразу сохранить медианное значение разницы бюджета к сумме поддержек в переменную\n",
    "median = data.loc[data['differ']>0, 'differ'].median()\n",
    "    \n",
    "#заменить нулевые значения\n",
    "data.loc[data['budget'] == 0, 'budget']data['median_sum'] = data['refundable_support'] + data['nonrefundable_support'] + median\n",
    "```\n",
    "\n",
    "</div>\n",
    "\n",
    "<div class=\"alert alert-warning\">\n",
    "<b> Комментарий ревьюера ⚠️ </b>\n",
    "\n",
    "По предупреждению:\n",
    "    \n",
    "- `FutureWarning` — предупреждения о том, что в будущих версиях есть именения. Если тебе мешают данные предупреждения их можно скрыть используя библиотеку `warnings`:\n",
    "    \n",
    "`import warnings`\n",
    "    \n",
    "`warnings.filterwarnings(action='ignore', category=FutureWarning)`\n",
    "\n",
    "</div>"
   ]
  },
  {
   "cell_type": "markdown",
   "metadata": {},
   "source": [
    "<div class=\"alert alert-info\">\n",
    "<b> Комментарий студента</b>\n",
    "\n",
    "Огромное спасибо, не мог понять как избавиться от этого предупреждения)\n",
    "</div>"
   ]
  },
  {
   "cell_type": "markdown",
   "metadata": {},
   "source": [
    "<div class=\"alert alert-success\">\n",
    "<b> Комментарий ревьюера 2 ✅ </b>\n",
    "\n",
    "Пожалуйста 😊\n",
    "    \n",
    "</div>"
   ]
  },
  {
   "cell_type": "markdown",
   "metadata": {
    "id": "Eu6oWp2CgFyS"
   },
   "source": [
    "#### Шаг 2.6. Добавьте новые столбцы\n",
    "\n",
    "\n",
    "\n"
   ]
  },
  {
   "cell_type": "markdown",
   "metadata": {
    "id": "7GgW-UpAgFyS"
   },
   "source": [
    "- Создайте столбец с информацией о годе проката. Выделите год из даты премьеры фильма."
   ]
  },
  {
   "cell_type": "code",
   "execution_count": 13,
   "metadata": {
    "id": "I-yd1DkWgFyT"
   },
   "outputs": [
    {
     "data": {
      "text/html": [
       "<div>\n",
       "<style scoped>\n",
       "    .dataframe tbody tr th:only-of-type {\n",
       "        vertical-align: middle;\n",
       "    }\n",
       "\n",
       "    .dataframe tbody tr th {\n",
       "        vertical-align: top;\n",
       "    }\n",
       "\n",
       "    .dataframe thead th {\n",
       "        text-align: right;\n",
       "    }\n",
       "</style>\n",
       "<table border=\"1\" class=\"dataframe\">\n",
       "  <thead>\n",
       "    <tr style=\"text-align: right;\">\n",
       "      <th></th>\n",
       "      <th>title</th>\n",
       "      <th>pu_number</th>\n",
       "      <th>show_start_date</th>\n",
       "      <th>type</th>\n",
       "      <th>film_studio</th>\n",
       "      <th>production_country</th>\n",
       "      <th>director</th>\n",
       "      <th>producer</th>\n",
       "      <th>age_restriction</th>\n",
       "      <th>refundable_support</th>\n",
       "      <th>nonrefundable_support</th>\n",
       "      <th>budget</th>\n",
       "      <th>financing_source</th>\n",
       "      <th>ratings</th>\n",
       "      <th>genres</th>\n",
       "      <th>box_office</th>\n",
       "      <th>differ</th>\n",
       "      <th>median_sum</th>\n",
       "      <th>years</th>\n",
       "    </tr>\n",
       "  </thead>\n",
       "  <tbody>\n",
       "    <tr>\n",
       "      <th>0</th>\n",
       "      <td>открытый простор</td>\n",
       "      <td>221048915</td>\n",
       "      <td>2015-11-27 12:00:00+00:00</td>\n",
       "      <td>художественный</td>\n",
       "      <td>тачстоун пикчерз, кобальт пикчерз, бикон пикче...</td>\n",
       "      <td>сша</td>\n",
       "      <td>Кевин Костнер</td>\n",
       "      <td>дэвид валдес, кевин костнер, джейк эбертс</td>\n",
       "      <td>«18+» - запрещено для детей</td>\n",
       "      <td>NaN</td>\n",
       "      <td>NaN</td>\n",
       "      <td>NaN</td>\n",
       "      <td>NaN</td>\n",
       "      <td>7.2</td>\n",
       "      <td>боевик,драма,мелодрама</td>\n",
       "      <td>NaN</td>\n",
       "      <td>NaN</td>\n",
       "      <td>NaN</td>\n",
       "      <td>2015</td>\n",
       "    </tr>\n",
       "    <tr>\n",
       "      <th>1</th>\n",
       "      <td>особо опасен</td>\n",
       "      <td>221038416</td>\n",
       "      <td>2016-10-10 12:00:00+00:00</td>\n",
       "      <td>художественный</td>\n",
       "      <td>юниверсал пикчерз, кикстарт продакшнз, марк пл...</td>\n",
       "      <td>сша</td>\n",
       "      <td>Тимур Бекмамбетов</td>\n",
       "      <td>джим лемли, джейсон нетер, марк е.платт, яйн смит</td>\n",
       "      <td>«18+» - запрещено для детей</td>\n",
       "      <td>NaN</td>\n",
       "      <td>NaN</td>\n",
       "      <td>NaN</td>\n",
       "      <td>NaN</td>\n",
       "      <td>6.8</td>\n",
       "      <td>фантастика,боевик,триллер</td>\n",
       "      <td>NaN</td>\n",
       "      <td>NaN</td>\n",
       "      <td>NaN</td>\n",
       "      <td>2016</td>\n",
       "    </tr>\n",
       "    <tr>\n",
       "      <th>2</th>\n",
       "      <td>любовь и сигареты</td>\n",
       "      <td>221074614</td>\n",
       "      <td>2014-12-29 12:00:00+00:00</td>\n",
       "      <td>художественный</td>\n",
       "      <td>юнайтед артистс, грин стрит филмз, айкон интер...</td>\n",
       "      <td>сша</td>\n",
       "      <td>Джон Туртурро</td>\n",
       "      <td>джон пенотти, джон туртурро</td>\n",
       "      <td>«18+» - запрещено для детей</td>\n",
       "      <td>NaN</td>\n",
       "      <td>NaN</td>\n",
       "      <td>NaN</td>\n",
       "      <td>NaN</td>\n",
       "      <td>6.6</td>\n",
       "      <td>мюзикл,мелодрама,комедия</td>\n",
       "      <td>NaN</td>\n",
       "      <td>NaN</td>\n",
       "      <td>NaN</td>\n",
       "      <td>2014</td>\n",
       "    </tr>\n",
       "    <tr>\n",
       "      <th>3</th>\n",
       "      <td>отпетые мошенники.</td>\n",
       "      <td>121011416</td>\n",
       "      <td>2016-05-05 12:00:00+00:00</td>\n",
       "      <td>художественный</td>\n",
       "      <td>пульсар продюксьон, тф1 фильм</td>\n",
       "      <td>франция</td>\n",
       "      <td>Эрик Беснард</td>\n",
       "      <td>патрис леду</td>\n",
       "      <td>«18+» - запрещено для детей</td>\n",
       "      <td>NaN</td>\n",
       "      <td>NaN</td>\n",
       "      <td>NaN</td>\n",
       "      <td>NaN</td>\n",
       "      <td>8.0</td>\n",
       "      <td>комедия,криминал</td>\n",
       "      <td>NaN</td>\n",
       "      <td>NaN</td>\n",
       "      <td>NaN</td>\n",
       "      <td>2016</td>\n",
       "    </tr>\n",
       "    <tr>\n",
       "      <th>4</th>\n",
       "      <td>превосходство борна /по одноименной новелле ро...</td>\n",
       "      <td>221031416</td>\n",
       "      <td>2016-06-29 12:00:00+00:00</td>\n",
       "      <td>художественный</td>\n",
       "      <td>кеннеди/маршал компани, юниверсал пикчерз, гип...</td>\n",
       "      <td>сша</td>\n",
       "      <td>Пол Грингросс</td>\n",
       "      <td>патрик кроули, фрэнк маршалл, пол сэндберг</td>\n",
       "      <td>«16+» - для детей старше 16 лет</td>\n",
       "      <td>NaN</td>\n",
       "      <td>NaN</td>\n",
       "      <td>NaN</td>\n",
       "      <td>NaN</td>\n",
       "      <td>7.7</td>\n",
       "      <td>боевик,триллер,детектив</td>\n",
       "      <td>NaN</td>\n",
       "      <td>NaN</td>\n",
       "      <td>NaN</td>\n",
       "      <td>2016</td>\n",
       "    </tr>\n",
       "    <tr>\n",
       "      <th>5</th>\n",
       "      <td>малышка на миллион /по мотивам рассказов ф.х.т...</td>\n",
       "      <td>221011415</td>\n",
       "      <td>2015-04-03 12:00:00+00:00</td>\n",
       "      <td>художественный</td>\n",
       "      <td>уорнер бразерс, лейкшор интертейнмент, малпасо...</td>\n",
       "      <td>сша</td>\n",
       "      <td>Клинт Иствуд</td>\n",
       "      <td>клинт иствуд, том розенберг, альберт с.рудди, ...</td>\n",
       "      <td>«16+» - для детей старше 16 лет</td>\n",
       "      <td>NaN</td>\n",
       "      <td>NaN</td>\n",
       "      <td>NaN</td>\n",
       "      <td>NaN</td>\n",
       "      <td>8.1</td>\n",
       "      <td>драма,спорт</td>\n",
       "      <td>NaN</td>\n",
       "      <td>NaN</td>\n",
       "      <td>NaN</td>\n",
       "      <td>2015</td>\n",
       "    </tr>\n",
       "    <tr>\n",
       "      <th>6</th>\n",
       "      <td>преданный садовник</td>\n",
       "      <td>121003106</td>\n",
       "      <td>2013-08-26 12:00:00+00:00</td>\n",
       "      <td>художественный</td>\n",
       "      <td>потбойлер продакшнз, эпсилон моушн пикчерз, ск...</td>\n",
       "      <td>германия, великобритания</td>\n",
       "      <td>Фернанду Мейрелльеш</td>\n",
       "      <td>саймон чэннинг уильямс</td>\n",
       "      <td>«16+» - для детей старше 16 лет</td>\n",
       "      <td>NaN</td>\n",
       "      <td>NaN</td>\n",
       "      <td>NaN</td>\n",
       "      <td>NaN</td>\n",
       "      <td>7.1</td>\n",
       "      <td>триллер,драма,мелодрама</td>\n",
       "      <td>NaN</td>\n",
       "      <td>NaN</td>\n",
       "      <td>NaN</td>\n",
       "      <td>2013</td>\n",
       "    </tr>\n",
       "    <tr>\n",
       "      <th>7</th>\n",
       "      <td>отель /по мотивам пьесы джона уэбстера/</td>\n",
       "      <td>221008812</td>\n",
       "      <td>2012-01-27 12:00:00+00:00</td>\n",
       "      <td>художественный</td>\n",
       "      <td>кэтлей, отель продакшнс, мунстоун интертейнмен...</td>\n",
       "      <td>великобритания, италия</td>\n",
       "      <td>Майк Фиггис</td>\n",
       "      <td>этчи стро, анни стюарт, майк фиггис</td>\n",
       "      <td>«18+» - запрещено для детей</td>\n",
       "      <td>NaN</td>\n",
       "      <td>NaN</td>\n",
       "      <td>NaN</td>\n",
       "      <td>NaN</td>\n",
       "      <td>6.0</td>\n",
       "      <td>мелодрама,комедия</td>\n",
       "      <td>NaN</td>\n",
       "      <td>NaN</td>\n",
       "      <td>NaN</td>\n",
       "      <td>2012</td>\n",
       "    </tr>\n",
       "    <tr>\n",
       "      <th>8</th>\n",
       "      <td>незаконченная жизнь</td>\n",
       "      <td>121015405</td>\n",
       "      <td>2015-05-06 12:00:00+00:00</td>\n",
       "      <td>художественный</td>\n",
       "      <td>инишиэл интертейнмент групп, мирамакс филмз, п...</td>\n",
       "      <td>сша</td>\n",
       "      <td>Лассе Халлстрем</td>\n",
       "      <td>лесли холлеран, алан лэдд мл., келлиан лэдд, х...</td>\n",
       "      <td>«12+» - для детей старше 12 лет</td>\n",
       "      <td>NaN</td>\n",
       "      <td>NaN</td>\n",
       "      <td>NaN</td>\n",
       "      <td>NaN</td>\n",
       "      <td>7.2</td>\n",
       "      <td>драма,мелодрама,семейный</td>\n",
       "      <td>NaN</td>\n",
       "      <td>NaN</td>\n",
       "      <td>NaN</td>\n",
       "      <td>2015</td>\n",
       "    </tr>\n",
       "    <tr>\n",
       "      <th>9</th>\n",
       "      <td>оружейный барон</td>\n",
       "      <td>221012515</td>\n",
       "      <td>2015-04-03 12:00:00+00:00</td>\n",
       "      <td>художественный</td>\n",
       "      <td>вэ и пэ медиенфондс 3, асендант пикчерз, сатур...</td>\n",
       "      <td>сша, франция, турция</td>\n",
       "      <td>Эндрю Никкол</td>\n",
       "      <td>норман голуайтли, энди грош, николас кейдж, эн...</td>\n",
       "      <td>«18+» - запрещено для детей</td>\n",
       "      <td>NaN</td>\n",
       "      <td>NaN</td>\n",
       "      <td>NaN</td>\n",
       "      <td>NaN</td>\n",
       "      <td>7.7</td>\n",
       "      <td>боевик,драма,криминал</td>\n",
       "      <td>NaN</td>\n",
       "      <td>NaN</td>\n",
       "      <td>NaN</td>\n",
       "      <td>2015</td>\n",
       "    </tr>\n",
       "  </tbody>\n",
       "</table>\n",
       "</div>"
      ],
      "text/plain": [
       "                                               title  pu_number  \\\n",
       "0                                   открытый простор  221048915   \n",
       "1                                       особо опасен  221038416   \n",
       "2                                  любовь и сигареты  221074614   \n",
       "3                                 отпетые мошенники.  121011416   \n",
       "4  превосходство борна /по одноименной новелле ро...  221031416   \n",
       "5  малышка на миллион /по мотивам рассказов ф.х.т...  221011415   \n",
       "6                                 преданный садовник  121003106   \n",
       "7            отель /по мотивам пьесы джона уэбстера/  221008812   \n",
       "8                                незаконченная жизнь  121015405   \n",
       "9                                    оружейный барон  221012515   \n",
       "\n",
       "            show_start_date            type  \\\n",
       "0 2015-11-27 12:00:00+00:00  художественный   \n",
       "1 2016-10-10 12:00:00+00:00  художественный   \n",
       "2 2014-12-29 12:00:00+00:00  художественный   \n",
       "3 2016-05-05 12:00:00+00:00  художественный   \n",
       "4 2016-06-29 12:00:00+00:00  художественный   \n",
       "5 2015-04-03 12:00:00+00:00  художественный   \n",
       "6 2013-08-26 12:00:00+00:00  художественный   \n",
       "7 2012-01-27 12:00:00+00:00  художественный   \n",
       "8 2015-05-06 12:00:00+00:00  художественный   \n",
       "9 2015-04-03 12:00:00+00:00  художественный   \n",
       "\n",
       "                                         film_studio  \\\n",
       "0  тачстоун пикчерз, кобальт пикчерз, бикон пикче...   \n",
       "1  юниверсал пикчерз, кикстарт продакшнз, марк пл...   \n",
       "2  юнайтед артистс, грин стрит филмз, айкон интер...   \n",
       "3                      пульсар продюксьон, тф1 фильм   \n",
       "4  кеннеди/маршал компани, юниверсал пикчерз, гип...   \n",
       "5  уорнер бразерс, лейкшор интертейнмент, малпасо...   \n",
       "6  потбойлер продакшнз, эпсилон моушн пикчерз, ск...   \n",
       "7  кэтлей, отель продакшнс, мунстоун интертейнмен...   \n",
       "8  инишиэл интертейнмент групп, мирамакс филмз, п...   \n",
       "9  вэ и пэ медиенфондс 3, асендант пикчерз, сатур...   \n",
       "\n",
       "         production_country             director  \\\n",
       "0                       сша        Кевин Костнер   \n",
       "1                       сша    Тимур Бекмамбетов   \n",
       "2                       сша        Джон Туртурро   \n",
       "3                   франция         Эрик Беснард   \n",
       "4                       сша        Пол Грингросс   \n",
       "5                       сша         Клинт Иствуд   \n",
       "6  германия, великобритания  Фернанду Мейрелльеш   \n",
       "7    великобритания, италия          Майк Фиггис   \n",
       "8                       сша      Лассе Халлстрем   \n",
       "9      сша, франция, турция         Эндрю Никкол   \n",
       "\n",
       "                                            producer  \\\n",
       "0          дэвид валдес, кевин костнер, джейк эбертс   \n",
       "1  джим лемли, джейсон нетер, марк е.платт, яйн смит   \n",
       "2                        джон пенотти, джон туртурро   \n",
       "3                                        патрис леду   \n",
       "4         патрик кроули, фрэнк маршалл, пол сэндберг   \n",
       "5  клинт иствуд, том розенберг, альберт с.рудди, ...   \n",
       "6                             саймон чэннинг уильямс   \n",
       "7                этчи стро, анни стюарт, майк фиггис   \n",
       "8  лесли холлеран, алан лэдд мл., келлиан лэдд, х...   \n",
       "9  норман голуайтли, энди грош, николас кейдж, эн...   \n",
       "\n",
       "                   age_restriction  refundable_support  nonrefundable_support  \\\n",
       "0      «18+» - запрещено для детей                 NaN                    NaN   \n",
       "1      «18+» - запрещено для детей                 NaN                    NaN   \n",
       "2      «18+» - запрещено для детей                 NaN                    NaN   \n",
       "3      «18+» - запрещено для детей                 NaN                    NaN   \n",
       "4  «16+» - для детей старше 16 лет                 NaN                    NaN   \n",
       "5  «16+» - для детей старше 16 лет                 NaN                    NaN   \n",
       "6  «16+» - для детей старше 16 лет                 NaN                    NaN   \n",
       "7      «18+» - запрещено для детей                 NaN                    NaN   \n",
       "8  «12+» - для детей старше 12 лет                 NaN                    NaN   \n",
       "9      «18+» - запрещено для детей                 NaN                    NaN   \n",
       "\n",
       "   budget financing_source  ratings                     genres  box_office  \\\n",
       "0     NaN              NaN      7.2     боевик,драма,мелодрама         NaN   \n",
       "1     NaN              NaN      6.8  фантастика,боевик,триллер         NaN   \n",
       "2     NaN              NaN      6.6   мюзикл,мелодрама,комедия         NaN   \n",
       "3     NaN              NaN      8.0           комедия,криминал         NaN   \n",
       "4     NaN              NaN      7.7    боевик,триллер,детектив         NaN   \n",
       "5     NaN              NaN      8.1                драма,спорт         NaN   \n",
       "6     NaN              NaN      7.1    триллер,драма,мелодрама         NaN   \n",
       "7     NaN              NaN      6.0          мелодрама,комедия         NaN   \n",
       "8     NaN              NaN      7.2   драма,мелодрама,семейный         NaN   \n",
       "9     NaN              NaN      7.7      боевик,драма,криминал         NaN   \n",
       "\n",
       "   differ  median_sum  years  \n",
       "0     NaN         NaN   2015  \n",
       "1     NaN         NaN   2016  \n",
       "2     NaN         NaN   2014  \n",
       "3     NaN         NaN   2016  \n",
       "4     NaN         NaN   2016  \n",
       "5     NaN         NaN   2015  \n",
       "6     NaN         NaN   2013  \n",
       "7     NaN         NaN   2012  \n",
       "8     NaN         NaN   2015  \n",
       "9     NaN         NaN   2015  "
      ]
     },
     "execution_count": 13,
     "metadata": {},
     "output_type": "execute_result"
    }
   ],
   "source": [
    "data['years'] = pd.DatetimeIndex(data['show_start_date']).year\n",
    "data.head(10)"
   ]
  },
  {
   "cell_type": "markdown",
   "metadata": {
    "id": "nFTDLDYOgFyT"
   },
   "source": [
    "- Создайте два столбца: с именем и фамилией главного режиссёра и основным жанром фильма. В столбцы войдут первые значения из списка режиссёров и жанров соответственно.\n",
    "\n",
    "<div id=\"accordion\">\n",
    "    <div class=\"card\">\n",
    "        <div class=\"card-header\" id=\"headingThree\">\n",
    "            <button class=\"btn btn-link collapsed\" data-toggle=\"collapse\" data-target=\"#collapseHint_2\" aria-expanded=\"false\" aria-controls=\"collapseHint_2\">Подсказка</button>\n",
    "        </div>\n",
    "        <div id=\"collapseHint_2\" class=\"collapse\" aria-labelledby=\"headingThree\" data-parent=\"#accordion\">\n",
    "            <div class=\"card-body\">\n",
    "Чтобы создать такие столбцы, лучше всего использовать собственную функцию. Эту функцию можно применить к двум столбцам сразу. \n",
    "            </div>\n",
    "        </div>\n",
    "    </div>\n",
    "</div>"
   ]
  },
  {
   "cell_type": "code",
   "execution_count": 14,
   "metadata": {
    "id": "LSbRZKbMgFyU"
   },
   "outputs": [
    {
     "data": {
      "text/html": [
       "<div>\n",
       "<style scoped>\n",
       "    .dataframe tbody tr th:only-of-type {\n",
       "        vertical-align: middle;\n",
       "    }\n",
       "\n",
       "    .dataframe tbody tr th {\n",
       "        vertical-align: top;\n",
       "    }\n",
       "\n",
       "    .dataframe thead th {\n",
       "        text-align: right;\n",
       "    }\n",
       "</style>\n",
       "<table border=\"1\" class=\"dataframe\">\n",
       "  <thead>\n",
       "    <tr style=\"text-align: right;\">\n",
       "      <th></th>\n",
       "      <th>title</th>\n",
       "      <th>pu_number</th>\n",
       "      <th>show_start_date</th>\n",
       "      <th>type</th>\n",
       "      <th>film_studio</th>\n",
       "      <th>production_country</th>\n",
       "      <th>director</th>\n",
       "      <th>producer</th>\n",
       "      <th>age_restriction</th>\n",
       "      <th>refundable_support</th>\n",
       "      <th>...</th>\n",
       "      <th>budget</th>\n",
       "      <th>financing_source</th>\n",
       "      <th>ratings</th>\n",
       "      <th>genres</th>\n",
       "      <th>box_office</th>\n",
       "      <th>differ</th>\n",
       "      <th>median_sum</th>\n",
       "      <th>years</th>\n",
       "      <th>main_director</th>\n",
       "      <th>main_genre</th>\n",
       "    </tr>\n",
       "  </thead>\n",
       "  <tbody>\n",
       "    <tr>\n",
       "      <th>0</th>\n",
       "      <td>открытый простор</td>\n",
       "      <td>221048915</td>\n",
       "      <td>2015-11-27 12:00:00+00:00</td>\n",
       "      <td>художественный</td>\n",
       "      <td>тачстоун пикчерз, кобальт пикчерз, бикон пикче...</td>\n",
       "      <td>сша</td>\n",
       "      <td>Кевин Костнер</td>\n",
       "      <td>дэвид валдес, кевин костнер, джейк эбертс</td>\n",
       "      <td>«18+» - запрещено для детей</td>\n",
       "      <td>NaN</td>\n",
       "      <td>...</td>\n",
       "      <td>NaN</td>\n",
       "      <td>NaN</td>\n",
       "      <td>7.2</td>\n",
       "      <td>боевик,драма,мелодрама</td>\n",
       "      <td>NaN</td>\n",
       "      <td>NaN</td>\n",
       "      <td>NaN</td>\n",
       "      <td>2015</td>\n",
       "      <td>Кевин Костнер</td>\n",
       "      <td>боевик</td>\n",
       "    </tr>\n",
       "    <tr>\n",
       "      <th>1</th>\n",
       "      <td>особо опасен</td>\n",
       "      <td>221038416</td>\n",
       "      <td>2016-10-10 12:00:00+00:00</td>\n",
       "      <td>художественный</td>\n",
       "      <td>юниверсал пикчерз, кикстарт продакшнз, марк пл...</td>\n",
       "      <td>сша</td>\n",
       "      <td>Тимур Бекмамбетов</td>\n",
       "      <td>джим лемли, джейсон нетер, марк е.платт, яйн смит</td>\n",
       "      <td>«18+» - запрещено для детей</td>\n",
       "      <td>NaN</td>\n",
       "      <td>...</td>\n",
       "      <td>NaN</td>\n",
       "      <td>NaN</td>\n",
       "      <td>6.8</td>\n",
       "      <td>фантастика,боевик,триллер</td>\n",
       "      <td>NaN</td>\n",
       "      <td>NaN</td>\n",
       "      <td>NaN</td>\n",
       "      <td>2016</td>\n",
       "      <td>Тимур Бекмамбетов</td>\n",
       "      <td>фантастика</td>\n",
       "    </tr>\n",
       "    <tr>\n",
       "      <th>2</th>\n",
       "      <td>любовь и сигареты</td>\n",
       "      <td>221074614</td>\n",
       "      <td>2014-12-29 12:00:00+00:00</td>\n",
       "      <td>художественный</td>\n",
       "      <td>юнайтед артистс, грин стрит филмз, айкон интер...</td>\n",
       "      <td>сша</td>\n",
       "      <td>Джон Туртурро</td>\n",
       "      <td>джон пенотти, джон туртурро</td>\n",
       "      <td>«18+» - запрещено для детей</td>\n",
       "      <td>NaN</td>\n",
       "      <td>...</td>\n",
       "      <td>NaN</td>\n",
       "      <td>NaN</td>\n",
       "      <td>6.6</td>\n",
       "      <td>мюзикл,мелодрама,комедия</td>\n",
       "      <td>NaN</td>\n",
       "      <td>NaN</td>\n",
       "      <td>NaN</td>\n",
       "      <td>2014</td>\n",
       "      <td>Джон Туртурро</td>\n",
       "      <td>мюзикл</td>\n",
       "    </tr>\n",
       "    <tr>\n",
       "      <th>3</th>\n",
       "      <td>отпетые мошенники.</td>\n",
       "      <td>121011416</td>\n",
       "      <td>2016-05-05 12:00:00+00:00</td>\n",
       "      <td>художественный</td>\n",
       "      <td>пульсар продюксьон, тф1 фильм</td>\n",
       "      <td>франция</td>\n",
       "      <td>Эрик Беснард</td>\n",
       "      <td>патрис леду</td>\n",
       "      <td>«18+» - запрещено для детей</td>\n",
       "      <td>NaN</td>\n",
       "      <td>...</td>\n",
       "      <td>NaN</td>\n",
       "      <td>NaN</td>\n",
       "      <td>8.0</td>\n",
       "      <td>комедия,криминал</td>\n",
       "      <td>NaN</td>\n",
       "      <td>NaN</td>\n",
       "      <td>NaN</td>\n",
       "      <td>2016</td>\n",
       "      <td>Эрик Беснард</td>\n",
       "      <td>комедия</td>\n",
       "    </tr>\n",
       "    <tr>\n",
       "      <th>4</th>\n",
       "      <td>превосходство борна /по одноименной новелле ро...</td>\n",
       "      <td>221031416</td>\n",
       "      <td>2016-06-29 12:00:00+00:00</td>\n",
       "      <td>художественный</td>\n",
       "      <td>кеннеди/маршал компани, юниверсал пикчерз, гип...</td>\n",
       "      <td>сша</td>\n",
       "      <td>Пол Грингросс</td>\n",
       "      <td>патрик кроули, фрэнк маршалл, пол сэндберг</td>\n",
       "      <td>«16+» - для детей старше 16 лет</td>\n",
       "      <td>NaN</td>\n",
       "      <td>...</td>\n",
       "      <td>NaN</td>\n",
       "      <td>NaN</td>\n",
       "      <td>7.7</td>\n",
       "      <td>боевик,триллер,детектив</td>\n",
       "      <td>NaN</td>\n",
       "      <td>NaN</td>\n",
       "      <td>NaN</td>\n",
       "      <td>2016</td>\n",
       "      <td>Пол Грингросс</td>\n",
       "      <td>боевик</td>\n",
       "    </tr>\n",
       "    <tr>\n",
       "      <th>5</th>\n",
       "      <td>малышка на миллион /по мотивам рассказов ф.х.т...</td>\n",
       "      <td>221011415</td>\n",
       "      <td>2015-04-03 12:00:00+00:00</td>\n",
       "      <td>художественный</td>\n",
       "      <td>уорнер бразерс, лейкшор интертейнмент, малпасо...</td>\n",
       "      <td>сша</td>\n",
       "      <td>Клинт Иствуд</td>\n",
       "      <td>клинт иствуд, том розенберг, альберт с.рудди, ...</td>\n",
       "      <td>«16+» - для детей старше 16 лет</td>\n",
       "      <td>NaN</td>\n",
       "      <td>...</td>\n",
       "      <td>NaN</td>\n",
       "      <td>NaN</td>\n",
       "      <td>8.1</td>\n",
       "      <td>драма,спорт</td>\n",
       "      <td>NaN</td>\n",
       "      <td>NaN</td>\n",
       "      <td>NaN</td>\n",
       "      <td>2015</td>\n",
       "      <td>Клинт Иствуд</td>\n",
       "      <td>драма</td>\n",
       "    </tr>\n",
       "    <tr>\n",
       "      <th>6</th>\n",
       "      <td>преданный садовник</td>\n",
       "      <td>121003106</td>\n",
       "      <td>2013-08-26 12:00:00+00:00</td>\n",
       "      <td>художественный</td>\n",
       "      <td>потбойлер продакшнз, эпсилон моушн пикчерз, ск...</td>\n",
       "      <td>германия, великобритания</td>\n",
       "      <td>Фернанду Мейрелльеш</td>\n",
       "      <td>саймон чэннинг уильямс</td>\n",
       "      <td>«16+» - для детей старше 16 лет</td>\n",
       "      <td>NaN</td>\n",
       "      <td>...</td>\n",
       "      <td>NaN</td>\n",
       "      <td>NaN</td>\n",
       "      <td>7.1</td>\n",
       "      <td>триллер,драма,мелодрама</td>\n",
       "      <td>NaN</td>\n",
       "      <td>NaN</td>\n",
       "      <td>NaN</td>\n",
       "      <td>2013</td>\n",
       "      <td>Фернанду Мейрелльеш</td>\n",
       "      <td>триллер</td>\n",
       "    </tr>\n",
       "    <tr>\n",
       "      <th>7</th>\n",
       "      <td>отель /по мотивам пьесы джона уэбстера/</td>\n",
       "      <td>221008812</td>\n",
       "      <td>2012-01-27 12:00:00+00:00</td>\n",
       "      <td>художественный</td>\n",
       "      <td>кэтлей, отель продакшнс, мунстоун интертейнмен...</td>\n",
       "      <td>великобритания, италия</td>\n",
       "      <td>Майк Фиггис</td>\n",
       "      <td>этчи стро, анни стюарт, майк фиггис</td>\n",
       "      <td>«18+» - запрещено для детей</td>\n",
       "      <td>NaN</td>\n",
       "      <td>...</td>\n",
       "      <td>NaN</td>\n",
       "      <td>NaN</td>\n",
       "      <td>6.0</td>\n",
       "      <td>мелодрама,комедия</td>\n",
       "      <td>NaN</td>\n",
       "      <td>NaN</td>\n",
       "      <td>NaN</td>\n",
       "      <td>2012</td>\n",
       "      <td>Майк Фиггис</td>\n",
       "      <td>мелодрама</td>\n",
       "    </tr>\n",
       "    <tr>\n",
       "      <th>8</th>\n",
       "      <td>незаконченная жизнь</td>\n",
       "      <td>121015405</td>\n",
       "      <td>2015-05-06 12:00:00+00:00</td>\n",
       "      <td>художественный</td>\n",
       "      <td>инишиэл интертейнмент групп, мирамакс филмз, п...</td>\n",
       "      <td>сша</td>\n",
       "      <td>Лассе Халлстрем</td>\n",
       "      <td>лесли холлеран, алан лэдд мл., келлиан лэдд, х...</td>\n",
       "      <td>«12+» - для детей старше 12 лет</td>\n",
       "      <td>NaN</td>\n",
       "      <td>...</td>\n",
       "      <td>NaN</td>\n",
       "      <td>NaN</td>\n",
       "      <td>7.2</td>\n",
       "      <td>драма,мелодрама,семейный</td>\n",
       "      <td>NaN</td>\n",
       "      <td>NaN</td>\n",
       "      <td>NaN</td>\n",
       "      <td>2015</td>\n",
       "      <td>Лассе Халлстрем</td>\n",
       "      <td>драма</td>\n",
       "    </tr>\n",
       "    <tr>\n",
       "      <th>9</th>\n",
       "      <td>оружейный барон</td>\n",
       "      <td>221012515</td>\n",
       "      <td>2015-04-03 12:00:00+00:00</td>\n",
       "      <td>художественный</td>\n",
       "      <td>вэ и пэ медиенфондс 3, асендант пикчерз, сатур...</td>\n",
       "      <td>сша, франция, турция</td>\n",
       "      <td>Эндрю Никкол</td>\n",
       "      <td>норман голуайтли, энди грош, николас кейдж, эн...</td>\n",
       "      <td>«18+» - запрещено для детей</td>\n",
       "      <td>NaN</td>\n",
       "      <td>...</td>\n",
       "      <td>NaN</td>\n",
       "      <td>NaN</td>\n",
       "      <td>7.7</td>\n",
       "      <td>боевик,драма,криминал</td>\n",
       "      <td>NaN</td>\n",
       "      <td>NaN</td>\n",
       "      <td>NaN</td>\n",
       "      <td>2015</td>\n",
       "      <td>Эндрю Никкол</td>\n",
       "      <td>боевик</td>\n",
       "    </tr>\n",
       "  </tbody>\n",
       "</table>\n",
       "<p>10 rows × 21 columns</p>\n",
       "</div>"
      ],
      "text/plain": [
       "                                               title  pu_number  \\\n",
       "0                                   открытый простор  221048915   \n",
       "1                                       особо опасен  221038416   \n",
       "2                                  любовь и сигареты  221074614   \n",
       "3                                 отпетые мошенники.  121011416   \n",
       "4  превосходство борна /по одноименной новелле ро...  221031416   \n",
       "5  малышка на миллион /по мотивам рассказов ф.х.т...  221011415   \n",
       "6                                 преданный садовник  121003106   \n",
       "7            отель /по мотивам пьесы джона уэбстера/  221008812   \n",
       "8                                незаконченная жизнь  121015405   \n",
       "9                                    оружейный барон  221012515   \n",
       "\n",
       "            show_start_date            type  \\\n",
       "0 2015-11-27 12:00:00+00:00  художественный   \n",
       "1 2016-10-10 12:00:00+00:00  художественный   \n",
       "2 2014-12-29 12:00:00+00:00  художественный   \n",
       "3 2016-05-05 12:00:00+00:00  художественный   \n",
       "4 2016-06-29 12:00:00+00:00  художественный   \n",
       "5 2015-04-03 12:00:00+00:00  художественный   \n",
       "6 2013-08-26 12:00:00+00:00  художественный   \n",
       "7 2012-01-27 12:00:00+00:00  художественный   \n",
       "8 2015-05-06 12:00:00+00:00  художественный   \n",
       "9 2015-04-03 12:00:00+00:00  художественный   \n",
       "\n",
       "                                         film_studio  \\\n",
       "0  тачстоун пикчерз, кобальт пикчерз, бикон пикче...   \n",
       "1  юниверсал пикчерз, кикстарт продакшнз, марк пл...   \n",
       "2  юнайтед артистс, грин стрит филмз, айкон интер...   \n",
       "3                      пульсар продюксьон, тф1 фильм   \n",
       "4  кеннеди/маршал компани, юниверсал пикчерз, гип...   \n",
       "5  уорнер бразерс, лейкшор интертейнмент, малпасо...   \n",
       "6  потбойлер продакшнз, эпсилон моушн пикчерз, ск...   \n",
       "7  кэтлей, отель продакшнс, мунстоун интертейнмен...   \n",
       "8  инишиэл интертейнмент групп, мирамакс филмз, п...   \n",
       "9  вэ и пэ медиенфондс 3, асендант пикчерз, сатур...   \n",
       "\n",
       "         production_country             director  \\\n",
       "0                       сша        Кевин Костнер   \n",
       "1                       сша    Тимур Бекмамбетов   \n",
       "2                       сша        Джон Туртурро   \n",
       "3                   франция         Эрик Беснард   \n",
       "4                       сша        Пол Грингросс   \n",
       "5                       сша         Клинт Иствуд   \n",
       "6  германия, великобритания  Фернанду Мейрелльеш   \n",
       "7    великобритания, италия          Майк Фиггис   \n",
       "8                       сша      Лассе Халлстрем   \n",
       "9      сша, франция, турция         Эндрю Никкол   \n",
       "\n",
       "                                            producer  \\\n",
       "0          дэвид валдес, кевин костнер, джейк эбертс   \n",
       "1  джим лемли, джейсон нетер, марк е.платт, яйн смит   \n",
       "2                        джон пенотти, джон туртурро   \n",
       "3                                        патрис леду   \n",
       "4         патрик кроули, фрэнк маршалл, пол сэндберг   \n",
       "5  клинт иствуд, том розенберг, альберт с.рудди, ...   \n",
       "6                             саймон чэннинг уильямс   \n",
       "7                этчи стро, анни стюарт, майк фиггис   \n",
       "8  лесли холлеран, алан лэдд мл., келлиан лэдд, х...   \n",
       "9  норман голуайтли, энди грош, николас кейдж, эн...   \n",
       "\n",
       "                   age_restriction  refundable_support  ...  budget  \\\n",
       "0      «18+» - запрещено для детей                 NaN  ...     NaN   \n",
       "1      «18+» - запрещено для детей                 NaN  ...     NaN   \n",
       "2      «18+» - запрещено для детей                 NaN  ...     NaN   \n",
       "3      «18+» - запрещено для детей                 NaN  ...     NaN   \n",
       "4  «16+» - для детей старше 16 лет                 NaN  ...     NaN   \n",
       "5  «16+» - для детей старше 16 лет                 NaN  ...     NaN   \n",
       "6  «16+» - для детей старше 16 лет                 NaN  ...     NaN   \n",
       "7      «18+» - запрещено для детей                 NaN  ...     NaN   \n",
       "8  «12+» - для детей старше 12 лет                 NaN  ...     NaN   \n",
       "9      «18+» - запрещено для детей                 NaN  ...     NaN   \n",
       "\n",
       "   financing_source ratings                     genres box_office  differ  \\\n",
       "0               NaN     7.2     боевик,драма,мелодрама        NaN     NaN   \n",
       "1               NaN     6.8  фантастика,боевик,триллер        NaN     NaN   \n",
       "2               NaN     6.6   мюзикл,мелодрама,комедия        NaN     NaN   \n",
       "3               NaN     8.0           комедия,криминал        NaN     NaN   \n",
       "4               NaN     7.7    боевик,триллер,детектив        NaN     NaN   \n",
       "5               NaN     8.1                драма,спорт        NaN     NaN   \n",
       "6               NaN     7.1    триллер,драма,мелодрама        NaN     NaN   \n",
       "7               NaN     6.0          мелодрама,комедия        NaN     NaN   \n",
       "8               NaN     7.2   драма,мелодрама,семейный        NaN     NaN   \n",
       "9               NaN     7.7      боевик,драма,криминал        NaN     NaN   \n",
       "\n",
       "   median_sum  years        main_director  main_genre  \n",
       "0         NaN   2015        Кевин Костнер      боевик  \n",
       "1         NaN   2016    Тимур Бекмамбетов  фантастика  \n",
       "2         NaN   2014        Джон Туртурро      мюзикл  \n",
       "3         NaN   2016         Эрик Беснард     комедия  \n",
       "4         NaN   2016        Пол Грингросс      боевик  \n",
       "5         NaN   2015         Клинт Иствуд       драма  \n",
       "6         NaN   2013  Фернанду Мейрелльеш     триллер  \n",
       "7         NaN   2012          Майк Фиггис   мелодрама  \n",
       "8         NaN   2015      Лассе Халлстрем       драма  \n",
       "9         NaN   2015         Эндрю Никкол      боевик  \n",
       "\n",
       "[10 rows x 21 columns]"
      ]
     },
     "execution_count": 14,
     "metadata": {},
     "output_type": "execute_result"
    }
   ],
   "source": [
    "data['main_director'] = data['director'].str.split(',').str[0]\n",
    "data['main_genre'] = data['genres'].str.split(',').str[0]\n",
    "\n",
    "data.head(10)"
   ]
  },
  {
   "cell_type": "markdown",
   "metadata": {
    "id": "1FsCXHwdgFyU"
   },
   "source": [
    "- Посчитайте, какую долю от общего бюджета фильма составляет государственная поддержка."
   ]
  },
  {
   "cell_type": "code",
   "execution_count": 15,
   "metadata": {
    "id": "LV6qFuZLgFyV"
   },
   "outputs": [
    {
     "data": {
      "text/plain": [
       "0.5933942751284761"
      ]
     },
     "execution_count": 15,
     "metadata": {},
     "output_type": "execute_result"
    },
    {
     "data": {
      "image/png": "[encoded data removed]",
      "text/plain": [
       "<Figure size 648x360 with 1 Axes>"
      ]
     },
     "metadata": {
      "needs_background": "light"
     },
     "output_type": "display_data"
    }
   ],
   "source": [
    "data['share_support'] = (data['refundable_support'] + data['nonrefundable_support'])/data['budget']\n",
    "data.plot(y='share_support', kind='hist', bins=50, figsize=(9,5))\n",
    "data['share_support'].median()"
   ]
  },
  {
   "cell_type": "markdown",
   "metadata": {},
   "source": [
    "По построенному графику и рассчитанной медиане видно, что в основном доля господдержки составляет около 60%."
   ]
  },
  {
   "cell_type": "markdown",
   "metadata": {},
   "source": [
    "<div class=\"alert alert-success\">\n",
    "<b> Комментарий ревьюера ✅ </b>\n",
    "\n",
    "Добавление новых столбцов прошло успешно.\n",
    "\n",
    "</div>"
   ]
  },
  {
   "cell_type": "markdown",
   "metadata": {
    "id": "6t4EukPLgFyV"
   },
   "source": [
    "### Шаг 3. Проведите исследовательский анализ данных\n"
   ]
  },
  {
   "cell_type": "markdown",
   "metadata": {
    "id": "vAH8WCzugFyV"
   },
   "source": [
    "- Посмотрите, сколько фильмов выходило в прокат каждый год. Обратите внимание, что данные о прокате в кинотеатрах известны не для всех фильмов. Посчитайте, какую долю составляют фильмы с указанной информацией о прокате в кинотеатрах."
   ]
  },
  {
   "cell_type": "code",
   "execution_count": 16,
   "metadata": {
    "id": "ABeV47y7gFyW"
   },
   "outputs": [
    {
     "data": {
      "text/plain": [
       "<AxesSubplot:>"
      ]
     },
     "execution_count": 16,
     "metadata": {},
     "output_type": "execute_result"
    },
    {
     "data": {
      "image/png": "[encoded data removed]",
      "text/plain": [
       "<Figure size 432x288 with 1 Axes>"
      ]
     },
     "metadata": {
      "needs_background": "light"
     },
     "output_type": "display_data"
    }
   ],
   "source": [
    "data['years'].value_counts().sort_values().plot(kind='bar')"
   ]
  },
  {
   "cell_type": "markdown",
   "metadata": {},
   "source": [
    "Больше всего фильмов вышло в прокат в 2019 году, в 2011 вышло фильмов в 2 раза меньше."
   ]
  },
  {
   "cell_type": "markdown",
   "metadata": {},
   "source": [
    "<div class=\"alert alert-success\">\n",
    "<b> Комментарий ревьюера ✅ </b>\n",
    "   \n",
    "Так ты посчитал количество прокатных удостоверений выданных в каждый год.\n",
    "    \n",
    "1. Было бы нагляднее, если бы года шли на графике по порядку, можешь подумать как это реализовать.\n",
    "    \n",
    "1. Можно добавить название и подписать оси, используя библиотеку `matplotlib`:\n",
    "    \n",
    "    `import matplotlib.pyplot as plt `\n",
    "    \n",
    "    `plt.title('Название графика')`\n",
    "    \n",
    "    `plt.xlabel('Подпись оси x')`\n",
    "    \n",
    "    `plt.ylabel('Подпись оси y')`\n",
    "    \n",
    "1. Еще у этого графика не очень удобно читать года. Можно, используя библиотеку `matplotlib`, повернуть подписи оси x:\n",
    "    \n",
    "    `plt.xticks(rotation = 'horizontal')`\n",
    "\n",
    "    Параметру `rotation` так же можно задавать угол наклона в градусах.\n",
    "\n",
    "</div>"
   ]
  },
  {
   "cell_type": "code",
   "execution_count": 17,
   "metadata": {},
   "outputs": [
    {
     "name": "stdout",
     "output_type": "stream",
     "text": [
      "Доля фильмов за 2015 с указанной информацией о прокате составляет: 71 %\n",
      "Доля фильмов за 2016 с указанной информацией о прокате составляет: 69 %\n",
      "Доля фильмов за 2014 с указанной информацией о прокате составляет: 41 %\n",
      "Доля фильмов за 2013 с указанной информацией о прокате составляет: 29 %\n",
      "Доля фильмов за 2012 с указанной информацией о прокате составляет: 23 %\n",
      "Доля фильмов за 2017 с указанной информацией о прокате составляет: 76 %\n",
      "Доля фильмов за 2010 с указанной информацией о прокате составляет: 12 %\n",
      "Доля фильмов за 2011 с указанной информацией о прокате составляет: 21 %\n",
      "Доля фильмов за 2018 с указанной информацией о прокате составляет: 54 %\n",
      "Доля фильмов за 2019 с указанной информацией о прокате составляет: 58 %\n"
     ]
    }
   ],
   "source": [
    "for year in data['years'].unique():\n",
    "    share = round((data.loc[data['years'] == year, 'box_office'].isna() == False).mean()*100)\n",
    "    print(f'Доля фильмов за {year} с указанной информацией о прокате составляет: {share} %')"
   ]
  },
  {
   "cell_type": "markdown",
   "metadata": {},
   "source": [
    "Наибольшая доля фильмов с указанной информацией по сборам приходится на 2017 год. Наименьшая - в 2010 году. Но это не говорит о том, что в 2017 году было больше сборов, чем в другие года. Это лишь указыввет на то, что по данному году у нас больше информации по сборам."
   ]
  },
  {
   "cell_type": "markdown",
   "metadata": {},
   "source": [
    "<div class=\"alert alert-success\">\n",
    "<b> Комментарий ревьюера ✅ </b>\n",
    "    \n",
    "Ты верно посчитал долю фильмов с указанной информацией о прокате по годам.\n",
    " \n",
    "    \n",
    "</div>"
   ]
  },
  {
   "cell_type": "markdown",
   "metadata": {},
   "source": [
    " "
   ]
  },
  {
   "cell_type": "markdown",
   "metadata": {
    "id": "BEOdcIrIgFyW"
   },
   "source": [
    "- Изучите, как менялась динамика проката по годам. В каком году сумма сборов была минимальной? А максимальной?"
   ]
  },
  {
   "cell_type": "code",
   "execution_count": 18,
   "metadata": {
    "id": "tfEhofYvgFyX"
   },
   "outputs": [
    {
     "data": {
      "text/html": [
       "<style  type=\"text/css\" >\n",
       "</style><table id=\"T_8c580_\" ><thead>    <tr>        <th class=\"blank level0\" ></th>        <th class=\"col_heading level0 col0\" >Год</th>        <th class=\"col_heading level0 col1\" >Сумма сборов</th>    </tr></thead><tbody>\n",
       "                <tr>\n",
       "                        <th id=\"T_8c580_level0_row0\" class=\"row_heading level0 row0\" >0</th>\n",
       "                        <td id=\"T_8c580_row0_col0\" class=\"data row0 col0\" >2010</td>\n",
       "                        <td id=\"T_8c580_row0_col1\" class=\"data row0 col1\" >2,371,185</td>\n",
       "            </tr>\n",
       "            <tr>\n",
       "                        <th id=\"T_8c580_level0_row1\" class=\"row_heading level0 row1\" >2</th>\n",
       "                        <td id=\"T_8c580_row1_col0\" class=\"data row1 col0\" >2012</td>\n",
       "                        <td id=\"T_8c580_row1_col1\" class=\"data row1 col1\" >6,403,981</td>\n",
       "            </tr>\n",
       "            <tr>\n",
       "                        <th id=\"T_8c580_level0_row2\" class=\"row_heading level0 row2\" >1</th>\n",
       "                        <td id=\"T_8c580_row2_col0\" class=\"data row2 col0\" >2011</td>\n",
       "                        <td id=\"T_8c580_row2_col1\" class=\"data row2 col1\" >13,937,550</td>\n",
       "            </tr>\n",
       "            <tr>\n",
       "                        <th id=\"T_8c580_level0_row3\" class=\"row_heading level0 row3\" >3</th>\n",
       "                        <td id=\"T_8c580_row3_col0\" class=\"data row3 col0\" >2013</td>\n",
       "                        <td id=\"T_8c580_row3_col1\" class=\"data row3 col1\" >29,508,390</td>\n",
       "            </tr>\n",
       "            <tr>\n",
       "                        <th id=\"T_8c580_level0_row4\" class=\"row_heading level0 row4\" >4</th>\n",
       "                        <td id=\"T_8c580_row4_col0\" class=\"data row4 col0\" >2014</td>\n",
       "                        <td id=\"T_8c580_row4_col1\" class=\"data row4 col1\" >7,366,738,772</td>\n",
       "            </tr>\n",
       "            <tr>\n",
       "                        <th id=\"T_8c580_level0_row5\" class=\"row_heading level0 row5\" >5</th>\n",
       "                        <td id=\"T_8c580_row5_col0\" class=\"data row5 col0\" >2015</td>\n",
       "                        <td id=\"T_8c580_row5_col1\" class=\"data row5 col1\" >31,794,562,932</td>\n",
       "            </tr>\n",
       "            <tr>\n",
       "                        <th id=\"T_8c580_level0_row6\" class=\"row_heading level0 row6\" >6</th>\n",
       "                        <td id=\"T_8c580_row6_col0\" class=\"data row6 col0\" >2016</td>\n",
       "                        <td id=\"T_8c580_row6_col1\" class=\"data row6 col1\" >43,729,818,854</td>\n",
       "            </tr>\n",
       "            <tr>\n",
       "                        <th id=\"T_8c580_level0_row7\" class=\"row_heading level0 row7\" >9</th>\n",
       "                        <td id=\"T_8c580_row7_col0\" class=\"data row7 col0\" >2019</td>\n",
       "                        <td id=\"T_8c580_row7_col1\" class=\"data row7 col1\" >48,366,520,040</td>\n",
       "            </tr>\n",
       "            <tr>\n",
       "                        <th id=\"T_8c580_level0_row8\" class=\"row_heading level0 row8\" >7</th>\n",
       "                        <td id=\"T_8c580_row8_col0\" class=\"data row8 col0\" >2017</td>\n",
       "                        <td id=\"T_8c580_row8_col1\" class=\"data row8 col1\" >48,562,251,656</td>\n",
       "            </tr>\n",
       "            <tr>\n",
       "                        <th id=\"T_8c580_level0_row9\" class=\"row_heading level0 row9\" >8</th>\n",
       "                        <td id=\"T_8c580_row9_col0\" class=\"data row9 col0\" >2018</td>\n",
       "                        <td id=\"T_8c580_row9_col1\" class=\"data row9 col1\" >49,622,654,084</td>\n",
       "            </tr>\n",
       "    </tbody></table>"
      ],
      "text/plain": [
       "<pandas.io.formats.style.Styler at 0x7f5fec402790>"
      ]
     },
     "execution_count": 18,
     "metadata": {},
     "output_type": "execute_result"
    }
   ],
   "source": [
    "dinamic_rental = data.pivot_table(index='years', values='box_office', aggfunc='sum').reset_index()\n",
    "dinamic_rental.columns=['Год', 'Сумма сборов']\n",
    "dinamic_rental = dinamic_rental.sort_values(by='Сумма сборов')\n",
    "dinamic_rental = dinamic_rental.style.format({'Сумма сборов':'{:,.0f}'})\n",
    "dinamic_rental"
   ]
  },
  {
   "cell_type": "markdown",
   "metadata": {},
   "source": [
    "Наибольшая сумма сборов наблюдается в 2018 году, а наименьшая в 2010 году."
   ]
  },
  {
   "cell_type": "markdown",
   "metadata": {},
   "source": [
    "<div class=\"alert alert-success\">\n",
    "<b> Комментарий ревьюера ✅ </b>\n",
    "\n",
    "Все так. Глядя на цифры можно предположить, что мы владеем не полными данными о сборах за период 2010-2014 гг.\n",
    "  \n",
    "</div>\n",
    "\n",
    "<div class=\"alert alert-warning\">\n",
    "<b> Комментарий ревьюера ⚠️ </b>\n",
    "\n",
    "Динамику изменения суммарных сборов можно отобразить на линейном графике.\n",
    "\n",
    "</div>"
   ]
  },
  {
   "cell_type": "markdown",
   "metadata": {
    "id": "G-7qS-N-gFyY"
   },
   "source": [
    "- С помощью сводной таблицы посчитайте среднюю и медианную сумму сборов для каждого года."
   ]
  },
  {
   "cell_type": "code",
   "execution_count": 19,
   "metadata": {
    "id": "jmp-rgg9gFyY"
   },
   "outputs": [
    {
     "data": {
      "text/html": [
       "<style  type=\"text/css\" >\n",
       "</style><table id=\"T_e7de8_\" ><thead>    <tr>        <th class=\"blank level0\" ></th>        <th class=\"col_heading level0 col0\" >Год</th>        <th class=\"col_heading level0 col1\" >Средняя сумма</th>        <th class=\"col_heading level0 col2\" >Медианная сумма</th>    </tr></thead><tbody>\n",
       "                <tr>\n",
       "                        <th id=\"T_e7de8_level0_row0\" class=\"row_heading level0 row0\" >0</th>\n",
       "                        <td id=\"T_e7de8_row0_col0\" class=\"data row0 col0\" >2010</td>\n",
       "                        <td id=\"T_e7de8_row0_col1\" class=\"data row0 col1\" >27,572</td>\n",
       "                        <td id=\"T_e7de8_row0_col2\" class=\"data row0 col2\" >1,868</td>\n",
       "            </tr>\n",
       "            <tr>\n",
       "                        <th id=\"T_e7de8_level0_row1\" class=\"row_heading level0 row1\" >1</th>\n",
       "                        <td id=\"T_e7de8_row1_col0\" class=\"data row1 col0\" >2011</td>\n",
       "                        <td id=\"T_e7de8_row1_col1\" class=\"data row1 col1\" >145,183</td>\n",
       "                        <td id=\"T_e7de8_row1_col2\" class=\"data row1 col2\" >3,042</td>\n",
       "            </tr>\n",
       "            <tr>\n",
       "                        <th id=\"T_e7de8_level0_row2\" class=\"row_heading level0 row2\" >2</th>\n",
       "                        <td id=\"T_e7de8_row2_col0\" class=\"data row2 col0\" >2012</td>\n",
       "                        <td id=\"T_e7de8_row2_col1\" class=\"data row2 col1\" >56,672</td>\n",
       "                        <td id=\"T_e7de8_row2_col2\" class=\"data row2 col2\" >6,655</td>\n",
       "            </tr>\n",
       "            <tr>\n",
       "                        <th id=\"T_e7de8_level0_row3\" class=\"row_heading level0 row3\" >3</th>\n",
       "                        <td id=\"T_e7de8_row3_col0\" class=\"data row3 col0\" >2013</td>\n",
       "                        <td id=\"T_e7de8_row3_col1\" class=\"data row3 col1\" >202,112</td>\n",
       "                        <td id=\"T_e7de8_row3_col2\" class=\"data row3 col2\" >4,965</td>\n",
       "            </tr>\n",
       "            <tr>\n",
       "                        <th id=\"T_e7de8_level0_row4\" class=\"row_heading level0 row4\" >4</th>\n",
       "                        <td id=\"T_e7de8_row4_col0\" class=\"data row4 col0\" >2014</td>\n",
       "                        <td id=\"T_e7de8_row4_col1\" class=\"data row4 col1\" >33,485,176</td>\n",
       "                        <td id=\"T_e7de8_row4_col2\" class=\"data row4 col2\" >111,655</td>\n",
       "            </tr>\n",
       "            <tr>\n",
       "                        <th id=\"T_e7de8_level0_row5\" class=\"row_heading level0 row5\" >5</th>\n",
       "                        <td id=\"T_e7de8_row5_col0\" class=\"data row5 col0\" >2015</td>\n",
       "                        <td id=\"T_e7de8_row5_col1\" class=\"data row5 col1\" >76,429,238</td>\n",
       "                        <td id=\"T_e7de8_row5_col2\" class=\"data row5 col2\" >4,573,663</td>\n",
       "            </tr>\n",
       "            <tr>\n",
       "                        <th id=\"T_e7de8_level0_row6\" class=\"row_heading level0 row6\" >6</th>\n",
       "                        <td id=\"T_e7de8_row6_col0\" class=\"data row6 col0\" >2016</td>\n",
       "                        <td id=\"T_e7de8_row6_col1\" class=\"data row6 col1\" >88,881,746</td>\n",
       "                        <td id=\"T_e7de8_row6_col2\" class=\"data row6 col2\" >3,777,203</td>\n",
       "            </tr>\n",
       "            <tr>\n",
       "                        <th id=\"T_e7de8_level0_row7\" class=\"row_heading level0 row7\" >7</th>\n",
       "                        <td id=\"T_e7de8_row7_col0\" class=\"data row7 col0\" >2017</td>\n",
       "                        <td id=\"T_e7de8_row7_col1\" class=\"data row7 col1\" >136,410,819</td>\n",
       "                        <td id=\"T_e7de8_row7_col2\" class=\"data row7 col2\" >10,177,834</td>\n",
       "            </tr>\n",
       "            <tr>\n",
       "                        <th id=\"T_e7de8_level0_row8\" class=\"row_heading level0 row8\" >8</th>\n",
       "                        <td id=\"T_e7de8_row8_col0\" class=\"data row8 col0\" >2018</td>\n",
       "                        <td id=\"T_e7de8_row8_col1\" class=\"data row8 col1\" >106,031,312</td>\n",
       "                        <td id=\"T_e7de8_row8_col2\" class=\"data row8 col2\" >8,911,534</td>\n",
       "            </tr>\n",
       "            <tr>\n",
       "                        <th id=\"T_e7de8_level0_row9\" class=\"row_heading level0 row9\" >9</th>\n",
       "                        <td id=\"T_e7de8_row9_col0\" class=\"data row9 col0\" >2019</td>\n",
       "                        <td id=\"T_e7de8_row9_col1\" class=\"data row9 col1\" >93,552,263</td>\n",
       "                        <td id=\"T_e7de8_row9_col2\" class=\"data row9 col2\" >4,732,610</td>\n",
       "            </tr>\n",
       "    </tbody></table>"
      ],
      "text/plain": [
       "<pandas.io.formats.style.Styler at 0x7f5fec080fd0>"
      ]
     },
     "execution_count": 19,
     "metadata": {},
     "output_type": "execute_result"
    }
   ],
   "source": [
    "rental = data.pivot_table(index='years', values='box_office', aggfunc=['mean', 'median']).reset_index()\n",
    "rental.columns=['Год', 'Средняя сумма', 'Медианная сумма']\n",
    "rental = rental.style.format({'Средняя сумма':'{:,.0f}', 'Медианная сумма':'{:,.0f}'})\n",
    "rental"
   ]
  },
  {
   "cell_type": "markdown",
   "metadata": {},
   "source": [
    "По таблице наблюдаем большую разнице среди медианного и среднего значений, это говорит о том что в данных достаточно сыльный разброс значений и наличие выбросов, но в анализе нам это не помешает исходя из задачи."
   ]
  },
  {
   "cell_type": "markdown",
   "metadata": {},
   "source": [
    "<div class=\"alert alert-success\">\n",
    "<b> Комментарий ревьюера ✅ </b>\n",
    "\n",
    "Молодец, что посчитал сразу средние и медианные значения сборов по годам с помощью сводной таблицы `pivot_table()`\n",
    "    \n",
    "</div>\n",
    "\n",
    "<div class=\"alert alert-danger\">\n",
    "<b> Комментарий ревьюера ❌</b>\n",
    "\n",
    "Напиши, пожалуйста, вывод по этому пункту ответив на вопрос: «Почему средние значения так сильно отличаются от медианнных? В чем может быть причина?»\n",
    "    \n",
    "</div>"
   ]
  },
  {
   "cell_type": "markdown",
   "metadata": {},
   "source": [
    "<div class=\"alert alert-info\">\n",
    "<b> Комментарий студента</b>\n",
    "\n",
    "Создал вывод, надеюсь понятно изложил)\n",
    "</div>"
   ]
  },
  {
   "cell_type": "markdown",
   "metadata": {},
   "source": [
    "<div class=\"alert alert-success\">\n",
    "<b> Комментарий ревьюера 2 ✅ </b>\n",
    "\n",
    "Ты абсолютно верно интерпретировал разницу между средними и медианными значениями. Выбросы влияют на расчет средних значений (в нашем случае сильно увеличивая), именно по этому для сравнения по категориям, лучше использовать медиану.\n",
    "    \n",
    "</div>"
   ]
  },
  {
   "cell_type": "markdown",
   "metadata": {
    "id": "Ok89WFwJgFyZ"
   },
   "source": [
    "- Определите, влияет ли возрастное ограничение аудитории («6+», «12+», «16+», «18+» и т. д.) на сборы фильма в прокате в период с 2015 по 2019 год? Фильмы с каким возрастным ограничением собрали больше всего денег в прокате? Меняется ли картина в зависимости от года? Если да, предположите, с чем это может быть связано."
   ]
  },
  {
   "cell_type": "code",
   "execution_count": 20,
   "metadata": {
    "id": "jsSbEqfjgFya",
    "scrolled": false
   },
   "outputs": [
    {
     "data": {
      "text/html": [
       "<div>\n",
       "<style scoped>\n",
       "    .dataframe tbody tr th:only-of-type {\n",
       "        vertical-align: middle;\n",
       "    }\n",
       "\n",
       "    .dataframe tbody tr th {\n",
       "        vertical-align: top;\n",
       "    }\n",
       "\n",
       "    .dataframe thead th {\n",
       "        text-align: right;\n",
       "    }\n",
       "</style>\n",
       "<table border=\"1\" class=\"dataframe\">\n",
       "  <thead>\n",
       "    <tr style=\"text-align: right;\">\n",
       "      <th>years</th>\n",
       "      <th>age_restriction</th>\n",
       "      <th>2015</th>\n",
       "      <th>2016</th>\n",
       "      <th>2017</th>\n",
       "      <th>2018</th>\n",
       "      <th>2019</th>\n",
       "    </tr>\n",
       "  </thead>\n",
       "  <tbody>\n",
       "    <tr>\n",
       "      <th>0</th>\n",
       "      <td>«0+» - для любой зрительской аудитории</td>\n",
       "      <td>2.733678e+08</td>\n",
       "      <td>1.499856e+08</td>\n",
       "      <td>2.295989e+08</td>\n",
       "      <td>3.244900e+07</td>\n",
       "      <td>1.774607e+07</td>\n",
       "    </tr>\n",
       "    <tr>\n",
       "      <th>1</th>\n",
       "      <td>«12+» - для детей старше 12 лет</td>\n",
       "      <td>1.167019e+10</td>\n",
       "      <td>1.217834e+10</td>\n",
       "      <td>7.849972e+09</td>\n",
       "      <td>1.424889e+10</td>\n",
       "      <td>1.267771e+10</td>\n",
       "    </tr>\n",
       "    <tr>\n",
       "      <th>2</th>\n",
       "      <td>«16+» - для детей старше 16 лет</td>\n",
       "      <td>8.274168e+09</td>\n",
       "      <td>1.435792e+10</td>\n",
       "      <td>1.874504e+10</td>\n",
       "      <td>1.649680e+10</td>\n",
       "      <td>1.274304e+10</td>\n",
       "    </tr>\n",
       "    <tr>\n",
       "      <th>3</th>\n",
       "      <td>«18+» - запрещено для детей</td>\n",
       "      <td>3.182413e+09</td>\n",
       "      <td>4.990430e+09</td>\n",
       "      <td>9.651496e+09</td>\n",
       "      <td>8.749737e+09</td>\n",
       "      <td>1.010929e+10</td>\n",
       "    </tr>\n",
       "    <tr>\n",
       "      <th>4</th>\n",
       "      <td>«6+» - для детей старше 6 лет</td>\n",
       "      <td>8.394424e+09</td>\n",
       "      <td>1.205314e+10</td>\n",
       "      <td>1.208614e+10</td>\n",
       "      <td>1.009478e+10</td>\n",
       "      <td>1.281874e+10</td>\n",
       "    </tr>\n",
       "  </tbody>\n",
       "</table>\n",
       "</div>"
      ],
      "text/plain": [
       "years                         age_restriction          2015          2016  \\\n",
       "0      «0+» - для любой зрительской аудитории  2.733678e+08  1.499856e+08   \n",
       "1             «12+» - для детей старше 12 лет  1.167019e+10  1.217834e+10   \n",
       "2             «16+» - для детей старше 16 лет  8.274168e+09  1.435792e+10   \n",
       "3                 «18+» - запрещено для детей  3.182413e+09  4.990430e+09   \n",
       "4               «6+» - для детей старше 6 лет  8.394424e+09  1.205314e+10   \n",
       "\n",
       "years          2017          2018          2019  \n",
       "0      2.295989e+08  3.244900e+07  1.774607e+07  \n",
       "1      7.849972e+09  1.424889e+10  1.267771e+10  \n",
       "2      1.874504e+10  1.649680e+10  1.274304e+10  \n",
       "3      9.651496e+09  8.749737e+09  1.010929e+10  \n",
       "4      1.208614e+10  1.009478e+10  1.281874e+10  "
      ]
     },
     "execution_count": 20,
     "metadata": {},
     "output_type": "execute_result"
    }
   ],
   "source": [
    "period = data.query('years<=2019 & years>=2015')\n",
    "period = period.pivot_table(index='age_restriction', columns='years', values='box_office', aggfunc='sum').reset_index()\n",
    "period"
   ]
  },
  {
   "cell_type": "code",
   "execution_count": 21,
   "metadata": {},
   "outputs": [
    {
     "data": {
      "text/plain": [
       "<AxesSubplot:xlabel='age_restriction'>"
      ]
     },
     "execution_count": 21,
     "metadata": {},
     "output_type": "execute_result"
    },
    {
     "data": {
      "image/png": "[encoded data removed]",
      "text/plain": [
       "<Figure size 1080x360 with 1 Axes>"
      ]
     },
     "metadata": {
      "needs_background": "light"
     },
     "output_type": "display_data"
    }
   ],
   "source": [
    "period.plot(x='age_restriction', kind='bar', figsize=(15,5))"
   ]
  },
  {
   "cell_type": "markdown",
   "metadata": {},
   "source": [
    "<div class=\"alert alert-success\">\n",
    "<b> Комментарий ревьюера ✅ </b>\n",
    "    \n",
    "Названия возрастных категорий очень длинные и это неудобно при построении графиков — можно предварительно их укоротить.\n",
    "\n",
    "Например, применить метод, подобно тому, который ты использовал для выделения главного жанра и главного режиссера. Только в качестве разделителя использовать не запятую, а пробел. В результате получили бы категории такого типа: `«0+»`, `«6+»`, `«12+»`, `«16+»`, `«18+»`.\n",
    "    \n",
    "</div>"
   ]
  },
  {
   "cell_type": "markdown",
   "metadata": {},
   "source": [
    "Наименьшие сборы получила категория 0+, а наибольшие сборы получила категория 16+. При этом, в категории 16+ больше всего сборов было получено в 2017 году, далее график идет на спад. Тенденция роста сборов по годам присутствует у категории 18+ и 6+. Фильмы с категорией 0+ имеют минимальные сборы либо из-за отсутсвия данных, либо в силу своей невостребованности на рынке кинопроката.\n",
    "\n",
    "Судя по графику 2015 год был самый провальный по сборам, однако по количеству вышедших в этом году фильмов, он равен медианному значению. 2017 год по сборам в категории 16+ показал хорошие результаты, но в отличии от других лет в 2017 году вышло меньше всего фильмов после 2011 года."
   ]
  },
  {
   "cell_type": "markdown",
   "metadata": {},
   "source": [
    "<div class=\"alert alert-warning\">\n",
    "<b> Комментарий ревьюера ⚠️ </b>\n",
    "\n",
    "Кроме суммарных сборов для сравнения категорий можно посчитать медианные, так как за суммой мы не видим количества фильмов, а для некоторых возрастных категорий (например 0+) количество фильмов значительно меньше, что и служит причиной небольших суммарных сборов.\n",
    "\n",
    "</div>"
   ]
  },
  {
   "cell_type": "markdown",
   "metadata": {
    "id": "l_Kg6Ku4gFya"
   },
   "source": [
    "### Шаг 4. Исследуйте фильмы, которые получили государственную поддержку\n",
    "\n",
    "На этом этапе нет конкретных инструкций и заданий — поищите интересные закономерности в данных. Посмотрите, сколько выделяют средств на поддержку кино. Проверьте, хорошо ли окупаются такие фильмы, какой у них рейтинг."
   ]
  },
  {
   "cell_type": "code",
   "execution_count": 22,
   "metadata": {
    "id": "W9QKpjUdgFyb"
   },
   "outputs": [
    {
     "data": {
      "text/html": [
       "<div>\n",
       "<style scoped>\n",
       "    .dataframe tbody tr th:only-of-type {\n",
       "        vertical-align: middle;\n",
       "    }\n",
       "\n",
       "    .dataframe tbody tr th {\n",
       "        vertical-align: top;\n",
       "    }\n",
       "\n",
       "    .dataframe thead th {\n",
       "        text-align: right;\n",
       "    }\n",
       "</style>\n",
       "<table border=\"1\" class=\"dataframe\">\n",
       "  <thead>\n",
       "    <tr style=\"text-align: right;\">\n",
       "      <th></th>\n",
       "      <th>Жанр</th>\n",
       "      <th>Сумма гос.поддержки (млн.)</th>\n",
       "      <th>Количество гос.поддержки</th>\n",
       "    </tr>\n",
       "  </thead>\n",
       "  <tbody>\n",
       "    <tr>\n",
       "      <th>5</th>\n",
       "      <td>драма</td>\n",
       "      <td>5134.41</td>\n",
       "      <td>91</td>\n",
       "    </tr>\n",
       "  </tbody>\n",
       "</table>\n",
       "</div>"
      ],
      "text/plain": [
       "    Жанр  Сумма гос.поддержки (млн.)  Количество гос.поддержки\n",
       "5  драма                     5134.41                        91"
      ]
     },
     "metadata": {},
     "output_type": "display_data"
    },
    {
     "data": {
      "text/html": [
       "<div>\n",
       "<style scoped>\n",
       "    .dataframe tbody tr th:only-of-type {\n",
       "        vertical-align: middle;\n",
       "    }\n",
       "\n",
       "    .dataframe tbody tr th {\n",
       "        vertical-align: top;\n",
       "    }\n",
       "\n",
       "    .dataframe thead th {\n",
       "        text-align: right;\n",
       "    }\n",
       "</style>\n",
       "<table border=\"1\" class=\"dataframe\">\n",
       "  <thead>\n",
       "    <tr style=\"text-align: right;\">\n",
       "      <th></th>\n",
       "      <th>Жанр</th>\n",
       "      <th>Сумма гос.поддержки (млн.)</th>\n",
       "      <th>Количество гос.поддержки</th>\n",
       "    </tr>\n",
       "  </thead>\n",
       "  <tbody>\n",
       "    <tr>\n",
       "      <th>13</th>\n",
       "      <td>реальное ТВ</td>\n",
       "      <td>53.0</td>\n",
       "      <td>1</td>\n",
       "    </tr>\n",
       "  </tbody>\n",
       "</table>\n",
       "</div>"
      ],
      "text/plain": [
       "           Жанр  Сумма гос.поддержки (млн.)  Количество гос.поддержки\n",
       "13  реальное ТВ                        53.0                         1"
      ]
     },
     "metadata": {},
     "output_type": "display_data"
    }
   ],
   "source": [
    "data['state_support'] = data['refundable_support']+data['nonrefundable_support']\n",
    "data['roi'] = (data['box_office']-data['budget'])/data['budget']\n",
    "data_support = data[data['state_support'] >= 0].copy()\n",
    "data_pivot = data_support.pivot_table(index='main_genre', values='state_support', aggfunc=['sum','count']).reset_index()\n",
    "data_pivot['sum'] = round(data_pivot['sum']/1000000,2)\n",
    "data_pivot.columns=['Жанр','Сумма гос.поддержки (млн.)','Количество гос.поддержки']\n",
    "display(data_pivot[data_pivot['Сумма гос.поддержки (млн.)'] == data_pivot['Сумма гос.поддержки (млн.)'].max()])\n",
    "display(data_pivot[data_pivot['Сумма гос.поддержки (млн.)'] == data_pivot['Сумма гос.поддержки (млн.)'].min()])"
   ]
  },
  {
   "cell_type": "markdown",
   "metadata": {},
   "source": [
    "Больше всего спонсируется жанр \"Драма\" (Россия для грустных :)), а самое минимальное значение финансирование получает жанр \"Реальное ТВ\" (Это что за зверь такой? О_о)."
   ]
  },
  {
   "cell_type": "markdown",
   "metadata": {},
   "source": [
    "<div class=\"alert alert-success\">\n",
    "<b> Комментарий ревьюера ✅ </b>\n",
    "\n",
    "Ты выделил фильмы с государственной поддержкой и добавил необходимые для дальнейшего анализа столбцы.\n",
    "    \n",
    "Верно определил самый спонсируемых жанр.\n",
    "    \n",
    "</div>"
   ]
  },
  {
   "cell_type": "code",
   "execution_count": 23,
   "metadata": {},
   "outputs": [
    {
     "data": {
      "text/html": [
       "<div>\n",
       "<style scoped>\n",
       "    .dataframe tbody tr th:only-of-type {\n",
       "        vertical-align: middle;\n",
       "    }\n",
       "\n",
       "    .dataframe tbody tr th {\n",
       "        vertical-align: top;\n",
       "    }\n",
       "\n",
       "    .dataframe thead th {\n",
       "        text-align: right;\n",
       "    }\n",
       "</style>\n",
       "<table border=\"1\" class=\"dataframe\">\n",
       "  <thead>\n",
       "    <tr style=\"text-align: right;\">\n",
       "      <th></th>\n",
       "      <th>Страна</th>\n",
       "      <th>Сумма гос. поддержки (млн.)</th>\n",
       "    </tr>\n",
       "  </thead>\n",
       "  <tbody>\n",
       "    <tr>\n",
       "      <th>0</th>\n",
       "      <td>россия</td>\n",
       "      <td>19195.68</td>\n",
       "    </tr>\n",
       "    <tr>\n",
       "      <th>1</th>\n",
       "      <td>россия, армения</td>\n",
       "      <td>50.00</td>\n",
       "    </tr>\n",
       "    <tr>\n",
       "      <th>2</th>\n",
       "      <td>россия, бельгия, финляндия</td>\n",
       "      <td>30.00</td>\n",
       "    </tr>\n",
       "    <tr>\n",
       "      <th>3</th>\n",
       "      <td>россия, германия</td>\n",
       "      <td>63.00</td>\n",
       "    </tr>\n",
       "    <tr>\n",
       "      <th>4</th>\n",
       "      <td>россия, германия, великобритания</td>\n",
       "      <td>50.00</td>\n",
       "    </tr>\n",
       "    <tr>\n",
       "      <th>5</th>\n",
       "      <td>россия, германия, казахстан, польша, китай</td>\n",
       "      <td>28.00</td>\n",
       "    </tr>\n",
       "    <tr>\n",
       "      <th>6</th>\n",
       "      <td>россия, грузия</td>\n",
       "      <td>25.00</td>\n",
       "    </tr>\n",
       "    <tr>\n",
       "      <th>7</th>\n",
       "      <td>россия, италия</td>\n",
       "      <td>120.00</td>\n",
       "    </tr>\n",
       "    <tr>\n",
       "      <th>8</th>\n",
       "      <td>россия, китай</td>\n",
       "      <td>270.00</td>\n",
       "    </tr>\n",
       "    <tr>\n",
       "      <th>9</th>\n",
       "      <td>россия, латвия, чешская республика</td>\n",
       "      <td>20.00</td>\n",
       "    </tr>\n",
       "    <tr>\n",
       "      <th>10</th>\n",
       "      <td>россия, сербия</td>\n",
       "      <td>35.00</td>\n",
       "    </tr>\n",
       "    <tr>\n",
       "      <th>11</th>\n",
       "      <td>россия, словакия, чехия</td>\n",
       "      <td>30.00</td>\n",
       "    </tr>\n",
       "    <tr>\n",
       "      <th>12</th>\n",
       "      <td>россия, украина</td>\n",
       "      <td>27.51</td>\n",
       "    </tr>\n",
       "    <tr>\n",
       "      <th>13</th>\n",
       "      <td>россия, украина, польша</td>\n",
       "      <td>30.00</td>\n",
       "    </tr>\n",
       "    <tr>\n",
       "      <th>14</th>\n",
       "      <td>россия, франция, латвия</td>\n",
       "      <td>46.50</td>\n",
       "    </tr>\n",
       "  </tbody>\n",
       "</table>\n",
       "</div>"
      ],
      "text/plain": [
       "                                        Страна  Сумма гос. поддержки (млн.)\n",
       "0                                       россия                     19195.68\n",
       "1                              россия, армения                        50.00\n",
       "2                   россия, бельгия, финляндия                        30.00\n",
       "3                             россия, германия                        63.00\n",
       "4             россия, германия, великобритания                        50.00\n",
       "5   россия, германия, казахстан, польша, китай                        28.00\n",
       "6                               россия, грузия                        25.00\n",
       "7                               россия, италия                       120.00\n",
       "8                                россия, китай                       270.00\n",
       "9           россия, латвия, чешская республика                        20.00\n",
       "10                              россия, сербия                        35.00\n",
       "11                     россия, словакия, чехия                        30.00\n",
       "12                             россия, украина                        27.51\n",
       "13                     россия, украина, польша                        30.00\n",
       "14                     россия, франция, латвия                        46.50"
      ]
     },
     "execution_count": 23,
     "metadata": {},
     "output_type": "execute_result"
    }
   ],
   "source": [
    "country = data_support.pivot_table(index='production_country', values='state_support', aggfunc='sum').reset_index()\n",
    "country['state_support'] = round(country['state_support']/1000000,2)\n",
    "country.columns=['Страна', 'Сумма гос. поддержки (млн.)']\n",
    "country"
   ]
  },
  {
   "cell_type": "markdown",
   "metadata": {},
   "source": [
    "Вполне ожидаемо, что максимальное количество средств получают те фильмы, что выпускаются только Россией, нежели совместное производство с другими странами. Но возможно, это связано с отсутствием данных по другим странам. "
   ]
  },
  {
   "cell_type": "code",
   "execution_count": 24,
   "metadata": {},
   "outputs": [
    {
     "name": "stdout",
     "output_type": "stream",
     "text": [
      "Общее количество фильмов с гос. поддержкой 330\n",
      "Количество фильмов с положительной рентабельностью с гос. поддержкой 72\n",
      "Доля окупившихся фильмов с гос. поддержкой 21.8 %\n"
     ]
    }
   ],
   "source": [
    "roi_up = data_support[data_support['roi'] > 0]['roi'].count()\n",
    "roi_all = data_support.shape[0]\n",
    "roi_share = round((roi_up/roi_all)*100, 1)\n",
    "print('Общее количество фильмов с гос. поддержкой', roi_all)\n",
    "print('Количество фильмов с положительной рентабельностью с гос. поддержкой', roi_up)\n",
    "print('Доля окупившихся фильмов с гос. поддержкой', roi_share, '%')"
   ]
  },
  {
   "cell_type": "markdown",
   "metadata": {},
   "source": [
    "Поскольку мы не можем посчитать окупаемость фильмов без гос поддержки из за нехватки данных, нельзя сказать насколько больше или меньше окупаются фильмы  с гос. поддержкой и без нее.\n",
    "\n",
    "21.8% доля окупившихся фильмов это пятая часть от всех фильмов с гос поддержкой. По моему мнению окупается малое количество фильмов. "
   ]
  },
  {
   "cell_type": "markdown",
   "metadata": {},
   "source": [
    "<div class=\"alert alert-success\">\n",
    "<b> Комментарий ревьюера ✅ </b>\n",
    "\n",
    "Да, окупаемость фильмов с государственной поддержкой довольно низкая. Но можно предположить, что цель поддержки не в окупаемости фильмов в кинотеатрах, а дальнейших показ этих фильмов по ТВ.\n",
    "    \n",
    "</div>"
   ]
  },
  {
   "cell_type": "code",
   "execution_count": 25,
   "metadata": {},
   "outputs": [
    {
     "data": {
      "text/plain": [
       "<AxesSubplot:>"
      ]
     },
     "execution_count": 25,
     "metadata": {},
     "output_type": "execute_result"
    },
    {
     "data": {
      "image/png": "[encoded data removed]",
      "text/plain": [
       "<Figure size 432x288 with 1 Axes>"
      ]
     },
     "metadata": {
      "needs_background": "light"
     },
     "output_type": "display_data"
    }
   ],
   "source": [
    "def ratings(row):\n",
    "    if row <=3:\n",
    "        return 'низкий рейтинг'\n",
    "    elif row <=7:\n",
    "        return 'средний  рейтинг'\n",
    "    return 'высокий рейтинг'\n",
    "\n",
    "\n",
    "data_support['rating_category'] = data_support['ratings'].apply(ratings)\n",
    "data_support['rating_category'].value_counts().plot(kind='barh')"
   ]
  },
  {
   "cell_type": "markdown",
   "metadata": {},
   "source": [
    "<div class=\"alert alert-success\">\n",
    "<b> Комментарий ревьюера ✅ </b>\n",
    "\n",
    "У этого графика не очень удобно читать названия категорий, можно сделать его горизонтальным, указав параметр `kind = 'barh'`.\n",
    "    \n",
    "</div>\n",
    "\n",
    "<div class=\"alert alert-warning\">\n",
    "<b> Комментарий ревьюера ⚠️ </b>\n",
    "\n",
    "По предупреждению:\n",
    "    \n",
    "- `SettingWithCopyWarning` — это предупреждение говорит о том, что данные добавляются в копию фрагмента датафрейма и не будут добавлены в исходный. Если создаешь такие копии, то можно использовать метод `copy()`, что бы предупреждения не всплывали.\n",
    "    \n",
    "`part = data[...].copy()`\n",
    "    \n",
    "В твоем случае стоит применить метод `copy()`, когда ты первый раз определяешь переменную `data_support`.\n",
    "\n",
    "</div>"
   ]
  },
  {
   "cell_type": "markdown",
   "metadata": {},
   "source": [
    "<div class=\"alert alert-info\">\n",
    "<b> Комментарий студента</b>\n",
    "\n",
    "Спасибо, очень полезные советы)\n",
    "</div>"
   ]
  },
  {
   "cell_type": "markdown",
   "metadata": {},
   "source": [
    "<div class=\"alert alert-success\">\n",
    "<b> Комментарий ревьюера 2 ✅ </b>\n",
    "\n",
    "Хорошо, что ты стараешься сразу применить, предложенные методы.\n",
    "    \n",
    "</div>"
   ]
  },
  {
   "cell_type": "markdown",
   "metadata": {},
   "source": [
    "У фильмов с гос.поддержкой в основном средний рейтинг (от 3 до 7 баллов), не плохой результат."
   ]
  },
  {
   "cell_type": "markdown",
   "metadata": {},
   "source": [
    "<div class=\"alert alert-success\">\n",
    "<b> Комментарий ревьюера ✅ </b>\n",
    "\n",
    "Мы точнее передадим картину если построим распределение рейтингов фильмов с государственной поддержкой без разделения по типам («низкий», «средний», «высокий»). \n",
    "    \n",
    "Так же можно посчитать средний рейтинг таких фильмов. Сравниить рейтинги фильмов с государственной поддержкой и без нее.\n",
    "    \n",
    "</div>"
   ]
  },
  {
   "cell_type": "code",
   "execution_count": 26,
   "metadata": {},
   "outputs": [
    {
     "data": {
      "text/plain": [
       "<AxesSubplot:xlabel='years'>"
      ]
     },
     "execution_count": 26,
     "metadata": {},
     "output_type": "execute_result"
    },
    {
     "data": {
      "image/png": "[encoded data removed]",
      "text/plain": [
       "<Figure size 1080x360 with 1 Axes>"
      ]
     },
     "metadata": {
      "needs_background": "light"
     },
     "output_type": "display_data"
    }
   ],
   "source": [
    "data_support.pivot_table(index='years', columns='rating_category', values='ratings', aggfunc='count').plot(kind='bar', figsize=(15,5))\n"
   ]
  },
  {
   "cell_type": "markdown",
   "metadata": {},
   "source": [
    "По графику видно, что пик роста по среднему рейтингу пришелся на 2015 год, при этом фильмов с низким рейтингом мало - это не может не радовать."
   ]
  },
  {
   "cell_type": "code",
   "execution_count": 27,
   "metadata": {},
   "outputs": [
    {
     "data": {
      "text/plain": [
       "main_genre\n",
       "драма          14\n",
       "фэнтези         5\n",
       "фантастика      4\n",
       "детский         3\n",
       "мультфильм      3\n",
       "боевик          2\n",
       "мюзикл          2\n",
       "мелодрама       2\n",
       "криминал        2\n",
       "комедия         2\n",
       "детектив        2\n",
       "приключения     1\n",
       "семейный        1\n",
       "спорт           1\n",
       "ужасы           1\n",
       "военный         1\n",
       "биография       1\n",
       "Name: rating_category, dtype: int64"
      ]
     },
     "execution_count": 27,
     "metadata": {},
     "output_type": "execute_result"
    },
    {
     "data": {
      "image/png": "[encoded data removed]",
      "text/plain": [
       "<Figure size 1440x360 with 1 Axes>"
      ]
     },
     "metadata": {
      "needs_background": "light"
     },
     "output_type": "display_data"
    }
   ],
   "source": [
    "data_support.pivot_table(index='main_genre', columns='rating_category', values='ratings', aggfunc='count').plot(kind='bar', figsize=(20,5))\n",
    "data_top = data_support[data_support['rating_category'] == 'высокий рейтинг']\n",
    "data_top.groupby('main_genre')['rating_category'].count().sort_values(ascending=False)\n"
   ]
  },
  {
   "cell_type": "markdown",
   "metadata": {},
   "source": [
    "Топ 3 жанра с  высоким рейтингом у фильмов с гос. поддержкой: Драма, Фэнтези, Фантастика. На графике выделяется больше оценки среднего рейтинга, тут лидируют такие жанры как: Драма, Комедия, Мелодрама и Мультфильмы. Во  всех смыслах лидирует жанр драма так как в нее больше вкладывается государство, что отмечалось выше."
   ]
  },
  {
   "cell_type": "code",
   "execution_count": 28,
   "metadata": {},
   "outputs": [
    {
     "data": {
      "text/html": [
       "<div>\n",
       "<style scoped>\n",
       "    .dataframe tbody tr th:only-of-type {\n",
       "        vertical-align: middle;\n",
       "    }\n",
       "\n",
       "    .dataframe tbody tr th {\n",
       "        vertical-align: top;\n",
       "    }\n",
       "\n",
       "    .dataframe thead th {\n",
       "        text-align: right;\n",
       "    }\n",
       "</style>\n",
       "<table border=\"1\" class=\"dataframe\">\n",
       "  <thead>\n",
       "    <tr style=\"text-align: right;\">\n",
       "      <th></th>\n",
       "      <th>title</th>\n",
       "      <th>pu_number</th>\n",
       "      <th>show_start_date</th>\n",
       "      <th>type</th>\n",
       "      <th>film_studio</th>\n",
       "      <th>production_country</th>\n",
       "      <th>director</th>\n",
       "      <th>producer</th>\n",
       "      <th>age_restriction</th>\n",
       "      <th>refundable_support</th>\n",
       "      <th>...</th>\n",
       "      <th>box_office</th>\n",
       "      <th>differ</th>\n",
       "      <th>median_sum</th>\n",
       "      <th>years</th>\n",
       "      <th>main_director</th>\n",
       "      <th>main_genre</th>\n",
       "      <th>share_support</th>\n",
       "      <th>state_support</th>\n",
       "      <th>roi</th>\n",
       "      <th>rating_category</th>\n",
       "    </tr>\n",
       "  </thead>\n",
       "  <tbody>\n",
       "    <tr>\n",
       "      <th>6208</th>\n",
       "      <td>холоп</td>\n",
       "      <td>111021719</td>\n",
       "      <td>2019-12-19 12:00:00+00:00</td>\n",
       "      <td>художественный</td>\n",
       "      <td>ооо \"мем-медиа\" по заказу ао \"вбд груп\"</td>\n",
       "      <td>россия</td>\n",
       "      <td>К.Шипенко</td>\n",
       "      <td>э.илоян, д.жалинский, в.дусмухаметов, т.бадзие...</td>\n",
       "      <td>«12+» - для детей старше 12 лет</td>\n",
       "      <td>25000000.0</td>\n",
       "      <td>...</td>\n",
       "      <td>3.073569e+09</td>\n",
       "      <td>100000000.0</td>\n",
       "      <td>94071918.0</td>\n",
       "      <td>2019</td>\n",
       "      <td>К.Шипенко</td>\n",
       "      <td>комедия</td>\n",
       "      <td>0.375000</td>\n",
       "      <td>60000000.0</td>\n",
       "      <td>18.209804</td>\n",
       "      <td>средний  рейтинг</td>\n",
       "    </tr>\n",
       "    <tr>\n",
       "      <th>4526</th>\n",
       "      <td>лёд</td>\n",
       "      <td>111000518</td>\n",
       "      <td>2018-02-01 12:00:00+00:00</td>\n",
       "      <td>художественный</td>\n",
       "      <td>ооо \"водород 2011\", ооо \"арт пикчерс студия\", ...</td>\n",
       "      <td>россия</td>\n",
       "      <td>О.Трофим</td>\n",
       "      <td>м.врубель, а.андрющенко, ф.бондарчук, д.рудовс...</td>\n",
       "      <td>«12+» - для детей старше 12 лет</td>\n",
       "      <td>25000000.0</td>\n",
       "      <td>...</td>\n",
       "      <td>1.445732e+09</td>\n",
       "      <td>63585222.0</td>\n",
       "      <td>119071918.0</td>\n",
       "      <td>2018</td>\n",
       "      <td>О.Трофим</td>\n",
       "      <td>NaN</td>\n",
       "      <td>0.572062</td>\n",
       "      <td>85000000.0</td>\n",
       "      <td>8.729984</td>\n",
       "      <td>высокий рейтинг</td>\n",
       "    </tr>\n",
       "    <tr>\n",
       "      <th>4567</th>\n",
       "      <td>я худею</td>\n",
       "      <td>111001618</td>\n",
       "      <td>2018-03-07 12:00:00+00:00</td>\n",
       "      <td>художественный</td>\n",
       "      <td>ооо \"друг друга\", ооо \"ди пи джи\"</td>\n",
       "      <td>россия</td>\n",
       "      <td>А.Черномазов (псевдоним Алексей Нужный)</td>\n",
       "      <td>с.корнихин, н.куликов, а.черномазов, а.кремер,...</td>\n",
       "      <td>«16+» - для детей старше 16 лет</td>\n",
       "      <td>0.0</td>\n",
       "      <td>...</td>\n",
       "      <td>6.334623e+08</td>\n",
       "      <td>57649127.0</td>\n",
       "      <td>64071918.0</td>\n",
       "      <td>2018</td>\n",
       "      <td>А.Черномазов (псевдоним Алексей Нужный)</td>\n",
       "      <td>комедия</td>\n",
       "      <td>0.342274</td>\n",
       "      <td>30000000.0</td>\n",
       "      <td>6.227251</td>\n",
       "      <td>средний  рейтинг</td>\n",
       "    </tr>\n",
       "  </tbody>\n",
       "</table>\n",
       "<p>3 rows × 25 columns</p>\n",
       "</div>"
      ],
      "text/plain": [
       "        title  pu_number           show_start_date            type  \\\n",
       "6208    холоп  111021719 2019-12-19 12:00:00+00:00  художественный   \n",
       "4526      лёд  111000518 2018-02-01 12:00:00+00:00  художественный   \n",
       "4567  я худею  111001618 2018-03-07 12:00:00+00:00  художественный   \n",
       "\n",
       "                                            film_studio production_country  \\\n",
       "6208            ооо \"мем-медиа\" по заказу ао \"вбд груп\"             россия   \n",
       "4526  ооо \"водород 2011\", ооо \"арт пикчерс студия\", ...             россия   \n",
       "4567                  ооо \"друг друга\", ооо \"ди пи джи\"             россия   \n",
       "\n",
       "                                     director  \\\n",
       "6208                                К.Шипенко   \n",
       "4526                                 О.Трофим   \n",
       "4567  А.Черномазов (псевдоним Алексей Нужный)   \n",
       "\n",
       "                                               producer  \\\n",
       "6208  э.илоян, д.жалинский, в.дусмухаметов, т.бадзие...   \n",
       "4526  м.врубель, а.андрющенко, ф.бондарчук, д.рудовс...   \n",
       "4567  с.корнихин, н.куликов, а.черномазов, а.кремер,...   \n",
       "\n",
       "                      age_restriction  refundable_support  ...    box_office  \\\n",
       "6208  «12+» - для детей старше 12 лет          25000000.0  ...  3.073569e+09   \n",
       "4526  «12+» - для детей старше 12 лет          25000000.0  ...  1.445732e+09   \n",
       "4567  «16+» - для детей старше 16 лет                 0.0  ...  6.334623e+08   \n",
       "\n",
       "           differ   median_sum  years  \\\n",
       "6208  100000000.0   94071918.0   2019   \n",
       "4526   63585222.0  119071918.0   2018   \n",
       "4567   57649127.0   64071918.0   2018   \n",
       "\n",
       "                                main_director  main_genre  share_support  \\\n",
       "6208                                К.Шипенко     комедия       0.375000   \n",
       "4526                                 О.Трофим         NaN       0.572062   \n",
       "4567  А.Черномазов (псевдоним Алексей Нужный)     комедия       0.342274   \n",
       "\n",
       "      state_support        roi   rating_category  \n",
       "6208     60000000.0  18.209804  средний  рейтинг  \n",
       "4526     85000000.0   8.729984   высокий рейтинг  \n",
       "4567     30000000.0   6.227251  средний  рейтинг  \n",
       "\n",
       "[3 rows x 25 columns]"
      ]
     },
     "execution_count": 28,
     "metadata": {},
     "output_type": "execute_result"
    }
   ],
   "source": [
    "data_support[data_support['roi']>0].sort_values(by='roi', ascending=False).head(3)"
   ]
  },
  {
   "cell_type": "markdown",
   "metadata": {},
   "source": [
    "Фильмы с самой высокой окупаемостью - \"Холоп\", \"Лед\" и \"Я худею\"."
   ]
  },
  {
   "cell_type": "markdown",
   "metadata": {},
   "source": [
    "<div class=\"alert alert-success\">\n",
    "<b> Комментарий ревьюера ✅ </b>\n",
    "   \n",
    "Получился интересный анализ фильмов с государственной поддержкой.\n",
    "    \n",
    "При желании можно дополнить исследование такими пунктами:\n",
    "    \n",
    "- сделать сравнение по источникам финансирования — откуда поступает больше средств, из каких источников поступает больше невозвратных средств;\n",
    "    \n",
    "- посмотреть фильмы для какой возрастной категории охотнее спонсируются государством;\n",
    "    \n",
    "- посмотреть зависит ли рейтинг фильмов от бюджета;\n",
    "    \n",
    "- посмотреть как изменялся объем государственной поддержки по годам;\n",
    "    \n",
    "- посмотреть каким режиссерам охотнее выделяют средства из государственного бюджета.\n",
    "    \n",
    "</div>"
   ]
  },
  {
   "cell_type": "markdown",
   "metadata": {
    "id": "V2gYwMcPgFyd"
   },
   "source": [
    "### Шаг 5. Напишите общий вывод"
   ]
  },
  {
   "cell_type": "markdown",
   "metadata": {
    "id": "AYRg3dzXgFye"
   },
   "source": [
    "По  предоставленным датасетам была проведена предобработка и последующий анализ этих данных по фильмам, вышедшим в прокат. Вот какие выводы можно сделать:\n",
    "1. В  2019 году вышло максимальное количество фильмов - около 900, но  рекордная сумма сборов была в 2018 году. \n",
    "2. Чаще всего гос.поддержка составляет около 60% бюджета.\n",
    "3. Наименьшие сборы получила категория 0+, а наибольшие сборы получила категория 16+. Фильмы с категорией 0+ имеют минимальные сборы либо из-за отсутсвия данных, либо в силу своей невостребованности на рынке кинопроката.\n",
    "4. Самый финансируемый государством жанр - драма.\n",
    "5. Общее количество фильмов с гос.поддержкой - 330, из них окупается только 72 фильма, что составлет около 20%  окупаемости, а значит окупается только каждый 5 фильм, не самый лучший результат.\n",
    "6. В основном фильмы, финансируемые государством получают средний рейтинг, от 3 до 7 баллов. Топ-3 жанра - Драма, Комедия, Мелодрамма/Мультфильмы. \n",
    "7. Высокими оценками награждают чаще всего такие жанры, как драма, фэнтази и фантастика. \n",
    "8. Самый лучший результат окупаемости показал фильм \"Холоп\",  доход от этого фильма превысил затраченный бюджет в 18 раз."
   ]
  },
  {
   "cell_type": "markdown",
   "metadata": {},
   "source": [
    "<div class=\"alert alert-success\">\n",
    "<b> Комментарий ревьюера ✅ </b>\n",
    "    \n",
    "Отличный тезисный вывод. Очень хорошо, когда кроме результатов анализа в выводе есть несколько рекомендаций ориентированных на заказчика исследования. Как мы знаем из описания: «Заказчик этого исследования — Министерство культуры Российской Федерации»\n",
    "    \n",
    "</div>"
   ]
  },
  {
   "cell_type": "markdown",
   "metadata": {},
   "source": [
    "**Заключительный комментарий ревьюера:**\n",
    "\n",
    "Ты проделал большую работу, но есть некоторые детали, которые надо поправить:\n",
    "\n",
    "<div class=\"alert alert-danger\">  \n",
    "    \n",
    "1. Проверить все ли данные вошли в объединенный датафрейм.\n",
    "    \n",
    "1. При обработке пропущенных значений: посчитать их количество, написать возможные причины возникновения, тип пропусков и пояснитьпочему принято решение заполнять, не заполнять или удалять строки с пропусками.\n",
    "    \n",
    "1. Выполнить проверку на полные дубликаты.\n",
    "    \n",
    "1. Рассмотреть все категориальные столбцы. Ответить на вопросы: «Какая общая проблема встречается почти во всех категориальных столбцах? В каких столбцах нет такой проблемы?»\n",
    "    \n",
    "1. Ответить на вопрос: «Почему мы видим что средние значения сборов так отличаются от медианных?»\n",
    "    \n",
    "</div>\n",
    "\n",
    "На твое усмотрение, можно:\n",
    "\n",
    "<div class=\"alert alert-warning\">\n",
    "    \n",
    "1. Проверить на дубликаты столбец с потенциально уникальными значениями.\n",
    "    \n",
    "1. Посмотреть как распределены данные в столбце `ratings`.\n",
    "    \n",
    "1. При анализе количественных данных подробнее описать аномальные значения.\n",
    "    \n",
    "1. Скрывать предупреждения `FutureWarning`, используя библиотеку `warnings`\n",
    "    \n",
    "1. Динамику изменения суммарных сборов отобразить на линейном графике.\n",
    "    \n",
    "1. Посчитать медианные сборы по возрастным категориям.\n",
    "    \n",
    "1. Использовать метод `copy()` при сохранении фрагмента датафрейма в переменной.\n",
    "    \n",
    "</div>\n",
    "\n",
    "Прочие полезности:\n",
    "\n",
    "<div class=\"alert alert-success\">\n",
    "    \n",
    "1. Добавить цель работы и информацию об источниках исходных данных, описывать действия на каждом шаге своими словами.\n",
    "    \n",
    "1. Не печатать весь датафрейм, а пользоваться логической индексацией и методами `head()`, `tail()`, `sample()`.\n",
    "    \n",
    "1. Выводить количественные данные в удобном формате с помощью метода `pd.options.display.float_format = '{:.2f}'.format`.\n",
    "    \n",
    "1. Добавить описание хранящихся в каждом столбце данных.\n",
    "    \n",
    "1. Проверить рейтинги, записанные в процентах, на соответствие реальным рейтингам фильмов.\n",
    "    \n",
    "1. Для однотипных операций использовать циклы и функции.\n",
    "    \n",
    "1. Оптимизировать функцию по обработке значений столбца `film_studio`.\n",
    "    \n",
    "1. Построить диаграммы размаха методом `boxplot()` для визуализации распределения данных.\n",
    "    \n",
    "1. Упростить код по замене нулевых бюджетов.\n",
    "    \n",
    "1. При визуализации количества выданных прокатных удостоверений в каждый год расположить года по порядку.\n",
    "    \n",
    "1. Добавлять на все графики названия и подписи осей.\n",
    "    \n",
    "1. Повернуть подписи оси Х, используя `plt.xticks()` с параметром `rotation`.\n",
    "    \n",
    "1. Для укорочения названий возрастных категорий использовать метод, подобно тому, который использован для выделения главного жанра.\n",
    "    \n",
    "1. Для визуализации количества фильмов в зависимости от типа рейтинга построить горизонтальный столбчатый график, указав параметр `kind = 'barh'`.\n",
    "    \n",
    "1. Посмотреть на распределение рейтингов по фильмам с государственной поддержкой без разделения по типам («низкий», «средний», «высокий»). Посчитать средний рейтинг таких фильмов. Сравниить рейтинги фильмов с государственной поддержкой и без нее.\n",
    "    \n",
    "1. При желании дополнить исследование фильмов с государственной поддержкой.\n",
    "    \n",
    "1. Дополнить общий вывод рекомендациями, интересными для заказчика.\n",
    "    \n",
    "</div>\n",
    "\n",
    "Возвращаю проект тебе на доработку и жду его на повторное ревью. Если есть какие то вопросы — смело задавай их."
   ]
  },
  {
   "cell_type": "markdown",
   "metadata": {},
   "source": [
    "**Заключительный комментарий ревьюера 2:**\n",
    "\n",
    "Спасибо, что доработал проект по моим комментариям, но осталось поправить еще один момент, что бы я могла принять проект:\n",
    "\n",
    "<div class=\"alert alert-danger\">  \n",
    "    \n",
    "Написать возможные причины возникновения пропусков и их типы в `refundable_support`, `nonrefundable_support`, `budget`, `financing_source`, `genres`, `ratings`, `box_office`. Пояснить незаполнение.\n",
    "   \n",
    "</div>\n",
    "\n",
    "Возвращаю проект на доработку и жду его обратно, на ревью. Если у тебя появились какие-то вопросы, напиши их, пожалуйста, в комментарии и я постараюсь детально на них ответить."
   ]
  },
  {
   "cell_type": "markdown",
   "metadata": {},
   "source": [
    "**Заключительный комментарий ревьюера 3:**\n",
    "\n",
    "Спасибо, что доработал проект по всем основным моментам. Проект принят.\n",
    "\n",
    "Надеюсь, все мои комментарии были понятны, а советы — полезны.\n",
    "\n",
    "Успехов в дальнейшем обучении ✨"
   ]
  }
 ],
 "metadata": {
  "ExecuteTimeLog": [
   {
    "duration": 537,
    "start_time": "2021-07-07T10:12:08.634Z"
   },
   {
    "duration": 206,
    "start_time": "2021-07-07T10:12:30.191Z"
   },
   {
    "duration": 227,
    "start_time": "2021-07-07T10:12:33.078Z"
   },
   {
    "duration": 153,
    "start_time": "2021-07-07T10:13:42.146Z"
   },
   {
    "duration": 233,
    "start_time": "2021-07-07T10:30:09.252Z"
   },
   {
    "duration": 19,
    "start_time": "2021-07-07T10:30:15.577Z"
   },
   {
    "duration": 18,
    "start_time": "2021-07-07T10:30:57.348Z"
   },
   {
    "duration": 19,
    "start_time": "2021-07-07T10:31:17.452Z"
   },
   {
    "duration": 21,
    "start_time": "2021-07-07T10:31:32.227Z"
   },
   {
    "duration": 27,
    "start_time": "2021-07-07T10:32:06.588Z"
   },
   {
    "duration": 23,
    "start_time": "2021-07-07T10:32:43.645Z"
   },
   {
    "duration": 24,
    "start_time": "2021-07-07T10:33:06.948Z"
   },
   {
    "duration": 7,
    "start_time": "2021-07-07T10:33:28.558Z"
   },
   {
    "duration": 23,
    "start_time": "2021-07-07T10:33:43.761Z"
   },
   {
    "duration": 28,
    "start_time": "2021-07-07T10:34:13.466Z"
   },
   {
    "duration": 23,
    "start_time": "2021-07-07T10:35:56.187Z"
   },
   {
    "duration": 6,
    "start_time": "2021-07-07T10:36:48.182Z"
   },
   {
    "duration": 14,
    "start_time": "2021-07-07T10:37:49.641Z"
   },
   {
    "duration": 6,
    "start_time": "2021-07-07T10:38:06.694Z"
   },
   {
    "duration": 6,
    "start_time": "2021-07-07T10:38:13.493Z"
   },
   {
    "duration": 19,
    "start_time": "2021-07-07T10:38:44.056Z"
   },
   {
    "duration": 186,
    "start_time": "2021-07-07T10:48:35.618Z"
   },
   {
    "duration": 24,
    "start_time": "2021-07-07T10:48:51.498Z"
   },
   {
    "duration": 20,
    "start_time": "2021-07-07T10:48:59.415Z"
   },
   {
    "duration": 20,
    "start_time": "2021-07-07T10:53:02.195Z"
   },
   {
    "duration": 188,
    "start_time": "2021-07-07T10:54:40.486Z"
   },
   {
    "duration": 115,
    "start_time": "2021-07-07T10:54:52.552Z"
   },
   {
    "duration": 214,
    "start_time": "2021-07-07T10:54:56.354Z"
   },
   {
    "duration": 47,
    "start_time": "2021-07-07T10:54:58.282Z"
   },
   {
    "duration": 217,
    "start_time": "2021-07-07T10:59:16.075Z"
   },
   {
    "duration": 51,
    "start_time": "2021-07-07T10:59:16.243Z"
   },
   {
    "duration": 578,
    "start_time": "2021-07-07T10:59:18.774Z"
   },
   {
    "duration": 161,
    "start_time": "2021-07-07T10:59:21.238Z"
   },
   {
    "duration": 59,
    "start_time": "2021-07-07T10:59:21.453Z"
   },
   {
    "duration": 3,
    "start_time": "2021-07-07T11:02:10.786Z"
   },
   {
    "duration": 13,
    "start_time": "2021-07-07T11:07:07.722Z"
   },
   {
    "duration": 26,
    "start_time": "2021-07-07T11:07:17.958Z"
   },
   {
    "duration": 22,
    "start_time": "2021-07-07T11:08:17.939Z"
   },
   {
    "duration": 212,
    "start_time": "2021-07-07T11:08:19.665Z"
   },
   {
    "duration": 21,
    "start_time": "2021-07-07T11:08:29.945Z"
   },
   {
    "duration": 31,
    "start_time": "2021-07-07T11:08:38.899Z"
   },
   {
    "duration": 23,
    "start_time": "2021-07-07T11:08:54.527Z"
   },
   {
    "duration": 8,
    "start_time": "2021-07-07T11:18:55.974Z"
   },
   {
    "duration": 7,
    "start_time": "2021-07-07T11:19:03.639Z"
   },
   {
    "duration": 7,
    "start_time": "2021-07-07T11:19:06.444Z"
   },
   {
    "duration": 578,
    "start_time": "2021-07-07T12:09:59.576Z"
   },
   {
    "duration": 195,
    "start_time": "2021-07-07T12:10:00.156Z"
   },
   {
    "duration": 115,
    "start_time": "2021-07-07T12:10:00.353Z"
   },
   {
    "duration": 3,
    "start_time": "2021-07-07T12:10:00.470Z"
   },
   {
    "duration": 32,
    "start_time": "2021-07-07T12:10:00.474Z"
   },
   {
    "duration": 23,
    "start_time": "2021-07-07T12:10:00.508Z"
   },
   {
    "duration": 19,
    "start_time": "2021-07-07T12:10:00.533Z"
   },
   {
    "duration": 44,
    "start_time": "2021-07-07T12:10:00.553Z"
   },
   {
    "duration": 7,
    "start_time": "2021-07-07T12:10:00.600Z"
   },
   {
    "duration": 7,
    "start_time": "2021-07-07T12:19:45.761Z"
   },
   {
    "duration": 21,
    "start_time": "2021-07-07T12:21:35.482Z"
   },
   {
    "duration": 21,
    "start_time": "2021-07-07T12:29:23.569Z"
   },
   {
    "duration": 525,
    "start_time": "2021-07-07T12:29:44.542Z"
   },
   {
    "duration": 214,
    "start_time": "2021-07-07T12:29:45.069Z"
   },
   {
    "duration": 92,
    "start_time": "2021-07-07T12:29:45.285Z"
   },
   {
    "duration": 3,
    "start_time": "2021-07-07T12:29:45.379Z"
   },
   {
    "duration": 28,
    "start_time": "2021-07-07T12:29:45.384Z"
   },
   {
    "duration": 23,
    "start_time": "2021-07-07T12:29:45.413Z"
   },
   {
    "duration": 21,
    "start_time": "2021-07-07T12:29:45.437Z"
   },
   {
    "duration": 41,
    "start_time": "2021-07-07T12:29:45.460Z"
   },
   {
    "duration": 7,
    "start_time": "2021-07-07T12:29:45.502Z"
   },
   {
    "duration": 20,
    "start_time": "2021-07-07T12:29:45.511Z"
   },
   {
    "duration": 12,
    "start_time": "2021-07-07T12:34:02.800Z"
   },
   {
    "duration": 7,
    "start_time": "2021-07-07T12:35:10.479Z"
   },
   {
    "duration": 8,
    "start_time": "2021-07-07T12:35:22.440Z"
   },
   {
    "duration": 6,
    "start_time": "2021-07-07T12:35:35.649Z"
   },
   {
    "duration": 6,
    "start_time": "2021-07-07T12:35:43.107Z"
   },
   {
    "duration": 22,
    "start_time": "2021-07-07T12:38:03.029Z"
   },
   {
    "duration": 10,
    "start_time": "2021-07-07T12:38:06.592Z"
   },
   {
    "duration": 563,
    "start_time": "2021-07-07T12:38:46.493Z"
   },
   {
    "duration": 265,
    "start_time": "2021-07-07T12:38:47.058Z"
   },
   {
    "duration": 94,
    "start_time": "2021-07-07T12:38:47.325Z"
   },
   {
    "duration": 3,
    "start_time": "2021-07-07T12:38:47.422Z"
   },
   {
    "duration": 30,
    "start_time": "2021-07-07T12:38:47.427Z"
   },
   {
    "duration": 16,
    "start_time": "2021-07-07T12:38:53.305Z"
   },
   {
    "duration": 10,
    "start_time": "2021-07-07T12:38:53.499Z"
   },
   {
    "duration": 8,
    "start_time": "2021-07-07T12:39:48.161Z"
   },
   {
    "duration": 27,
    "start_time": "2021-07-07T12:41:17.629Z"
   },
   {
    "duration": 17,
    "start_time": "2021-07-07T12:41:17.867Z"
   },
   {
    "duration": 21,
    "start_time": "2021-07-07T12:41:19.310Z"
   },
   {
    "duration": 7,
    "start_time": "2021-07-07T12:41:19.544Z"
   },
   {
    "duration": 20,
    "start_time": "2021-07-07T12:41:20.504Z"
   },
   {
    "duration": 554,
    "start_time": "2021-07-07T12:56:23.696Z"
   },
   {
    "duration": 200,
    "start_time": "2021-07-07T12:56:25.234Z"
   },
   {
    "duration": 119,
    "start_time": "2021-07-07T12:56:25.480Z"
   },
   {
    "duration": 4,
    "start_time": "2021-07-07T12:56:25.762Z"
   },
   {
    "duration": 26,
    "start_time": "2021-07-07T12:56:27.172Z"
   },
   {
    "duration": 12,
    "start_time": "2021-07-07T12:56:29.051Z"
   },
   {
    "duration": 10,
    "start_time": "2021-07-07T12:56:29.291Z"
   },
   {
    "duration": 8,
    "start_time": "2021-07-07T12:56:29.623Z"
   },
   {
    "duration": 28,
    "start_time": "2021-07-07T12:56:32.137Z"
   },
   {
    "duration": 19,
    "start_time": "2021-07-07T12:56:39.785Z"
   },
   {
    "duration": 20,
    "start_time": "2021-07-07T12:56:44.297Z"
   },
   {
    "duration": 7,
    "start_time": "2021-07-07T12:56:45.392Z"
   },
   {
    "duration": 23,
    "start_time": "2021-07-07T12:56:46.615Z"
   },
   {
    "duration": 4,
    "start_time": "2021-07-07T12:57:06.625Z"
   },
   {
    "duration": 32,
    "start_time": "2021-07-07T12:57:36.690Z"
   },
   {
    "duration": 18,
    "start_time": "2021-07-07T12:58:00.149Z"
   },
   {
    "duration": 15,
    "start_time": "2021-07-07T12:59:16.793Z"
   },
   {
    "duration": 7,
    "start_time": "2021-07-07T13:19:22.624Z"
   },
   {
    "duration": 6,
    "start_time": "2021-07-07T14:17:33.527Z"
   },
   {
    "duration": 9,
    "start_time": "2021-07-07T14:17:48.409Z"
   },
   {
    "duration": 8,
    "start_time": "2021-07-07T14:20:13.060Z"
   },
   {
    "duration": 8,
    "start_time": "2021-07-07T14:20:37.957Z"
   },
   {
    "duration": 8,
    "start_time": "2021-07-07T14:20:47.470Z"
   },
   {
    "duration": 9,
    "start_time": "2021-07-07T14:20:54.503Z"
   },
   {
    "duration": 10,
    "start_time": "2021-07-07T14:28:57.763Z"
   },
   {
    "duration": 3,
    "start_time": "2021-07-07T14:30:23.377Z"
   },
   {
    "duration": 3,
    "start_time": "2021-07-07T14:30:36.489Z"
   },
   {
    "duration": 103,
    "start_time": "2021-07-07T14:30:52.351Z"
   },
   {
    "duration": 8,
    "start_time": "2021-07-07T14:30:54.763Z"
   },
   {
    "duration": 8,
    "start_time": "2021-07-07T14:31:29.301Z"
   },
   {
    "duration": 13,
    "start_time": "2021-07-07T14:31:44.516Z"
   },
   {
    "duration": 7,
    "start_time": "2021-07-07T14:33:10.972Z"
   },
   {
    "duration": 11,
    "start_time": "2021-07-07T14:33:27.780Z"
   },
   {
    "duration": 8,
    "start_time": "2021-07-07T14:34:44.588Z"
   },
   {
    "duration": 57,
    "start_time": "2021-07-07T14:35:59.042Z"
   },
   {
    "duration": 3,
    "start_time": "2021-07-07T14:36:28.168Z"
   },
   {
    "duration": 5,
    "start_time": "2021-07-07T14:36:46.254Z"
   },
   {
    "duration": 4,
    "start_time": "2021-07-07T14:36:52.714Z"
   },
   {
    "duration": 3,
    "start_time": "2021-07-07T14:36:56.612Z"
   },
   {
    "duration": 4,
    "start_time": "2021-07-07T14:36:57.049Z"
   },
   {
    "duration": 3,
    "start_time": "2021-07-07T14:39:21.214Z"
   },
   {
    "duration": 7,
    "start_time": "2021-07-07T14:39:52.406Z"
   },
   {
    "duration": 11,
    "start_time": "2021-07-07T14:39:58.576Z"
   },
   {
    "duration": 9,
    "start_time": "2021-07-07T14:40:26.301Z"
   },
   {
    "duration": 10,
    "start_time": "2021-07-07T14:40:31.704Z"
   },
   {
    "duration": 11,
    "start_time": "2021-07-07T14:40:36.249Z"
   },
   {
    "duration": 10,
    "start_time": "2021-07-07T14:40:39.783Z"
   },
   {
    "duration": 9,
    "start_time": "2021-07-07T14:40:48.558Z"
   },
   {
    "duration": 10,
    "start_time": "2021-07-07T14:40:57.143Z"
   },
   {
    "duration": 9,
    "start_time": "2021-07-07T14:41:06.074Z"
   },
   {
    "duration": 4324,
    "start_time": "2021-07-07T14:41:22.004Z"
   },
   {
    "duration": 11,
    "start_time": "2021-07-07T14:41:33.392Z"
   },
   {
    "duration": 9,
    "start_time": "2021-07-07T14:41:39.288Z"
   },
   {
    "duration": 569,
    "start_time": "2021-07-07T14:42:14.387Z"
   },
   {
    "duration": 197,
    "start_time": "2021-07-07T14:42:14.959Z"
   },
   {
    "duration": 84,
    "start_time": "2021-07-07T14:42:16.052Z"
   },
   {
    "duration": 4,
    "start_time": "2021-07-07T14:42:16.900Z"
   },
   {
    "duration": 27,
    "start_time": "2021-07-07T14:42:19.898Z"
   },
   {
    "duration": 12,
    "start_time": "2021-07-07T14:42:21.577Z"
   },
   {
    "duration": 9,
    "start_time": "2021-07-07T14:42:21.813Z"
   },
   {
    "duration": 9,
    "start_time": "2021-07-07T14:42:22.569Z"
   },
   {
    "duration": 29,
    "start_time": "2021-07-07T14:42:25.837Z"
   },
   {
    "duration": 20,
    "start_time": "2021-07-07T14:42:27.003Z"
   },
   {
    "duration": 21,
    "start_time": "2021-07-07T14:42:28.767Z"
   },
   {
    "duration": 7,
    "start_time": "2021-07-07T14:42:29.838Z"
   },
   {
    "duration": 4,
    "start_time": "2021-07-07T14:43:25.493Z"
   },
   {
    "duration": 7,
    "start_time": "2021-07-07T14:43:26.573Z"
   },
   {
    "duration": 10,
    "start_time": "2021-07-07T14:43:31.639Z"
   },
   {
    "duration": 9,
    "start_time": "2021-07-07T14:43:32.046Z"
   },
   {
    "duration": 10,
    "start_time": "2021-07-07T14:43:33.301Z"
   },
   {
    "duration": 12,
    "start_time": "2021-07-07T14:43:33.658Z"
   },
   {
    "duration": 8,
    "start_time": "2021-07-07T14:43:34.552Z"
   },
   {
    "duration": 9,
    "start_time": "2021-07-07T14:43:35.058Z"
   },
   {
    "duration": 12,
    "start_time": "2021-07-07T14:43:35.914Z"
   },
   {
    "duration": 17,
    "start_time": "2021-07-07T14:45:34.368Z"
   },
   {
    "duration": 512,
    "start_time": "2021-07-07T14:51:58.236Z"
   },
   {
    "duration": 223,
    "start_time": "2021-07-07T14:51:58.750Z"
   },
   {
    "duration": 93,
    "start_time": "2021-07-07T14:51:58.977Z"
   },
   {
    "duration": 4,
    "start_time": "2021-07-07T14:51:59.071Z"
   },
   {
    "duration": 37,
    "start_time": "2021-07-07T14:51:59.077Z"
   },
   {
    "duration": 18,
    "start_time": "2021-07-07T14:51:59.116Z"
   },
   {
    "duration": 10,
    "start_time": "2021-07-07T14:51:59.137Z"
   },
   {
    "duration": 8,
    "start_time": "2021-07-07T14:51:59.149Z"
   },
   {
    "duration": 54,
    "start_time": "2021-07-07T14:51:59.158Z"
   },
   {
    "duration": 18,
    "start_time": "2021-07-07T14:51:59.213Z"
   },
   {
    "duration": 22,
    "start_time": "2021-07-07T14:51:59.232Z"
   },
   {
    "duration": 36,
    "start_time": "2021-07-07T14:51:59.255Z"
   },
   {
    "duration": 7,
    "start_time": "2021-07-07T14:51:59.293Z"
   },
   {
    "duration": 10,
    "start_time": "2021-07-07T14:51:59.302Z"
   },
   {
    "duration": 9,
    "start_time": "2021-07-07T14:51:59.313Z"
   },
   {
    "duration": 11,
    "start_time": "2021-07-07T14:51:59.324Z"
   },
   {
    "duration": 8,
    "start_time": "2021-07-07T14:51:59.337Z"
   },
   {
    "duration": 46,
    "start_time": "2021-07-07T14:51:59.347Z"
   },
   {
    "duration": 22,
    "start_time": "2021-07-07T14:51:59.395Z"
   },
   {
    "duration": 24,
    "start_time": "2021-07-07T14:57:32.911Z"
   },
   {
    "duration": 7,
    "start_time": "2021-07-07T14:58:22.070Z"
   },
   {
    "duration": 4,
    "start_time": "2021-07-07T14:59:11.239Z"
   },
   {
    "duration": 25,
    "start_time": "2021-07-07T15:07:22.208Z"
   },
   {
    "duration": 16,
    "start_time": "2021-07-07T15:08:25.560Z"
   },
   {
    "duration": 15,
    "start_time": "2021-07-07T15:08:40.647Z"
   },
   {
    "duration": 14,
    "start_time": "2021-07-07T15:08:46.669Z"
   },
   {
    "duration": 533,
    "start_time": "2021-07-07T15:18:07.440Z"
   },
   {
    "duration": 173,
    "start_time": "2021-07-07T15:18:07.974Z"
   },
   {
    "duration": 84,
    "start_time": "2021-07-07T15:18:08.149Z"
   },
   {
    "duration": 3,
    "start_time": "2021-07-07T15:18:08.235Z"
   },
   {
    "duration": 30,
    "start_time": "2021-07-07T15:18:08.240Z"
   },
   {
    "duration": 22,
    "start_time": "2021-07-07T15:18:08.272Z"
   },
   {
    "duration": 11,
    "start_time": "2021-07-07T15:18:08.295Z"
   },
   {
    "duration": 11,
    "start_time": "2021-07-07T15:18:08.309Z"
   },
   {
    "duration": 40,
    "start_time": "2021-07-07T15:18:08.322Z"
   },
   {
    "duration": 42,
    "start_time": "2021-07-07T15:18:08.364Z"
   },
   {
    "duration": 22,
    "start_time": "2021-07-07T15:18:08.408Z"
   },
   {
    "duration": 5,
    "start_time": "2021-07-07T15:18:08.432Z"
   },
   {
    "duration": 13,
    "start_time": "2021-07-07T15:18:08.439Z"
   },
   {
    "duration": 9,
    "start_time": "2021-07-07T15:18:08.454Z"
   },
   {
    "duration": 32,
    "start_time": "2021-07-07T15:18:08.465Z"
   },
   {
    "duration": 10,
    "start_time": "2021-07-07T15:18:08.501Z"
   },
   {
    "duration": 7,
    "start_time": "2021-07-07T15:18:08.513Z"
   },
   {
    "duration": 11,
    "start_time": "2021-07-07T15:18:08.521Z"
   },
   {
    "duration": 17,
    "start_time": "2021-07-07T15:18:08.534Z"
   },
   {
    "duration": 44,
    "start_time": "2021-07-07T15:18:08.553Z"
   },
   {
    "duration": 22,
    "start_time": "2021-07-07T15:18:08.599Z"
   },
   {
    "duration": 61,
    "start_time": "2021-07-07T15:18:08.622Z"
   },
   {
    "duration": 7,
    "start_time": "2021-07-07T15:18:39.457Z"
   },
   {
    "duration": 5,
    "start_time": "2021-07-07T16:05:17.020Z"
   },
   {
    "duration": 5,
    "start_time": "2021-07-07T16:51:28.794Z"
   },
   {
    "duration": 546,
    "start_time": "2021-07-07T16:52:26.306Z"
   },
   {
    "duration": 203,
    "start_time": "2021-07-07T16:52:27.523Z"
   },
   {
    "duration": 85,
    "start_time": "2021-07-07T16:52:27.736Z"
   },
   {
    "duration": 4,
    "start_time": "2021-07-07T16:52:27.899Z"
   },
   {
    "duration": 25,
    "start_time": "2021-07-07T16:52:28.674Z"
   },
   {
    "duration": 8,
    "start_time": "2021-07-07T16:52:32.956Z"
   },
   {
    "duration": 18,
    "start_time": "2021-07-07T16:52:35.616Z"
   },
   {
    "duration": 6,
    "start_time": "2021-07-07T16:52:36.913Z"
   },
   {
    "duration": 11,
    "start_time": "2021-07-07T16:52:40.258Z"
   },
   {
    "duration": 10,
    "start_time": "2021-07-07T16:52:46.251Z"
   },
   {
    "duration": 8,
    "start_time": "2021-07-07T16:52:47.182Z"
   },
   {
    "duration": 27,
    "start_time": "2021-07-07T16:53:20.391Z"
   },
   {
    "duration": 20,
    "start_time": "2021-07-07T16:53:22.022Z"
   },
   {
    "duration": 23,
    "start_time": "2021-07-07T16:53:23.690Z"
   },
   {
    "duration": 8,
    "start_time": "2021-07-07T16:53:24.261Z"
   },
   {
    "duration": 4,
    "start_time": "2021-07-07T16:53:38.733Z"
   },
   {
    "duration": 7,
    "start_time": "2021-07-07T16:53:40.445Z"
   },
   {
    "duration": 11,
    "start_time": "2021-07-07T16:53:41.348Z"
   },
   {
    "duration": 13,
    "start_time": "2021-07-07T16:53:45.250Z"
   },
   {
    "duration": 12,
    "start_time": "2021-07-07T16:53:45.467Z"
   },
   {
    "duration": 4,
    "start_time": "2021-07-07T16:55:32.704Z"
   },
   {
    "duration": 12,
    "start_time": "2021-07-07T16:55:49.012Z"
   },
   {
    "duration": 18,
    "start_time": "2021-07-07T16:55:49.547Z"
   },
   {
    "duration": 611,
    "start_time": "2021-07-07T16:58:35.156Z"
   },
   {
    "duration": 200,
    "start_time": "2021-07-07T16:58:35.770Z"
   },
   {
    "duration": 86,
    "start_time": "2021-07-07T16:58:35.972Z"
   },
   {
    "duration": 3,
    "start_time": "2021-07-07T16:58:36.060Z"
   },
   {
    "duration": 27,
    "start_time": "2021-07-07T16:58:36.065Z"
   },
   {
    "duration": 8,
    "start_time": "2021-07-07T16:58:36.094Z"
   },
   {
    "duration": 17,
    "start_time": "2021-07-07T16:58:36.103Z"
   },
   {
    "duration": 5,
    "start_time": "2021-07-07T16:58:36.123Z"
   },
   {
    "duration": 11,
    "start_time": "2021-07-07T16:58:36.130Z"
   },
   {
    "duration": 7,
    "start_time": "2021-07-07T16:58:36.143Z"
   },
   {
    "duration": 37,
    "start_time": "2021-07-07T16:58:36.152Z"
   },
   {
    "duration": 27,
    "start_time": "2021-07-07T16:58:36.191Z"
   },
   {
    "duration": 19,
    "start_time": "2021-07-07T16:58:36.219Z"
   },
   {
    "duration": 49,
    "start_time": "2021-07-07T16:58:36.240Z"
   },
   {
    "duration": 6,
    "start_time": "2021-07-07T16:58:36.291Z"
   },
   {
    "duration": 3,
    "start_time": "2021-07-07T16:58:36.299Z"
   },
   {
    "duration": 13,
    "start_time": "2021-07-07T16:58:36.304Z"
   },
   {
    "duration": 10,
    "start_time": "2021-07-07T16:58:36.319Z"
   },
   {
    "duration": 10,
    "start_time": "2021-07-07T16:58:36.331Z"
   },
   {
    "duration": 44,
    "start_time": "2021-07-07T16:58:36.343Z"
   },
   {
    "duration": 4,
    "start_time": "2021-07-07T16:58:36.388Z"
   },
   {
    "duration": 13,
    "start_time": "2021-07-07T16:58:36.394Z"
   },
   {
    "duration": 16,
    "start_time": "2021-07-07T16:58:36.410Z"
   },
   {
    "duration": 8,
    "start_time": "2021-07-07T17:02:31.629Z"
   },
   {
    "duration": 8,
    "start_time": "2021-07-07T17:02:34.308Z"
   },
   {
    "duration": 6,
    "start_time": "2021-07-07T17:05:13.483Z"
   },
   {
    "duration": 17,
    "start_time": "2021-07-07T17:05:20.606Z"
   },
   {
    "duration": 7,
    "start_time": "2021-07-07T17:05:34.638Z"
   },
   {
    "duration": 3,
    "start_time": "2021-07-07T17:06:31.883Z"
   },
   {
    "duration": 570,
    "start_time": "2021-07-07T17:06:37.165Z"
   },
   {
    "duration": 174,
    "start_time": "2021-07-07T17:06:37.737Z"
   },
   {
    "duration": 47,
    "start_time": "2021-07-07T17:06:37.913Z"
   },
   {
    "duration": 3,
    "start_time": "2021-07-07T17:06:37.962Z"
   },
   {
    "duration": 27,
    "start_time": "2021-07-07T17:06:37.967Z"
   },
   {
    "duration": 7,
    "start_time": "2021-07-07T17:06:37.996Z"
   },
   {
    "duration": 16,
    "start_time": "2021-07-07T17:06:38.005Z"
   },
   {
    "duration": 6,
    "start_time": "2021-07-07T17:06:38.024Z"
   },
   {
    "duration": 12,
    "start_time": "2021-07-07T17:06:38.031Z"
   },
   {
    "duration": 41,
    "start_time": "2021-07-07T17:06:38.045Z"
   },
   {
    "duration": 8,
    "start_time": "2021-07-07T17:06:38.088Z"
   },
   {
    "duration": 26,
    "start_time": "2021-07-07T17:06:38.098Z"
   },
   {
    "duration": 17,
    "start_time": "2021-07-07T17:06:38.126Z"
   },
   {
    "duration": 43,
    "start_time": "2021-07-07T17:06:38.144Z"
   },
   {
    "duration": 6,
    "start_time": "2021-07-07T17:06:38.188Z"
   },
   {
    "duration": 5,
    "start_time": "2021-07-07T17:06:38.195Z"
   },
   {
    "duration": 9,
    "start_time": "2021-07-07T17:06:38.201Z"
   },
   {
    "duration": 12,
    "start_time": "2021-07-07T17:06:38.212Z"
   },
   {
    "duration": 11,
    "start_time": "2021-07-07T17:06:38.226Z"
   },
   {
    "duration": 47,
    "start_time": "2021-07-07T17:06:38.239Z"
   },
   {
    "duration": 4,
    "start_time": "2021-07-07T17:06:38.288Z"
   },
   {
    "duration": 13,
    "start_time": "2021-07-07T17:06:38.293Z"
   },
   {
    "duration": 5,
    "start_time": "2021-07-07T17:06:38.309Z"
   },
   {
    "duration": 18,
    "start_time": "2021-07-07T17:06:38.325Z"
   },
   {
    "duration": 20,
    "start_time": "2021-07-07T17:07:02.805Z"
   },
   {
    "duration": 19,
    "start_time": "2021-07-07T17:07:08.527Z"
   },
   {
    "duration": 19,
    "start_time": "2021-07-07T17:07:12.758Z"
   },
   {
    "duration": 22,
    "start_time": "2021-07-07T17:07:17.497Z"
   },
   {
    "duration": 19,
    "start_time": "2021-07-07T17:07:19.645Z"
   },
   {
    "duration": 10,
    "start_time": "2021-07-07T17:07:34.239Z"
   },
   {
    "duration": 17,
    "start_time": "2021-07-07T17:07:54.144Z"
   },
   {
    "duration": 14,
    "start_time": "2021-07-07T17:08:14.357Z"
   },
   {
    "duration": 616,
    "start_time": "2021-07-07T17:08:45.254Z"
   },
   {
    "duration": 178,
    "start_time": "2021-07-07T17:08:45.872Z"
   },
   {
    "duration": 60,
    "start_time": "2021-07-07T17:08:46.054Z"
   },
   {
    "duration": 3,
    "start_time": "2021-07-07T17:08:46.116Z"
   },
   {
    "duration": 26,
    "start_time": "2021-07-07T17:08:46.121Z"
   },
   {
    "duration": 7,
    "start_time": "2021-07-07T17:08:46.149Z"
   },
   {
    "duration": 17,
    "start_time": "2021-07-07T17:08:46.158Z"
   },
   {
    "duration": 14,
    "start_time": "2021-07-07T17:08:46.176Z"
   },
   {
    "duration": 17,
    "start_time": "2021-07-07T17:08:46.193Z"
   },
   {
    "duration": 9,
    "start_time": "2021-07-07T17:08:46.211Z"
   },
   {
    "duration": 21,
    "start_time": "2021-07-07T17:08:46.221Z"
   },
   {
    "duration": 49,
    "start_time": "2021-07-07T17:08:46.244Z"
   },
   {
    "duration": 24,
    "start_time": "2021-07-07T17:08:46.295Z"
   },
   {
    "duration": 22,
    "start_time": "2021-07-07T17:08:46.321Z"
   },
   {
    "duration": 6,
    "start_time": "2021-07-07T17:08:46.345Z"
   },
   {
    "duration": 5,
    "start_time": "2021-07-07T17:08:46.353Z"
   },
   {
    "duration": 13,
    "start_time": "2021-07-07T17:08:46.386Z"
   },
   {
    "duration": 12,
    "start_time": "2021-07-07T17:08:46.402Z"
   },
   {
    "duration": 10,
    "start_time": "2021-07-07T17:08:46.415Z"
   },
   {
    "duration": 7,
    "start_time": "2021-07-07T17:08:46.427Z"
   },
   {
    "duration": 8,
    "start_time": "2021-07-07T17:08:46.435Z"
   },
   {
    "duration": 68,
    "start_time": "2021-07-07T17:08:46.446Z"
   },
   {
    "duration": 13,
    "start_time": "2021-07-07T17:08:46.516Z"
   },
   {
    "duration": 78,
    "start_time": "2021-07-07T17:08:46.530Z"
   },
   {
    "duration": 40,
    "start_time": "2021-07-07T17:09:08.185Z"
   },
   {
    "duration": 16,
    "start_time": "2021-07-07T17:09:19.324Z"
   },
   {
    "duration": 21,
    "start_time": "2021-07-07T17:09:23.290Z"
   },
   {
    "duration": 13,
    "start_time": "2021-07-07T17:09:54.812Z"
   },
   {
    "duration": 13,
    "start_time": "2021-07-07T17:10:02.039Z"
   },
   {
    "duration": 10,
    "start_time": "2021-07-07T17:10:29.632Z"
   },
   {
    "duration": 13,
    "start_time": "2021-07-07T17:10:52.372Z"
   },
   {
    "duration": 13,
    "start_time": "2021-07-07T17:11:17.270Z"
   },
   {
    "duration": 13,
    "start_time": "2021-07-07T17:14:59.284Z"
   },
   {
    "duration": 547,
    "start_time": "2021-07-07T17:18:52.403Z"
   },
   {
    "duration": 163,
    "start_time": "2021-07-07T17:18:52.952Z"
   },
   {
    "duration": 44,
    "start_time": "2021-07-07T17:18:53.117Z"
   },
   {
    "duration": 3,
    "start_time": "2021-07-07T17:18:53.162Z"
   },
   {
    "duration": 26,
    "start_time": "2021-07-07T17:18:53.167Z"
   },
   {
    "duration": 6,
    "start_time": "2021-07-07T17:18:53.195Z"
   },
   {
    "duration": 15,
    "start_time": "2021-07-07T17:18:53.203Z"
   },
   {
    "duration": 5,
    "start_time": "2021-07-07T17:18:53.220Z"
   },
   {
    "duration": 11,
    "start_time": "2021-07-07T17:18:53.228Z"
   },
   {
    "duration": 9,
    "start_time": "2021-07-07T17:18:53.241Z"
   },
   {
    "duration": 41,
    "start_time": "2021-07-07T17:18:53.252Z"
   },
   {
    "duration": 33,
    "start_time": "2021-07-07T17:18:53.295Z"
   },
   {
    "duration": 19,
    "start_time": "2021-07-07T17:18:53.330Z"
   },
   {
    "duration": 49,
    "start_time": "2021-07-07T17:18:53.350Z"
   },
   {
    "duration": 5,
    "start_time": "2021-07-07T17:18:53.401Z"
   },
   {
    "duration": 5,
    "start_time": "2021-07-07T17:18:53.408Z"
   },
   {
    "duration": 11,
    "start_time": "2021-07-07T17:18:53.414Z"
   },
   {
    "duration": 9,
    "start_time": "2021-07-07T17:18:53.427Z"
   },
   {
    "duration": 10,
    "start_time": "2021-07-07T17:18:53.437Z"
   },
   {
    "duration": 39,
    "start_time": "2021-07-07T17:18:53.448Z"
   },
   {
    "duration": 26,
    "start_time": "2021-07-07T17:18:55.799Z"
   },
   {
    "duration": 598,
    "start_time": "2021-07-07T17:20:17.862Z"
   },
   {
    "duration": 161,
    "start_time": "2021-07-07T17:20:18.462Z"
   },
   {
    "duration": 45,
    "start_time": "2021-07-07T17:20:18.626Z"
   },
   {
    "duration": 4,
    "start_time": "2021-07-07T17:20:18.673Z"
   },
   {
    "duration": 38,
    "start_time": "2021-07-07T17:20:26.877Z"
   },
   {
    "duration": 7,
    "start_time": "2021-07-07T17:20:37.405Z"
   },
   {
    "duration": 19,
    "start_time": "2021-07-07T17:20:51.534Z"
   },
   {
    "duration": 5,
    "start_time": "2021-07-07T17:20:57.228Z"
   },
   {
    "duration": 7,
    "start_time": "2021-07-07T17:21:08.235Z"
   },
   {
    "duration": 19,
    "start_time": "2021-07-07T17:21:42.158Z"
   },
   {
    "duration": 14,
    "start_time": "2021-07-07T17:21:50.225Z"
   },
   {
    "duration": 22,
    "start_time": "2021-07-07T17:22:54.104Z"
   },
   {
    "duration": 5,
    "start_time": "2021-07-07T17:22:56.371Z"
   },
   {
    "duration": 14,
    "start_time": "2021-07-07T17:22:58.316Z"
   },
   {
    "duration": 5,
    "start_time": "2021-07-07T17:22:58.493Z"
   },
   {
    "duration": 35,
    "start_time": "2021-07-07T17:22:59.666Z"
   },
   {
    "duration": 6,
    "start_time": "2021-07-07T17:23:02.410Z"
   },
   {
    "duration": 611,
    "start_time": "2021-07-07T17:24:59.664Z"
   },
   {
    "duration": 178,
    "start_time": "2021-07-07T17:25:01.945Z"
   },
   {
    "duration": 47,
    "start_time": "2021-07-07T17:25:02.125Z"
   },
   {
    "duration": 2,
    "start_time": "2021-07-07T17:25:07.903Z"
   },
   {
    "duration": 254,
    "start_time": "2021-07-07T17:25:08.232Z"
   },
   {
    "duration": 182,
    "start_time": "2021-07-07T17:25:08.671Z"
   },
   {
    "duration": 6,
    "start_time": "2021-07-07T17:25:13.104Z"
   },
   {
    "duration": 36,
    "start_time": "2021-07-07T17:25:13.662Z"
   },
   {
    "duration": 7,
    "start_time": "2021-07-07T17:25:14.528Z"
   },
   {
    "duration": 24,
    "start_time": "2021-07-07T17:25:27.982Z"
   },
   {
    "duration": 3,
    "start_time": "2021-07-07T17:25:48.982Z"
   },
   {
    "duration": 165,
    "start_time": "2021-07-07T17:25:48.987Z"
   },
   {
    "duration": 50,
    "start_time": "2021-07-07T17:25:49.154Z"
   },
   {
    "duration": 4,
    "start_time": "2021-07-07T17:25:49.206Z"
   },
   {
    "duration": 26,
    "start_time": "2021-07-07T17:25:49.212Z"
   },
   {
    "duration": 7,
    "start_time": "2021-07-07T17:25:49.240Z"
   },
   {
    "duration": 16,
    "start_time": "2021-07-07T17:25:49.249Z"
   },
   {
    "duration": 22,
    "start_time": "2021-07-07T17:25:49.266Z"
   },
   {
    "duration": 16,
    "start_time": "2021-07-07T17:25:49.291Z"
   },
   {
    "duration": 9,
    "start_time": "2021-07-07T17:25:49.309Z"
   },
   {
    "duration": 7,
    "start_time": "2021-07-07T17:25:49.319Z"
   },
   {
    "duration": 28,
    "start_time": "2021-07-07T17:25:49.328Z"
   },
   {
    "duration": 44,
    "start_time": "2021-07-07T17:25:49.357Z"
   },
   {
    "duration": 22,
    "start_time": "2021-07-07T17:25:49.403Z"
   },
   {
    "duration": 7,
    "start_time": "2021-07-07T17:25:49.427Z"
   },
   {
    "duration": 3,
    "start_time": "2021-07-07T17:25:49.436Z"
   },
   {
    "duration": 44,
    "start_time": "2021-07-07T17:25:49.441Z"
   },
   {
    "duration": 12,
    "start_time": "2021-07-07T17:25:49.488Z"
   },
   {
    "duration": 13,
    "start_time": "2021-07-07T17:25:49.502Z"
   },
   {
    "duration": 10,
    "start_time": "2021-07-07T17:25:49.516Z"
   },
   {
    "duration": 62,
    "start_time": "2021-07-07T17:25:49.527Z"
   },
   {
    "duration": 26,
    "start_time": "2021-07-07T17:26:51.809Z"
   },
   {
    "duration": 26,
    "start_time": "2021-07-07T17:26:55.759Z"
   },
   {
    "duration": 26,
    "start_time": "2021-07-07T17:27:04.501Z"
   },
   {
    "duration": 25,
    "start_time": "2021-07-07T17:28:24.859Z"
   },
   {
    "duration": 21,
    "start_time": "2021-07-07T17:28:55.250Z"
   },
   {
    "duration": 21,
    "start_time": "2021-07-07T17:28:58.885Z"
   },
   {
    "duration": 7,
    "start_time": "2021-07-07T17:45:40.972Z"
   },
   {
    "duration": 13,
    "start_time": "2021-07-07T17:45:42.529Z"
   },
   {
    "duration": 27,
    "start_time": "2021-07-07T17:45:51.026Z"
   },
   {
    "duration": 518,
    "start_time": "2021-07-07T17:46:15.532Z"
   },
   {
    "duration": 235,
    "start_time": "2021-07-07T17:46:16.053Z"
   },
   {
    "duration": 80,
    "start_time": "2021-07-07T17:46:16.292Z"
   },
   {
    "duration": 5,
    "start_time": "2021-07-07T17:46:16.373Z"
   },
   {
    "duration": 26,
    "start_time": "2021-07-07T17:46:16.380Z"
   },
   {
    "duration": 7,
    "start_time": "2021-07-07T17:46:16.408Z"
   },
   {
    "duration": 16,
    "start_time": "2021-07-07T17:46:16.418Z"
   },
   {
    "duration": 5,
    "start_time": "2021-07-07T17:46:16.436Z"
   },
   {
    "duration": 13,
    "start_time": "2021-07-07T17:46:16.442Z"
   },
   {
    "duration": 35,
    "start_time": "2021-07-07T17:46:16.456Z"
   },
   {
    "duration": 8,
    "start_time": "2021-07-07T17:46:16.493Z"
   },
   {
    "duration": 28,
    "start_time": "2021-07-07T17:46:16.502Z"
   },
   {
    "duration": 17,
    "start_time": "2021-07-07T17:46:16.532Z"
   },
   {
    "duration": 44,
    "start_time": "2021-07-07T17:46:16.551Z"
   },
   {
    "duration": 6,
    "start_time": "2021-07-07T17:46:16.597Z"
   },
   {
    "duration": 4,
    "start_time": "2021-07-07T17:46:16.605Z"
   },
   {
    "duration": 9,
    "start_time": "2021-07-07T17:46:16.610Z"
   },
   {
    "duration": 9,
    "start_time": "2021-07-07T17:46:16.621Z"
   },
   {
    "duration": 10,
    "start_time": "2021-07-07T17:46:16.632Z"
   },
   {
    "duration": 43,
    "start_time": "2021-07-07T17:46:16.644Z"
   },
   {
    "duration": 26,
    "start_time": "2021-07-07T17:46:16.689Z"
   },
   {
    "duration": 19,
    "start_time": "2021-07-07T17:46:16.718Z"
   },
   {
    "duration": 8,
    "start_time": "2021-07-07T17:46:16.738Z"
   },
   {
    "duration": 43,
    "start_time": "2021-07-07T17:46:16.747Z"
   },
   {
    "duration": 19,
    "start_time": "2021-07-07T17:46:16.791Z"
   },
   {
    "duration": 9,
    "start_time": "2021-07-07T17:46:16.812Z"
   },
   {
    "duration": 60,
    "start_time": "2021-07-07T17:46:16.822Z"
   },
   {
    "duration": -8,
    "start_time": "2021-07-07T17:46:16.892Z"
   },
   {
    "duration": 12,
    "start_time": "2021-07-07T17:48:47.707Z"
   },
   {
    "duration": 553,
    "start_time": "2021-07-07T18:10:09.350Z"
   },
   {
    "duration": 230,
    "start_time": "2021-07-07T18:10:09.905Z"
   },
   {
    "duration": 97,
    "start_time": "2021-07-07T18:10:10.137Z"
   },
   {
    "duration": 5,
    "start_time": "2021-07-07T18:10:10.236Z"
   },
   {
    "duration": 29,
    "start_time": "2021-07-07T18:10:10.242Z"
   },
   {
    "duration": 7,
    "start_time": "2021-07-07T18:10:10.272Z"
   },
   {
    "duration": 15,
    "start_time": "2021-07-07T18:10:10.281Z"
   },
   {
    "duration": 4,
    "start_time": "2021-07-07T18:10:10.299Z"
   },
   {
    "duration": 14,
    "start_time": "2021-07-07T18:10:10.305Z"
   },
   {
    "duration": 8,
    "start_time": "2021-07-07T18:10:10.321Z"
   },
   {
    "duration": 8,
    "start_time": "2021-07-07T18:10:10.331Z"
   },
   {
    "duration": 56,
    "start_time": "2021-07-07T18:10:10.341Z"
   },
   {
    "duration": 19,
    "start_time": "2021-07-07T18:10:10.399Z"
   },
   {
    "duration": 23,
    "start_time": "2021-07-07T18:10:10.419Z"
   },
   {
    "duration": 6,
    "start_time": "2021-07-07T18:10:10.444Z"
   },
   {
    "duration": 9,
    "start_time": "2021-07-07T18:10:10.451Z"
   },
   {
    "duration": 30,
    "start_time": "2021-07-07T18:10:10.462Z"
   },
   {
    "duration": 9,
    "start_time": "2021-07-07T18:10:10.494Z"
   },
   {
    "duration": 14,
    "start_time": "2021-07-07T18:10:10.505Z"
   },
   {
    "duration": 7,
    "start_time": "2021-07-07T18:10:10.521Z"
   },
   {
    "duration": 26,
    "start_time": "2021-07-07T18:10:10.530Z"
   },
   {
    "duration": 44,
    "start_time": "2021-07-07T18:10:10.558Z"
   },
   {
    "duration": 7,
    "start_time": "2021-07-07T18:10:10.605Z"
   },
   {
    "duration": 11,
    "start_time": "2021-07-07T18:10:10.614Z"
   },
   {
    "duration": 19,
    "start_time": "2021-07-07T18:10:10.626Z"
   },
   {
    "duration": 44,
    "start_time": "2021-07-07T18:10:10.646Z"
   },
   {
    "duration": 516,
    "start_time": "2021-07-07T18:14:00.826Z"
   },
   {
    "duration": 230,
    "start_time": "2021-07-07T18:14:01.344Z"
   },
   {
    "duration": 105,
    "start_time": "2021-07-07T18:14:01.576Z"
   },
   {
    "duration": 5,
    "start_time": "2021-07-07T18:14:01.683Z"
   },
   {
    "duration": 46,
    "start_time": "2021-07-07T18:14:01.690Z"
   },
   {
    "duration": 7,
    "start_time": "2021-07-07T18:14:01.738Z"
   },
   {
    "duration": 20,
    "start_time": "2021-07-07T18:14:01.747Z"
   },
   {
    "duration": 16,
    "start_time": "2021-07-07T18:14:01.769Z"
   },
   {
    "duration": 14,
    "start_time": "2021-07-07T18:14:01.787Z"
   },
   {
    "duration": 15,
    "start_time": "2021-07-07T18:14:01.803Z"
   },
   {
    "duration": 12,
    "start_time": "2021-07-07T18:14:01.820Z"
   },
   {
    "duration": 35,
    "start_time": "2021-07-07T18:14:01.833Z"
   },
   {
    "duration": 31,
    "start_time": "2021-07-07T18:14:01.869Z"
   },
   {
    "duration": 37,
    "start_time": "2021-07-07T18:14:01.902Z"
   },
   {
    "duration": 8,
    "start_time": "2021-07-07T18:14:01.942Z"
   },
   {
    "duration": 16,
    "start_time": "2021-07-07T18:14:01.952Z"
   },
   {
    "duration": 13,
    "start_time": "2021-07-07T18:14:01.970Z"
   },
   {
    "duration": 32,
    "start_time": "2021-07-07T18:14:01.985Z"
   },
   {
    "duration": 11,
    "start_time": "2021-07-07T18:14:02.019Z"
   },
   {
    "duration": 22,
    "start_time": "2021-07-07T18:14:02.031Z"
   },
   {
    "duration": 27,
    "start_time": "2021-07-07T18:14:02.055Z"
   },
   {
    "duration": 18,
    "start_time": "2021-07-07T18:14:02.084Z"
   },
   {
    "duration": 18,
    "start_time": "2021-07-07T18:14:02.106Z"
   },
   {
    "duration": 11,
    "start_time": "2021-07-07T18:14:02.126Z"
   },
   {
    "duration": 21,
    "start_time": "2021-07-07T18:14:02.138Z"
   },
   {
    "duration": 32,
    "start_time": "2021-07-07T18:14:02.161Z"
   },
   {
    "duration": 28,
    "start_time": "2021-07-07T18:14:44.295Z"
   },
   {
    "duration": 6,
    "start_time": "2021-07-07T18:15:05.834Z"
   },
   {
    "duration": 511,
    "start_time": "2021-07-07T18:15:41.541Z"
   },
   {
    "duration": 183,
    "start_time": "2021-07-07T18:15:42.054Z"
   },
   {
    "duration": 50,
    "start_time": "2021-07-07T18:15:42.239Z"
   },
   {
    "duration": 5,
    "start_time": "2021-07-07T18:15:42.291Z"
   },
   {
    "duration": 48,
    "start_time": "2021-07-07T18:15:42.297Z"
   },
   {
    "duration": 8,
    "start_time": "2021-07-07T18:15:42.346Z"
   },
   {
    "duration": 17,
    "start_time": "2021-07-07T18:15:42.356Z"
   },
   {
    "duration": 15,
    "start_time": "2021-07-07T18:15:42.375Z"
   },
   {
    "duration": 12,
    "start_time": "2021-07-07T18:15:42.392Z"
   },
   {
    "duration": 7,
    "start_time": "2021-07-07T18:15:42.406Z"
   },
   {
    "duration": 7,
    "start_time": "2021-07-07T18:15:42.415Z"
   },
   {
    "duration": 29,
    "start_time": "2021-07-07T18:15:42.423Z"
   },
   {
    "duration": 43,
    "start_time": "2021-07-07T18:15:42.453Z"
   },
   {
    "duration": 18,
    "start_time": "2021-07-07T18:15:42.497Z"
   },
   {
    "duration": 6,
    "start_time": "2021-07-07T18:15:42.516Z"
   },
   {
    "duration": 3,
    "start_time": "2021-07-07T18:15:42.523Z"
   },
   {
    "duration": 18,
    "start_time": "2021-07-07T18:15:42.528Z"
   },
   {
    "duration": 10,
    "start_time": "2021-07-07T18:15:42.547Z"
   },
   {
    "duration": 36,
    "start_time": "2021-07-07T18:15:42.559Z"
   },
   {
    "duration": 8,
    "start_time": "2021-07-07T18:15:42.597Z"
   },
   {
    "duration": 28,
    "start_time": "2021-07-07T18:15:42.606Z"
   },
   {
    "duration": 52,
    "start_time": "2021-07-07T18:15:42.635Z"
   },
   {
    "duration": 7,
    "start_time": "2021-07-07T18:15:42.690Z"
   },
   {
    "duration": 10,
    "start_time": "2021-07-07T18:15:42.699Z"
   },
   {
    "duration": 19,
    "start_time": "2021-07-07T18:15:42.711Z"
   },
   {
    "duration": 9,
    "start_time": "2021-07-07T18:15:42.732Z"
   },
   {
    "duration": 5,
    "start_time": "2021-07-07T18:15:42.743Z"
   },
   {
    "duration": 1450,
    "start_time": "2021-07-07T18:15:51.984Z"
   },
   {
    "duration": 161,
    "start_time": "2021-07-07T18:15:53.435Z"
   },
   {
    "duration": 124,
    "start_time": "2021-07-07T18:15:53.598Z"
   },
   {
    "duration": 5,
    "start_time": "2021-07-07T18:15:53.724Z"
   },
   {
    "duration": 34,
    "start_time": "2021-07-07T18:15:53.730Z"
   },
   {
    "duration": 7,
    "start_time": "2021-07-07T18:15:53.765Z"
   },
   {
    "duration": 15,
    "start_time": "2021-07-07T18:15:53.773Z"
   },
   {
    "duration": 5,
    "start_time": "2021-07-07T18:15:53.791Z"
   },
   {
    "duration": 19,
    "start_time": "2021-07-07T18:15:53.798Z"
   },
   {
    "duration": 9,
    "start_time": "2021-07-07T18:15:53.818Z"
   },
   {
    "duration": 19,
    "start_time": "2021-07-07T18:15:53.828Z"
   },
   {
    "duration": 27,
    "start_time": "2021-07-07T18:15:53.848Z"
   },
   {
    "duration": 16,
    "start_time": "2021-07-07T18:15:53.884Z"
   },
   {
    "duration": 29,
    "start_time": "2021-07-07T18:15:53.901Z"
   },
   {
    "duration": 5,
    "start_time": "2021-07-07T18:15:53.932Z"
   },
   {
    "duration": 15,
    "start_time": "2021-07-07T18:15:53.939Z"
   },
   {
    "duration": 13,
    "start_time": "2021-07-07T18:15:53.956Z"
   },
   {
    "duration": 20,
    "start_time": "2021-07-07T18:15:53.971Z"
   },
   {
    "duration": 14,
    "start_time": "2021-07-07T18:15:53.992Z"
   },
   {
    "duration": 9,
    "start_time": "2021-07-07T18:15:54.009Z"
   },
   {
    "duration": 28,
    "start_time": "2021-07-07T18:15:54.020Z"
   },
   {
    "duration": 50,
    "start_time": "2021-07-07T18:15:54.051Z"
   },
   {
    "duration": 8,
    "start_time": "2021-07-07T18:15:54.105Z"
   },
   {
    "duration": 11,
    "start_time": "2021-07-07T18:15:54.115Z"
   },
   {
    "duration": 20,
    "start_time": "2021-07-07T18:15:54.128Z"
   },
   {
    "duration": 13,
    "start_time": "2021-07-07T18:15:54.184Z"
   },
   {
    "duration": 7,
    "start_time": "2021-07-07T18:15:54.199Z"
   },
   {
    "duration": 7,
    "start_time": "2021-07-07T18:17:08.042Z"
   },
   {
    "duration": 8,
    "start_time": "2021-07-07T18:17:21.008Z"
   },
   {
    "duration": 7,
    "start_time": "2021-07-07T18:17:29.003Z"
   },
   {
    "duration": 8,
    "start_time": "2021-07-07T18:17:32.492Z"
   },
   {
    "duration": 9,
    "start_time": "2021-07-07T18:17:41.758Z"
   },
   {
    "duration": 255,
    "start_time": "2021-07-07T18:20:20.897Z"
   },
   {
    "duration": 173,
    "start_time": "2021-07-07T18:20:26.636Z"
   },
   {
    "duration": 7,
    "start_time": "2021-07-07T18:21:47.164Z"
   },
   {
    "duration": 254,
    "start_time": "2021-07-07T18:23:08.703Z"
   },
   {
    "duration": 21,
    "start_time": "2021-07-07T18:23:22.506Z"
   },
   {
    "duration": 315,
    "start_time": "2021-07-07T18:25:54.801Z"
   },
   {
    "duration": 34,
    "start_time": "2021-07-07T18:26:51.817Z"
   },
   {
    "duration": 327,
    "start_time": "2021-07-07T18:26:56.147Z"
   },
   {
    "duration": 342,
    "start_time": "2021-07-07T18:27:15.887Z"
   },
   {
    "duration": 302,
    "start_time": "2021-07-07T18:28:18.569Z"
   },
   {
    "duration": 226,
    "start_time": "2021-07-07T18:29:20.879Z"
   },
   {
    "duration": 207,
    "start_time": "2021-07-07T18:29:58.114Z"
   },
   {
    "duration": 140,
    "start_time": "2021-07-07T18:32:04.372Z"
   },
   {
    "duration": 158,
    "start_time": "2021-07-07T18:32:32.508Z"
   },
   {
    "duration": 145,
    "start_time": "2021-07-07T18:32:41.365Z"
   },
   {
    "duration": 132,
    "start_time": "2021-07-07T18:32:45.199Z"
   },
   {
    "duration": 11,
    "start_time": "2021-07-07T18:35:24.679Z"
   },
   {
    "duration": 268,
    "start_time": "2021-07-07T18:36:16.145Z"
   },
   {
    "duration": 227,
    "start_time": "2021-07-07T18:37:04.918Z"
   },
   {
    "duration": 3,
    "start_time": "2021-07-07T18:37:33.012Z"
   },
   {
    "duration": 671,
    "start_time": "2021-07-07T18:37:38.295Z"
   },
   {
    "duration": 54,
    "start_time": "2021-07-07T18:37:53.406Z"
   },
   {
    "duration": 631,
    "start_time": "2021-07-07T18:37:56.463Z"
   },
   {
    "duration": 19,
    "start_time": "2021-07-07T18:39:40.535Z"
   },
   {
    "duration": 20,
    "start_time": "2021-07-07T18:40:12.236Z"
   },
   {
    "duration": 633,
    "start_time": "2021-07-07T18:42:00.398Z"
   },
   {
    "duration": 218,
    "start_time": "2021-07-07T18:42:01.033Z"
   },
   {
    "duration": 49,
    "start_time": "2021-07-07T18:42:01.253Z"
   },
   {
    "duration": 5,
    "start_time": "2021-07-07T18:42:01.303Z"
   },
   {
    "duration": 27,
    "start_time": "2021-07-07T18:42:01.310Z"
   },
   {
    "duration": 8,
    "start_time": "2021-07-07T18:42:01.339Z"
   },
   {
    "duration": 20,
    "start_time": "2021-07-07T18:42:01.348Z"
   },
   {
    "duration": 6,
    "start_time": "2021-07-07T18:42:01.386Z"
   },
   {
    "duration": 16,
    "start_time": "2021-07-07T18:42:01.394Z"
   },
   {
    "duration": 9,
    "start_time": "2021-07-07T18:42:01.411Z"
   },
   {
    "duration": 11,
    "start_time": "2021-07-07T18:42:01.421Z"
   },
   {
    "duration": 31,
    "start_time": "2021-07-07T18:42:01.434Z"
   },
   {
    "duration": 18,
    "start_time": "2021-07-07T18:42:01.485Z"
   },
   {
    "duration": 23,
    "start_time": "2021-07-07T18:42:01.505Z"
   },
   {
    "duration": 6,
    "start_time": "2021-07-07T18:42:01.530Z"
   },
   {
    "duration": 10,
    "start_time": "2021-07-07T18:42:01.538Z"
   },
   {
    "duration": 13,
    "start_time": "2021-07-07T18:42:01.550Z"
   },
   {
    "duration": 24,
    "start_time": "2021-07-07T18:42:01.564Z"
   },
   {
    "duration": 20,
    "start_time": "2021-07-07T18:42:01.590Z"
   },
   {
    "duration": 8,
    "start_time": "2021-07-07T18:42:01.611Z"
   },
   {
    "duration": 31,
    "start_time": "2021-07-07T18:42:01.620Z"
   },
   {
    "duration": 39,
    "start_time": "2021-07-07T18:42:01.653Z"
   },
   {
    "duration": 8,
    "start_time": "2021-07-07T18:42:01.696Z"
   },
   {
    "duration": 13,
    "start_time": "2021-07-07T18:42:01.705Z"
   },
   {
    "duration": 20,
    "start_time": "2021-07-07T18:42:01.720Z"
   },
   {
    "duration": 12,
    "start_time": "2021-07-07T18:42:01.741Z"
   },
   {
    "duration": 35,
    "start_time": "2021-07-07T18:42:01.755Z"
   },
   {
    "duration": 14,
    "start_time": "2021-07-07T18:42:01.792Z"
   },
   {
    "duration": 188,
    "start_time": "2021-07-07T18:42:01.808Z"
   },
   {
    "duration": 19,
    "start_time": "2021-07-07T18:42:01.998Z"
   },
   {
    "duration": 175,
    "start_time": "2021-07-07T18:42:02.019Z"
   },
   {
    "duration": 134,
    "start_time": "2021-07-07T18:42:02.196Z"
   },
   {
    "duration": 10,
    "start_time": "2021-07-07T18:42:02.331Z"
   },
   {
    "duration": 19,
    "start_time": "2021-07-07T18:42:02.343Z"
   },
   {
    "duration": 628,
    "start_time": "2021-07-07T18:46:30.701Z"
   },
   {
    "duration": 183,
    "start_time": "2021-07-07T18:46:31.331Z"
   },
   {
    "duration": 48,
    "start_time": "2021-07-07T18:46:31.516Z"
   },
   {
    "duration": 5,
    "start_time": "2021-07-07T18:46:31.566Z"
   },
   {
    "duration": 28,
    "start_time": "2021-07-07T18:46:31.572Z"
   },
   {
    "duration": 8,
    "start_time": "2021-07-07T18:46:31.602Z"
   },
   {
    "duration": 19,
    "start_time": "2021-07-07T18:46:31.611Z"
   },
   {
    "duration": 6,
    "start_time": "2021-07-07T18:46:31.633Z"
   },
   {
    "duration": 17,
    "start_time": "2021-07-07T18:46:31.642Z"
   },
   {
    "duration": 10,
    "start_time": "2021-07-07T18:46:31.684Z"
   },
   {
    "duration": 9,
    "start_time": "2021-07-07T18:46:31.695Z"
   },
   {
    "duration": 28,
    "start_time": "2021-07-07T18:46:31.705Z"
   },
   {
    "duration": 18,
    "start_time": "2021-07-07T18:46:31.735Z"
   },
   {
    "duration": 48,
    "start_time": "2021-07-07T18:46:31.755Z"
   },
   {
    "duration": 6,
    "start_time": "2021-07-07T18:46:31.804Z"
   },
   {
    "duration": 4,
    "start_time": "2021-07-07T18:46:31.812Z"
   },
   {
    "duration": 9,
    "start_time": "2021-07-07T18:46:31.817Z"
   },
   {
    "duration": 10,
    "start_time": "2021-07-07T18:46:31.827Z"
   },
   {
    "duration": 12,
    "start_time": "2021-07-07T18:46:31.838Z"
   },
   {
    "duration": 39,
    "start_time": "2021-07-07T18:46:31.851Z"
   },
   {
    "duration": 24,
    "start_time": "2021-07-07T18:46:31.892Z"
   },
   {
    "duration": 15,
    "start_time": "2021-07-07T18:46:31.918Z"
   },
   {
    "duration": 7,
    "start_time": "2021-07-07T18:46:31.936Z"
   },
   {
    "duration": 8,
    "start_time": "2021-07-07T18:46:31.944Z"
   },
   {
    "duration": 19,
    "start_time": "2021-07-07T18:46:31.984Z"
   },
   {
    "duration": 10,
    "start_time": "2021-07-07T18:46:32.004Z"
   },
   {
    "duration": 5,
    "start_time": "2021-07-07T18:46:32.016Z"
   },
   {
    "duration": 9,
    "start_time": "2021-07-07T18:46:32.023Z"
   },
   {
    "duration": 199,
    "start_time": "2021-07-07T18:46:32.033Z"
   },
   {
    "duration": 19,
    "start_time": "2021-07-07T18:46:32.234Z"
   },
   {
    "duration": 159,
    "start_time": "2021-07-07T18:46:32.255Z"
   },
   {
    "duration": 134,
    "start_time": "2021-07-07T18:46:32.416Z"
   },
   {
    "duration": 10,
    "start_time": "2021-07-07T18:46:32.552Z"
   },
   {
    "duration": 34,
    "start_time": "2021-07-07T18:46:32.563Z"
   },
   {
    "duration": 1039,
    "start_time": "2021-07-08T08:41:09.419Z"
   },
   {
    "duration": 333,
    "start_time": "2021-07-08T08:41:10.459Z"
   },
   {
    "duration": 173,
    "start_time": "2021-07-08T08:41:10.794Z"
   },
   {
    "duration": 5,
    "start_time": "2021-07-08T08:41:10.968Z"
   },
   {
    "duration": 25,
    "start_time": "2021-07-08T08:41:10.975Z"
   },
   {
    "duration": 9,
    "start_time": "2021-07-08T08:41:11.002Z"
   },
   {
    "duration": 18,
    "start_time": "2021-07-08T08:41:11.013Z"
   },
   {
    "duration": 6,
    "start_time": "2021-07-08T08:41:11.033Z"
   },
   {
    "duration": 44,
    "start_time": "2021-07-08T08:41:11.042Z"
   },
   {
    "duration": 10,
    "start_time": "2021-07-08T08:41:11.088Z"
   },
   {
    "duration": 9,
    "start_time": "2021-07-08T08:41:11.100Z"
   },
   {
    "duration": 27,
    "start_time": "2021-07-08T08:41:11.111Z"
   },
   {
    "duration": 46,
    "start_time": "2021-07-08T08:41:11.140Z"
   },
   {
    "duration": 17,
    "start_time": "2021-07-08T08:41:11.187Z"
   },
   {
    "duration": 6,
    "start_time": "2021-07-08T08:41:11.206Z"
   },
   {
    "duration": 5,
    "start_time": "2021-07-08T08:41:11.213Z"
   },
   {
    "duration": 10,
    "start_time": "2021-07-08T08:41:11.219Z"
   },
   {
    "duration": 9,
    "start_time": "2021-07-08T08:41:11.230Z"
   },
   {
    "duration": 45,
    "start_time": "2021-07-08T08:41:11.241Z"
   },
   {
    "duration": 7,
    "start_time": "2021-07-08T08:41:11.287Z"
   },
   {
    "duration": 24,
    "start_time": "2021-07-08T08:41:11.296Z"
   },
   {
    "duration": 16,
    "start_time": "2021-07-08T08:41:11.322Z"
   },
   {
    "duration": 7,
    "start_time": "2021-07-08T08:41:11.341Z"
   },
   {
    "duration": 41,
    "start_time": "2021-07-08T08:41:11.349Z"
   },
   {
    "duration": 17,
    "start_time": "2021-07-08T08:41:11.391Z"
   },
   {
    "duration": 9,
    "start_time": "2021-07-08T08:41:11.410Z"
   },
   {
    "duration": 5,
    "start_time": "2021-07-08T08:41:11.421Z"
   },
   {
    "duration": 6,
    "start_time": "2021-07-08T08:41:11.428Z"
   },
   {
    "duration": 198,
    "start_time": "2021-07-08T08:41:11.435Z"
   },
   {
    "duration": 18,
    "start_time": "2021-07-08T08:41:11.635Z"
   },
   {
    "duration": 155,
    "start_time": "2021-07-08T08:41:11.655Z"
   },
   {
    "duration": 138,
    "start_time": "2021-07-08T08:41:11.811Z"
   },
   {
    "duration": 10,
    "start_time": "2021-07-08T08:41:11.950Z"
   },
   {
    "duration": 29,
    "start_time": "2021-07-08T08:41:11.961Z"
   },
   {
    "duration": 171,
    "start_time": "2021-07-08T08:47:44.522Z"
   },
   {
    "duration": 124,
    "start_time": "2021-07-08T08:47:46.872Z"
   },
   {
    "duration": 191,
    "start_time": "2021-07-08T08:47:58.148Z"
   },
   {
    "duration": 191,
    "start_time": "2021-07-08T08:48:07.412Z"
   },
   {
    "duration": 261,
    "start_time": "2021-07-08T08:48:10.385Z"
   },
   {
    "duration": 255,
    "start_time": "2021-07-08T08:48:14.494Z"
   },
   {
    "duration": 219,
    "start_time": "2021-07-08T08:48:22.752Z"
   },
   {
    "duration": 173,
    "start_time": "2021-07-08T08:49:06.395Z"
   },
   {
    "duration": 180,
    "start_time": "2021-07-08T08:49:21.011Z"
   },
   {
    "duration": 6,
    "start_time": "2021-07-08T08:50:31.697Z"
   },
   {
    "duration": 10,
    "start_time": "2021-07-08T08:50:47.394Z"
   },
   {
    "duration": 11,
    "start_time": "2021-07-08T08:53:49.332Z"
   },
   {
    "duration": 171,
    "start_time": "2021-07-08T08:54:28.408Z"
   },
   {
    "duration": 636,
    "start_time": "2021-07-08T09:02:48.385Z"
   },
   {
    "duration": 227,
    "start_time": "2021-07-08T09:02:49.023Z"
   },
   {
    "duration": 104,
    "start_time": "2021-07-08T09:02:49.252Z"
   },
   {
    "duration": 5,
    "start_time": "2021-07-08T09:02:49.358Z"
   },
   {
    "duration": 27,
    "start_time": "2021-07-08T09:02:49.365Z"
   },
   {
    "duration": 8,
    "start_time": "2021-07-08T09:02:49.394Z"
   },
   {
    "duration": 18,
    "start_time": "2021-07-08T09:02:49.404Z"
   },
   {
    "duration": 6,
    "start_time": "2021-07-08T09:02:49.424Z"
   },
   {
    "duration": 11,
    "start_time": "2021-07-08T09:02:49.433Z"
   },
   {
    "duration": 13,
    "start_time": "2021-07-08T09:02:49.485Z"
   },
   {
    "duration": 9,
    "start_time": "2021-07-08T09:02:49.500Z"
   },
   {
    "duration": 38,
    "start_time": "2021-07-08T09:02:49.511Z"
   },
   {
    "duration": 42,
    "start_time": "2021-07-08T09:02:49.551Z"
   },
   {
    "duration": 21,
    "start_time": "2021-07-08T09:02:49.594Z"
   },
   {
    "duration": 6,
    "start_time": "2021-07-08T09:02:49.616Z"
   },
   {
    "duration": 3,
    "start_time": "2021-07-08T09:02:49.623Z"
   },
   {
    "duration": 9,
    "start_time": "2021-07-08T09:02:49.628Z"
   },
   {
    "duration": 52,
    "start_time": "2021-07-08T09:02:49.638Z"
   },
   {
    "duration": 11,
    "start_time": "2021-07-08T09:02:49.692Z"
   },
   {
    "duration": 8,
    "start_time": "2021-07-08T09:02:49.704Z"
   },
   {
    "duration": 27,
    "start_time": "2021-07-08T09:02:49.713Z"
   },
   {
    "duration": 59,
    "start_time": "2021-07-08T09:02:49.741Z"
   },
   {
    "duration": 8,
    "start_time": "2021-07-08T09:02:49.803Z"
   },
   {
    "duration": 14,
    "start_time": "2021-07-08T09:02:49.813Z"
   },
   {
    "duration": 20,
    "start_time": "2021-07-08T09:02:49.829Z"
   },
   {
    "duration": 44,
    "start_time": "2021-07-08T09:02:49.851Z"
   },
   {
    "duration": 14,
    "start_time": "2021-07-08T09:02:49.896Z"
   },
   {
    "duration": 221,
    "start_time": "2021-07-08T09:02:49.912Z"
   },
   {
    "duration": 6,
    "start_time": "2021-07-08T09:02:50.134Z"
   },
   {
    "duration": 206,
    "start_time": "2021-07-08T09:02:50.142Z"
   },
   {
    "duration": 19,
    "start_time": "2021-07-08T09:02:50.350Z"
   },
   {
    "duration": 21,
    "start_time": "2021-07-08T09:02:50.370Z"
   },
   {
    "duration": 20,
    "start_time": "2021-07-08T09:02:50.393Z"
   },
   {
    "duration": 5,
    "start_time": "2021-07-08T09:02:50.414Z"
   },
   {
    "duration": 5,
    "start_time": "2021-07-08T09:03:34.173Z"
   },
   {
    "duration": 6,
    "start_time": "2021-07-08T09:04:49.062Z"
   },
   {
    "duration": 9,
    "start_time": "2021-07-08T09:04:50.118Z"
   },
   {
    "duration": 14,
    "start_time": "2021-07-08T09:04:58.512Z"
   },
   {
    "duration": 9,
    "start_time": "2021-07-08T09:05:10.988Z"
   },
   {
    "duration": 11,
    "start_time": "2021-07-08T09:05:11.743Z"
   },
   {
    "duration": 7,
    "start_time": "2021-07-08T09:05:25.677Z"
   },
   {
    "duration": 13,
    "start_time": "2021-07-08T09:05:47.189Z"
   },
   {
    "duration": 13,
    "start_time": "2021-07-08T09:05:54.755Z"
   },
   {
    "duration": 4,
    "start_time": "2021-07-08T09:06:29.189Z"
   },
   {
    "duration": 244,
    "start_time": "2021-07-08T09:06:29.195Z"
   },
   {
    "duration": 91,
    "start_time": "2021-07-08T09:06:29.441Z"
   },
   {
    "duration": 4,
    "start_time": "2021-07-08T09:06:29.534Z"
   },
   {
    "duration": 28,
    "start_time": "2021-07-08T09:06:29.540Z"
   },
   {
    "duration": 6,
    "start_time": "2021-07-08T09:06:29.570Z"
   },
   {
    "duration": 18,
    "start_time": "2021-07-08T09:06:29.578Z"
   },
   {
    "duration": 5,
    "start_time": "2021-07-08T09:06:29.597Z"
   },
   {
    "duration": 13,
    "start_time": "2021-07-08T09:06:29.605Z"
   },
   {
    "duration": 8,
    "start_time": "2021-07-08T09:06:29.620Z"
   },
   {
    "duration": 7,
    "start_time": "2021-07-08T09:06:29.630Z"
   },
   {
    "duration": 63,
    "start_time": "2021-07-08T09:06:29.639Z"
   },
   {
    "duration": 17,
    "start_time": "2021-07-08T09:06:29.704Z"
   },
   {
    "duration": 20,
    "start_time": "2021-07-08T09:06:29.723Z"
   },
   {
    "duration": 6,
    "start_time": "2021-07-08T09:06:29.745Z"
   },
   {
    "duration": 3,
    "start_time": "2021-07-08T09:06:29.752Z"
   },
   {
    "duration": 7,
    "start_time": "2021-07-08T09:06:29.785Z"
   },
   {
    "duration": 11,
    "start_time": "2021-07-08T09:06:29.794Z"
   },
   {
    "duration": 15,
    "start_time": "2021-07-08T09:06:29.807Z"
   },
   {
    "duration": 8,
    "start_time": "2021-07-08T09:06:29.823Z"
   },
   {
    "duration": 70,
    "start_time": "2021-07-08T09:06:29.832Z"
   },
   {
    "duration": 17,
    "start_time": "2021-07-08T09:06:29.903Z"
   },
   {
    "duration": 9,
    "start_time": "2021-07-08T09:06:29.921Z"
   },
   {
    "duration": 9,
    "start_time": "2021-07-08T09:06:29.932Z"
   },
   {
    "duration": 57,
    "start_time": "2021-07-08T09:06:29.942Z"
   },
   {
    "duration": 11,
    "start_time": "2021-07-08T09:06:30.001Z"
   },
   {
    "duration": 19,
    "start_time": "2021-07-08T09:06:30.016Z"
   },
   {
    "duration": 217,
    "start_time": "2021-07-08T09:06:30.037Z"
   },
   {
    "duration": 6,
    "start_time": "2021-07-08T09:06:30.255Z"
   },
   {
    "duration": 205,
    "start_time": "2021-07-08T09:06:30.263Z"
   },
   {
    "duration": 27,
    "start_time": "2021-07-08T09:06:30.470Z"
   },
   {
    "duration": 11,
    "start_time": "2021-07-08T09:06:30.500Z"
   },
   {
    "duration": 31,
    "start_time": "2021-07-08T09:06:30.513Z"
   },
   {
    "duration": 18,
    "start_time": "2021-07-08T09:06:30.546Z"
   },
   {
    "duration": 11,
    "start_time": "2021-07-08T09:06:30.566Z"
   },
   {
    "duration": 19,
    "start_time": "2021-07-08T09:06:30.579Z"
   },
   {
    "duration": 20,
    "start_time": "2021-07-08T09:06:49.466Z"
   },
   {
    "duration": 9,
    "start_time": "2021-07-08T09:06:51.994Z"
   },
   {
    "duration": 20,
    "start_time": "2021-07-08T09:06:52.273Z"
   },
   {
    "duration": 246,
    "start_time": "2021-07-08T09:10:21.272Z"
   },
   {
    "duration": 84,
    "start_time": "2021-07-08T09:10:21.436Z"
   },
   {
    "duration": 7,
    "start_time": "2021-07-08T09:10:37.608Z"
   },
   {
    "duration": 189,
    "start_time": "2021-07-08T09:10:38.573Z"
   },
   {
    "duration": 185,
    "start_time": "2021-07-08T09:10:53.181Z"
   },
   {
    "duration": 11,
    "start_time": "2021-07-08T09:10:59.549Z"
   },
   {
    "duration": 42,
    "start_time": "2021-07-08T09:10:59.709Z"
   },
   {
    "duration": 12,
    "start_time": "2021-07-08T09:11:02.857Z"
   },
   {
    "duration": 28,
    "start_time": "2021-07-08T09:11:10.062Z"
   },
   {
    "duration": 249,
    "start_time": "2021-07-08T09:11:37.388Z"
   },
   {
    "duration": 232,
    "start_time": "2021-07-08T09:11:49.485Z"
   },
   {
    "duration": 453,
    "start_time": "2021-07-08T09:12:01.546Z"
   },
   {
    "duration": 440,
    "start_time": "2021-07-08T09:12:12.347Z"
   },
   {
    "duration": 213,
    "start_time": "2021-07-08T09:13:32.196Z"
   },
   {
    "duration": 172,
    "start_time": "2021-07-08T09:14:07.400Z"
   },
   {
    "duration": 185,
    "start_time": "2021-07-08T09:14:14.905Z"
   },
   {
    "duration": 209,
    "start_time": "2021-07-08T09:14:40.109Z"
   },
   {
    "duration": 201,
    "start_time": "2021-07-08T09:14:54.506Z"
   },
   {
    "duration": 622,
    "start_time": "2021-07-08T09:18:14.497Z"
   },
   {
    "duration": 220,
    "start_time": "2021-07-08T09:18:15.121Z"
   },
   {
    "duration": 79,
    "start_time": "2021-07-08T09:18:15.343Z"
   },
   {
    "duration": 4,
    "start_time": "2021-07-08T09:18:15.425Z"
   },
   {
    "duration": 24,
    "start_time": "2021-07-08T09:18:15.431Z"
   },
   {
    "duration": 8,
    "start_time": "2021-07-08T09:18:15.457Z"
   },
   {
    "duration": 16,
    "start_time": "2021-07-08T09:18:15.466Z"
   },
   {
    "duration": 5,
    "start_time": "2021-07-08T09:18:15.484Z"
   },
   {
    "duration": 10,
    "start_time": "2021-07-08T09:18:15.493Z"
   },
   {
    "duration": 8,
    "start_time": "2021-07-08T09:18:15.504Z"
   },
   {
    "duration": 7,
    "start_time": "2021-07-08T09:18:15.513Z"
   },
   {
    "duration": 26,
    "start_time": "2021-07-08T09:18:15.522Z"
   },
   {
    "duration": 49,
    "start_time": "2021-07-08T09:18:15.550Z"
   },
   {
    "duration": 21,
    "start_time": "2021-07-08T09:18:15.601Z"
   },
   {
    "duration": 8,
    "start_time": "2021-07-08T09:18:15.624Z"
   },
   {
    "duration": 3,
    "start_time": "2021-07-08T09:18:15.634Z"
   },
   {
    "duration": 8,
    "start_time": "2021-07-08T09:18:15.639Z"
   },
   {
    "duration": 45,
    "start_time": "2021-07-08T09:18:15.649Z"
   },
   {
    "duration": 13,
    "start_time": "2021-07-08T09:18:15.696Z"
   },
   {
    "duration": 10,
    "start_time": "2021-07-08T09:18:15.711Z"
   },
   {
    "duration": 64,
    "start_time": "2021-07-08T09:18:15.722Z"
   },
   {
    "duration": 19,
    "start_time": "2021-07-08T09:18:15.788Z"
   },
   {
    "duration": 9,
    "start_time": "2021-07-08T09:18:15.809Z"
   },
   {
    "duration": 9,
    "start_time": "2021-07-08T09:18:15.820Z"
   },
   {
    "duration": 18,
    "start_time": "2021-07-08T09:18:15.831Z"
   },
   {
    "duration": 43,
    "start_time": "2021-07-08T09:18:15.851Z"
   },
   {
    "duration": 12,
    "start_time": "2021-07-08T09:18:15.897Z"
   },
   {
    "duration": 219,
    "start_time": "2021-07-08T09:18:15.911Z"
   },
   {
    "duration": 8,
    "start_time": "2021-07-08T09:18:16.132Z"
   },
   {
    "duration": 199,
    "start_time": "2021-07-08T09:18:16.141Z"
   },
   {
    "duration": 18,
    "start_time": "2021-07-08T09:18:16.341Z"
   },
   {
    "duration": 24,
    "start_time": "2021-07-08T09:18:16.361Z"
   },
   {
    "duration": 24,
    "start_time": "2021-07-08T09:18:16.387Z"
   },
   {
    "duration": 211,
    "start_time": "2021-07-08T09:18:16.413Z"
   },
   {
    "duration": 18,
    "start_time": "2021-07-08T09:18:16.626Z"
   },
   {
    "duration": 596,
    "start_time": "2021-07-08T10:06:33.623Z"
   },
   {
    "duration": 181,
    "start_time": "2021-07-08T10:06:34.221Z"
   },
   {
    "duration": 176,
    "start_time": "2021-07-08T10:06:34.635Z"
   },
   {
    "duration": 239,
    "start_time": "2021-07-08T10:06:55.572Z"
   },
   {
    "duration": 6,
    "start_time": "2021-07-08T10:06:57.687Z"
   },
   {
    "duration": 4,
    "start_time": "2021-07-08T10:07:03.956Z"
   },
   {
    "duration": 4,
    "start_time": "2021-07-08T10:07:10.376Z"
   },
   {
    "duration": 4,
    "start_time": "2021-07-08T10:17:19.889Z"
   },
   {
    "duration": 3,
    "start_time": "2021-07-08T10:19:19.407Z"
   },
   {
    "duration": 197,
    "start_time": "2021-07-08T10:19:19.412Z"
   },
   {
    "duration": 127,
    "start_time": "2021-07-08T10:19:19.611Z"
   },
   {
    "duration": 4,
    "start_time": "2021-07-08T10:19:19.740Z"
   },
   {
    "duration": 27,
    "start_time": "2021-07-08T10:19:19.746Z"
   },
   {
    "duration": 7,
    "start_time": "2021-07-08T10:19:19.775Z"
   },
   {
    "duration": 30,
    "start_time": "2021-07-08T10:19:19.784Z"
   },
   {
    "duration": 7,
    "start_time": "2021-07-08T10:19:19.817Z"
   },
   {
    "duration": 26,
    "start_time": "2021-07-08T10:19:19.826Z"
   },
   {
    "duration": 18,
    "start_time": "2021-07-08T10:19:19.854Z"
   },
   {
    "duration": 14,
    "start_time": "2021-07-08T10:19:19.874Z"
   },
   {
    "duration": 48,
    "start_time": "2021-07-08T10:19:19.890Z"
   },
   {
    "duration": 17,
    "start_time": "2021-07-08T10:19:19.940Z"
   },
   {
    "duration": 38,
    "start_time": "2021-07-08T10:19:19.959Z"
   },
   {
    "duration": 8,
    "start_time": "2021-07-08T10:19:19.999Z"
   },
   {
    "duration": 15,
    "start_time": "2021-07-08T10:19:20.009Z"
   },
   {
    "duration": 22,
    "start_time": "2021-07-08T10:19:20.026Z"
   },
   {
    "duration": 10,
    "start_time": "2021-07-08T10:19:20.050Z"
   },
   {
    "duration": 10,
    "start_time": "2021-07-08T10:19:20.062Z"
   },
   {
    "duration": 20,
    "start_time": "2021-07-08T10:19:20.073Z"
   },
   {
    "duration": 29,
    "start_time": "2021-07-08T10:19:20.095Z"
   },
   {
    "duration": 17,
    "start_time": "2021-07-08T10:19:20.126Z"
   },
   {
    "duration": 40,
    "start_time": "2021-07-08T10:19:20.146Z"
   },
   {
    "duration": 15,
    "start_time": "2021-07-08T10:19:20.189Z"
   },
   {
    "duration": 19,
    "start_time": "2021-07-08T10:19:20.206Z"
   },
   {
    "duration": 10,
    "start_time": "2021-07-08T10:19:20.226Z"
   },
   {
    "duration": 11,
    "start_time": "2021-07-08T10:19:20.238Z"
   },
   {
    "duration": 297,
    "start_time": "2021-07-08T10:19:20.250Z"
   },
   {
    "duration": 6,
    "start_time": "2021-07-08T10:19:20.549Z"
   },
   {
    "duration": 191,
    "start_time": "2021-07-08T10:19:20.557Z"
   },
   {
    "duration": 19,
    "start_time": "2021-07-08T10:19:20.750Z"
   },
   {
    "duration": 20,
    "start_time": "2021-07-08T10:19:20.771Z"
   },
   {
    "duration": 15,
    "start_time": "2021-07-08T10:19:20.793Z"
   },
   {
    "duration": 222,
    "start_time": "2021-07-08T10:19:20.809Z"
   },
   {
    "duration": 20,
    "start_time": "2021-07-08T10:19:21.033Z"
   },
   {
    "duration": 27,
    "start_time": "2021-07-08T10:45:04.055Z"
   },
   {
    "duration": 8,
    "start_time": "2021-07-08T10:45:08.478Z"
   },
   {
    "duration": 8,
    "start_time": "2021-07-08T10:45:31.982Z"
   },
   {
    "duration": 10,
    "start_time": "2021-07-08T10:46:01.221Z"
   },
   {
    "duration": 17,
    "start_time": "2021-07-08T10:46:40.011Z"
   },
   {
    "duration": 193,
    "start_time": "2021-07-08T10:48:19.471Z"
   },
   {
    "duration": 225,
    "start_time": "2021-07-08T10:49:26.480Z"
   },
   {
    "duration": 204,
    "start_time": "2021-07-08T10:49:59.992Z"
   },
   {
    "duration": 435,
    "start_time": "2021-07-08T10:50:06.779Z"
   },
   {
    "duration": 199,
    "start_time": "2021-07-08T10:50:14.891Z"
   },
   {
    "duration": 204,
    "start_time": "2021-07-08T10:50:18.501Z"
   },
   {
    "duration": 244,
    "start_time": "2021-07-08T10:50:23.359Z"
   },
   {
    "duration": 192,
    "start_time": "2021-07-08T10:50:29.135Z"
   },
   {
    "duration": 218,
    "start_time": "2021-07-08T10:50:33.092Z"
   },
   {
    "duration": 207,
    "start_time": "2021-07-08T10:52:45.381Z"
   },
   {
    "duration": 5,
    "start_time": "2021-07-08T10:53:34.641Z"
   },
   {
    "duration": 196,
    "start_time": "2021-07-08T10:53:41.478Z"
   },
   {
    "duration": 43,
    "start_time": "2021-07-08T10:53:50.335Z"
   },
   {
    "duration": 32,
    "start_time": "2021-07-08T10:53:55.294Z"
   },
   {
    "duration": 55,
    "start_time": "2021-07-08T10:54:09.675Z"
   },
   {
    "duration": 16,
    "start_time": "2021-07-08T10:54:12.260Z"
   },
   {
    "duration": 15,
    "start_time": "2021-07-08T10:54:49.150Z"
   },
   {
    "duration": 20,
    "start_time": "2021-07-08T10:56:07.596Z"
   },
   {
    "duration": 16,
    "start_time": "2021-07-08T10:58:26.276Z"
   },
   {
    "duration": 22,
    "start_time": "2021-07-08T10:59:00.486Z"
   },
   {
    "duration": 18,
    "start_time": "2021-07-08T11:02:09.653Z"
   },
   {
    "duration": 10,
    "start_time": "2021-07-08T11:03:44.331Z"
   },
   {
    "duration": 10,
    "start_time": "2021-07-08T11:03:54.055Z"
   },
   {
    "duration": 12,
    "start_time": "2021-07-08T11:04:41.967Z"
   },
   {
    "duration": 24,
    "start_time": "2021-07-08T11:07:30.732Z"
   },
   {
    "duration": 6,
    "start_time": "2021-07-08T11:07:37.364Z"
   },
   {
    "duration": 16,
    "start_time": "2021-07-08T11:08:01.819Z"
   },
   {
    "duration": 17,
    "start_time": "2021-07-08T11:09:47.488Z"
   },
   {
    "duration": 246,
    "start_time": "2021-07-08T11:10:00.830Z"
   },
   {
    "duration": 18,
    "start_time": "2021-07-08T11:13:55.195Z"
   },
   {
    "duration": 204,
    "start_time": "2021-07-08T11:14:04.951Z"
   },
   {
    "duration": 19,
    "start_time": "2021-07-08T11:15:10.613Z"
   },
   {
    "duration": 680,
    "start_time": "2021-07-08T11:16:25.793Z"
   },
   {
    "duration": 451,
    "start_time": "2021-07-08T11:16:40.313Z"
   },
   {
    "duration": 469,
    "start_time": "2021-07-08T11:17:21.286Z"
   },
   {
    "duration": 20,
    "start_time": "2021-07-08T11:19:12.554Z"
   },
   {
    "duration": 35,
    "start_time": "2021-07-08T11:20:05.484Z"
   },
   {
    "duration": 53,
    "start_time": "2021-07-08T11:21:40.050Z"
   },
   {
    "duration": 13,
    "start_time": "2021-07-08T11:22:26.059Z"
   },
   {
    "duration": 19,
    "start_time": "2021-07-08T11:22:47.419Z"
   },
   {
    "duration": 25,
    "start_time": "2021-07-08T11:23:19.958Z"
   },
   {
    "duration": 29,
    "start_time": "2021-07-08T11:23:25.415Z"
   },
   {
    "duration": 10,
    "start_time": "2021-07-08T11:24:45.138Z"
   },
   {
    "duration": 19,
    "start_time": "2021-07-08T11:24:54.498Z"
   },
   {
    "duration": 12,
    "start_time": "2021-07-08T11:25:32.225Z"
   },
   {
    "duration": 19,
    "start_time": "2021-07-08T11:25:37.092Z"
   },
   {
    "duration": 17,
    "start_time": "2021-07-08T11:25:58.116Z"
   },
   {
    "duration": 15,
    "start_time": "2021-07-08T11:26:02.258Z"
   },
   {
    "duration": 8,
    "start_time": "2021-07-08T11:26:59.682Z"
   },
   {
    "duration": 184,
    "start_time": "2021-07-08T11:27:21.894Z"
   },
   {
    "duration": 8,
    "start_time": "2021-07-08T11:27:23.824Z"
   },
   {
    "duration": 202,
    "start_time": "2021-07-08T11:27:23.962Z"
   },
   {
    "duration": 360,
    "start_time": "2021-07-08T11:28:33.215Z"
   },
   {
    "duration": 231,
    "start_time": "2021-07-08T11:32:05.542Z"
   },
   {
    "duration": 607,
    "start_time": "2021-07-08T11:36:27.854Z"
   },
   {
    "duration": 241,
    "start_time": "2021-07-08T11:36:28.463Z"
   },
   {
    "duration": 67,
    "start_time": "2021-07-08T11:36:28.709Z"
   },
   {
    "duration": 5,
    "start_time": "2021-07-08T11:36:28.778Z"
   },
   {
    "duration": 32,
    "start_time": "2021-07-08T11:36:28.784Z"
   },
   {
    "duration": 11,
    "start_time": "2021-07-08T11:36:28.819Z"
   },
   {
    "duration": 20,
    "start_time": "2021-07-08T11:36:28.834Z"
   },
   {
    "duration": 36,
    "start_time": "2021-07-08T11:36:28.857Z"
   },
   {
    "duration": 16,
    "start_time": "2021-07-08T11:36:28.895Z"
   },
   {
    "duration": 14,
    "start_time": "2021-07-08T11:36:28.913Z"
   },
   {
    "duration": 9,
    "start_time": "2021-07-08T11:36:28.930Z"
   },
   {
    "duration": 55,
    "start_time": "2021-07-08T11:36:28.941Z"
   },
   {
    "duration": 27,
    "start_time": "2021-07-08T11:36:28.999Z"
   },
   {
    "duration": 30,
    "start_time": "2021-07-08T11:36:29.028Z"
   },
   {
    "duration": 31,
    "start_time": "2021-07-08T11:36:29.060Z"
   },
   {
    "duration": 3,
    "start_time": "2021-07-08T11:36:29.093Z"
   },
   {
    "duration": 12,
    "start_time": "2021-07-08T11:36:29.099Z"
   },
   {
    "duration": 11,
    "start_time": "2021-07-08T11:36:29.112Z"
   },
   {
    "duration": 12,
    "start_time": "2021-07-08T11:36:29.125Z"
   },
   {
    "duration": 9,
    "start_time": "2021-07-08T11:36:29.139Z"
   },
   {
    "duration": 31,
    "start_time": "2021-07-08T11:36:29.191Z"
   },
   {
    "duration": 17,
    "start_time": "2021-07-08T11:36:29.226Z"
   },
   {
    "duration": 7,
    "start_time": "2021-07-08T11:36:29.245Z"
   },
   {
    "duration": 10,
    "start_time": "2021-07-08T11:36:29.254Z"
   },
   {
    "duration": 30,
    "start_time": "2021-07-08T11:36:29.292Z"
   },
   {
    "duration": 11,
    "start_time": "2021-07-08T11:36:29.324Z"
   },
   {
    "duration": 11,
    "start_time": "2021-07-08T11:36:29.337Z"
   },
   {
    "duration": 230,
    "start_time": "2021-07-08T11:36:29.349Z"
   },
   {
    "duration": 13,
    "start_time": "2021-07-08T11:36:29.588Z"
   },
   {
    "duration": 205,
    "start_time": "2021-07-08T11:36:29.603Z"
   },
   {
    "duration": 20,
    "start_time": "2021-07-08T11:36:29.810Z"
   },
   {
    "duration": 9,
    "start_time": "2021-07-08T11:36:29.832Z"
   },
   {
    "duration": 16,
    "start_time": "2021-07-08T11:36:29.843Z"
   },
   {
    "duration": 283,
    "start_time": "2021-07-08T11:36:29.861Z"
   },
   {
    "duration": 50,
    "start_time": "2021-07-08T11:36:30.146Z"
   },
   {
    "duration": 14,
    "start_time": "2021-07-08T11:36:30.198Z"
   },
   {
    "duration": 11,
    "start_time": "2021-07-08T11:36:30.214Z"
   },
   {
    "duration": 245,
    "start_time": "2021-07-08T11:36:30.227Z"
   },
   {
    "duration": 439,
    "start_time": "2021-07-08T11:36:30.474Z"
   },
   {
    "duration": 210,
    "start_time": "2021-07-08T11:36:30.915Z"
   },
   {
    "duration": 15,
    "start_time": "2021-07-08T11:36:31.127Z"
   },
   {
    "duration": 17,
    "start_time": "2021-07-08T11:38:20.451Z"
   },
   {
    "duration": 642,
    "start_time": "2021-07-08T11:46:17.881Z"
   },
   {
    "duration": 210,
    "start_time": "2021-07-08T11:46:18.525Z"
   },
   {
    "duration": 104,
    "start_time": "2021-07-08T11:46:18.741Z"
   },
   {
    "duration": 8,
    "start_time": "2021-07-08T11:46:18.847Z"
   },
   {
    "duration": 25,
    "start_time": "2021-07-08T11:46:18.857Z"
   },
   {
    "duration": 14,
    "start_time": "2021-07-08T11:46:18.884Z"
   },
   {
    "duration": 22,
    "start_time": "2021-07-08T11:46:18.900Z"
   },
   {
    "duration": 5,
    "start_time": "2021-07-08T11:46:18.924Z"
   },
   {
    "duration": 13,
    "start_time": "2021-07-08T11:46:18.931Z"
   },
   {
    "duration": 45,
    "start_time": "2021-07-08T11:46:18.946Z"
   },
   {
    "duration": 12,
    "start_time": "2021-07-08T11:46:18.993Z"
   },
   {
    "duration": 38,
    "start_time": "2021-07-08T11:46:19.006Z"
   },
   {
    "duration": 50,
    "start_time": "2021-07-08T11:46:19.046Z"
   },
   {
    "duration": 29,
    "start_time": "2021-07-08T11:46:19.099Z"
   },
   {
    "duration": 7,
    "start_time": "2021-07-08T11:46:19.130Z"
   },
   {
    "duration": 3,
    "start_time": "2021-07-08T11:46:19.139Z"
   },
   {
    "duration": 11,
    "start_time": "2021-07-08T11:46:19.144Z"
   },
   {
    "duration": 40,
    "start_time": "2021-07-08T11:46:19.157Z"
   },
   {
    "duration": 15,
    "start_time": "2021-07-08T11:46:19.199Z"
   },
   {
    "duration": 10,
    "start_time": "2021-07-08T11:46:19.217Z"
   },
   {
    "duration": 68,
    "start_time": "2021-07-08T11:46:19.230Z"
   },
   {
    "duration": 17,
    "start_time": "2021-07-08T11:46:19.301Z"
   },
   {
    "duration": 7,
    "start_time": "2021-07-08T11:46:19.321Z"
   },
   {
    "duration": 11,
    "start_time": "2021-07-08T11:46:19.330Z"
   },
   {
    "duration": 59,
    "start_time": "2021-07-08T11:46:19.343Z"
   },
   {
    "duration": 17,
    "start_time": "2021-07-08T11:46:19.405Z"
   },
   {
    "duration": 16,
    "start_time": "2021-07-08T11:46:19.424Z"
   },
   {
    "duration": 252,
    "start_time": "2021-07-08T11:46:19.443Z"
   },
   {
    "duration": 9,
    "start_time": "2021-07-08T11:46:19.697Z"
   },
   {
    "duration": 224,
    "start_time": "2021-07-08T11:46:19.708Z"
   },
   {
    "duration": 21,
    "start_time": "2021-07-08T11:46:19.934Z"
   },
   {
    "duration": 9,
    "start_time": "2021-07-08T11:46:19.956Z"
   },
   {
    "duration": 32,
    "start_time": "2021-07-08T11:46:19.967Z"
   },
   {
    "duration": 288,
    "start_time": "2021-07-08T11:46:20.004Z"
   },
   {
    "duration": 23,
    "start_time": "2021-07-08T11:46:20.300Z"
   },
   {
    "duration": 11,
    "start_time": "2021-07-08T11:46:20.325Z"
   },
   {
    "duration": 11,
    "start_time": "2021-07-08T11:46:20.339Z"
   },
   {
    "duration": 259,
    "start_time": "2021-07-08T11:46:20.352Z"
   },
   {
    "duration": 438,
    "start_time": "2021-07-08T11:46:20.613Z"
   },
   {
    "duration": 207,
    "start_time": "2021-07-08T11:46:21.054Z"
   },
   {
    "duration": 27,
    "start_time": "2021-07-08T11:46:21.262Z"
   },
   {
    "duration": 19,
    "start_time": "2021-07-08T11:46:21.291Z"
   },
   {
    "duration": 820,
    "start_time": "2021-07-08T11:49:01.655Z"
   },
   {
    "duration": 372,
    "start_time": "2021-07-08T11:49:02.478Z"
   },
   {
    "duration": 98,
    "start_time": "2021-07-08T11:49:02.853Z"
   },
   {
    "duration": 6,
    "start_time": "2021-07-08T11:49:02.953Z"
   },
   {
    "duration": 39,
    "start_time": "2021-07-08T11:49:02.960Z"
   },
   {
    "duration": 9,
    "start_time": "2021-07-08T11:49:03.003Z"
   },
   {
    "duration": 23,
    "start_time": "2021-07-08T11:49:03.014Z"
   },
   {
    "duration": 6,
    "start_time": "2021-07-08T11:49:03.041Z"
   },
   {
    "duration": 20,
    "start_time": "2021-07-08T11:49:03.049Z"
   },
   {
    "duration": 18,
    "start_time": "2021-07-08T11:49:03.084Z"
   },
   {
    "duration": 14,
    "start_time": "2021-07-08T11:49:03.104Z"
   },
   {
    "duration": 39,
    "start_time": "2021-07-08T11:49:03.119Z"
   },
   {
    "duration": 38,
    "start_time": "2021-07-08T11:49:03.160Z"
   },
   {
    "duration": 26,
    "start_time": "2021-07-08T11:49:03.200Z"
   },
   {
    "duration": 7,
    "start_time": "2021-07-08T11:49:03.227Z"
   },
   {
    "duration": 4,
    "start_time": "2021-07-08T11:49:03.236Z"
   },
   {
    "duration": 15,
    "start_time": "2021-07-08T11:49:03.243Z"
   },
   {
    "duration": 21,
    "start_time": "2021-07-08T11:49:03.285Z"
   },
   {
    "duration": 17,
    "start_time": "2021-07-08T11:49:03.309Z"
   },
   {
    "duration": 10,
    "start_time": "2021-07-08T11:49:03.328Z"
   },
   {
    "duration": 65,
    "start_time": "2021-07-08T11:49:03.340Z"
   },
   {
    "duration": 18,
    "start_time": "2021-07-08T11:49:03.407Z"
   },
   {
    "duration": 8,
    "start_time": "2021-07-08T11:49:03.428Z"
   },
   {
    "duration": 15,
    "start_time": "2021-07-08T11:49:03.438Z"
   },
   {
    "duration": 40,
    "start_time": "2021-07-08T11:49:03.455Z"
   },
   {
    "duration": 12,
    "start_time": "2021-07-08T11:49:03.497Z"
   },
   {
    "duration": 29,
    "start_time": "2021-07-08T11:49:03.511Z"
   },
   {
    "duration": 285,
    "start_time": "2021-07-08T11:49:03.542Z"
   },
   {
    "duration": 8,
    "start_time": "2021-07-08T11:49:03.829Z"
   },
   {
    "duration": 227,
    "start_time": "2021-07-08T11:49:03.838Z"
   },
   {
    "duration": 40,
    "start_time": "2021-07-08T11:49:04.066Z"
   },
   {
    "duration": 10,
    "start_time": "2021-07-08T11:49:04.108Z"
   },
   {
    "duration": 26,
    "start_time": "2021-07-08T11:49:04.121Z"
   },
   {
    "duration": 290,
    "start_time": "2021-07-08T11:49:04.149Z"
   },
   {
    "duration": 26,
    "start_time": "2021-07-08T11:49:04.441Z"
   },
   {
    "duration": 31,
    "start_time": "2021-07-08T11:49:04.470Z"
   },
   {
    "duration": 14,
    "start_time": "2021-07-08T11:49:04.503Z"
   },
   {
    "duration": 259,
    "start_time": "2021-07-08T11:49:04.521Z"
   },
   {
    "duration": 480,
    "start_time": "2021-07-08T11:49:04.782Z"
   },
   {
    "duration": 225,
    "start_time": "2021-07-08T11:49:05.264Z"
   },
   {
    "duration": 22,
    "start_time": "2021-07-08T11:49:05.491Z"
   },
   {
    "duration": 24,
    "start_time": "2021-07-08T11:49:05.515Z"
   },
   {
    "duration": 634,
    "start_time": "2021-07-08T11:52:24.960Z"
   },
   {
    "duration": 199,
    "start_time": "2021-07-08T11:52:25.599Z"
   },
   {
    "duration": 106,
    "start_time": "2021-07-08T11:52:25.803Z"
   },
   {
    "duration": 7,
    "start_time": "2021-07-08T11:52:25.911Z"
   },
   {
    "duration": 29,
    "start_time": "2021-07-08T11:52:25.920Z"
   },
   {
    "duration": 7,
    "start_time": "2021-07-08T11:52:25.951Z"
   },
   {
    "duration": 26,
    "start_time": "2021-07-08T11:52:25.961Z"
   },
   {
    "duration": 11,
    "start_time": "2021-07-08T11:52:25.990Z"
   },
   {
    "duration": 29,
    "start_time": "2021-07-08T11:52:26.005Z"
   },
   {
    "duration": 9,
    "start_time": "2021-07-08T11:52:26.036Z"
   },
   {
    "duration": 8,
    "start_time": "2021-07-08T11:52:26.047Z"
   },
   {
    "duration": 63,
    "start_time": "2021-07-08T11:52:26.057Z"
   },
   {
    "duration": 17,
    "start_time": "2021-07-08T11:52:26.122Z"
   },
   {
    "duration": 43,
    "start_time": "2021-07-08T11:52:26.142Z"
   },
   {
    "duration": 17,
    "start_time": "2021-07-08T11:52:26.187Z"
   },
   {
    "duration": 5,
    "start_time": "2021-07-08T11:52:26.206Z"
   },
   {
    "duration": 12,
    "start_time": "2021-07-08T11:52:26.212Z"
   },
   {
    "duration": 11,
    "start_time": "2021-07-08T11:52:26.226Z"
   },
   {
    "duration": 12,
    "start_time": "2021-07-08T11:52:26.238Z"
   },
   {
    "duration": 38,
    "start_time": "2021-07-08T11:52:26.252Z"
   },
   {
    "duration": 40,
    "start_time": "2021-07-08T11:52:26.292Z"
   },
   {
    "duration": 17,
    "start_time": "2021-07-08T11:52:26.336Z"
   },
   {
    "duration": 39,
    "start_time": "2021-07-08T11:52:26.355Z"
   },
   {
    "duration": 11,
    "start_time": "2021-07-08T11:52:26.395Z"
   },
   {
    "duration": 23,
    "start_time": "2021-07-08T11:52:26.408Z"
   },
   {
    "duration": 12,
    "start_time": "2021-07-08T11:52:26.432Z"
   },
   {
    "duration": 41,
    "start_time": "2021-07-08T11:52:26.446Z"
   },
   {
    "duration": 215,
    "start_time": "2021-07-08T11:52:26.493Z"
   },
   {
    "duration": 8,
    "start_time": "2021-07-08T11:52:26.710Z"
   },
   {
    "duration": 228,
    "start_time": "2021-07-08T11:52:26.720Z"
   },
   {
    "duration": 18,
    "start_time": "2021-07-08T11:52:26.950Z"
   },
   {
    "duration": 35,
    "start_time": "2021-07-08T11:52:26.969Z"
   },
   {
    "duration": 23,
    "start_time": "2021-07-08T11:52:27.006Z"
   },
   {
    "duration": 258,
    "start_time": "2021-07-08T11:52:27.030Z"
   },
   {
    "duration": 24,
    "start_time": "2021-07-08T11:52:27.290Z"
   },
   {
    "duration": 12,
    "start_time": "2021-07-08T11:52:27.316Z"
   },
   {
    "duration": 10,
    "start_time": "2021-07-08T11:52:27.329Z"
   },
   {
    "duration": 298,
    "start_time": "2021-07-08T11:52:27.341Z"
   },
   {
    "duration": 436,
    "start_time": "2021-07-08T11:52:27.641Z"
   },
   {
    "duration": 216,
    "start_time": "2021-07-08T11:52:28.079Z"
   },
   {
    "duration": 20,
    "start_time": "2021-07-08T11:52:28.297Z"
   },
   {
    "duration": 17,
    "start_time": "2021-07-08T11:52:28.319Z"
   },
   {
    "duration": 484,
    "start_time": "2022-11-09T14:43:48.297Z"
   },
   {
    "duration": 83,
    "start_time": "2022-11-09T14:44:50.654Z"
   },
   {
    "duration": 296,
    "start_time": "2022-11-09T14:45:16.898Z"
   },
   {
    "duration": 177,
    "start_time": "2022-11-09T14:46:13.591Z"
   },
   {
    "duration": 130,
    "start_time": "2022-11-09T14:46:27.047Z"
   },
   {
    "duration": 136,
    "start_time": "2022-11-09T14:46:53.824Z"
   },
   {
    "duration": 144,
    "start_time": "2022-11-09T14:48:57.938Z"
   },
   {
    "duration": 279,
    "start_time": "2022-11-09T14:51:55.261Z"
   },
   {
    "duration": 315,
    "start_time": "2022-11-09T14:52:01.214Z"
   },
   {
    "duration": 3,
    "start_time": "2022-11-09T14:52:08.105Z"
   },
   {
    "duration": 139,
    "start_time": "2022-11-09T14:52:08.111Z"
   },
   {
    "duration": 290,
    "start_time": "2022-11-09T14:52:08.252Z"
   },
   {
    "duration": 305,
    "start_time": "2022-11-09T14:52:34.479Z"
   },
   {
    "duration": 6,
    "start_time": "2022-11-09T14:53:07.368Z"
   },
   {
    "duration": 7,
    "start_time": "2022-11-09T14:53:40.986Z"
   },
   {
    "duration": 16,
    "start_time": "2022-11-09T14:53:55.638Z"
   },
   {
    "duration": 4,
    "start_time": "2022-11-09T14:56:25.136Z"
   },
   {
    "duration": 4,
    "start_time": "2022-11-09T14:56:27.938Z"
   },
   {
    "duration": 14,
    "start_time": "2022-11-09T14:56:37.288Z"
   },
   {
    "duration": 144,
    "start_time": "2022-11-09T14:57:44.276Z"
   },
   {
    "duration": 144,
    "start_time": "2022-11-09T14:57:45.826Z"
   },
   {
    "duration": 175,
    "start_time": "2022-11-09T14:57:49.917Z"
   },
   {
    "duration": 54,
    "start_time": "2022-11-09T15:00:29.264Z"
   },
   {
    "duration": 33,
    "start_time": "2022-11-09T15:02:30.316Z"
   },
   {
    "duration": 184,
    "start_time": "2022-11-09T15:03:31.736Z"
   },
   {
    "duration": 24,
    "start_time": "2022-11-09T15:05:49.654Z"
   },
   {
    "duration": 186,
    "start_time": "2022-11-09T15:06:11.331Z"
   },
   {
    "duration": 172,
    "start_time": "2022-11-09T15:06:15.619Z"
   },
   {
    "duration": 32,
    "start_time": "2022-11-09T15:06:34.085Z"
   },
   {
    "duration": 44,
    "start_time": "2022-11-09T15:07:00.878Z"
   },
   {
    "duration": 75,
    "start_time": "2022-11-09T15:09:47.011Z"
   },
   {
    "duration": 25,
    "start_time": "2022-11-09T15:09:57.033Z"
   },
   {
    "duration": 17,
    "start_time": "2022-11-09T15:11:27.582Z"
   },
   {
    "duration": 32,
    "start_time": "2022-11-09T15:11:34.705Z"
   },
   {
    "duration": 16,
    "start_time": "2022-11-09T15:12:21.087Z"
   },
   {
    "duration": 35,
    "start_time": "2022-11-09T15:12:44.880Z"
   },
   {
    "duration": 31,
    "start_time": "2022-11-09T15:23:26.443Z"
   },
   {
    "duration": 19,
    "start_time": "2022-11-09T15:24:58.846Z"
   },
   {
    "duration": 796,
    "start_time": "2022-11-09T15:29:02.088Z"
   },
   {
    "duration": 20,
    "start_time": "2022-11-09T15:39:58.973Z"
   },
   {
    "duration": 22,
    "start_time": "2022-11-09T15:40:13.737Z"
   },
   {
    "duration": 342,
    "start_time": "2022-11-09T15:43:32.145Z"
   },
   {
    "duration": 363,
    "start_time": "2022-11-09T15:44:04.666Z"
   },
   {
    "duration": 27,
    "start_time": "2022-11-09T15:44:25.075Z"
   },
   {
    "duration": 27,
    "start_time": "2022-11-09T15:44:55.869Z"
   },
   {
    "duration": 25,
    "start_time": "2022-11-09T15:46:13.431Z"
   },
   {
    "duration": 3,
    "start_time": "2022-11-09T15:46:20.690Z"
   },
   {
    "duration": 200,
    "start_time": "2022-11-09T15:46:20.695Z"
   },
   {
    "duration": 36,
    "start_time": "2022-11-09T15:46:20.897Z"
   },
   {
    "duration": 58,
    "start_time": "2022-11-09T15:46:20.935Z"
   },
   {
    "duration": 26,
    "start_time": "2022-11-09T15:46:26.548Z"
   },
   {
    "duration": 3,
    "start_time": "2022-11-09T15:46:29.866Z"
   },
   {
    "duration": 168,
    "start_time": "2022-11-09T15:46:29.871Z"
   },
   {
    "duration": 33,
    "start_time": "2022-11-09T15:46:30.041Z"
   },
   {
    "duration": 30,
    "start_time": "2022-11-09T15:46:30.076Z"
   },
   {
    "duration": 32,
    "start_time": "2022-11-09T15:46:57.394Z"
   },
   {
    "duration": 3,
    "start_time": "2022-11-09T15:47:02.529Z"
   },
   {
    "duration": 202,
    "start_time": "2022-11-09T15:47:02.535Z"
   },
   {
    "duration": 37,
    "start_time": "2022-11-09T15:47:02.739Z"
   },
   {
    "duration": 35,
    "start_time": "2022-11-09T15:47:02.778Z"
   },
   {
    "duration": 3,
    "start_time": "2022-11-09T15:47:28.125Z"
   },
   {
    "duration": 207,
    "start_time": "2022-11-09T15:47:28.130Z"
   },
   {
    "duration": 37,
    "start_time": "2022-11-09T15:47:28.339Z"
   },
   {
    "duration": 26,
    "start_time": "2022-11-09T15:47:28.378Z"
   },
   {
    "duration": 14,
    "start_time": "2022-11-09T15:47:52.975Z"
   },
   {
    "duration": 3,
    "start_time": "2022-11-09T15:47:56.698Z"
   },
   {
    "duration": 170,
    "start_time": "2022-11-09T15:47:56.703Z"
   },
   {
    "duration": 39,
    "start_time": "2022-11-09T15:47:56.875Z"
   },
   {
    "duration": 17,
    "start_time": "2022-11-09T15:47:56.916Z"
   },
   {
    "duration": 13,
    "start_time": "2022-11-09T15:48:03.595Z"
   },
   {
    "duration": 4,
    "start_time": "2022-11-09T15:48:09.078Z"
   },
   {
    "duration": 169,
    "start_time": "2022-11-09T15:48:09.084Z"
   },
   {
    "duration": 34,
    "start_time": "2022-11-09T15:48:09.255Z"
   },
   {
    "duration": 26,
    "start_time": "2022-11-09T15:48:09.291Z"
   },
   {
    "duration": 17,
    "start_time": "2022-11-09T15:48:23.150Z"
   },
   {
    "duration": 12,
    "start_time": "2022-11-09T15:48:32.830Z"
   },
   {
    "duration": 13,
    "start_time": "2022-11-09T15:49:50.822Z"
   },
   {
    "duration": 12,
    "start_time": "2022-11-09T15:50:15.058Z"
   },
   {
    "duration": 3,
    "start_time": "2022-11-09T15:50:23.275Z"
   },
   {
    "duration": 166,
    "start_time": "2022-11-09T15:50:23.281Z"
   },
   {
    "duration": 33,
    "start_time": "2022-11-09T15:50:23.449Z"
   },
   {
    "duration": 20,
    "start_time": "2022-11-09T15:50:23.484Z"
   },
   {
    "duration": 20,
    "start_time": "2022-11-09T15:50:34.475Z"
   },
   {
    "duration": 23,
    "start_time": "2022-11-09T15:50:37.636Z"
   },
   {
    "duration": 3,
    "start_time": "2022-11-09T15:50:41.216Z"
   },
   {
    "duration": 209,
    "start_time": "2022-11-09T15:50:41.221Z"
   },
   {
    "duration": 51,
    "start_time": "2022-11-09T15:50:41.432Z"
   },
   {
    "duration": 28,
    "start_time": "2022-11-09T15:50:41.486Z"
   },
   {
    "duration": 10,
    "start_time": "2022-11-09T15:51:05.168Z"
   },
   {
    "duration": 17,
    "start_time": "2022-11-09T15:51:17.465Z"
   },
   {
    "duration": 13,
    "start_time": "2022-11-09T15:51:24.341Z"
   },
   {
    "duration": 13,
    "start_time": "2022-11-09T15:51:28.486Z"
   },
   {
    "duration": 3,
    "start_time": "2022-11-09T15:51:32.497Z"
   },
   {
    "duration": 199,
    "start_time": "2022-11-09T15:51:32.503Z"
   },
   {
    "duration": 31,
    "start_time": "2022-11-09T15:51:32.704Z"
   },
   {
    "duration": 36,
    "start_time": "2022-11-09T15:51:32.737Z"
   },
   {
    "duration": 13,
    "start_time": "2022-11-09T15:51:42.770Z"
   },
   {
    "duration": 3,
    "start_time": "2022-11-09T15:52:03.121Z"
   },
   {
    "duration": 186,
    "start_time": "2022-11-09T15:52:03.126Z"
   },
   {
    "duration": 34,
    "start_time": "2022-11-09T15:52:03.315Z"
   },
   {
    "duration": 28,
    "start_time": "2022-11-09T15:52:03.372Z"
   },
   {
    "duration": 3,
    "start_time": "2022-11-09T15:52:59.381Z"
   },
   {
    "duration": 174,
    "start_time": "2022-11-09T15:52:59.386Z"
   },
   {
    "duration": 48,
    "start_time": "2022-11-09T15:52:59.562Z"
   },
   {
    "duration": 30,
    "start_time": "2022-11-09T15:52:59.612Z"
   },
   {
    "duration": 2,
    "start_time": "2022-11-09T15:53:11.681Z"
   },
   {
    "duration": 170,
    "start_time": "2022-11-09T15:53:11.686Z"
   },
   {
    "duration": 35,
    "start_time": "2022-11-09T15:53:11.857Z"
   },
   {
    "duration": 19,
    "start_time": "2022-11-09T15:53:11.895Z"
   },
   {
    "duration": 13,
    "start_time": "2022-11-09T15:53:28.399Z"
   },
   {
    "duration": 4,
    "start_time": "2022-11-09T15:54:15.018Z"
   },
   {
    "duration": 172,
    "start_time": "2022-11-09T15:54:15.024Z"
   },
   {
    "duration": 31,
    "start_time": "2022-11-09T15:54:15.198Z"
   },
   {
    "duration": 919,
    "start_time": "2022-11-09T15:54:15.232Z"
   },
   {
    "duration": 864,
    "start_time": "2022-11-09T15:54:35.673Z"
   },
   {
    "duration": 3,
    "start_time": "2022-11-09T15:54:39.090Z"
   },
   {
    "duration": 184,
    "start_time": "2022-11-09T15:54:39.097Z"
   },
   {
    "duration": 39,
    "start_time": "2022-11-09T15:54:39.283Z"
   },
   {
    "duration": 18,
    "start_time": "2022-11-09T15:54:39.325Z"
   },
   {
    "duration": 14,
    "start_time": "2022-11-09T15:55:56.265Z"
   },
   {
    "duration": 3,
    "start_time": "2022-11-09T15:56:02.466Z"
   },
   {
    "duration": 180,
    "start_time": "2022-11-09T15:56:02.471Z"
   },
   {
    "duration": 34,
    "start_time": "2022-11-09T15:56:02.653Z"
   },
   {
    "duration": 5034,
    "start_time": "2022-11-09T15:56:02.689Z"
   },
   {
    "duration": 17,
    "start_time": "2022-11-09T15:57:19.838Z"
   },
   {
    "duration": 4,
    "start_time": "2022-11-09T15:57:56.399Z"
   },
   {
    "duration": 176,
    "start_time": "2022-11-09T15:57:56.405Z"
   },
   {
    "duration": 34,
    "start_time": "2022-11-09T15:57:56.584Z"
   },
   {
    "duration": 14,
    "start_time": "2022-11-09T15:57:56.620Z"
   },
   {
    "duration": 15,
    "start_time": "2022-11-09T15:58:36.729Z"
   },
   {
    "duration": 2,
    "start_time": "2022-11-09T15:58:40.120Z"
   },
   {
    "duration": 182,
    "start_time": "2022-11-09T15:58:40.125Z"
   },
   {
    "duration": 33,
    "start_time": "2022-11-09T15:58:40.309Z"
   },
   {
    "duration": 42,
    "start_time": "2022-11-09T15:58:40.344Z"
   },
   {
    "duration": 15,
    "start_time": "2022-11-09T15:58:57.138Z"
   },
   {
    "duration": 3,
    "start_time": "2022-11-09T15:59:00.060Z"
   },
   {
    "duration": 186,
    "start_time": "2022-11-09T15:59:00.066Z"
   },
   {
    "duration": 33,
    "start_time": "2022-11-09T15:59:00.253Z"
   },
   {
    "duration": 15,
    "start_time": "2022-11-09T15:59:00.289Z"
   },
   {
    "duration": 12,
    "start_time": "2022-11-09T16:01:24.880Z"
   },
   {
    "duration": 13,
    "start_time": "2022-11-09T16:01:47.914Z"
   },
   {
    "duration": 3,
    "start_time": "2022-11-09T16:01:53.125Z"
   },
   {
    "duration": 175,
    "start_time": "2022-11-09T16:01:53.130Z"
   },
   {
    "duration": 42,
    "start_time": "2022-11-09T16:01:53.308Z"
   },
   {
    "duration": 7,
    "start_time": "2022-11-09T16:01:53.373Z"
   },
   {
    "duration": 13,
    "start_time": "2022-11-09T16:02:12.626Z"
   },
   {
    "duration": 10,
    "start_time": "2022-11-09T16:02:30.792Z"
   },
   {
    "duration": 28,
    "start_time": "2022-11-09T16:02:36.032Z"
   },
   {
    "duration": 9,
    "start_time": "2022-11-09T16:02:44.296Z"
   },
   {
    "duration": 15,
    "start_time": "2022-11-09T16:03:06.762Z"
   },
   {
    "duration": 12,
    "start_time": "2022-11-09T16:03:30.111Z"
   },
   {
    "duration": 12,
    "start_time": "2022-11-09T16:03:44.963Z"
   },
   {
    "duration": 12,
    "start_time": "2022-11-09T16:03:52.906Z"
   },
   {
    "duration": 13,
    "start_time": "2022-11-09T16:04:02.337Z"
   },
   {
    "duration": 13,
    "start_time": "2022-11-09T16:04:05.595Z"
   },
   {
    "duration": 13,
    "start_time": "2022-11-09T16:04:14.156Z"
   },
   {
    "duration": 73,
    "start_time": "2022-11-09T16:05:39.266Z"
   },
   {
    "duration": 13,
    "start_time": "2022-11-09T16:05:43.677Z"
   },
   {
    "duration": 19,
    "start_time": "2022-11-09T16:06:23.884Z"
   },
   {
    "duration": 16,
    "start_time": "2022-11-09T16:06:24.982Z"
   },
   {
    "duration": 16,
    "start_time": "2022-11-09T16:07:03.433Z"
   },
   {
    "duration": 6,
    "start_time": "2022-11-09T16:07:29.050Z"
   },
   {
    "duration": 7,
    "start_time": "2022-11-09T16:07:33.673Z"
   },
   {
    "duration": 6,
    "start_time": "2022-11-09T16:07:41.088Z"
   },
   {
    "duration": 3,
    "start_time": "2022-11-09T16:07:47.523Z"
   },
   {
    "duration": 185,
    "start_time": "2022-11-09T16:07:47.528Z"
   },
   {
    "duration": 36,
    "start_time": "2022-11-09T16:07:47.715Z"
   },
   {
    "duration": 17,
    "start_time": "2022-11-09T16:07:47.772Z"
   },
   {
    "duration": 11,
    "start_time": "2022-11-09T16:08:11.927Z"
   },
   {
    "duration": 48,
    "start_time": "2022-11-10T11:25:52.902Z"
   },
   {
    "duration": 392,
    "start_time": "2022-11-10T11:25:57.548Z"
   },
   {
    "duration": 367,
    "start_time": "2022-11-10T11:25:57.942Z"
   },
   {
    "duration": 37,
    "start_time": "2022-11-10T11:25:58.311Z"
   },
   {
    "duration": 0,
    "start_time": "2022-11-10T11:25:58.350Z"
   },
   {
    "duration": 7,
    "start_time": "2022-11-10T11:29:20.815Z"
   },
   {
    "duration": 3,
    "start_time": "2022-11-10T11:29:23.869Z"
   },
   {
    "duration": 190,
    "start_time": "2022-11-10T11:29:23.875Z"
   },
   {
    "duration": 8,
    "start_time": "2022-11-10T11:29:24.068Z"
   },
   {
    "duration": 0,
    "start_time": "2022-11-10T11:29:24.077Z"
   },
   {
    "duration": 10,
    "start_time": "2022-11-10T11:29:49.704Z"
   },
   {
    "duration": 15,
    "start_time": "2022-11-10T11:33:00.438Z"
   },
   {
    "duration": 12,
    "start_time": "2022-11-10T11:37:22.008Z"
   },
   {
    "duration": 21,
    "start_time": "2022-11-10T11:38:28.969Z"
   },
   {
    "duration": 21,
    "start_time": "2022-11-10T11:38:44.591Z"
   },
   {
    "duration": 12,
    "start_time": "2022-11-10T11:38:51.032Z"
   },
   {
    "duration": 2,
    "start_time": "2022-11-10T11:39:10.608Z"
   },
   {
    "duration": 184,
    "start_time": "2022-11-10T11:39:10.614Z"
   },
   {
    "duration": 11,
    "start_time": "2022-11-10T11:39:10.800Z"
   },
   {
    "duration": 0,
    "start_time": "2022-11-10T11:39:10.813Z"
   },
   {
    "duration": 150,
    "start_time": "2022-11-10T11:40:13.645Z"
   },
   {
    "duration": 20,
    "start_time": "2022-11-10T11:40:35.203Z"
   },
   {
    "duration": 20,
    "start_time": "2022-11-10T11:40:56.390Z"
   },
   {
    "duration": 17,
    "start_time": "2022-11-10T11:42:35.651Z"
   },
   {
    "duration": 32,
    "start_time": "2022-11-10T11:45:08.347Z"
   },
   {
    "duration": 12,
    "start_time": "2022-11-10T11:46:05.584Z"
   },
   {
    "duration": 2,
    "start_time": "2022-11-10T11:52:22.042Z"
   },
   {
    "duration": 163,
    "start_time": "2022-11-10T11:52:22.048Z"
   },
   {
    "duration": 75,
    "start_time": "2022-11-10T11:52:22.212Z"
   },
   {
    "duration": 0,
    "start_time": "2022-11-10T11:52:22.289Z"
   },
   {
    "duration": 154,
    "start_time": "2022-11-10T11:52:42.457Z"
   },
   {
    "duration": 125,
    "start_time": "2022-11-10T11:53:07.591Z"
   },
   {
    "duration": 15,
    "start_time": "2022-11-10T11:53:57.835Z"
   },
   {
    "duration": 31,
    "start_time": "2022-11-10T11:54:17.876Z"
   },
   {
    "duration": 30,
    "start_time": "2022-11-10T11:54:30.468Z"
   },
   {
    "duration": 14,
    "start_time": "2022-11-10T11:59:45.292Z"
   },
   {
    "duration": 17,
    "start_time": "2022-11-10T12:07:28.886Z"
   },
   {
    "duration": 33,
    "start_time": "2022-11-10T12:08:00.483Z"
   },
   {
    "duration": 26,
    "start_time": "2022-11-10T12:09:14.413Z"
   },
   {
    "duration": 49,
    "start_time": "2022-11-10T12:09:32.442Z"
   },
   {
    "duration": 17,
    "start_time": "2022-11-10T12:09:46.688Z"
   },
   {
    "duration": 18,
    "start_time": "2022-11-10T12:09:54.218Z"
   },
   {
    "duration": 6,
    "start_time": "2022-11-10T12:10:30.131Z"
   },
   {
    "duration": 73,
    "start_time": "2022-11-10T12:14:35.173Z"
   },
   {
    "duration": 8,
    "start_time": "2022-11-10T12:14:43.533Z"
   },
   {
    "duration": 8,
    "start_time": "2022-11-10T12:14:56.901Z"
   },
   {
    "duration": 1072,
    "start_time": "2022-11-10T12:15:36.484Z"
   },
   {
    "duration": 1104,
    "start_time": "2022-11-10T12:15:42.294Z"
   },
   {
    "duration": 9,
    "start_time": "2022-11-10T12:16:00.389Z"
   },
   {
    "duration": 26,
    "start_time": "2022-11-10T12:16:53.835Z"
   },
   {
    "duration": 9,
    "start_time": "2022-11-10T12:17:18.396Z"
   },
   {
    "duration": 183,
    "start_time": "2022-11-10T12:18:54.320Z"
   },
   {
    "duration": 3,
    "start_time": "2022-11-10T12:19:05.516Z"
   },
   {
    "duration": 163,
    "start_time": "2022-11-10T12:19:05.521Z"
   },
   {
    "duration": 51,
    "start_time": "2022-11-10T12:19:05.686Z"
   },
   {
    "duration": 21,
    "start_time": "2022-11-10T12:19:05.739Z"
   },
   {
    "duration": 16,
    "start_time": "2022-11-10T12:19:39.872Z"
   },
   {
    "duration": 14,
    "start_time": "2022-11-10T12:19:49.889Z"
   },
   {
    "duration": 4,
    "start_time": "2022-11-10T12:19:55.222Z"
   },
   {
    "duration": 172,
    "start_time": "2022-11-10T12:19:55.228Z"
   },
   {
    "duration": 35,
    "start_time": "2022-11-10T12:19:55.402Z"
   },
   {
    "duration": 13,
    "start_time": "2022-11-10T12:19:55.439Z"
   },
   {
    "duration": 13,
    "start_time": "2022-11-10T12:20:45.876Z"
   },
   {
    "duration": 3,
    "start_time": "2022-11-10T12:20:51.710Z"
   },
   {
    "duration": 170,
    "start_time": "2022-11-10T12:20:51.716Z"
   },
   {
    "duration": 44,
    "start_time": "2022-11-10T12:20:51.888Z"
   },
   {
    "duration": 9,
    "start_time": "2022-11-10T12:20:51.934Z"
   },
   {
    "duration": 14,
    "start_time": "2022-11-10T12:24:19.505Z"
   },
   {
    "duration": 3,
    "start_time": "2022-11-10T12:24:28.767Z"
   },
   {
    "duration": 159,
    "start_time": "2022-11-10T12:24:28.774Z"
   },
   {
    "duration": 32,
    "start_time": "2022-11-10T12:24:28.935Z"
   },
   {
    "duration": 14,
    "start_time": "2022-11-10T12:24:28.969Z"
   },
   {
    "duration": 29,
    "start_time": "2022-11-10T12:24:40.806Z"
   },
   {
    "duration": 20,
    "start_time": "2022-11-10T12:24:49.569Z"
   },
   {
    "duration": 10,
    "start_time": "2022-11-10T12:26:19.412Z"
   },
   {
    "duration": 19,
    "start_time": "2022-11-10T12:26:36.851Z"
   },
   {
    "duration": 3,
    "start_time": "2022-11-10T12:27:02.670Z"
   },
   {
    "duration": 238,
    "start_time": "2022-11-10T12:27:02.676Z"
   },
   {
    "duration": 33,
    "start_time": "2022-11-10T12:27:02.916Z"
   },
   {
    "duration": 35,
    "start_time": "2022-11-10T12:27:02.951Z"
   },
   {
    "duration": 40,
    "start_time": "2022-11-10T12:28:19.179Z"
   },
   {
    "duration": 12,
    "start_time": "2022-11-10T12:29:10.914Z"
   },
   {
    "duration": 2,
    "start_time": "2022-11-10T12:29:18.709Z"
   },
   {
    "duration": 158,
    "start_time": "2022-11-10T12:29:18.713Z"
   },
   {
    "duration": 53,
    "start_time": "2022-11-10T12:29:18.874Z"
   },
   {
    "duration": 33,
    "start_time": "2022-11-10T12:29:18.928Z"
   },
   {
    "duration": 11,
    "start_time": "2022-11-10T12:30:32.890Z"
   },
   {
    "duration": 3,
    "start_time": "2022-11-10T12:30:48.597Z"
   },
   {
    "duration": 183,
    "start_time": "2022-11-10T12:30:48.603Z"
   },
   {
    "duration": 32,
    "start_time": "2022-11-10T12:30:48.788Z"
   },
   {
    "duration": 46,
    "start_time": "2022-11-10T12:30:48.822Z"
   },
   {
    "duration": 12,
    "start_time": "2022-11-10T12:31:15.242Z"
   },
   {
    "duration": 90,
    "start_time": "2022-11-10T12:34:10.817Z"
   },
   {
    "duration": 71,
    "start_time": "2022-11-10T12:34:17.587Z"
   },
   {
    "duration": 16,
    "start_time": "2022-11-10T12:34:36.995Z"
   },
   {
    "duration": 3,
    "start_time": "2022-11-10T12:34:57.369Z"
   },
   {
    "duration": 151,
    "start_time": "2022-11-10T12:34:57.374Z"
   },
   {
    "duration": 33,
    "start_time": "2022-11-10T12:34:57.527Z"
   },
   {
    "duration": 17,
    "start_time": "2022-11-10T12:34:57.562Z"
   },
   {
    "duration": 1504,
    "start_time": "2022-11-10T12:35:38.947Z"
   },
   {
    "duration": 24,
    "start_time": "2022-11-10T12:35:47.562Z"
   },
   {
    "duration": 13,
    "start_time": "2022-11-10T12:36:09.234Z"
   },
   {
    "duration": 7,
    "start_time": "2022-11-10T12:37:52.386Z"
   },
   {
    "duration": 2,
    "start_time": "2022-11-10T12:37:55.143Z"
   },
   {
    "duration": 153,
    "start_time": "2022-11-10T12:37:55.147Z"
   },
   {
    "duration": 33,
    "start_time": "2022-11-10T12:37:55.307Z"
   },
   {
    "duration": 6,
    "start_time": "2022-11-10T12:37:55.342Z"
   },
   {
    "duration": 19,
    "start_time": "2022-11-10T12:38:12.136Z"
   },
   {
    "duration": 6,
    "start_time": "2022-11-10T12:38:20.336Z"
   },
   {
    "duration": 9,
    "start_time": "2022-11-10T12:38:44.772Z"
   },
   {
    "duration": 9,
    "start_time": "2022-11-10T12:38:56.367Z"
   },
   {
    "duration": 10,
    "start_time": "2022-11-10T12:39:04.960Z"
   },
   {
    "duration": 3,
    "start_time": "2022-11-10T12:39:14.315Z"
   },
   {
    "duration": 151,
    "start_time": "2022-11-10T12:39:14.320Z"
   },
   {
    "duration": 33,
    "start_time": "2022-11-10T12:39:14.473Z"
   },
   {
    "duration": 35,
    "start_time": "2022-11-10T12:39:14.508Z"
   },
   {
    "duration": 11,
    "start_time": "2022-11-10T12:39:34.667Z"
   },
   {
    "duration": 2,
    "start_time": "2022-11-10T12:39:39.145Z"
   },
   {
    "duration": 160,
    "start_time": "2022-11-10T12:39:39.151Z"
   },
   {
    "duration": 30,
    "start_time": "2022-11-10T12:39:39.313Z"
   },
   {
    "duration": 29,
    "start_time": "2022-11-10T12:39:39.344Z"
   },
   {
    "duration": 12,
    "start_time": "2022-11-10T12:41:23.636Z"
   },
   {
    "duration": 2,
    "start_time": "2022-11-10T12:42:51.986Z"
   },
   {
    "duration": 3,
    "start_time": "2022-11-10T12:43:30.828Z"
   },
   {
    "duration": 176,
    "start_time": "2022-11-10T12:43:30.834Z"
   },
   {
    "duration": 34,
    "start_time": "2022-11-10T12:43:31.012Z"
   },
   {
    "duration": 3,
    "start_time": "2022-11-10T12:43:31.048Z"
   },
   {
    "duration": 13,
    "start_time": "2022-11-10T12:43:56.412Z"
   },
   {
    "duration": 11,
    "start_time": "2022-11-10T12:44:26.189Z"
   },
   {
    "duration": 3,
    "start_time": "2022-11-10T12:44:36.166Z"
   },
   {
    "duration": 160,
    "start_time": "2022-11-10T12:44:36.171Z"
   },
   {
    "duration": 11,
    "start_time": "2022-11-10T12:44:36.333Z"
   },
   {
    "duration": 0,
    "start_time": "2022-11-10T12:44:36.345Z"
   },
   {
    "duration": 25,
    "start_time": "2022-11-10T12:46:39.251Z"
   },
   {
    "duration": 22,
    "start_time": "2022-11-10T12:54:52.556Z"
   },
   {
    "duration": 472,
    "start_time": "2022-11-10T12:55:51.696Z"
   },
   {
    "duration": 449,
    "start_time": "2022-11-10T12:56:00.368Z"
   },
   {
    "duration": 401,
    "start_time": "2022-11-10T12:56:14.257Z"
   },
   {
    "duration": 125,
    "start_time": "2022-11-10T12:56:40.021Z"
   },
   {
    "duration": 119,
    "start_time": "2022-11-10T12:56:56.419Z"
   },
   {
    "duration": 2,
    "start_time": "2022-11-10T12:57:00.492Z"
   },
   {
    "duration": 138,
    "start_time": "2022-11-10T12:57:00.496Z"
   },
   {
    "duration": 2,
    "start_time": "2022-11-10T12:57:00.636Z"
   },
   {
    "duration": 24,
    "start_time": "2022-11-10T12:57:00.639Z"
   },
   {
    "duration": 160,
    "start_time": "2022-11-10T12:57:11.379Z"
   },
   {
    "duration": 7,
    "start_time": "2022-11-10T13:02:40.266Z"
   },
   {
    "duration": 19,
    "start_time": "2022-11-10T13:02:43.894Z"
   },
   {
    "duration": 30,
    "start_time": "2022-11-10T13:03:06.828Z"
   },
   {
    "duration": 11,
    "start_time": "2022-11-10T13:05:01.440Z"
   },
   {
    "duration": 75,
    "start_time": "2022-11-10T13:05:33.990Z"
   },
   {
    "duration": 75,
    "start_time": "2022-11-10T13:05:38.269Z"
   },
   {
    "duration": 14,
    "start_time": "2022-11-10T13:05:42.514Z"
   },
   {
    "duration": 11,
    "start_time": "2022-11-10T13:08:27.013Z"
   },
   {
    "duration": 16,
    "start_time": "2022-11-10T13:08:29.771Z"
   },
   {
    "duration": 3,
    "start_time": "2022-11-10T13:08:36.765Z"
   },
   {
    "duration": 191,
    "start_time": "2022-11-10T13:08:36.769Z"
   },
   {
    "duration": 14,
    "start_time": "2022-11-10T13:08:36.961Z"
   },
   {
    "duration": 3,
    "start_time": "2022-11-10T13:08:36.978Z"
   },
   {
    "duration": 11,
    "start_time": "2022-11-10T13:08:51.243Z"
   },
   {
    "duration": 16,
    "start_time": "2022-11-10T13:09:34.529Z"
   },
   {
    "duration": 9,
    "start_time": "2022-11-10T13:09:50.230Z"
   },
   {
    "duration": 3,
    "start_time": "2022-11-10T13:09:53.855Z"
   },
   {
    "duration": 179,
    "start_time": "2022-11-10T13:09:53.861Z"
   },
   {
    "duration": 11,
    "start_time": "2022-11-10T13:09:54.043Z"
   },
   {
    "duration": 12,
    "start_time": "2022-11-10T13:09:54.057Z"
   },
   {
    "duration": 23,
    "start_time": "2022-11-10T13:10:09.354Z"
   },
   {
    "duration": 30,
    "start_time": "2022-11-10T13:10:23.801Z"
   },
   {
    "duration": 16,
    "start_time": "2022-11-10T13:10:33.312Z"
   },
   {
    "duration": 12,
    "start_time": "2022-11-10T13:11:52.938Z"
   },
   {
    "duration": 7,
    "start_time": "2022-11-10T13:13:16.463Z"
   },
   {
    "duration": 7,
    "start_time": "2022-11-10T13:13:20.851Z"
   },
   {
    "duration": 28,
    "start_time": "2022-11-10T13:13:23.727Z"
   },
   {
    "duration": 11,
    "start_time": "2022-11-10T13:15:58.198Z"
   },
   {
    "duration": 33,
    "start_time": "2022-11-10T13:24:04.471Z"
   },
   {
    "duration": 8,
    "start_time": "2022-11-10T13:26:46.809Z"
   },
   {
    "duration": 10,
    "start_time": "2022-11-10T13:27:53.025Z"
   },
   {
    "duration": 12,
    "start_time": "2022-11-10T13:28:09.150Z"
   },
   {
    "duration": 30,
    "start_time": "2022-11-10T13:29:13.588Z"
   },
   {
    "duration": 14,
    "start_time": "2022-11-10T13:29:42.078Z"
   },
   {
    "duration": 3,
    "start_time": "2022-11-10T13:31:48.664Z"
   },
   {
    "duration": 200,
    "start_time": "2022-11-10T13:31:48.668Z"
   },
   {
    "duration": 17,
    "start_time": "2022-11-10T13:31:48.870Z"
   },
   {
    "duration": 33,
    "start_time": "2022-11-10T13:31:48.889Z"
   },
   {
    "duration": 12,
    "start_time": "2022-11-10T13:32:11.526Z"
   },
   {
    "duration": 3,
    "start_time": "2022-11-10T13:32:17.433Z"
   },
   {
    "duration": 162,
    "start_time": "2022-11-10T13:32:17.437Z"
   },
   {
    "duration": 15,
    "start_time": "2022-11-10T13:32:17.601Z"
   },
   {
    "duration": 11,
    "start_time": "2022-11-10T13:32:17.618Z"
   },
   {
    "duration": 11,
    "start_time": "2022-11-10T13:32:25.964Z"
   },
   {
    "duration": 4,
    "start_time": "2022-11-10T13:33:07.525Z"
   },
   {
    "duration": 169,
    "start_time": "2022-11-10T13:33:07.531Z"
   },
   {
    "duration": 18,
    "start_time": "2022-11-10T13:33:07.702Z"
   },
   {
    "duration": 18,
    "start_time": "2022-11-10T13:33:07.722Z"
   },
   {
    "duration": 11,
    "start_time": "2022-11-10T13:33:23.460Z"
   },
   {
    "duration": 3,
    "start_time": "2022-11-10T13:33:26.190Z"
   },
   {
    "duration": 158,
    "start_time": "2022-11-10T13:33:26.194Z"
   },
   {
    "duration": 15,
    "start_time": "2022-11-10T13:33:26.354Z"
   },
   {
    "duration": 15,
    "start_time": "2022-11-10T13:33:26.371Z"
   },
   {
    "duration": 151,
    "start_time": "2022-11-10T13:34:20.163Z"
   },
   {
    "duration": 13,
    "start_time": "2022-11-10T13:34:32.880Z"
   },
   {
    "duration": 159,
    "start_time": "2022-11-10T13:37:06.477Z"
   },
   {
    "duration": 159,
    "start_time": "2022-11-10T13:37:37.914Z"
   },
   {
    "duration": 156,
    "start_time": "2022-11-10T13:38:05.377Z"
   },
   {
    "duration": 159,
    "start_time": "2022-11-10T13:38:48.133Z"
   },
   {
    "duration": 157,
    "start_time": "2022-11-10T13:39:23.896Z"
   },
   {
    "duration": 2,
    "start_time": "2022-11-10T13:39:41.047Z"
   },
   {
    "duration": 168,
    "start_time": "2022-11-10T13:39:41.051Z"
   },
   {
    "duration": 15,
    "start_time": "2022-11-10T13:39:41.222Z"
   },
   {
    "duration": 28,
    "start_time": "2022-11-10T13:39:41.240Z"
   },
   {
    "duration": 12,
    "start_time": "2022-11-10T13:41:40.322Z"
   },
   {
    "duration": 160,
    "start_time": "2022-11-10T13:43:01.131Z"
   },
   {
    "duration": 33,
    "start_time": "2022-11-10T13:43:15.675Z"
   },
   {
    "duration": 23,
    "start_time": "2022-11-10T13:43:44.533Z"
   },
   {
    "duration": 15,
    "start_time": "2022-11-10T13:45:00.237Z"
   },
   {
    "duration": 12,
    "start_time": "2022-11-10T13:45:15.340Z"
   },
   {
    "duration": 3,
    "start_time": "2022-11-10T13:45:21.320Z"
   },
   {
    "duration": 160,
    "start_time": "2022-11-10T13:45:21.325Z"
   },
   {
    "duration": 21,
    "start_time": "2022-11-10T13:45:21.487Z"
   },
   {
    "duration": 24,
    "start_time": "2022-11-10T13:45:21.510Z"
   },
   {
    "duration": 13,
    "start_time": "2022-11-10T13:47:08.581Z"
   },
   {
    "duration": 3,
    "start_time": "2022-11-10T13:47:11.500Z"
   },
   {
    "duration": 177,
    "start_time": "2022-11-10T13:47:11.505Z"
   },
   {
    "duration": 38,
    "start_time": "2022-11-10T13:47:11.684Z"
   },
   {
    "duration": 36,
    "start_time": "2022-11-10T13:47:11.724Z"
   },
   {
    "duration": 31,
    "start_time": "2022-11-10T13:48:23.775Z"
   },
   {
    "duration": 37,
    "start_time": "2022-11-10T13:50:38.170Z"
   },
   {
    "duration": 12,
    "start_time": "2022-11-10T13:55:20.470Z"
   },
   {
    "duration": 2,
    "start_time": "2022-11-10T13:55:28.427Z"
   },
   {
    "duration": 179,
    "start_time": "2022-11-10T13:55:28.431Z"
   },
   {
    "duration": 30,
    "start_time": "2022-11-10T13:55:28.611Z"
   },
   {
    "duration": 38,
    "start_time": "2022-11-10T13:55:28.643Z"
   },
   {
    "duration": 11,
    "start_time": "2022-11-10T13:56:13.566Z"
   },
   {
    "duration": 3,
    "start_time": "2022-11-10T13:56:16.363Z"
   },
   {
    "duration": 185,
    "start_time": "2022-11-10T13:56:16.367Z"
   },
   {
    "duration": 31,
    "start_time": "2022-11-10T13:56:16.553Z"
   },
   {
    "duration": 58,
    "start_time": "2022-11-10T13:56:16.586Z"
   },
   {
    "duration": 12,
    "start_time": "2022-11-10T13:56:38.107Z"
   },
   {
    "duration": 3,
    "start_time": "2022-11-10T13:56:41.053Z"
   },
   {
    "duration": 164,
    "start_time": "2022-11-10T13:56:41.058Z"
   },
   {
    "duration": 29,
    "start_time": "2022-11-10T13:56:41.224Z"
   },
   {
    "duration": 825,
    "start_time": "2022-11-10T13:56:41.255Z"
   },
   {
    "duration": 12,
    "start_time": "2022-11-10T13:56:53.004Z"
   },
   {
    "duration": 3,
    "start_time": "2022-11-10T13:56:55.771Z"
   },
   {
    "duration": 172,
    "start_time": "2022-11-10T13:56:55.776Z"
   },
   {
    "duration": 30,
    "start_time": "2022-11-10T13:56:55.950Z"
   },
   {
    "duration": 550,
    "start_time": "2022-11-10T13:56:55.981Z"
   },
   {
    "duration": 11,
    "start_time": "2022-11-10T13:57:16.763Z"
   },
   {
    "duration": 2,
    "start_time": "2022-11-10T13:57:21.817Z"
   },
   {
    "duration": 178,
    "start_time": "2022-11-10T13:57:21.821Z"
   },
   {
    "duration": 33,
    "start_time": "2022-11-10T13:57:22.001Z"
   },
   {
    "duration": 39,
    "start_time": "2022-11-10T13:57:22.036Z"
   },
   {
    "duration": 13,
    "start_time": "2022-11-10T14:02:50.675Z"
   },
   {
    "duration": 3,
    "start_time": "2022-11-10T14:02:53.979Z"
   },
   {
    "duration": 191,
    "start_time": "2022-11-10T14:02:53.984Z"
   },
   {
    "duration": 59,
    "start_time": "2022-11-10T14:02:54.177Z"
   },
   {
    "duration": 620,
    "start_time": "2022-11-10T14:02:54.239Z"
   },
   {
    "duration": 12,
    "start_time": "2022-11-10T14:03:19.524Z"
   },
   {
    "duration": 3,
    "start_time": "2022-11-10T14:03:22.423Z"
   },
   {
    "duration": 164,
    "start_time": "2022-11-10T14:03:22.428Z"
   },
   {
    "duration": 30,
    "start_time": "2022-11-10T14:03:22.594Z"
   },
   {
    "duration": 573,
    "start_time": "2022-11-10T14:03:22.626Z"
   },
   {
    "duration": 13,
    "start_time": "2022-11-10T14:03:39.983Z"
   },
   {
    "duration": 12,
    "start_time": "2022-11-10T14:04:27.876Z"
   },
   {
    "duration": 571,
    "start_time": "2022-11-10T14:04:54.449Z"
   },
   {
    "duration": 561,
    "start_time": "2022-11-10T14:05:09.899Z"
   },
   {
    "duration": 3,
    "start_time": "2022-11-10T14:05:15.433Z"
   },
   {
    "duration": 177,
    "start_time": "2022-11-10T14:05:15.438Z"
   },
   {
    "duration": 29,
    "start_time": "2022-11-10T14:05:15.616Z"
   },
   {
    "duration": 601,
    "start_time": "2022-11-10T14:05:15.647Z"
   },
   {
    "duration": 576,
    "start_time": "2022-11-10T14:05:36.851Z"
   },
   {
    "duration": 15,
    "start_time": "2022-11-10T14:05:54.174Z"
   },
   {
    "duration": 2,
    "start_time": "2022-11-10T14:06:10.485Z"
   },
   {
    "duration": 225,
    "start_time": "2022-11-10T14:06:10.489Z"
   },
   {
    "duration": 28,
    "start_time": "2022-11-10T14:06:10.716Z"
   },
   {
    "duration": 30,
    "start_time": "2022-11-10T14:06:10.746Z"
   },
   {
    "duration": 12,
    "start_time": "2022-11-10T14:06:21.957Z"
   },
   {
    "duration": 11,
    "start_time": "2022-11-10T14:07:15.996Z"
   },
   {
    "duration": 11,
    "start_time": "2022-11-10T14:07:22.680Z"
   },
   {
    "duration": 3,
    "start_time": "2022-11-10T14:07:25.002Z"
   },
   {
    "duration": 193,
    "start_time": "2022-11-10T14:07:25.007Z"
   },
   {
    "duration": 28,
    "start_time": "2022-11-10T14:07:25.202Z"
   },
   {
    "duration": 25,
    "start_time": "2022-11-10T14:07:25.232Z"
   },
   {
    "duration": 31,
    "start_time": "2022-11-10T14:08:28.219Z"
   },
   {
    "duration": 3,
    "start_time": "2022-11-10T14:08:41.638Z"
   },
   {
    "duration": 159,
    "start_time": "2022-11-10T14:08:41.643Z"
   },
   {
    "duration": 31,
    "start_time": "2022-11-10T14:08:41.803Z"
   },
   {
    "duration": 556,
    "start_time": "2022-11-10T14:08:41.836Z"
   },
   {
    "duration": 595,
    "start_time": "2022-11-10T14:09:54.299Z"
   },
   {
    "duration": 2,
    "start_time": "2022-11-10T14:10:32.226Z"
   },
   {
    "duration": 177,
    "start_time": "2022-11-10T14:10:32.230Z"
   },
   {
    "duration": 29,
    "start_time": "2022-11-10T14:10:32.409Z"
   },
   {
    "duration": 579,
    "start_time": "2022-11-10T14:10:32.439Z"
   },
   {
    "duration": 26,
    "start_time": "2022-11-10T14:10:42.451Z"
   },
   {
    "duration": 29,
    "start_time": "2022-11-10T14:11:05.151Z"
   },
   {
    "duration": 10,
    "start_time": "2022-11-10T14:11:13.003Z"
   },
   {
    "duration": 343,
    "start_time": "2022-11-10T14:11:49.910Z"
   },
   {
    "duration": 9,
    "start_time": "2022-11-10T14:12:02.801Z"
   },
   {
    "duration": 13,
    "start_time": "2022-11-10T14:12:15.223Z"
   },
   {
    "duration": 9,
    "start_time": "2022-11-10T14:12:39.176Z"
   },
   {
    "duration": 10,
    "start_time": "2022-11-10T14:12:46.227Z"
   },
   {
    "duration": 9,
    "start_time": "2022-11-10T14:12:49.124Z"
   },
   {
    "duration": 10,
    "start_time": "2022-11-10T14:12:58.956Z"
   },
   {
    "duration": 8,
    "start_time": "2022-11-10T14:13:08.435Z"
   },
   {
    "duration": 8,
    "start_time": "2022-11-10T14:13:19.742Z"
   },
   {
    "duration": 7,
    "start_time": "2022-11-10T14:13:27.459Z"
   },
   {
    "duration": 556,
    "start_time": "2022-11-10T14:13:31.695Z"
   },
   {
    "duration": 11,
    "start_time": "2022-11-10T14:13:47.432Z"
   },
   {
    "duration": 41,
    "start_time": "2022-11-10T14:13:51.601Z"
   },
   {
    "duration": 26,
    "start_time": "2022-11-10T14:14:11.900Z"
   },
   {
    "duration": 13,
    "start_time": "2022-11-10T14:15:32.307Z"
   },
   {
    "duration": 16,
    "start_time": "2022-11-10T14:17:43.932Z"
   },
   {
    "duration": 14,
    "start_time": "2022-11-10T14:19:57.696Z"
   },
   {
    "duration": 13,
    "start_time": "2022-11-10T14:20:06.490Z"
   },
   {
    "duration": 14,
    "start_time": "2022-11-10T14:20:10.999Z"
   },
   {
    "duration": 3,
    "start_time": "2022-11-10T14:20:20.933Z"
   },
   {
    "duration": 160,
    "start_time": "2022-11-10T14:20:20.938Z"
   },
   {
    "duration": 29,
    "start_time": "2022-11-10T14:20:21.100Z"
   },
   {
    "duration": 13,
    "start_time": "2022-11-10T14:20:21.131Z"
   },
   {
    "duration": 0,
    "start_time": "2022-11-10T14:20:21.146Z"
   },
   {
    "duration": 17,
    "start_time": "2022-11-10T14:20:36.579Z"
   },
   {
    "duration": 16,
    "start_time": "2022-11-10T14:20:42.102Z"
   },
   {
    "duration": 3,
    "start_time": "2022-11-10T14:20:44.648Z"
   },
   {
    "duration": 157,
    "start_time": "2022-11-10T14:20:44.653Z"
   },
   {
    "duration": 29,
    "start_time": "2022-11-10T14:20:44.812Z"
   },
   {
    "duration": 16,
    "start_time": "2022-11-10T14:20:44.843Z"
   },
   {
    "duration": 0,
    "start_time": "2022-11-10T14:20:44.860Z"
   },
   {
    "duration": 16,
    "start_time": "2022-11-10T14:20:56.300Z"
   },
   {
    "duration": 2,
    "start_time": "2022-11-10T14:20:59.411Z"
   },
   {
    "duration": 164,
    "start_time": "2022-11-10T14:20:59.416Z"
   },
   {
    "duration": 42,
    "start_time": "2022-11-10T14:20:59.581Z"
   },
   {
    "duration": 15,
    "start_time": "2022-11-10T14:20:59.625Z"
   },
   {
    "duration": 0,
    "start_time": "2022-11-10T14:20:59.642Z"
   },
   {
    "duration": 2,
    "start_time": "2022-11-10T14:21:18.336Z"
   },
   {
    "duration": 162,
    "start_time": "2022-11-10T14:21:18.340Z"
   },
   {
    "duration": 29,
    "start_time": "2022-11-10T14:21:18.503Z"
   },
   {
    "duration": 15,
    "start_time": "2022-11-10T14:21:18.534Z"
   },
   {
    "duration": 0,
    "start_time": "2022-11-10T14:21:18.550Z"
   },
   {
    "duration": 3,
    "start_time": "2022-11-10T14:21:48.144Z"
   },
   {
    "duration": 161,
    "start_time": "2022-11-10T14:21:48.149Z"
   },
   {
    "duration": 29,
    "start_time": "2022-11-10T14:21:48.312Z"
   },
   {
    "duration": 17,
    "start_time": "2022-11-10T14:21:48.343Z"
   },
   {
    "duration": 0,
    "start_time": "2022-11-10T14:21:48.362Z"
   },
   {
    "duration": 10,
    "start_time": "2022-11-10T14:22:02.794Z"
   },
   {
    "duration": 14,
    "start_time": "2022-11-10T14:22:05.782Z"
   },
   {
    "duration": 12,
    "start_time": "2022-11-10T14:22:09.401Z"
   },
   {
    "duration": 14,
    "start_time": "2022-11-10T14:22:26.177Z"
   },
   {
    "duration": 2,
    "start_time": "2022-11-10T14:22:36.633Z"
   },
   {
    "duration": 181,
    "start_time": "2022-11-10T14:22:36.637Z"
   },
   {
    "duration": 30,
    "start_time": "2022-11-10T14:22:36.820Z"
   },
   {
    "duration": 10,
    "start_time": "2022-11-10T14:22:36.852Z"
   },
   {
    "duration": 19,
    "start_time": "2022-11-10T14:22:36.863Z"
   },
   {
    "duration": 5,
    "start_time": "2022-11-10T14:22:50.964Z"
   },
   {
    "duration": 14,
    "start_time": "2022-11-10T14:23:04.756Z"
   },
   {
    "duration": 5,
    "start_time": "2022-11-10T14:23:09.098Z"
   },
   {
    "duration": 16,
    "start_time": "2022-11-10T14:23:13.197Z"
   },
   {
    "duration": 6,
    "start_time": "2022-11-10T14:23:15.840Z"
   },
   {
    "duration": 15,
    "start_time": "2022-11-10T14:23:20.117Z"
   },
   {
    "duration": 14,
    "start_time": "2022-11-10T14:23:30.237Z"
   },
   {
    "duration": 6,
    "start_time": "2022-11-10T14:23:32.797Z"
   },
   {
    "duration": 9,
    "start_time": "2022-11-10T14:24:04.910Z"
   },
   {
    "duration": 14,
    "start_time": "2022-11-10T14:24:18.807Z"
   },
   {
    "duration": 7,
    "start_time": "2022-11-10T14:24:21.639Z"
   },
   {
    "duration": 15,
    "start_time": "2022-11-10T14:24:40.552Z"
   },
   {
    "duration": 450,
    "start_time": "2022-11-14T14:13:03.916Z"
   },
   {
    "duration": 377,
    "start_time": "2022-11-14T14:13:04.368Z"
   },
   {
    "duration": 47,
    "start_time": "2022-11-14T14:13:04.747Z"
   },
   {
    "duration": 87,
    "start_time": "2022-11-14T14:13:04.797Z"
   },
   {
    "duration": 0,
    "start_time": "2022-11-14T14:13:04.885Z"
   },
   {
    "duration": 16,
    "start_time": "2022-11-14T14:13:25.336Z"
   },
   {
    "duration": 2,
    "start_time": "2022-11-14T14:13:29.876Z"
   },
   {
    "duration": 184,
    "start_time": "2022-11-14T14:13:29.880Z"
   },
   {
    "duration": 39,
    "start_time": "2022-11-14T14:13:30.066Z"
   },
   {
    "duration": 15,
    "start_time": "2022-11-14T14:13:30.107Z"
   },
   {
    "duration": 0,
    "start_time": "2022-11-14T14:13:30.124Z"
   },
   {
    "duration": 16,
    "start_time": "2022-11-14T14:13:44.988Z"
   },
   {
    "duration": 3,
    "start_time": "2022-11-14T14:13:47.777Z"
   },
   {
    "duration": 168,
    "start_time": "2022-11-14T14:13:47.783Z"
   },
   {
    "duration": 38,
    "start_time": "2022-11-14T14:13:47.953Z"
   },
   {
    "duration": 16,
    "start_time": "2022-11-14T14:13:47.993Z"
   },
   {
    "duration": 23,
    "start_time": "2022-11-14T14:13:48.012Z"
   },
   {
    "duration": 11,
    "start_time": "2022-11-14T14:20:07.857Z"
   },
   {
    "duration": 22,
    "start_time": "2022-11-14T14:20:23.665Z"
   },
   {
    "duration": 30,
    "start_time": "2022-11-14T14:24:58.528Z"
   },
   {
    "duration": 19,
    "start_time": "2022-11-14T14:26:05.355Z"
   },
   {
    "duration": 21,
    "start_time": "2022-11-14T14:29:43.258Z"
   },
   {
    "duration": 21,
    "start_time": "2022-11-14T14:30:07.771Z"
   },
   {
    "duration": 20,
    "start_time": "2022-11-14T14:30:36.293Z"
   },
   {
    "duration": 614,
    "start_time": "2022-11-14T14:35:33.326Z"
   },
   {
    "duration": 177,
    "start_time": "2022-11-14T14:37:05.237Z"
   },
   {
    "duration": 164,
    "start_time": "2022-11-14T14:37:35.550Z"
   },
   {
    "duration": 190,
    "start_time": "2022-11-14T14:38:14.566Z"
   },
   {
    "duration": 371,
    "start_time": "2022-11-14T14:38:38.067Z"
   },
   {
    "duration": 274,
    "start_time": "2022-11-14T14:38:45.586Z"
   },
   {
    "duration": 31,
    "start_time": "2022-11-14T14:39:09.190Z"
   },
   {
    "duration": 30,
    "start_time": "2022-11-14T14:39:25.454Z"
   },
   {
    "duration": 32,
    "start_time": "2022-11-14T14:39:37.833Z"
   },
   {
    "duration": 19,
    "start_time": "2022-11-14T14:40:07.077Z"
   },
   {
    "duration": 6,
    "start_time": "2022-11-14T14:45:26.725Z"
   },
   {
    "duration": 28,
    "start_time": "2022-11-14T14:46:18.776Z"
   },
   {
    "duration": 20,
    "start_time": "2022-11-14T14:47:32.654Z"
   },
   {
    "duration": 10,
    "start_time": "2022-11-14T14:47:50.673Z"
   },
   {
    "duration": 29,
    "start_time": "2022-11-14T14:48:28.555Z"
   },
   {
    "duration": 6,
    "start_time": "2022-11-14T14:49:06.898Z"
   },
   {
    "duration": 19,
    "start_time": "2022-11-14T14:49:26.815Z"
   },
   {
    "duration": 17,
    "start_time": "2022-11-14T14:49:56.977Z"
   },
   {
    "duration": 11,
    "start_time": "2022-11-14T14:51:23.441Z"
   },
   {
    "duration": 29,
    "start_time": "2022-11-14T14:51:36.994Z"
   },
   {
    "duration": 13,
    "start_time": "2022-11-14T14:52:05.866Z"
   },
   {
    "duration": 14,
    "start_time": "2022-11-14T14:52:10.054Z"
   },
   {
    "duration": 31,
    "start_time": "2022-11-14T14:52:13.420Z"
   },
   {
    "duration": 39,
    "start_time": "2022-11-14T14:53:04.138Z"
   },
   {
    "duration": 30,
    "start_time": "2022-11-14T14:53:17.408Z"
   },
   {
    "duration": 29,
    "start_time": "2022-11-14T14:53:33.067Z"
   },
   {
    "duration": 30,
    "start_time": "2022-11-14T14:53:40.854Z"
   },
   {
    "duration": 21,
    "start_time": "2022-11-14T14:56:01.946Z"
   },
   {
    "duration": 9,
    "start_time": "2022-11-14T14:58:05.601Z"
   },
   {
    "duration": 7,
    "start_time": "2022-11-14T14:58:14.448Z"
   },
   {
    "duration": 1093,
    "start_time": "2022-11-14T14:59:31.763Z"
   },
   {
    "duration": 19,
    "start_time": "2022-11-14T14:59:44.925Z"
   },
   {
    "duration": 14,
    "start_time": "2022-11-14T15:00:11.128Z"
   },
   {
    "duration": 35,
    "start_time": "2022-11-14T15:00:26.955Z"
   },
   {
    "duration": 40,
    "start_time": "2022-11-14T15:00:52.108Z"
   },
   {
    "duration": 34,
    "start_time": "2022-11-14T15:01:01.321Z"
   },
   {
    "duration": 29,
    "start_time": "2022-11-14T15:01:26.222Z"
   },
   {
    "duration": 37,
    "start_time": "2022-11-14T15:02:13.469Z"
   },
   {
    "duration": 35,
    "start_time": "2022-11-14T15:03:49.720Z"
   },
   {
    "duration": 34,
    "start_time": "2022-11-14T15:07:09.633Z"
   },
   {
    "duration": 36,
    "start_time": "2022-11-14T15:07:18.461Z"
   },
   {
    "duration": 35,
    "start_time": "2022-11-14T15:09:03.705Z"
   },
   {
    "duration": 16,
    "start_time": "2022-11-14T15:09:44.083Z"
   },
   {
    "duration": 34,
    "start_time": "2022-11-14T15:09:52.224Z"
   },
   {
    "duration": 22,
    "start_time": "2022-11-14T15:10:15.321Z"
   },
   {
    "duration": 17,
    "start_time": "2022-11-14T15:10:22.139Z"
   },
   {
    "duration": 16,
    "start_time": "2022-11-14T15:10:40.947Z"
   },
   {
    "duration": 20,
    "start_time": "2022-11-14T15:10:49.403Z"
   },
   {
    "duration": 18,
    "start_time": "2022-11-14T15:10:55.068Z"
   },
   {
    "duration": 19,
    "start_time": "2022-11-14T15:14:28.136Z"
   },
   {
    "duration": 34,
    "start_time": "2022-11-14T15:14:34.310Z"
   },
   {
    "duration": 20,
    "start_time": "2022-11-14T15:14:54.982Z"
   },
   {
    "duration": 19,
    "start_time": "2022-11-14T15:15:32.501Z"
   },
   {
    "duration": 19,
    "start_time": "2022-11-14T15:15:54.669Z"
   },
   {
    "duration": 21,
    "start_time": "2022-11-14T15:16:51.085Z"
   },
   {
    "duration": 24,
    "start_time": "2022-11-14T15:17:32.814Z"
   },
   {
    "duration": 21,
    "start_time": "2022-11-14T15:17:36.298Z"
   },
   {
    "duration": 19,
    "start_time": "2022-11-14T15:18:00.801Z"
   },
   {
    "duration": 19,
    "start_time": "2022-11-14T15:18:14.868Z"
   },
   {
    "duration": 70,
    "start_time": "2022-11-14T15:18:27.624Z"
   },
   {
    "duration": 18,
    "start_time": "2022-11-14T15:23:17.918Z"
   },
   {
    "duration": 18,
    "start_time": "2022-11-14T15:23:27.324Z"
   },
   {
    "duration": 37,
    "start_time": "2022-11-14T15:23:42.739Z"
   },
   {
    "duration": 67,
    "start_time": "2022-11-14T15:24:20.053Z"
   },
   {
    "duration": 24,
    "start_time": "2022-11-14T15:24:27.348Z"
   },
   {
    "duration": 23,
    "start_time": "2022-11-14T15:24:42.149Z"
   },
   {
    "duration": 22,
    "start_time": "2022-11-14T15:24:50.796Z"
   },
   {
    "duration": 33,
    "start_time": "2022-11-14T15:25:06.313Z"
   },
   {
    "duration": 29,
    "start_time": "2022-11-14T15:25:37.562Z"
   },
   {
    "duration": 42,
    "start_time": "2022-11-14T15:25:57.866Z"
   },
   {
    "duration": 33,
    "start_time": "2022-11-14T15:26:12.769Z"
   },
   {
    "duration": 23,
    "start_time": "2022-11-14T15:26:24.819Z"
   },
   {
    "duration": 22,
    "start_time": "2022-11-14T15:26:34.408Z"
   },
   {
    "duration": 22,
    "start_time": "2022-11-14T15:26:54.379Z"
   },
   {
    "duration": 23,
    "start_time": "2022-11-14T15:27:05.340Z"
   },
   {
    "duration": 23,
    "start_time": "2022-11-14T15:27:18.977Z"
   },
   {
    "duration": 2,
    "start_time": "2022-11-14T15:27:23.589Z"
   },
   {
    "duration": 184,
    "start_time": "2022-11-14T15:27:23.593Z"
   },
   {
    "duration": 32,
    "start_time": "2022-11-14T15:27:23.778Z"
   },
   {
    "duration": 15,
    "start_time": "2022-11-14T15:27:23.812Z"
   },
   {
    "duration": 25,
    "start_time": "2022-11-14T15:27:23.829Z"
   },
   {
    "duration": 97,
    "start_time": "2022-11-14T15:27:23.856Z"
   },
   {
    "duration": 4,
    "start_time": "2022-11-14T15:27:35.865Z"
   },
   {
    "duration": 25,
    "start_time": "2022-11-14T15:27:38.333Z"
   },
   {
    "duration": 22,
    "start_time": "2022-11-14T15:28:03.912Z"
   },
   {
    "duration": 24,
    "start_time": "2022-11-14T15:28:12.444Z"
   },
   {
    "duration": 3,
    "start_time": "2022-11-14T15:28:15.162Z"
   },
   {
    "duration": 185,
    "start_time": "2022-11-14T15:28:15.168Z"
   },
   {
    "duration": 32,
    "start_time": "2022-11-14T15:28:15.355Z"
   },
   {
    "duration": 26,
    "start_time": "2022-11-14T15:28:15.389Z"
   },
   {
    "duration": 26,
    "start_time": "2022-11-14T15:28:15.417Z"
   },
   {
    "duration": 79,
    "start_time": "2022-11-14T15:28:15.445Z"
   },
   {
    "duration": 19,
    "start_time": "2022-11-14T15:29:44.643Z"
   },
   {
    "duration": 4,
    "start_time": "2022-11-14T15:29:47.980Z"
   },
   {
    "duration": 192,
    "start_time": "2022-11-14T15:29:47.987Z"
   },
   {
    "duration": 35,
    "start_time": "2022-11-14T15:29:48.181Z"
   },
   {
    "duration": 21,
    "start_time": "2022-11-14T15:29:48.219Z"
   },
   {
    "duration": 44,
    "start_time": "2022-11-14T15:29:48.242Z"
   },
   {
    "duration": 25,
    "start_time": "2022-11-14T15:29:48.287Z"
   },
   {
    "duration": 16,
    "start_time": "2022-11-14T15:30:00.911Z"
   },
   {
    "duration": 3,
    "start_time": "2022-11-14T15:30:09.792Z"
   },
   {
    "duration": 186,
    "start_time": "2022-11-14T15:30:09.798Z"
   },
   {
    "duration": 31,
    "start_time": "2022-11-14T15:30:09.986Z"
   },
   {
    "duration": 16,
    "start_time": "2022-11-14T15:30:10.019Z"
   },
   {
    "duration": 49,
    "start_time": "2022-11-14T15:30:10.038Z"
   },
   {
    "duration": 20,
    "start_time": "2022-11-14T15:30:10.089Z"
   },
   {
    "duration": 28,
    "start_time": "2022-11-14T15:31:04.098Z"
   },
   {
    "duration": 24,
    "start_time": "2022-11-14T15:31:29.947Z"
   },
   {
    "duration": 21,
    "start_time": "2022-11-14T15:31:33.101Z"
   },
   {
    "duration": 3411,
    "start_time": "2022-11-14T15:32:36.374Z"
   },
   {
    "duration": 37,
    "start_time": "2022-11-14T15:32:40.101Z"
   },
   {
    "duration": 3554,
    "start_time": "2022-11-14T15:32:47.141Z"
   },
   {
    "duration": 3543,
    "start_time": "2022-11-14T15:33:00.272Z"
   },
   {
    "duration": 118,
    "start_time": "2022-11-14T15:33:29.084Z"
   },
   {
    "duration": 26,
    "start_time": "2022-11-14T15:34:17.989Z"
   },
   {
    "duration": 37,
    "start_time": "2022-11-14T15:34:23.349Z"
   },
   {
    "duration": 3,
    "start_time": "2022-11-14T15:34:35.332Z"
   },
   {
    "duration": 169,
    "start_time": "2022-11-14T15:34:35.337Z"
   },
   {
    "duration": 30,
    "start_time": "2022-11-14T15:34:35.507Z"
   },
   {
    "duration": 39,
    "start_time": "2022-11-14T15:34:35.539Z"
   },
   {
    "duration": 21,
    "start_time": "2022-11-14T15:34:35.580Z"
   },
   {
    "duration": 37,
    "start_time": "2022-11-14T15:34:35.603Z"
   },
   {
    "duration": 64,
    "start_time": "2022-11-14T15:35:21.196Z"
   },
   {
    "duration": 24,
    "start_time": "2022-11-14T15:35:58.644Z"
   },
   {
    "duration": 182,
    "start_time": "2022-11-14T15:37:22.570Z"
   },
   {
    "duration": 62,
    "start_time": "2022-11-14T15:37:27.507Z"
   },
   {
    "duration": 1132,
    "start_time": "2022-11-14T15:37:39.678Z"
   },
   {
    "duration": 64,
    "start_time": "2022-11-14T15:37:50.856Z"
   },
   {
    "duration": 15,
    "start_time": "2022-11-14T15:38:06.488Z"
   },
   {
    "duration": 49,
    "start_time": "2022-11-14T15:38:23.242Z"
   },
   {
    "duration": 15,
    "start_time": "2022-11-14T15:39:07.770Z"
   },
   {
    "duration": 20,
    "start_time": "2022-11-14T15:40:19.606Z"
   },
   {
    "duration": 103,
    "start_time": "2022-11-14T15:41:25.645Z"
   },
   {
    "duration": 82,
    "start_time": "2022-11-14T15:41:44.110Z"
   },
   {
    "duration": 71,
    "start_time": "2022-11-14T15:41:48.746Z"
   },
   {
    "duration": 19,
    "start_time": "2022-11-14T15:42:04.930Z"
   },
   {
    "duration": 19,
    "start_time": "2022-11-14T15:42:40.121Z"
   },
   {
    "duration": 52,
    "start_time": "2022-11-14T15:43:12.069Z"
   },
   {
    "duration": 20,
    "start_time": "2022-11-14T15:43:51.859Z"
   },
   {
    "duration": 89,
    "start_time": "2022-11-14T15:44:10.535Z"
   },
   {
    "duration": 110,
    "start_time": "2022-11-14T15:44:16.033Z"
   },
   {
    "duration": 110,
    "start_time": "2022-11-14T15:44:27.330Z"
   },
   {
    "duration": 19,
    "start_time": "2022-11-14T15:45:16.427Z"
   },
   {
    "duration": 22,
    "start_time": "2022-11-14T15:45:33.174Z"
   },
   {
    "duration": 21,
    "start_time": "2022-11-14T15:46:12.226Z"
   },
   {
    "duration": 1188,
    "start_time": "2022-11-14T15:46:36.104Z"
   },
   {
    "duration": 21,
    "start_time": "2022-11-14T15:46:47.238Z"
   },
   {
    "duration": 25,
    "start_time": "2022-11-14T15:47:01.327Z"
   },
   {
    "duration": 3,
    "start_time": "2022-11-14T15:47:09.258Z"
   },
   {
    "duration": 172,
    "start_time": "2022-11-14T15:47:09.263Z"
   },
   {
    "duration": 29,
    "start_time": "2022-11-14T15:47:09.436Z"
   },
   {
    "duration": 14,
    "start_time": "2022-11-14T15:47:09.479Z"
   },
   {
    "duration": 21,
    "start_time": "2022-11-14T15:47:09.495Z"
   },
   {
    "duration": 63,
    "start_time": "2022-11-14T15:47:09.517Z"
   },
   {
    "duration": 82,
    "start_time": "2022-11-14T15:47:42.265Z"
   },
   {
    "duration": 74,
    "start_time": "2022-11-14T15:48:06.841Z"
   },
   {
    "duration": 35,
    "start_time": "2022-11-14T15:48:21.156Z"
   },
   {
    "duration": 3,
    "start_time": "2022-11-14T15:48:29.963Z"
   },
   {
    "duration": 178,
    "start_time": "2022-11-14T15:48:29.967Z"
   },
   {
    "duration": 32,
    "start_time": "2022-11-14T15:48:30.147Z"
   },
   {
    "duration": 15,
    "start_time": "2022-11-14T15:48:30.181Z"
   },
   {
    "duration": 33,
    "start_time": "2022-11-14T15:48:30.197Z"
   },
   {
    "duration": 50,
    "start_time": "2022-11-14T15:48:30.231Z"
   },
   {
    "duration": 3414,
    "start_time": "2022-11-14T15:49:07.883Z"
   },
   {
    "duration": 3395,
    "start_time": "2022-11-14T15:49:25.469Z"
   },
   {
    "duration": 71,
    "start_time": "2022-11-14T15:49:43.959Z"
   },
   {
    "duration": 17,
    "start_time": "2022-11-14T15:49:47.408Z"
   },
   {
    "duration": 101,
    "start_time": "2022-11-14T15:49:57.970Z"
   },
   {
    "duration": 3319,
    "start_time": "2022-11-14T15:50:26.578Z"
   },
   {
    "duration": 3436,
    "start_time": "2022-11-14T15:51:14.765Z"
   },
   {
    "duration": 3425,
    "start_time": "2022-11-14T15:51:59.147Z"
   },
   {
    "duration": 78,
    "start_time": "2022-11-14T15:52:37.655Z"
   },
   {
    "duration": 24,
    "start_time": "2022-11-14T15:53:33.778Z"
   },
   {
    "duration": 14,
    "start_time": "2022-11-14T15:56:38.641Z"
   },
   {
    "duration": 15,
    "start_time": "2022-11-14T15:56:44.116Z"
   },
   {
    "duration": 3,
    "start_time": "2022-11-14T15:56:47.035Z"
   },
   {
    "duration": 181,
    "start_time": "2022-11-14T15:56:47.040Z"
   },
   {
    "duration": 32,
    "start_time": "2022-11-14T15:56:47.223Z"
   },
   {
    "duration": 16,
    "start_time": "2022-11-14T15:56:47.278Z"
   },
   {
    "duration": 25,
    "start_time": "2022-11-14T15:56:47.296Z"
   },
   {
    "duration": 24,
    "start_time": "2022-11-14T15:56:47.322Z"
   },
   {
    "duration": 7,
    "start_time": "2022-11-14T15:56:58.261Z"
   },
   {
    "duration": 29,
    "start_time": "2022-11-14T15:59:01.262Z"
   },
   {
    "duration": 7,
    "start_time": "2022-11-14T15:59:08.760Z"
   },
   {
    "duration": 807,
    "start_time": "2022-11-14T15:59:16.743Z"
   },
   {
    "duration": 3,
    "start_time": "2022-11-14T15:59:23.474Z"
   },
   {
    "duration": 173,
    "start_time": "2022-11-14T15:59:23.479Z"
   },
   {
    "duration": 29,
    "start_time": "2022-11-14T15:59:23.653Z"
   },
   {
    "duration": 14,
    "start_time": "2022-11-14T15:59:23.684Z"
   },
   {
    "duration": 20,
    "start_time": "2022-11-14T15:59:23.701Z"
   },
   {
    "duration": 14,
    "start_time": "2022-11-14T15:59:23.722Z"
   },
   {
    "duration": 18,
    "start_time": "2022-11-14T15:59:48.444Z"
   },
   {
    "duration": 25,
    "start_time": "2022-11-14T15:59:54.072Z"
   },
   {
    "duration": 46,
    "start_time": "2022-11-14T16:00:12.598Z"
   },
   {
    "duration": 96,
    "start_time": "2022-11-14T16:00:21.406Z"
   },
   {
    "duration": 30,
    "start_time": "2022-11-14T16:00:30.470Z"
   },
   {
    "duration": 4,
    "start_time": "2022-11-14T16:01:31.200Z"
   },
   {
    "duration": 36,
    "start_time": "2022-11-14T16:01:37.302Z"
   },
   {
    "duration": 2,
    "start_time": "2022-11-14T16:01:45.379Z"
   },
   {
    "duration": 178,
    "start_time": "2022-11-14T16:01:45.383Z"
   },
   {
    "duration": 33,
    "start_time": "2022-11-14T16:01:45.563Z"
   },
   {
    "duration": 16,
    "start_time": "2022-11-14T16:01:45.598Z"
   },
   {
    "duration": 23,
    "start_time": "2022-11-14T16:01:45.616Z"
   },
   {
    "duration": 60,
    "start_time": "2022-11-14T16:01:45.641Z"
   },
   {
    "duration": 16,
    "start_time": "2022-11-14T16:02:13.428Z"
   },
   {
    "duration": 14,
    "start_time": "2022-11-14T16:02:32.966Z"
   },
   {
    "duration": 3,
    "start_time": "2022-11-14T16:02:43.373Z"
   },
   {
    "duration": 174,
    "start_time": "2022-11-14T16:02:43.378Z"
   },
   {
    "duration": 31,
    "start_time": "2022-11-14T16:02:43.553Z"
   },
   {
    "duration": 16,
    "start_time": "2022-11-14T16:02:43.586Z"
   },
   {
    "duration": 20,
    "start_time": "2022-11-14T16:02:43.604Z"
   },
   {
    "duration": 19,
    "start_time": "2022-11-14T16:02:43.626Z"
   },
   {
    "duration": 13,
    "start_time": "2022-11-14T16:02:58.040Z"
   },
   {
    "duration": 3,
    "start_time": "2022-11-14T16:03:01.867Z"
   },
   {
    "duration": 186,
    "start_time": "2022-11-14T16:03:01.872Z"
   },
   {
    "duration": 31,
    "start_time": "2022-11-14T16:03:02.060Z"
   },
   {
    "duration": 17,
    "start_time": "2022-11-14T16:03:02.094Z"
   },
   {
    "duration": 15,
    "start_time": "2022-11-14T16:03:02.113Z"
   },
   {
    "duration": 20,
    "start_time": "2022-11-14T16:03:02.131Z"
   },
   {
    "duration": 17,
    "start_time": "2022-11-14T16:03:26.899Z"
   },
   {
    "duration": 3,
    "start_time": "2022-11-14T16:03:30.694Z"
   },
   {
    "duration": 207,
    "start_time": "2022-11-14T16:03:30.699Z"
   },
   {
    "duration": 31,
    "start_time": "2022-11-14T16:03:30.908Z"
   },
   {
    "duration": 16,
    "start_time": "2022-11-14T16:03:30.941Z"
   },
   {
    "duration": 18,
    "start_time": "2022-11-14T16:03:30.979Z"
   },
   {
    "duration": 47,
    "start_time": "2022-11-14T16:03:31.000Z"
   },
   {
    "duration": 17,
    "start_time": "2022-11-14T16:03:50.877Z"
   },
   {
    "duration": 47,
    "start_time": "2022-11-14T16:04:11.998Z"
   },
   {
    "duration": 27,
    "start_time": "2022-11-14T16:04:56.363Z"
   },
   {
    "duration": 43,
    "start_time": "2022-11-14T16:05:45.292Z"
   },
   {
    "duration": 3,
    "start_time": "2022-11-14T16:05:55.054Z"
   },
   {
    "duration": 181,
    "start_time": "2022-11-14T16:05:55.059Z"
   },
   {
    "duration": 39,
    "start_time": "2022-11-14T16:05:55.242Z"
   },
   {
    "duration": 15,
    "start_time": "2022-11-14T16:05:55.283Z"
   },
   {
    "duration": 33,
    "start_time": "2022-11-14T16:05:55.300Z"
   },
   {
    "duration": 49,
    "start_time": "2022-11-14T16:05:55.335Z"
   },
   {
    "duration": 26,
    "start_time": "2022-11-14T16:06:11.884Z"
   },
   {
    "duration": 27,
    "start_time": "2022-11-14T16:06:28.959Z"
   },
   {
    "duration": 25,
    "start_time": "2022-11-14T16:06:53.181Z"
   },
   {
    "duration": 27,
    "start_time": "2022-11-14T16:06:57.194Z"
   },
   {
    "duration": 29,
    "start_time": "2022-11-14T16:07:26.265Z"
   },
   {
    "duration": 17,
    "start_time": "2022-11-14T16:09:53.854Z"
   },
   {
    "duration": 9,
    "start_time": "2022-11-14T16:12:37.137Z"
   },
   {
    "duration": 1577,
    "start_time": "2022-11-14T16:13:44.571Z"
   },
   {
    "duration": 11,
    "start_time": "2022-11-14T16:13:57.862Z"
   },
   {
    "duration": 12,
    "start_time": "2022-11-14T16:14:05.734Z"
   },
   {
    "duration": 9,
    "start_time": "2022-11-14T16:14:17.792Z"
   },
   {
    "duration": 20,
    "start_time": "2022-11-14T16:14:28.640Z"
   },
   {
    "duration": 23,
    "start_time": "2022-11-14T16:14:38.961Z"
   },
   {
    "duration": 23,
    "start_time": "2022-11-14T16:14:52.663Z"
   },
   {
    "duration": 60,
    "start_time": "2022-11-14T16:15:02.653Z"
   },
   {
    "duration": 22,
    "start_time": "2022-11-14T16:15:18.564Z"
   },
   {
    "duration": 11,
    "start_time": "2022-11-14T16:15:39.422Z"
   },
   {
    "duration": 2,
    "start_time": "2022-11-14T16:15:42.356Z"
   },
   {
    "duration": 169,
    "start_time": "2022-11-14T16:15:42.360Z"
   },
   {
    "duration": 27,
    "start_time": "2022-11-14T16:15:42.531Z"
   },
   {
    "duration": 31,
    "start_time": "2022-11-14T16:15:42.560Z"
   },
   {
    "duration": 12,
    "start_time": "2022-11-14T16:15:42.593Z"
   },
   {
    "duration": 24,
    "start_time": "2022-11-14T16:15:42.607Z"
   },
   {
    "duration": 16,
    "start_time": "2022-11-14T16:15:54.351Z"
   },
   {
    "duration": 3,
    "start_time": "2022-11-14T16:15:57.210Z"
   },
   {
    "duration": 175,
    "start_time": "2022-11-14T16:15:57.214Z"
   },
   {
    "duration": 32,
    "start_time": "2022-11-14T16:15:57.391Z"
   },
   {
    "duration": 16,
    "start_time": "2022-11-14T16:15:57.424Z"
   },
   {
    "duration": 13,
    "start_time": "2022-11-14T16:15:57.443Z"
   },
   {
    "duration": 20,
    "start_time": "2022-11-14T16:15:57.479Z"
   },
   {
    "duration": 22,
    "start_time": "2022-11-14T16:16:25.246Z"
   },
   {
    "duration": 2,
    "start_time": "2022-11-14T16:16:28.002Z"
   },
   {
    "duration": 175,
    "start_time": "2022-11-14T16:16:28.006Z"
   },
   {
    "duration": 29,
    "start_time": "2022-11-14T16:16:28.183Z"
   },
   {
    "duration": 15,
    "start_time": "2022-11-14T16:16:28.214Z"
   },
   {
    "duration": 13,
    "start_time": "2022-11-14T16:16:28.231Z"
   },
   {
    "duration": 47,
    "start_time": "2022-11-14T16:16:28.246Z"
   },
   {
    "duration": 45,
    "start_time": "2022-11-14T16:17:37.140Z"
   },
   {
    "duration": 3,
    "start_time": "2022-11-14T16:17:39.726Z"
   },
   {
    "duration": 177,
    "start_time": "2022-11-14T16:17:39.731Z"
   },
   {
    "duration": 31,
    "start_time": "2022-11-14T16:17:39.910Z"
   },
   {
    "duration": 43,
    "start_time": "2022-11-14T16:17:39.943Z"
   },
   {
    "duration": 16,
    "start_time": "2022-11-14T16:17:39.988Z"
   },
   {
    "duration": 73,
    "start_time": "2022-11-14T16:17:40.006Z"
   },
   {
    "duration": 60,
    "start_time": "2022-11-14T16:18:10.932Z"
   },
   {
    "duration": 82,
    "start_time": "2022-11-14T16:18:29.876Z"
   },
   {
    "duration": 51,
    "start_time": "2022-11-14T16:18:59.228Z"
   },
   {
    "duration": 24,
    "start_time": "2022-11-14T16:19:26.386Z"
   },
   {
    "duration": 3,
    "start_time": "2022-11-14T16:19:29.591Z"
   },
   {
    "duration": 182,
    "start_time": "2022-11-14T16:19:29.596Z"
   },
   {
    "duration": 31,
    "start_time": "2022-11-14T16:19:29.779Z"
   },
   {
    "duration": 15,
    "start_time": "2022-11-14T16:19:29.811Z"
   },
   {
    "duration": 14,
    "start_time": "2022-11-14T16:19:29.827Z"
   },
   {
    "duration": 49,
    "start_time": "2022-11-14T16:19:29.843Z"
   },
   {
    "duration": 50,
    "start_time": "2022-11-14T16:19:41.552Z"
   },
   {
    "duration": 11,
    "start_time": "2022-11-14T16:20:52.525Z"
   },
   {
    "duration": 2,
    "start_time": "2022-11-14T16:21:22.383Z"
   },
   {
    "duration": 165,
    "start_time": "2022-11-14T16:21:22.387Z"
   },
   {
    "duration": 31,
    "start_time": "2022-11-14T16:21:22.554Z"
   },
   {
    "duration": 17,
    "start_time": "2022-11-14T16:21:22.587Z"
   },
   {
    "duration": 14,
    "start_time": "2022-11-14T16:21:22.607Z"
   },
   {
    "duration": 12,
    "start_time": "2022-11-14T16:21:22.623Z"
   },
   {
    "duration": 11,
    "start_time": "2022-11-14T16:22:07.289Z"
   },
   {
    "duration": 53,
    "start_time": "2022-11-14T16:22:19.429Z"
   },
   {
    "duration": 51,
    "start_time": "2022-11-15T09:26:30.935Z"
   },
   {
    "duration": 342,
    "start_time": "2022-11-15T09:26:37.023Z"
   },
   {
    "duration": 354,
    "start_time": "2022-11-15T09:26:37.367Z"
   },
   {
    "duration": 25,
    "start_time": "2022-11-15T09:26:37.722Z"
   },
   {
    "duration": 29,
    "start_time": "2022-11-15T09:26:37.749Z"
   },
   {
    "duration": 11,
    "start_time": "2022-11-15T09:26:37.779Z"
   },
   {
    "duration": 40,
    "start_time": "2022-11-15T09:26:37.792Z"
   },
   {
    "duration": 42,
    "start_time": "2022-11-15T09:27:02.895Z"
   },
   {
    "duration": 57,
    "start_time": "2022-11-15T09:27:50.629Z"
   },
   {
    "duration": 90,
    "start_time": "2022-11-15T09:28:33.964Z"
   },
   {
    "duration": 49,
    "start_time": "2022-11-15T09:29:18.643Z"
   },
   {
    "duration": 62,
    "start_time": "2022-11-15T09:29:33.380Z"
   },
   {
    "duration": 55,
    "start_time": "2022-11-15T09:30:21.777Z"
   },
   {
    "duration": 36,
    "start_time": "2022-11-15T09:32:51.215Z"
   },
   {
    "duration": 46,
    "start_time": "2022-11-15T09:33:21.868Z"
   },
   {
    "duration": 45,
    "start_time": "2022-11-15T09:33:45.709Z"
   },
   {
    "duration": 51,
    "start_time": "2022-11-15T09:33:52.092Z"
   },
   {
    "duration": 32,
    "start_time": "2022-11-15T09:34:37.460Z"
   },
   {
    "duration": 3,
    "start_time": "2022-11-15T09:34:42.042Z"
   },
   {
    "duration": 171,
    "start_time": "2022-11-15T09:34:42.046Z"
   },
   {
    "duration": 29,
    "start_time": "2022-11-15T09:34:42.219Z"
   },
   {
    "duration": 50,
    "start_time": "2022-11-15T09:34:42.250Z"
   },
   {
    "duration": 11,
    "start_time": "2022-11-15T09:34:42.302Z"
   },
   {
    "duration": 64,
    "start_time": "2022-11-15T09:34:42.315Z"
   },
   {
    "duration": 21,
    "start_time": "2022-11-15T09:35:11.409Z"
   },
   {
    "duration": 11,
    "start_time": "2022-11-15T09:35:16.028Z"
   },
   {
    "duration": 3,
    "start_time": "2022-11-15T09:35:26.350Z"
   },
   {
    "duration": 147,
    "start_time": "2022-11-15T09:35:26.356Z"
   },
   {
    "duration": 25,
    "start_time": "2022-11-15T09:35:26.505Z"
   },
   {
    "duration": 12,
    "start_time": "2022-11-15T09:35:26.531Z"
   },
   {
    "duration": 9,
    "start_time": "2022-11-15T09:35:26.544Z"
   },
   {
    "duration": 64,
    "start_time": "2022-11-15T09:35:26.554Z"
   },
   {
    "duration": 40,
    "start_time": "2022-11-15T09:37:11.391Z"
   },
   {
    "duration": 63,
    "start_time": "2022-11-15T09:37:42.906Z"
   },
   {
    "duration": 3,
    "start_time": "2022-11-15T09:37:46.325Z"
   },
   {
    "duration": 153,
    "start_time": "2022-11-15T09:37:46.330Z"
   },
   {
    "duration": 26,
    "start_time": "2022-11-15T09:37:46.484Z"
   },
   {
    "duration": 13,
    "start_time": "2022-11-15T09:37:46.512Z"
   },
   {
    "duration": 10,
    "start_time": "2022-11-15T09:37:46.526Z"
   },
   {
    "duration": 58,
    "start_time": "2022-11-15T09:37:46.538Z"
   },
   {
    "duration": 6,
    "start_time": "2022-11-15T09:54:05.935Z"
   },
   {
    "duration": 23,
    "start_time": "2022-11-15T09:55:28.853Z"
   },
   {
    "duration": 43,
    "start_time": "2022-11-15T09:57:27.186Z"
   },
   {
    "duration": 43,
    "start_time": "2022-11-15T09:57:57.191Z"
   },
   {
    "duration": 3,
    "start_time": "2022-11-15T09:58:01.400Z"
   },
   {
    "duration": 204,
    "start_time": "2022-11-15T09:58:01.406Z"
   },
   {
    "duration": 31,
    "start_time": "2022-11-15T09:58:01.612Z"
   },
   {
    "duration": 35,
    "start_time": "2022-11-15T09:58:01.645Z"
   },
   {
    "duration": 16,
    "start_time": "2022-11-15T09:58:01.682Z"
   },
   {
    "duration": 53,
    "start_time": "2022-11-15T09:58:01.700Z"
   },
   {
    "duration": 43,
    "start_time": "2022-11-15T09:58:01.755Z"
   },
   {
    "duration": 74,
    "start_time": "2022-11-15T09:58:35.000Z"
   },
   {
    "duration": 48,
    "start_time": "2022-11-15T09:58:39.796Z"
   },
   {
    "duration": 50,
    "start_time": "2022-11-15T09:59:03.452Z"
   },
   {
    "duration": 49,
    "start_time": "2022-11-15T09:59:36.536Z"
   },
   {
    "duration": 2,
    "start_time": "2022-11-15T09:59:38.900Z"
   },
   {
    "duration": 162,
    "start_time": "2022-11-15T09:59:38.906Z"
   },
   {
    "duration": 31,
    "start_time": "2022-11-15T09:59:39.070Z"
   },
   {
    "duration": 14,
    "start_time": "2022-11-15T09:59:39.102Z"
   },
   {
    "duration": 15,
    "start_time": "2022-11-15T09:59:39.117Z"
   },
   {
    "duration": 57,
    "start_time": "2022-11-15T09:59:39.134Z"
   },
   {
    "duration": 40,
    "start_time": "2022-11-15T10:00:28.487Z"
   },
   {
    "duration": 5,
    "start_time": "2022-11-15T10:00:53.473Z"
   },
   {
    "duration": 133,
    "start_time": "2022-11-15T10:01:40.339Z"
   },
   {
    "duration": 6,
    "start_time": "2022-11-15T10:02:35.923Z"
   },
   {
    "duration": 9,
    "start_time": "2022-11-15T10:05:12.261Z"
   },
   {
    "duration": 10,
    "start_time": "2022-11-15T10:05:21.236Z"
   },
   {
    "duration": 7,
    "start_time": "2022-11-15T10:07:17.217Z"
   },
   {
    "duration": 7,
    "start_time": "2022-11-15T10:07:50.294Z"
   },
   {
    "duration": 93,
    "start_time": "2022-11-15T10:08:08.895Z"
   },
   {
    "duration": 7,
    "start_time": "2022-11-15T10:08:11.991Z"
   },
   {
    "duration": 7,
    "start_time": "2022-11-15T10:08:33.013Z"
   },
   {
    "duration": 9,
    "start_time": "2022-11-15T10:09:30.592Z"
   },
   {
    "duration": 8,
    "start_time": "2022-11-15T10:10:54.824Z"
   },
   {
    "duration": 6,
    "start_time": "2022-11-15T10:11:28.696Z"
   },
   {
    "duration": 5,
    "start_time": "2022-11-15T10:24:25.659Z"
   },
   {
    "duration": 7,
    "start_time": "2022-11-15T10:24:35.321Z"
   },
   {
    "duration": 6,
    "start_time": "2022-11-15T10:32:47.882Z"
   },
   {
    "duration": 9,
    "start_time": "2022-11-15T10:32:51.016Z"
   },
   {
    "duration": 10,
    "start_time": "2022-11-15T10:33:59.123Z"
   },
   {
    "duration": 11,
    "start_time": "2022-11-15T10:34:04.123Z"
   },
   {
    "duration": 2,
    "start_time": "2022-11-15T10:34:11.276Z"
   },
   {
    "duration": 152,
    "start_time": "2022-11-15T10:34:11.282Z"
   },
   {
    "duration": 28,
    "start_time": "2022-11-15T10:34:11.436Z"
   },
   {
    "duration": 24,
    "start_time": "2022-11-15T10:34:11.465Z"
   },
   {
    "duration": 10,
    "start_time": "2022-11-15T10:34:11.491Z"
   },
   {
    "duration": 46,
    "start_time": "2022-11-15T10:34:11.502Z"
   },
   {
    "duration": 9,
    "start_time": "2022-11-15T10:34:11.550Z"
   },
   {
    "duration": 13,
    "start_time": "2022-11-15T10:34:27.907Z"
   },
   {
    "duration": 14,
    "start_time": "2022-11-15T10:38:28.397Z"
   },
   {
    "duration": 2,
    "start_time": "2022-11-15T10:38:36.867Z"
   },
   {
    "duration": 156,
    "start_time": "2022-11-15T10:38:36.872Z"
   },
   {
    "duration": 26,
    "start_time": "2022-11-15T10:38:37.030Z"
   },
   {
    "duration": 25,
    "start_time": "2022-11-15T10:38:37.057Z"
   },
   {
    "duration": 25,
    "start_time": "2022-11-15T10:38:37.084Z"
   },
   {
    "duration": 75,
    "start_time": "2022-11-15T10:38:37.110Z"
   },
   {
    "duration": 11,
    "start_time": "2022-11-15T10:38:37.187Z"
   },
   {
    "duration": 9,
    "start_time": "2022-11-15T10:39:25.231Z"
   },
   {
    "duration": 3,
    "start_time": "2022-11-15T10:39:29.267Z"
   },
   {
    "duration": 156,
    "start_time": "2022-11-15T10:39:29.272Z"
   },
   {
    "duration": 29,
    "start_time": "2022-11-15T10:39:29.430Z"
   },
   {
    "duration": 27,
    "start_time": "2022-11-15T10:39:29.460Z"
   },
   {
    "duration": 9,
    "start_time": "2022-11-15T10:39:29.489Z"
   },
   {
    "duration": 44,
    "start_time": "2022-11-15T10:39:29.499Z"
   },
   {
    "duration": 33,
    "start_time": "2022-11-15T10:39:29.546Z"
   },
   {
    "duration": 11,
    "start_time": "2022-11-15T10:42:10.960Z"
   },
   {
    "duration": 17,
    "start_time": "2022-11-15T10:42:14.641Z"
   },
   {
    "duration": 9,
    "start_time": "2022-11-15T10:46:50.365Z"
   },
   {
    "duration": 69,
    "start_time": "2022-11-15T10:47:15.736Z"
   },
   {
    "duration": 7,
    "start_time": "2022-11-15T10:47:19.632Z"
   },
   {
    "duration": 4,
    "start_time": "2022-11-15T10:48:36.844Z"
   },
   {
    "duration": 15,
    "start_time": "2022-11-15T10:48:42.395Z"
   },
   {
    "duration": 3,
    "start_time": "2022-11-15T10:48:54.061Z"
   },
   {
    "duration": 173,
    "start_time": "2022-11-15T10:48:54.070Z"
   },
   {
    "duration": 37,
    "start_time": "2022-11-15T10:48:54.246Z"
   },
   {
    "duration": 15,
    "start_time": "2022-11-15T10:48:54.284Z"
   },
   {
    "duration": 11,
    "start_time": "2022-11-15T10:48:54.301Z"
   },
   {
    "duration": 76,
    "start_time": "2022-11-15T10:48:54.315Z"
   },
   {
    "duration": 4,
    "start_time": "2022-11-15T10:48:54.393Z"
   },
   {
    "duration": 22,
    "start_time": "2022-11-15T10:48:54.399Z"
   },
   {
    "duration": 2,
    "start_time": "2022-11-15T10:51:59.525Z"
   },
   {
    "duration": 161,
    "start_time": "2022-11-15T10:51:59.530Z"
   },
   {
    "duration": 30,
    "start_time": "2022-11-15T10:51:59.693Z"
   },
   {
    "duration": 13,
    "start_time": "2022-11-15T10:51:59.725Z"
   },
   {
    "duration": 9,
    "start_time": "2022-11-15T10:51:59.740Z"
   },
   {
    "duration": 65,
    "start_time": "2022-11-15T10:51:59.751Z"
   },
   {
    "duration": 2,
    "start_time": "2022-11-15T10:51:59.818Z"
   },
   {
    "duration": 27,
    "start_time": "2022-11-15T10:51:59.821Z"
   },
   {
    "duration": 1177,
    "start_time": "2022-11-15T10:52:33.987Z"
   },
   {
    "duration": 2,
    "start_time": "2022-11-15T10:52:40.045Z"
   },
   {
    "duration": 175,
    "start_time": "2022-11-15T10:52:40.049Z"
   },
   {
    "duration": 31,
    "start_time": "2022-11-15T10:52:40.226Z"
   },
   {
    "duration": 16,
    "start_time": "2022-11-15T10:52:40.279Z"
   },
   {
    "duration": 10,
    "start_time": "2022-11-15T10:52:40.297Z"
   },
   {
    "duration": 69,
    "start_time": "2022-11-15T10:52:40.309Z"
   },
   {
    "duration": 3,
    "start_time": "2022-11-15T10:52:40.380Z"
   },
   {
    "duration": 1120,
    "start_time": "2022-11-15T10:52:40.385Z"
   },
   {
    "duration": 10,
    "start_time": "2022-11-15T10:53:05.646Z"
   },
   {
    "duration": 13,
    "start_time": "2022-11-15T10:53:27.235Z"
   },
   {
    "duration": 14,
    "start_time": "2022-11-15T10:53:35.193Z"
   },
   {
    "duration": 70,
    "start_time": "2022-11-15T10:54:02.945Z"
   },
   {
    "duration": 16,
    "start_time": "2022-11-15T10:54:22.355Z"
   },
   {
    "duration": 14,
    "start_time": "2022-11-15T10:59:15.338Z"
   },
   {
    "duration": 312,
    "start_time": "2022-11-15T11:00:17.668Z"
   },
   {
    "duration": 273,
    "start_time": "2022-11-15T11:01:58.275Z"
   },
   {
    "duration": 78,
    "start_time": "2022-11-15T11:02:36.385Z"
   },
   {
    "duration": 74,
    "start_time": "2022-11-15T11:02:50.117Z"
   },
   {
    "duration": 280,
    "start_time": "2022-11-15T11:02:54.285Z"
   },
   {
    "duration": 285,
    "start_time": "2022-11-15T11:03:34.772Z"
   },
   {
    "duration": 309,
    "start_time": "2022-11-15T11:03:44.500Z"
   },
   {
    "duration": 11,
    "start_time": "2022-11-15T11:04:42.321Z"
   },
   {
    "duration": 2,
    "start_time": "2022-11-15T11:04:46.416Z"
   },
   {
    "duration": 150,
    "start_time": "2022-11-15T11:04:46.421Z"
   },
   {
    "duration": 26,
    "start_time": "2022-11-15T11:04:46.573Z"
   },
   {
    "duration": 13,
    "start_time": "2022-11-15T11:04:46.600Z"
   },
   {
    "duration": 8,
    "start_time": "2022-11-15T11:04:46.615Z"
   },
   {
    "duration": 59,
    "start_time": "2022-11-15T11:04:46.624Z"
   },
   {
    "duration": 2,
    "start_time": "2022-11-15T11:04:46.684Z"
   },
   {
    "duration": 17,
    "start_time": "2022-11-15T11:04:46.688Z"
   },
   {
    "duration": 4,
    "start_time": "2022-11-15T11:05:14.242Z"
   },
   {
    "duration": 15,
    "start_time": "2022-11-15T11:05:17.079Z"
   },
   {
    "duration": 5,
    "start_time": "2022-11-15T11:05:38.996Z"
   },
   {
    "duration": 14,
    "start_time": "2022-11-15T11:05:42.320Z"
   },
   {
    "duration": 5,
    "start_time": "2022-11-15T11:06:01.672Z"
   },
   {
    "duration": 15,
    "start_time": "2022-11-15T11:06:04.598Z"
   },
   {
    "duration": 3,
    "start_time": "2022-11-15T11:06:08.950Z"
   },
   {
    "duration": 175,
    "start_time": "2022-11-15T11:06:08.956Z"
   },
   {
    "duration": 26,
    "start_time": "2022-11-15T11:06:09.133Z"
   },
   {
    "duration": 29,
    "start_time": "2022-11-15T11:06:09.160Z"
   },
   {
    "duration": 9,
    "start_time": "2022-11-15T11:06:09.192Z"
   },
   {
    "duration": 41,
    "start_time": "2022-11-15T11:06:09.203Z"
   },
   {
    "duration": 5,
    "start_time": "2022-11-15T11:06:09.245Z"
   },
   {
    "duration": 39,
    "start_time": "2022-11-15T11:06:09.251Z"
   },
   {
    "duration": 5,
    "start_time": "2022-11-15T11:06:25.129Z"
   },
   {
    "duration": 71,
    "start_time": "2022-11-15T11:08:35.566Z"
   },
   {
    "duration": 3,
    "start_time": "2022-11-15T11:08:46.226Z"
   },
   {
    "duration": 13,
    "start_time": "2022-11-15T11:08:51.157Z"
   },
   {
    "duration": 3,
    "start_time": "2022-11-15T11:08:56.106Z"
   },
   {
    "duration": 151,
    "start_time": "2022-11-15T11:08:56.112Z"
   },
   {
    "duration": 28,
    "start_time": "2022-11-15T11:08:56.265Z"
   },
   {
    "duration": 13,
    "start_time": "2022-11-15T11:08:56.295Z"
   },
   {
    "duration": 16,
    "start_time": "2022-11-15T11:08:56.310Z"
   },
   {
    "duration": 64,
    "start_time": "2022-11-15T11:08:56.328Z"
   },
   {
    "duration": 3,
    "start_time": "2022-11-15T11:08:56.393Z"
   },
   {
    "duration": 17,
    "start_time": "2022-11-15T11:08:56.398Z"
   },
   {
    "duration": 3,
    "start_time": "2022-11-15T11:09:41.117Z"
   },
   {
    "duration": 3,
    "start_time": "2022-11-15T11:09:43.623Z"
   },
   {
    "duration": 14,
    "start_time": "2022-11-15T11:09:46.227Z"
   },
   {
    "duration": 3,
    "start_time": "2022-11-15T11:09:48.932Z"
   },
   {
    "duration": 161,
    "start_time": "2022-11-15T11:09:48.937Z"
   },
   {
    "duration": 31,
    "start_time": "2022-11-15T11:09:49.100Z"
   },
   {
    "duration": 14,
    "start_time": "2022-11-15T11:09:49.134Z"
   },
   {
    "duration": 32,
    "start_time": "2022-11-15T11:09:49.151Z"
   },
   {
    "duration": 42,
    "start_time": "2022-11-15T11:09:49.185Z"
   },
   {
    "duration": 2,
    "start_time": "2022-11-15T11:09:49.229Z"
   },
   {
    "duration": 26,
    "start_time": "2022-11-15T11:09:49.233Z"
   },
   {
    "duration": 327,
    "start_time": "2022-11-15T11:10:43.890Z"
   },
   {
    "duration": 14,
    "start_time": "2022-11-15T11:10:56.099Z"
   },
   {
    "duration": 298,
    "start_time": "2022-11-15T11:11:01.944Z"
   },
   {
    "duration": 3,
    "start_time": "2022-11-15T11:11:23.244Z"
   },
   {
    "duration": 15,
    "start_time": "2022-11-15T11:11:25.775Z"
   },
   {
    "duration": 2,
    "start_time": "2022-11-15T11:11:34.510Z"
   },
   {
    "duration": 174,
    "start_time": "2022-11-15T11:11:34.514Z"
   },
   {
    "duration": 26,
    "start_time": "2022-11-15T11:11:34.689Z"
   },
   {
    "duration": 12,
    "start_time": "2022-11-15T11:11:34.717Z"
   },
   {
    "duration": 9,
    "start_time": "2022-11-15T11:11:34.731Z"
   },
   {
    "duration": 65,
    "start_time": "2022-11-15T11:11:34.741Z"
   },
   {
    "duration": 3,
    "start_time": "2022-11-15T11:11:34.808Z"
   },
   {
    "duration": 17,
    "start_time": "2022-11-15T11:11:34.812Z"
   },
   {
    "duration": 2,
    "start_time": "2022-11-15T11:11:47.227Z"
   },
   {
    "duration": 304,
    "start_time": "2022-11-15T11:11:50.119Z"
   },
   {
    "duration": 2,
    "start_time": "2022-11-15T11:12:31.844Z"
   },
   {
    "duration": 281,
    "start_time": "2022-11-15T11:12:34.751Z"
   },
   {
    "duration": 43,
    "start_time": "2022-11-16T15:22:12.198Z"
   },
   {
    "duration": 402,
    "start_time": "2022-11-16T15:22:18.802Z"
   },
   {
    "duration": 662,
    "start_time": "2022-11-16T15:22:19.206Z"
   },
   {
    "duration": 12,
    "start_time": "2022-11-16T15:22:19.869Z"
   },
   {
    "duration": 15,
    "start_time": "2022-11-16T15:22:19.882Z"
   },
   {
    "duration": 22,
    "start_time": "2022-11-16T15:22:19.898Z"
   },
   {
    "duration": 40,
    "start_time": "2022-11-16T15:22:19.922Z"
   },
   {
    "duration": 3,
    "start_time": "2022-11-16T15:22:19.964Z"
   },
   {
    "duration": 14,
    "start_time": "2022-11-16T15:22:19.968Z"
   },
   {
    "duration": 26,
    "start_time": "2022-11-16T15:22:36.681Z"
   },
   {
    "duration": 3,
    "start_time": "2022-11-16T15:46:45.826Z"
   },
   {
    "duration": 360,
    "start_time": "2022-11-16T15:46:49.907Z"
   },
   {
    "duration": 8,
    "start_time": "2022-11-16T15:48:20.142Z"
   },
   {
    "duration": 316,
    "start_time": "2022-11-16T15:48:22.811Z"
   },
   {
    "duration": 9,
    "start_time": "2022-11-16T15:49:00.615Z"
   },
   {
    "duration": 2,
    "start_time": "2022-11-16T15:49:47.534Z"
   },
   {
    "duration": 177,
    "start_time": "2022-11-16T15:49:47.538Z"
   },
   {
    "duration": 26,
    "start_time": "2022-11-16T15:49:47.726Z"
   },
   {
    "duration": 15,
    "start_time": "2022-11-16T15:49:47.753Z"
   },
   {
    "duration": 20,
    "start_time": "2022-11-16T15:49:47.771Z"
   },
   {
    "duration": 57,
    "start_time": "2022-11-16T15:49:47.792Z"
   },
   {
    "duration": 11,
    "start_time": "2022-11-16T15:49:47.851Z"
   },
   {
    "duration": 10,
    "start_time": "2022-11-16T15:49:47.863Z"
   },
   {
    "duration": 30,
    "start_time": "2022-11-16T15:52:12.485Z"
   },
   {
    "duration": 2,
    "start_time": "2022-11-16T15:52:31.861Z"
   },
   {
    "duration": 152,
    "start_time": "2022-11-16T15:52:31.865Z"
   },
   {
    "duration": 23,
    "start_time": "2022-11-16T15:52:32.019Z"
   },
   {
    "duration": 12,
    "start_time": "2022-11-16T15:52:32.044Z"
   },
   {
    "duration": 8,
    "start_time": "2022-11-16T15:52:32.058Z"
   },
   {
    "duration": 65,
    "start_time": "2022-11-16T15:52:32.068Z"
   },
   {
    "duration": 29,
    "start_time": "2022-11-16T15:52:32.135Z"
   },
   {
    "duration": 10,
    "start_time": "2022-11-16T15:52:32.166Z"
   },
   {
    "duration": 9,
    "start_time": "2022-11-16T15:52:49.537Z"
   },
   {
    "duration": 2,
    "start_time": "2022-11-16T15:52:58.336Z"
   },
   {
    "duration": 155,
    "start_time": "2022-11-16T15:52:58.340Z"
   },
   {
    "duration": 26,
    "start_time": "2022-11-16T15:52:58.497Z"
   },
   {
    "duration": 13,
    "start_time": "2022-11-16T15:52:58.524Z"
   },
   {
    "duration": 10,
    "start_time": "2022-11-16T15:52:58.539Z"
   },
   {
    "duration": 42,
    "start_time": "2022-11-16T15:52:58.551Z"
   },
   {
    "duration": 9,
    "start_time": "2022-11-16T15:52:58.612Z"
   },
   {
    "duration": 10,
    "start_time": "2022-11-16T15:52:58.623Z"
   },
   {
    "duration": 3,
    "start_time": "2022-11-16T15:53:19.847Z"
   },
   {
    "duration": 158,
    "start_time": "2022-11-16T15:53:19.852Z"
   },
   {
    "duration": 26,
    "start_time": "2022-11-16T15:53:20.012Z"
   },
   {
    "duration": 13,
    "start_time": "2022-11-16T15:53:20.039Z"
   },
   {
    "duration": 8,
    "start_time": "2022-11-16T15:53:20.054Z"
   },
   {
    "duration": 62,
    "start_time": "2022-11-16T15:53:20.064Z"
   },
   {
    "duration": 31,
    "start_time": "2022-11-16T15:53:20.127Z"
   },
   {
    "duration": 9,
    "start_time": "2022-11-16T15:53:20.160Z"
   },
   {
    "duration": 50,
    "start_time": "2022-11-16T15:55:30.603Z"
   },
   {
    "duration": 2,
    "start_time": "2022-11-16T15:55:36.624Z"
   },
   {
    "duration": 155,
    "start_time": "2022-11-16T15:55:36.628Z"
   },
   {
    "duration": 29,
    "start_time": "2022-11-16T15:55:36.785Z"
   },
   {
    "duration": 15,
    "start_time": "2022-11-16T15:55:36.815Z"
   },
   {
    "duration": 10,
    "start_time": "2022-11-16T15:55:36.833Z"
   },
   {
    "duration": 74,
    "start_time": "2022-11-16T15:55:36.845Z"
   },
   {
    "duration": 36,
    "start_time": "2022-11-16T15:55:36.921Z"
   },
   {
    "duration": 9,
    "start_time": "2022-11-16T15:55:36.959Z"
   },
   {
    "duration": 67,
    "start_time": "2022-11-16T15:58:15.518Z"
   },
   {
    "duration": 45,
    "start_time": "2022-11-16T15:59:16.983Z"
   },
   {
    "duration": 2,
    "start_time": "2022-11-16T15:59:30.708Z"
   },
   {
    "duration": 153,
    "start_time": "2022-11-16T15:59:30.712Z"
   },
   {
    "duration": 26,
    "start_time": "2022-11-16T15:59:30.866Z"
   },
   {
    "duration": 16,
    "start_time": "2022-11-16T15:59:30.912Z"
   },
   {
    "duration": 17,
    "start_time": "2022-11-16T15:59:30.930Z"
   },
   {
    "duration": 67,
    "start_time": "2022-11-16T15:59:30.950Z"
   },
   {
    "duration": 33,
    "start_time": "2022-11-16T15:59:31.019Z"
   },
   {
    "duration": 13,
    "start_time": "2022-11-16T15:59:31.053Z"
   },
   {
    "duration": 46,
    "start_time": "2022-11-16T15:59:56.344Z"
   },
   {
    "duration": 46,
    "start_time": "2022-11-16T16:02:42.403Z"
   },
   {
    "duration": 2,
    "start_time": "2022-11-16T16:02:47.642Z"
   },
   {
    "duration": 154,
    "start_time": "2022-11-16T16:02:47.646Z"
   },
   {
    "duration": 24,
    "start_time": "2022-11-16T16:02:47.802Z"
   },
   {
    "duration": 13,
    "start_time": "2022-11-16T16:02:47.829Z"
   },
   {
    "duration": 10,
    "start_time": "2022-11-16T16:02:47.843Z"
   },
   {
    "duration": 66,
    "start_time": "2022-11-16T16:02:47.854Z"
   },
   {
    "duration": 33,
    "start_time": "2022-11-16T16:02:47.922Z"
   },
   {
    "duration": 8,
    "start_time": "2022-11-16T16:02:47.957Z"
   },
   {
    "duration": 46,
    "start_time": "2022-11-16T16:05:11.221Z"
   },
   {
    "duration": 46,
    "start_time": "2022-11-16T16:05:22.794Z"
   },
   {
    "duration": 36,
    "start_time": "2022-11-16T16:05:51.273Z"
   },
   {
    "duration": 43,
    "start_time": "2022-11-16T16:09:13.251Z"
   },
   {
    "duration": 71,
    "start_time": "2022-11-16T16:09:55.081Z"
   },
   {
    "duration": 79,
    "start_time": "2022-11-16T16:10:10.602Z"
   },
   {
    "duration": 39,
    "start_time": "2022-11-16T16:10:35.581Z"
   },
   {
    "duration": 52,
    "start_time": "2022-11-16T16:11:26.906Z"
   },
   {
    "duration": 44,
    "start_time": "2022-11-16T16:12:10.729Z"
   },
   {
    "duration": 51,
    "start_time": "2022-11-16T16:12:57.319Z"
   },
   {
    "duration": 51,
    "start_time": "2022-11-16T16:16:03.619Z"
   },
   {
    "duration": 72,
    "start_time": "2022-11-16T16:16:49.290Z"
   },
   {
    "duration": 60,
    "start_time": "2022-11-16T16:17:51.734Z"
   },
   {
    "duration": 64,
    "start_time": "2022-11-16T16:18:40.580Z"
   },
   {
    "duration": 66,
    "start_time": "2022-11-16T16:19:47.723Z"
   },
   {
    "duration": 46,
    "start_time": "2022-11-16T16:21:03.752Z"
   },
   {
    "duration": 51,
    "start_time": "2022-11-16T16:21:50.010Z"
   },
   {
    "duration": 3,
    "start_time": "2022-11-16T16:21:56.053Z"
   },
   {
    "duration": 154,
    "start_time": "2022-11-16T16:21:56.057Z"
   },
   {
    "duration": 23,
    "start_time": "2022-11-16T16:21:56.213Z"
   },
   {
    "duration": 13,
    "start_time": "2022-11-16T16:21:56.238Z"
   },
   {
    "duration": 10,
    "start_time": "2022-11-16T16:21:56.253Z"
   },
   {
    "duration": 108,
    "start_time": "2022-11-16T16:21:56.264Z"
   },
   {
    "duration": 80,
    "start_time": "2022-11-16T16:21:56.374Z"
   },
   {
    "duration": 9,
    "start_time": "2022-11-16T16:21:56.455Z"
   },
   {
    "duration": 16,
    "start_time": "2022-11-16T16:23:52.443Z"
   },
   {
    "duration": 1199,
    "start_time": "2022-11-16T16:30:14.621Z"
   },
   {
    "duration": 15,
    "start_time": "2022-11-16T16:30:40.370Z"
   },
   {
    "duration": 2,
    "start_time": "2022-11-16T16:30:44.588Z"
   },
   {
    "duration": 177,
    "start_time": "2022-11-16T16:30:44.593Z"
   },
   {
    "duration": 43,
    "start_time": "2022-11-16T16:30:44.772Z"
   },
   {
    "duration": 13,
    "start_time": "2022-11-16T16:30:44.816Z"
   },
   {
    "duration": 10,
    "start_time": "2022-11-16T16:30:44.831Z"
   },
   {
    "duration": 79,
    "start_time": "2022-11-16T16:30:44.843Z"
   },
   {
    "duration": 66,
    "start_time": "2022-11-16T16:30:44.924Z"
   },
   {
    "duration": 28,
    "start_time": "2022-11-16T16:30:44.992Z"
   },
   {
    "duration": 11,
    "start_time": "2022-11-16T16:30:54.182Z"
   },
   {
    "duration": 13,
    "start_time": "2022-11-16T16:31:05.976Z"
   },
   {
    "duration": 12,
    "start_time": "2022-11-16T16:31:16.254Z"
   },
   {
    "duration": 13,
    "start_time": "2022-11-16T16:31:38.501Z"
   },
   {
    "duration": 14,
    "start_time": "2022-11-16T16:31:50.691Z"
   },
   {
    "duration": 3,
    "start_time": "2022-11-16T16:31:53.106Z"
   },
   {
    "duration": 159,
    "start_time": "2022-11-16T16:31:53.111Z"
   },
   {
    "duration": 24,
    "start_time": "2022-11-16T16:31:53.271Z"
   },
   {
    "duration": 34,
    "start_time": "2022-11-16T16:31:53.297Z"
   },
   {
    "duration": 9,
    "start_time": "2022-11-16T16:31:53.332Z"
   },
   {
    "duration": 45,
    "start_time": "2022-11-16T16:31:53.343Z"
   },
   {
    "duration": 84,
    "start_time": "2022-11-16T16:31:53.390Z"
   },
   {
    "duration": 10,
    "start_time": "2022-11-16T16:31:53.476Z"
   },
   {
    "duration": 11,
    "start_time": "2022-11-16T16:33:08.349Z"
   },
   {
    "duration": 8,
    "start_time": "2022-11-16T16:33:44.866Z"
   },
   {
    "duration": 30,
    "start_time": "2022-11-16T16:35:00.252Z"
   },
   {
    "duration": 77,
    "start_time": "2022-11-16T16:36:49.484Z"
   },
   {
    "duration": 75,
    "start_time": "2022-11-16T16:37:29.022Z"
   },
   {
    "duration": 3,
    "start_time": "2022-11-16T16:37:39.496Z"
   },
   {
    "duration": 164,
    "start_time": "2022-11-16T16:37:39.501Z"
   },
   {
    "duration": 25,
    "start_time": "2022-11-16T16:37:39.667Z"
   },
   {
    "duration": 32,
    "start_time": "2022-11-16T16:37:39.693Z"
   },
   {
    "duration": 12,
    "start_time": "2022-11-16T16:37:39.727Z"
   },
   {
    "duration": 74,
    "start_time": "2022-11-16T16:37:39.740Z"
   },
   {
    "duration": 77,
    "start_time": "2022-11-16T16:37:39.815Z"
   },
   {
    "duration": 39,
    "start_time": "2022-11-16T16:37:39.894Z"
   },
   {
    "duration": 77,
    "start_time": "2022-11-16T16:38:06.566Z"
   },
   {
    "duration": 3,
    "start_time": "2022-11-16T16:38:20.385Z"
   },
   {
    "duration": 186,
    "start_time": "2022-11-16T16:38:20.390Z"
   },
   {
    "duration": 25,
    "start_time": "2022-11-16T16:38:20.578Z"
   },
   {
    "duration": 19,
    "start_time": "2022-11-16T16:38:20.604Z"
   },
   {
    "duration": 9,
    "start_time": "2022-11-16T16:38:20.626Z"
   },
   {
    "duration": 46,
    "start_time": "2022-11-16T16:38:20.637Z"
   },
   {
    "duration": 115,
    "start_time": "2022-11-16T16:38:20.685Z"
   },
   {
    "duration": 34,
    "start_time": "2022-11-16T16:38:20.802Z"
   },
   {
    "duration": 55,
    "start_time": "2022-11-16T16:38:44.225Z"
   },
   {
    "duration": 54,
    "start_time": "2022-11-16T16:38:59.844Z"
   },
   {
    "duration": 4,
    "start_time": "2022-11-16T16:39:10.438Z"
   },
   {
    "duration": 156,
    "start_time": "2022-11-16T16:39:10.444Z"
   },
   {
    "duration": 25,
    "start_time": "2022-11-16T16:39:10.601Z"
   },
   {
    "duration": 14,
    "start_time": "2022-11-16T16:39:10.629Z"
   },
   {
    "duration": 12,
    "start_time": "2022-11-16T16:39:10.644Z"
   },
   {
    "duration": 81,
    "start_time": "2022-11-16T16:39:10.657Z"
   },
   {
    "duration": 83,
    "start_time": "2022-11-16T16:39:10.740Z"
   },
   {
    "duration": 22,
    "start_time": "2022-11-16T16:39:10.825Z"
   },
   {
    "duration": 79,
    "start_time": "2022-11-16T16:39:31.214Z"
   },
   {
    "duration": 77,
    "start_time": "2022-11-16T16:39:41.906Z"
   },
   {
    "duration": 75,
    "start_time": "2022-11-16T16:39:52.804Z"
   },
   {
    "duration": 2,
    "start_time": "2022-11-16T16:39:54.980Z"
   },
   {
    "duration": 152,
    "start_time": "2022-11-16T16:39:54.984Z"
   },
   {
    "duration": 23,
    "start_time": "2022-11-16T16:39:55.138Z"
   },
   {
    "duration": 12,
    "start_time": "2022-11-16T16:39:55.163Z"
   },
   {
    "duration": 36,
    "start_time": "2022-11-16T16:39:55.177Z"
   },
   {
    "duration": 55,
    "start_time": "2022-11-16T16:39:55.214Z"
   },
   {
    "duration": 98,
    "start_time": "2022-11-16T16:39:55.271Z"
   },
   {
    "duration": 25,
    "start_time": "2022-11-16T16:39:55.370Z"
   },
   {
    "duration": 92,
    "start_time": "2022-11-16T16:42:04.282Z"
   },
   {
    "duration": 68,
    "start_time": "2022-11-16T16:42:34.833Z"
   },
   {
    "duration": 66,
    "start_time": "2022-11-16T16:42:51.026Z"
   },
   {
    "duration": 66,
    "start_time": "2022-11-16T16:42:59.644Z"
   },
   {
    "duration": 76,
    "start_time": "2022-11-16T16:45:32.207Z"
   },
   {
    "duration": 67,
    "start_time": "2022-11-16T16:46:02.988Z"
   },
   {
    "duration": 66,
    "start_time": "2022-11-16T16:47:43.184Z"
   },
   {
    "duration": 70,
    "start_time": "2022-11-16T16:48:16.711Z"
   },
   {
    "duration": 65,
    "start_time": "2022-11-16T16:48:48.807Z"
   },
   {
    "duration": 69,
    "start_time": "2022-11-16T16:49:42.516Z"
   },
   {
    "duration": 3,
    "start_time": "2022-11-16T16:49:53.183Z"
   },
   {
    "duration": 167,
    "start_time": "2022-11-16T16:49:53.188Z"
   },
   {
    "duration": 28,
    "start_time": "2022-11-16T16:49:53.357Z"
   },
   {
    "duration": 38,
    "start_time": "2022-11-16T16:49:53.387Z"
   },
   {
    "duration": 18,
    "start_time": "2022-11-16T16:49:53.427Z"
   },
   {
    "duration": 66,
    "start_time": "2022-11-16T16:49:53.447Z"
   },
   {
    "duration": 72,
    "start_time": "2022-11-16T16:49:53.515Z"
   },
   {
    "duration": 0,
    "start_time": "2022-11-16T16:49:53.589Z"
   },
   {
    "duration": 93,
    "start_time": "2022-11-16T16:51:06.541Z"
   },
   {
    "duration": 68,
    "start_time": "2022-11-16T16:51:30.784Z"
   },
   {
    "duration": 69,
    "start_time": "2022-11-16T16:51:42.741Z"
   },
   {
    "duration": 78,
    "start_time": "2022-11-16T16:52:02.229Z"
   },
   {
    "duration": 80,
    "start_time": "2022-11-16T16:52:29.190Z"
   },
   {
    "duration": 77,
    "start_time": "2022-11-16T16:52:33.210Z"
   },
   {
    "duration": 32,
    "start_time": "2022-11-16T16:53:32.981Z"
   },
   {
    "duration": 5,
    "start_time": "2022-11-16T17:43:14.977Z"
   },
   {
    "duration": 10,
    "start_time": "2022-11-16T17:48:30.683Z"
   },
   {
    "duration": 31,
    "start_time": "2022-11-16T17:49:06.824Z"
   },
   {
    "duration": 478,
    "start_time": "2022-11-16T17:50:13.871Z"
   },
   {
    "duration": 179,
    "start_time": "2022-11-16T17:50:21.338Z"
   },
   {
    "duration": 109,
    "start_time": "2022-11-16T17:50:27.470Z"
   },
   {
    "duration": 126,
    "start_time": "2022-11-16T17:50:33.438Z"
   },
   {
    "duration": 2,
    "start_time": "2022-11-16T17:50:43.053Z"
   },
   {
    "duration": 156,
    "start_time": "2022-11-16T17:51:20.348Z"
   },
   {
    "duration": 239,
    "start_time": "2022-11-16T17:51:37.126Z"
   },
   {
    "duration": 3,
    "start_time": "2022-11-16T17:52:54.776Z"
   },
   {
    "duration": 178,
    "start_time": "2022-11-16T17:52:54.781Z"
   },
   {
    "duration": 56,
    "start_time": "2022-11-16T17:52:54.961Z"
   },
   {
    "duration": 19,
    "start_time": "2022-11-16T17:52:55.020Z"
   },
   {
    "duration": 12,
    "start_time": "2022-11-16T17:52:55.042Z"
   },
   {
    "duration": 80,
    "start_time": "2022-11-16T17:52:55.056Z"
   },
   {
    "duration": 92,
    "start_time": "2022-11-16T17:52:55.138Z"
   },
   {
    "duration": 30,
    "start_time": "2022-11-16T17:52:55.232Z"
   },
   {
    "duration": 330,
    "start_time": "2022-11-16T17:52:55.263Z"
   },
   {
    "duration": 553,
    "start_time": "2022-11-16T17:54:51.395Z"
   },
   {
    "duration": 648,
    "start_time": "2022-11-16T17:56:04.616Z"
   },
   {
    "duration": 613,
    "start_time": "2022-11-16T17:56:15.430Z"
   },
   {
    "duration": 639,
    "start_time": "2022-11-16T17:56:34.911Z"
   },
   {
    "duration": 672,
    "start_time": "2022-11-16T17:56:41.274Z"
   },
   {
    "duration": 618,
    "start_time": "2022-11-16T17:57:09.072Z"
   },
   {
    "duration": 632,
    "start_time": "2022-11-16T17:57:14.175Z"
   },
   {
    "duration": 777,
    "start_time": "2022-11-16T17:57:34.670Z"
   },
   {
    "duration": 582,
    "start_time": "2022-11-16T17:58:13.840Z"
   },
   {
    "duration": 619,
    "start_time": "2022-11-16T17:58:22.024Z"
   },
   {
    "duration": 24,
    "start_time": "2022-11-16T18:04:51.453Z"
   },
   {
    "duration": 1096,
    "start_time": "2022-11-16T18:07:52.835Z"
   },
   {
    "duration": 13,
    "start_time": "2022-11-16T18:08:02.610Z"
   },
   {
    "duration": 15,
    "start_time": "2022-11-16T18:10:31.790Z"
   },
   {
    "duration": 4,
    "start_time": "2022-11-16T18:14:56.593Z"
   },
   {
    "duration": 7,
    "start_time": "2022-11-16T18:15:06.324Z"
   },
   {
    "duration": 12,
    "start_time": "2022-11-16T18:20:45.534Z"
   },
   {
    "duration": 10,
    "start_time": "2022-11-16T18:20:53.771Z"
   },
   {
    "duration": 18,
    "start_time": "2022-11-16T18:21:08.375Z"
   },
   {
    "duration": 12,
    "start_time": "2022-11-16T18:24:46.329Z"
   },
   {
    "duration": 295,
    "start_time": "2022-11-16T18:25:10.865Z"
   },
   {
    "duration": 13,
    "start_time": "2022-11-16T18:25:51.552Z"
   },
   {
    "duration": 69,
    "start_time": "2022-11-16T18:26:07.036Z"
   },
   {
    "duration": 95,
    "start_time": "2022-11-16T18:27:25.137Z"
   },
   {
    "duration": 10,
    "start_time": "2022-11-16T18:28:09.902Z"
   },
   {
    "duration": 959,
    "start_time": "2022-11-16T18:29:51.822Z"
   },
   {
    "duration": 16,
    "start_time": "2022-11-16T18:31:55.424Z"
   },
   {
    "duration": 14,
    "start_time": "2022-11-16T18:33:58.524Z"
   },
   {
    "duration": 71,
    "start_time": "2022-11-16T18:34:46.521Z"
   },
   {
    "duration": 77,
    "start_time": "2022-11-16T18:34:49.968Z"
   },
   {
    "duration": 70,
    "start_time": "2022-11-16T18:34:56.935Z"
   },
   {
    "duration": 70,
    "start_time": "2022-11-16T18:34:59.687Z"
   },
   {
    "duration": 12,
    "start_time": "2022-11-16T18:36:20.540Z"
   },
   {
    "duration": 15,
    "start_time": "2022-11-16T18:36:46.530Z"
   },
   {
    "duration": 15,
    "start_time": "2022-11-16T18:37:06.502Z"
   },
   {
    "duration": 533,
    "start_time": "2022-11-16T18:37:33.963Z"
   },
   {
    "duration": 7,
    "start_time": "2022-11-16T18:38:05.699Z"
   },
   {
    "duration": 27,
    "start_time": "2022-11-16T18:38:16.228Z"
   },
   {
    "duration": 578,
    "start_time": "2022-11-16T18:39:47.322Z"
   },
   {
    "duration": 650,
    "start_time": "2022-11-16T18:40:09.456Z"
   },
   {
    "duration": 720,
    "start_time": "2022-11-16T18:40:42.007Z"
   },
   {
    "duration": 4,
    "start_time": "2022-11-16T18:41:37.192Z"
   },
   {
    "duration": 1156,
    "start_time": "2022-11-16T18:41:56.764Z"
   },
   {
    "duration": 4,
    "start_time": "2022-11-16T18:42:11.899Z"
   },
   {
    "duration": 167,
    "start_time": "2022-11-16T18:42:11.905Z"
   },
   {
    "duration": 47,
    "start_time": "2022-11-16T18:42:12.074Z"
   },
   {
    "duration": 17,
    "start_time": "2022-11-16T18:42:12.123Z"
   },
   {
    "duration": 11,
    "start_time": "2022-11-16T18:42:12.142Z"
   },
   {
    "duration": 86,
    "start_time": "2022-11-16T18:42:12.155Z"
   },
   {
    "duration": 93,
    "start_time": "2022-11-16T18:42:12.242Z"
   },
   {
    "duration": 30,
    "start_time": "2022-11-16T18:42:12.337Z"
   },
   {
    "duration": 686,
    "start_time": "2022-11-16T18:42:12.369Z"
   },
   {
    "duration": 13,
    "start_time": "2022-11-16T18:42:13.057Z"
   },
   {
    "duration": 1069,
    "start_time": "2022-11-16T18:42:13.072Z"
   },
   {
    "duration": 12,
    "start_time": "2022-11-16T18:42:55.488Z"
   },
   {
    "duration": 10,
    "start_time": "2022-11-16T18:44:12.298Z"
   },
   {
    "duration": 15,
    "start_time": "2022-11-16T18:44:37.930Z"
   },
   {
    "duration": 370,
    "start_time": "2022-11-16T19:02:07.747Z"
   },
   {
    "duration": 166,
    "start_time": "2022-11-16T19:02:08.119Z"
   },
   {
    "duration": 42,
    "start_time": "2022-11-16T19:02:08.287Z"
   },
   {
    "duration": 20,
    "start_time": "2022-11-16T19:02:08.331Z"
   },
   {
    "duration": 16,
    "start_time": "2022-11-16T19:02:08.354Z"
   },
   {
    "duration": 74,
    "start_time": "2022-11-16T19:02:08.372Z"
   },
   {
    "duration": 122,
    "start_time": "2022-11-16T19:02:08.448Z"
   },
   {
    "duration": 36,
    "start_time": "2022-11-16T19:02:08.572Z"
   },
   {
    "duration": 855,
    "start_time": "2022-11-16T19:02:08.610Z"
   },
   {
    "duration": 14,
    "start_time": "2022-11-16T19:02:09.467Z"
   },
   {
    "duration": 74,
    "start_time": "2022-11-16T19:58:09.704Z"
   },
   {
    "duration": 441,
    "start_time": "2022-11-18T11:16:27.738Z"
   },
   {
    "duration": 436,
    "start_time": "2022-11-18T11:16:28.181Z"
   },
   {
    "duration": 37,
    "start_time": "2022-11-18T11:16:28.618Z"
   },
   {
    "duration": 25,
    "start_time": "2022-11-18T11:16:28.657Z"
   },
   {
    "duration": 19,
    "start_time": "2022-11-18T11:16:28.685Z"
   },
   {
    "duration": 75,
    "start_time": "2022-11-18T11:16:28.708Z"
   },
   {
    "duration": 116,
    "start_time": "2022-11-18T11:16:28.784Z"
   },
   {
    "duration": 62,
    "start_time": "2022-11-18T11:16:28.902Z"
   },
   {
    "duration": 1308,
    "start_time": "2022-11-18T11:16:28.966Z"
   },
   {
    "duration": 15,
    "start_time": "2022-11-18T11:16:30.278Z"
   },
   {
    "duration": 3682,
    "start_time": "2022-11-18T11:16:30.295Z"
   },
   {
    "duration": 88,
    "start_time": "2022-11-18T11:18:00.826Z"
   },
   {
    "duration": 9,
    "start_time": "2022-11-18T11:19:54.977Z"
   },
   {
    "duration": 10,
    "start_time": "2022-11-18T11:20:05.750Z"
   },
   {
    "duration": 1266,
    "start_time": "2022-11-18T11:20:26.864Z"
   },
   {
    "duration": 22,
    "start_time": "2022-11-18T11:20:50.532Z"
   },
   {
    "duration": 324,
    "start_time": "2022-11-18T11:31:39.420Z"
   },
   {
    "duration": 355,
    "start_time": "2022-11-18T11:32:26.238Z"
   },
   {
    "duration": 583,
    "start_time": "2022-11-18T11:33:07.676Z"
   },
   {
    "duration": 342,
    "start_time": "2022-11-18T11:33:13.656Z"
   },
   {
    "duration": 3,
    "start_time": "2022-11-18T11:33:32.672Z"
   },
   {
    "duration": 184,
    "start_time": "2022-11-18T11:33:32.679Z"
   },
   {
    "duration": 27,
    "start_time": "2022-11-18T11:33:32.865Z"
   },
   {
    "duration": 14,
    "start_time": "2022-11-18T11:33:32.893Z"
   },
   {
    "duration": 12,
    "start_time": "2022-11-18T11:33:32.909Z"
   },
   {
    "duration": 85,
    "start_time": "2022-11-18T11:33:32.923Z"
   },
   {
    "duration": 99,
    "start_time": "2022-11-18T11:33:33.010Z"
   },
   {
    "duration": 51,
    "start_time": "2022-11-18T11:33:33.110Z"
   },
   {
    "duration": 748,
    "start_time": "2022-11-18T11:33:33.163Z"
   },
   {
    "duration": 14,
    "start_time": "2022-11-18T11:33:33.912Z"
   },
   {
    "duration": 3456,
    "start_time": "2022-11-18T11:33:33.929Z"
   },
   {
    "duration": 22,
    "start_time": "2022-11-18T11:33:37.387Z"
   },
   {
    "duration": 285,
    "start_time": "2022-11-18T11:33:37.411Z"
   },
   {
    "duration": 302,
    "start_time": "2022-11-18T11:35:01.129Z"
   },
   {
    "duration": 795,
    "start_time": "2022-11-18T11:35:15.384Z"
   },
   {
    "duration": 307,
    "start_time": "2022-11-18T11:35:50.585Z"
   },
   {
    "duration": 391,
    "start_time": "2022-11-18T11:35:59.912Z"
   },
   {
    "duration": 10,
    "start_time": "2022-11-18T11:37:05.012Z"
   },
   {
    "duration": 81,
    "start_time": "2022-11-18T11:38:30.534Z"
   },
   {
    "duration": 13,
    "start_time": "2022-11-18T11:38:35.761Z"
   },
   {
    "duration": 8,
    "start_time": "2022-11-18T11:39:07.585Z"
   },
   {
    "duration": 21,
    "start_time": "2022-11-18T11:39:20.187Z"
   },
   {
    "duration": 315,
    "start_time": "2022-11-18T11:43:31.963Z"
   },
   {
    "duration": 339,
    "start_time": "2022-11-18T11:43:58.885Z"
   },
   {
    "duration": 288,
    "start_time": "2022-11-18T11:44:55.361Z"
   },
   {
    "duration": 98,
    "start_time": "2022-11-18T11:45:49.644Z"
   },
   {
    "duration": 377,
    "start_time": "2022-11-18T11:46:00.347Z"
   },
   {
    "duration": 349,
    "start_time": "2022-11-18T11:46:20.318Z"
   },
   {
    "duration": 46,
    "start_time": "2022-11-18T11:46:48.377Z"
   },
   {
    "duration": 79,
    "start_time": "2022-11-18T11:47:02.717Z"
   },
   {
    "duration": 53,
    "start_time": "2022-11-18T11:47:19.993Z"
   },
   {
    "duration": 57,
    "start_time": "2022-11-18T11:47:51.051Z"
   },
   {
    "duration": 67,
    "start_time": "2022-11-18T11:48:21.788Z"
   },
   {
    "duration": 68,
    "start_time": "2022-11-18T11:48:40.202Z"
   },
   {
    "duration": 373,
    "start_time": "2022-11-18T11:49:06.136Z"
   },
   {
    "duration": 409,
    "start_time": "2022-11-18T11:49:15.185Z"
   },
   {
    "duration": 76,
    "start_time": "2022-11-18T11:49:34.985Z"
   },
   {
    "duration": 57,
    "start_time": "2022-11-18T11:49:48.194Z"
   },
   {
    "duration": 65,
    "start_time": "2022-11-18T11:51:18.480Z"
   },
   {
    "duration": 60,
    "start_time": "2022-11-18T11:51:27.440Z"
   },
   {
    "duration": 48,
    "start_time": "2022-11-18T11:51:37.183Z"
   },
   {
    "duration": 364,
    "start_time": "2022-11-18T11:52:02.274Z"
   },
   {
    "duration": 414,
    "start_time": "2022-11-18T11:52:09.360Z"
   },
   {
    "duration": 52,
    "start_time": "2022-11-18T11:52:15.021Z"
   },
   {
    "duration": 68,
    "start_time": "2022-11-18T11:53:34.612Z"
   },
   {
    "duration": 71,
    "start_time": "2022-11-18T11:54:07.751Z"
   },
   {
    "duration": 298,
    "start_time": "2022-11-18T11:54:17.437Z"
   },
   {
    "duration": 56,
    "start_time": "2022-11-18T11:54:24.978Z"
   },
   {
    "duration": 66,
    "start_time": "2022-11-18T11:54:36.611Z"
   },
   {
    "duration": 10,
    "start_time": "2022-11-18T11:55:37.681Z"
   },
   {
    "duration": 54,
    "start_time": "2022-11-18T11:55:50.667Z"
   },
   {
    "duration": 79,
    "start_time": "2022-11-18T11:56:49.254Z"
   },
   {
    "duration": 49,
    "start_time": "2022-11-18T11:58:23.313Z"
   },
   {
    "duration": 86,
    "start_time": "2022-11-18T11:58:49.992Z"
   },
   {
    "duration": 288,
    "start_time": "2022-11-18T11:58:54.553Z"
   },
   {
    "duration": 287,
    "start_time": "2022-11-18T11:59:01.201Z"
   },
   {
    "duration": 351,
    "start_time": "2022-11-18T11:59:26.060Z"
   },
   {
    "duration": 70,
    "start_time": "2022-11-18T11:59:36.965Z"
   },
   {
    "duration": 52,
    "start_time": "2022-11-18T12:00:44.634Z"
   },
   {
    "duration": 52,
    "start_time": "2022-11-18T12:00:55.291Z"
   },
   {
    "duration": 56,
    "start_time": "2022-11-18T12:01:02.833Z"
   },
   {
    "duration": 50,
    "start_time": "2022-11-18T12:01:44.407Z"
   },
   {
    "duration": 61,
    "start_time": "2022-11-18T12:03:33.253Z"
   },
   {
    "duration": 62,
    "start_time": "2022-11-18T12:03:45.999Z"
   },
   {
    "duration": 74,
    "start_time": "2022-11-18T12:03:50.622Z"
   },
   {
    "duration": 68,
    "start_time": "2022-11-18T12:03:58.696Z"
   },
   {
    "duration": 70,
    "start_time": "2022-11-18T12:04:09.828Z"
   },
   {
    "duration": 77,
    "start_time": "2022-11-18T12:04:14.036Z"
   },
   {
    "duration": 48,
    "start_time": "2022-11-18T12:04:18.111Z"
   },
   {
    "duration": 91,
    "start_time": "2022-11-18T12:05:26.884Z"
   },
   {
    "duration": 384,
    "start_time": "2022-11-18T12:05:30.444Z"
   },
   {
    "duration": 333,
    "start_time": "2022-11-18T12:05:55.168Z"
   },
   {
    "duration": 48,
    "start_time": "2022-11-18T12:06:19.472Z"
   },
   {
    "duration": 72,
    "start_time": "2022-11-18T12:09:19.201Z"
   },
   {
    "duration": 336,
    "start_time": "2022-11-18T12:09:24.316Z"
   },
   {
    "duration": 49,
    "start_time": "2022-11-18T12:09:31.034Z"
   },
   {
    "duration": 3,
    "start_time": "2022-11-18T12:19:51.811Z"
   },
   {
    "duration": 199,
    "start_time": "2022-11-18T12:19:51.817Z"
   },
   {
    "duration": 57,
    "start_time": "2022-11-18T12:19:52.019Z"
   },
   {
    "duration": 20,
    "start_time": "2022-11-18T12:19:52.079Z"
   },
   {
    "duration": 13,
    "start_time": "2022-11-18T12:19:52.101Z"
   },
   {
    "duration": 92,
    "start_time": "2022-11-18T12:19:52.116Z"
   },
   {
    "duration": 153,
    "start_time": "2022-11-18T12:19:52.210Z"
   },
   {
    "duration": 41,
    "start_time": "2022-11-18T12:19:52.365Z"
   },
   {
    "duration": 817,
    "start_time": "2022-11-18T12:19:52.408Z"
   },
   {
    "duration": 23,
    "start_time": "2022-11-18T12:19:53.227Z"
   },
   {
    "duration": 3747,
    "start_time": "2022-11-18T12:19:53.254Z"
   },
   {
    "duration": 22,
    "start_time": "2022-11-18T12:19:57.003Z"
   },
   {
    "duration": 68,
    "start_time": "2022-11-18T12:19:57.026Z"
   },
   {
    "duration": 76,
    "start_time": "2022-11-18T12:20:10.967Z"
   },
   {
    "duration": 320,
    "start_time": "2022-11-18T12:21:52.547Z"
   },
   {
    "duration": 54,
    "start_time": "2022-11-18T12:22:06.657Z"
   },
   {
    "duration": 80,
    "start_time": "2022-11-18T12:25:00.560Z"
   },
   {
    "duration": 49,
    "start_time": "2022-11-18T12:25:05.251Z"
   },
   {
    "duration": 50,
    "start_time": "2022-11-18T12:25:19.887Z"
   },
   {
    "duration": 9,
    "start_time": "2022-11-18T12:27:29.492Z"
   },
   {
    "duration": 9,
    "start_time": "2022-11-18T12:27:39.237Z"
   },
   {
    "duration": 11,
    "start_time": "2022-11-18T12:30:09.556Z"
   },
   {
    "duration": 3,
    "start_time": "2022-11-18T12:30:12.474Z"
   },
   {
    "duration": 224,
    "start_time": "2022-11-18T12:30:12.479Z"
   },
   {
    "duration": 63,
    "start_time": "2022-11-18T12:30:12.706Z"
   },
   {
    "duration": 25,
    "start_time": "2022-11-18T12:30:12.772Z"
   },
   {
    "duration": 15,
    "start_time": "2022-11-18T12:30:12.800Z"
   },
   {
    "duration": 134,
    "start_time": "2022-11-18T12:30:12.818Z"
   },
   {
    "duration": 100,
    "start_time": "2022-11-18T12:30:12.955Z"
   },
   {
    "duration": 40,
    "start_time": "2022-11-18T12:30:13.058Z"
   },
   {
    "duration": 796,
    "start_time": "2022-11-18T12:30:13.102Z"
   },
   {
    "duration": 15,
    "start_time": "2022-11-18T12:30:13.901Z"
   },
   {
    "duration": 3974,
    "start_time": "2022-11-18T12:30:13.918Z"
   },
   {
    "duration": 32,
    "start_time": "2022-11-18T12:30:17.895Z"
   },
   {
    "duration": 30,
    "start_time": "2022-11-18T12:30:17.929Z"
   },
   {
    "duration": 12,
    "start_time": "2022-11-18T12:30:47.368Z"
   },
   {
    "duration": 12,
    "start_time": "2022-11-18T12:30:58.909Z"
   },
   {
    "duration": 2,
    "start_time": "2022-11-18T12:31:04.344Z"
   },
   {
    "duration": 194,
    "start_time": "2022-11-18T12:31:04.349Z"
   },
   {
    "duration": 28,
    "start_time": "2022-11-18T12:31:04.545Z"
   },
   {
    "duration": 20,
    "start_time": "2022-11-18T12:31:04.575Z"
   },
   {
    "duration": 15,
    "start_time": "2022-11-18T12:31:04.598Z"
   },
   {
    "duration": 105,
    "start_time": "2022-11-18T12:31:04.615Z"
   },
   {
    "duration": 106,
    "start_time": "2022-11-18T12:31:04.722Z"
   },
   {
    "duration": 50,
    "start_time": "2022-11-18T12:31:04.831Z"
   },
   {
    "duration": 764,
    "start_time": "2022-11-18T12:31:04.883Z"
   },
   {
    "duration": 16,
    "start_time": "2022-11-18T12:31:05.651Z"
   },
   {
    "duration": 3656,
    "start_time": "2022-11-18T12:31:05.669Z"
   },
   {
    "duration": 30,
    "start_time": "2022-11-18T12:31:09.327Z"
   },
   {
    "duration": 13,
    "start_time": "2022-11-18T12:31:09.359Z"
   },
   {
    "duration": 8,
    "start_time": "2022-11-18T12:34:51.594Z"
   },
   {
    "duration": 11,
    "start_time": "2022-11-18T12:35:03.194Z"
   },
   {
    "duration": 11,
    "start_time": "2022-11-18T12:35:17.769Z"
   },
   {
    "duration": 14,
    "start_time": "2022-11-18T12:35:29.886Z"
   },
   {
    "duration": 1227,
    "start_time": "2022-11-18T12:35:47.283Z"
   },
   {
    "duration": 23,
    "start_time": "2022-11-18T12:35:59.853Z"
   },
   {
    "duration": 9,
    "start_time": "2022-11-18T12:41:34.067Z"
   },
   {
    "duration": 149,
    "start_time": "2022-11-18T12:42:19.004Z"
   },
   {
    "duration": 52,
    "start_time": "2022-11-18T12:43:19.214Z"
   },
   {
    "duration": 46,
    "start_time": "2022-11-18T12:43:37.655Z"
   },
   {
    "duration": 37,
    "start_time": "2022-11-18T12:47:39.684Z"
   },
   {
    "duration": 41,
    "start_time": "2022-11-18T12:47:49.458Z"
   },
   {
    "duration": 995,
    "start_time": "2022-11-18T12:48:24.303Z"
   },
   {
    "duration": 42,
    "start_time": "2022-11-18T12:48:50.250Z"
   },
   {
    "duration": 154,
    "start_time": "2022-11-18T12:50:03.650Z"
   },
   {
    "duration": 185,
    "start_time": "2022-11-18T12:50:24.235Z"
   },
   {
    "duration": 291,
    "start_time": "2022-11-18T12:50:32.970Z"
   },
   {
    "duration": 237,
    "start_time": "2022-11-18T12:51:10.481Z"
   },
   {
    "duration": 272,
    "start_time": "2022-11-18T12:51:18.692Z"
   },
   {
    "duration": 197,
    "start_time": "2022-11-18T12:51:25.861Z"
   },
   {
    "duration": 220,
    "start_time": "2022-11-18T12:53:59.106Z"
   },
   {
    "duration": 213,
    "start_time": "2022-11-18T12:54:55.773Z"
   },
   {
    "duration": 7,
    "start_time": "2022-11-18T13:22:33.348Z"
   },
   {
    "duration": 6,
    "start_time": "2022-11-18T13:22:50.905Z"
   },
   {
    "duration": 6,
    "start_time": "2022-11-18T13:23:43.022Z"
   },
   {
    "duration": 6,
    "start_time": "2022-11-18T13:23:50.335Z"
   },
   {
    "duration": 7,
    "start_time": "2022-11-18T13:24:09.419Z"
   },
   {
    "duration": 11,
    "start_time": "2022-11-18T13:24:30.369Z"
   },
   {
    "duration": 11,
    "start_time": "2022-11-18T13:24:50.289Z"
   },
   {
    "duration": 10,
    "start_time": "2022-11-18T13:25:06.378Z"
   },
   {
    "duration": 6,
    "start_time": "2022-11-18T13:25:11.561Z"
   },
   {
    "duration": 7,
    "start_time": "2022-11-18T13:25:16.092Z"
   },
   {
    "duration": 168,
    "start_time": "2022-11-18T13:27:01.697Z"
   },
   {
    "duration": 184,
    "start_time": "2022-11-18T13:27:12.393Z"
   },
   {
    "duration": 154,
    "start_time": "2022-11-18T13:27:36.535Z"
   },
   {
    "duration": 138,
    "start_time": "2022-11-18T13:27:39.981Z"
   },
   {
    "duration": 73,
    "start_time": "2022-11-18T13:27:55.321Z"
   },
   {
    "duration": 238,
    "start_time": "2022-11-18T13:28:08.714Z"
   },
   {
    "duration": 9,
    "start_time": "2022-11-18T13:28:19.161Z"
   },
   {
    "duration": 20,
    "start_time": "2022-11-18T13:31:41.421Z"
   },
   {
    "duration": 3,
    "start_time": "2022-11-18T13:31:53.689Z"
   },
   {
    "duration": 192,
    "start_time": "2022-11-18T13:31:53.694Z"
   },
   {
    "duration": 38,
    "start_time": "2022-11-18T13:31:53.889Z"
   },
   {
    "duration": 22,
    "start_time": "2022-11-18T13:31:53.952Z"
   },
   {
    "duration": 17,
    "start_time": "2022-11-18T13:31:53.977Z"
   },
   {
    "duration": 119,
    "start_time": "2022-11-18T13:31:53.996Z"
   },
   {
    "duration": 123,
    "start_time": "2022-11-18T13:31:54.117Z"
   },
   {
    "duration": 47,
    "start_time": "2022-11-18T13:31:54.241Z"
   },
   {
    "duration": 763,
    "start_time": "2022-11-18T13:31:54.290Z"
   },
   {
    "duration": 16,
    "start_time": "2022-11-18T13:31:55.055Z"
   },
   {
    "duration": 3725,
    "start_time": "2022-11-18T13:31:55.074Z"
   },
   {
    "duration": 22,
    "start_time": "2022-11-18T13:31:58.800Z"
   },
   {
    "duration": 59,
    "start_time": "2022-11-18T13:31:58.824Z"
   },
   {
    "duration": 224,
    "start_time": "2022-11-18T13:31:58.885Z"
   },
   {
    "duration": 20,
    "start_time": "2022-11-18T13:31:59.110Z"
   },
   {
    "duration": 71,
    "start_time": "2022-11-18T13:31:59.133Z"
   },
   {
    "duration": 1178,
    "start_time": "2022-11-18T13:37:59.532Z"
   },
   {
    "duration": 1197,
    "start_time": "2022-11-18T13:38:02.337Z"
   },
   {
    "duration": 615,
    "start_time": "2022-11-18T13:39:19.780Z"
   },
   {
    "duration": 575,
    "start_time": "2022-11-18T13:39:33.394Z"
   },
   {
    "duration": 20,
    "start_time": "2022-11-18T13:41:39.678Z"
   },
   {
    "duration": 14,
    "start_time": "2022-11-18T13:42:54.380Z"
   },
   {
    "duration": 101,
    "start_time": "2022-11-18T13:43:34.671Z"
   },
   {
    "duration": 4,
    "start_time": "2022-11-18T13:45:03.008Z"
   },
   {
    "duration": 28,
    "start_time": "2022-11-18T13:45:28.220Z"
   },
   {
    "duration": 74,
    "start_time": "2022-11-18T13:45:48.833Z"
   },
   {
    "duration": 71,
    "start_time": "2022-11-18T13:46:23.696Z"
   },
   {
    "duration": 74,
    "start_time": "2022-11-18T13:46:34.281Z"
   },
   {
    "duration": 3,
    "start_time": "2022-11-18T13:47:22.583Z"
   },
   {
    "duration": 183,
    "start_time": "2022-11-18T13:47:22.589Z"
   },
   {
    "duration": 28,
    "start_time": "2022-11-18T13:47:22.774Z"
   },
   {
    "duration": 19,
    "start_time": "2022-11-18T13:47:22.804Z"
   },
   {
    "duration": 39,
    "start_time": "2022-11-18T13:47:22.826Z"
   },
   {
    "duration": 60,
    "start_time": "2022-11-18T13:47:22.867Z"
   },
   {
    "duration": 104,
    "start_time": "2022-11-18T13:47:22.929Z"
   },
   {
    "duration": 46,
    "start_time": "2022-11-18T13:47:23.035Z"
   },
   {
    "duration": 715,
    "start_time": "2022-11-18T13:47:23.083Z"
   },
   {
    "duration": 14,
    "start_time": "2022-11-18T13:47:23.800Z"
   },
   {
    "duration": 3714,
    "start_time": "2022-11-18T13:47:23.818Z"
   },
   {
    "duration": 27,
    "start_time": "2022-11-18T13:47:27.533Z"
   },
   {
    "duration": 178,
    "start_time": "2022-11-18T13:47:27.562Z"
   },
   {
    "duration": 255,
    "start_time": "2022-11-18T13:47:27.742Z"
   },
   {
    "duration": 21,
    "start_time": "2022-11-18T13:47:27.999Z"
   },
   {
    "duration": 69,
    "start_time": "2022-11-18T13:47:28.022Z"
   },
   {
    "duration": 73,
    "start_time": "2022-11-18T13:47:39.070Z"
   },
   {
    "duration": 65,
    "start_time": "2022-11-18T13:47:42.891Z"
   },
   {
    "duration": 4,
    "start_time": "2022-11-18T13:48:50.449Z"
   },
   {
    "duration": 5,
    "start_time": "2022-11-18T13:48:57.153Z"
   },
   {
    "duration": 619,
    "start_time": "2022-11-18T13:50:29.651Z"
   },
   {
    "duration": 568,
    "start_time": "2022-11-18T13:51:45.440Z"
   },
   {
    "duration": 1165,
    "start_time": "2022-11-18T13:52:23.369Z"
   },
   {
    "duration": 19,
    "start_time": "2022-11-18T13:52:46.484Z"
   },
   {
    "duration": 17,
    "start_time": "2022-11-18T13:53:01.740Z"
   },
   {
    "duration": 2,
    "start_time": "2022-11-18T13:53:08.246Z"
   },
   {
    "duration": 213,
    "start_time": "2022-11-18T13:53:08.253Z"
   },
   {
    "duration": 29,
    "start_time": "2022-11-18T13:53:08.468Z"
   },
   {
    "duration": 15,
    "start_time": "2022-11-18T13:53:08.499Z"
   },
   {
    "duration": 35,
    "start_time": "2022-11-18T13:53:08.517Z"
   },
   {
    "duration": 65,
    "start_time": "2022-11-18T13:53:08.554Z"
   },
   {
    "duration": 106,
    "start_time": "2022-11-18T13:53:08.620Z"
   },
   {
    "duration": 45,
    "start_time": "2022-11-18T13:53:08.728Z"
   },
   {
    "duration": 770,
    "start_time": "2022-11-18T13:53:08.775Z"
   },
   {
    "duration": 15,
    "start_time": "2022-11-18T13:53:09.551Z"
   },
   {
    "duration": 4008,
    "start_time": "2022-11-18T13:53:09.569Z"
   },
   {
    "duration": 23,
    "start_time": "2022-11-18T13:53:13.579Z"
   },
   {
    "duration": 66,
    "start_time": "2022-11-18T13:53:13.605Z"
   },
   {
    "duration": 222,
    "start_time": "2022-11-18T13:53:13.673Z"
   },
   {
    "duration": 20,
    "start_time": "2022-11-18T13:53:13.897Z"
   },
   {
    "duration": 38,
    "start_time": "2022-11-18T13:53:13.919Z"
   },
   {
    "duration": 9,
    "start_time": "2022-11-18T13:54:18.327Z"
   },
   {
    "duration": 2,
    "start_time": "2022-11-18T13:55:40.855Z"
   },
   {
    "duration": 195,
    "start_time": "2022-11-18T13:55:40.859Z"
   },
   {
    "duration": 27,
    "start_time": "2022-11-18T13:55:41.056Z"
   },
   {
    "duration": 14,
    "start_time": "2022-11-18T13:55:41.085Z"
   },
   {
    "duration": 13,
    "start_time": "2022-11-18T13:55:41.101Z"
   },
   {
    "duration": 101,
    "start_time": "2022-11-18T13:55:41.115Z"
   },
   {
    "duration": 99,
    "start_time": "2022-11-18T13:55:41.218Z"
   },
   {
    "duration": 54,
    "start_time": "2022-11-18T13:55:41.319Z"
   },
   {
    "duration": 727,
    "start_time": "2022-11-18T13:55:41.376Z"
   },
   {
    "duration": 15,
    "start_time": "2022-11-18T13:55:42.105Z"
   },
   {
    "duration": 4347,
    "start_time": "2022-11-18T13:55:42.122Z"
   },
   {
    "duration": 23,
    "start_time": "2022-11-18T13:55:46.472Z"
   },
   {
    "duration": 73,
    "start_time": "2022-11-18T13:55:46.497Z"
   },
   {
    "duration": 321,
    "start_time": "2022-11-18T13:55:46.572Z"
   },
   {
    "duration": 24,
    "start_time": "2022-11-18T13:55:46.895Z"
   },
   {
    "duration": 30,
    "start_time": "2022-11-18T13:55:46.922Z"
   },
   {
    "duration": 4,
    "start_time": "2022-11-18T13:56:05.551Z"
   },
   {
    "duration": 20,
    "start_time": "2022-11-18T13:56:20.015Z"
   },
   {
    "duration": 13,
    "start_time": "2022-11-18T13:56:27.047Z"
   },
   {
    "duration": 16,
    "start_time": "2022-11-18T13:56:32.625Z"
   },
   {
    "duration": 21,
    "start_time": "2022-11-18T13:56:43.738Z"
   },
   {
    "duration": 16,
    "start_time": "2022-11-18T13:58:35.402Z"
   },
   {
    "duration": 17,
    "start_time": "2022-11-18T14:00:00.560Z"
   },
   {
    "duration": 16,
    "start_time": "2022-11-18T14:00:23.920Z"
   },
   {
    "duration": 18,
    "start_time": "2022-11-18T14:00:29.740Z"
   },
   {
    "duration": 73,
    "start_time": "2022-11-18T14:00:36.386Z"
   },
   {
    "duration": 18,
    "start_time": "2022-11-18T14:00:56.315Z"
   },
   {
    "duration": 7,
    "start_time": "2022-11-18T14:02:21.060Z"
   },
   {
    "duration": 15,
    "start_time": "2022-11-18T14:02:42.906Z"
   },
   {
    "duration": 16,
    "start_time": "2022-11-18T14:02:47.199Z"
   },
   {
    "duration": 14,
    "start_time": "2022-11-18T14:03:32.246Z"
   },
   {
    "duration": 16,
    "start_time": "2022-11-18T14:03:43.655Z"
   },
   {
    "duration": 18,
    "start_time": "2022-11-18T15:13:45.648Z"
   },
   {
    "duration": 1264,
    "start_time": "2022-11-18T15:14:14.525Z"
   },
   {
    "duration": 168,
    "start_time": "2022-11-18T15:14:34.313Z"
   },
   {
    "duration": 1179,
    "start_time": "2022-11-18T15:15:13.070Z"
   },
   {
    "duration": 3,
    "start_time": "2022-11-18T15:15:20.081Z"
   },
   {
    "duration": 202,
    "start_time": "2022-11-18T15:15:20.086Z"
   },
   {
    "duration": 32,
    "start_time": "2022-11-18T15:15:20.290Z"
   },
   {
    "duration": 45,
    "start_time": "2022-11-18T15:15:20.324Z"
   },
   {
    "duration": 12,
    "start_time": "2022-11-18T15:15:20.372Z"
   },
   {
    "duration": 87,
    "start_time": "2022-11-18T15:15:20.386Z"
   },
   {
    "duration": 107,
    "start_time": "2022-11-18T15:15:20.475Z"
   },
   {
    "duration": 69,
    "start_time": "2022-11-18T15:15:20.585Z"
   },
   {
    "duration": 771,
    "start_time": "2022-11-18T15:15:20.656Z"
   },
   {
    "duration": 25,
    "start_time": "2022-11-18T15:15:21.429Z"
   },
   {
    "duration": 3831,
    "start_time": "2022-11-18T15:15:21.458Z"
   },
   {
    "duration": 24,
    "start_time": "2022-11-18T15:15:25.291Z"
   },
   {
    "duration": 71,
    "start_time": "2022-11-18T15:15:25.317Z"
   },
   {
    "duration": 286,
    "start_time": "2022-11-18T15:15:25.390Z"
   },
   {
    "duration": 8,
    "start_time": "2022-11-18T15:15:25.679Z"
   },
   {
    "duration": 35,
    "start_time": "2022-11-18T15:15:25.689Z"
   },
   {
    "duration": 1229,
    "start_time": "2022-11-18T15:15:25.726Z"
   },
   {
    "duration": 14,
    "start_time": "2022-11-18T15:15:44.643Z"
   },
   {
    "duration": 182,
    "start_time": "2022-11-18T15:18:14.447Z"
   },
   {
    "duration": 21,
    "start_time": "2022-11-18T15:19:57.442Z"
   },
   {
    "duration": 294,
    "start_time": "2022-11-18T15:20:48.258Z"
   },
   {
    "duration": 188,
    "start_time": "2022-11-18T15:21:09.099Z"
   },
   {
    "duration": 14,
    "start_time": "2022-11-18T15:21:34.970Z"
   },
   {
    "duration": 126,
    "start_time": "2022-11-18T15:22:04.526Z"
   },
   {
    "duration": 134,
    "start_time": "2022-11-18T15:22:15.787Z"
   },
   {
    "duration": 168,
    "start_time": "2022-11-18T15:23:01.282Z"
   },
   {
    "duration": 117,
    "start_time": "2022-11-18T15:23:38.477Z"
   },
   {
    "duration": 157,
    "start_time": "2022-11-18T15:23:48.002Z"
   },
   {
    "duration": 19,
    "start_time": "2022-11-18T15:24:02.679Z"
   },
   {
    "duration": 182,
    "start_time": "2022-11-18T15:24:32.183Z"
   },
   {
    "duration": 205,
    "start_time": "2022-11-18T15:24:41.330Z"
   },
   {
    "duration": 203,
    "start_time": "2022-11-18T15:24:55.460Z"
   },
   {
    "duration": 19,
    "start_time": "2022-11-18T15:25:09.262Z"
   },
   {
    "duration": 335,
    "start_time": "2022-11-18T15:27:41.611Z"
   },
   {
    "duration": 297,
    "start_time": "2022-11-18T15:28:04.328Z"
   },
   {
    "duration": 305,
    "start_time": "2022-11-18T15:28:42.524Z"
   },
   {
    "duration": 3,
    "start_time": "2022-11-18T15:29:17.156Z"
   },
   {
    "duration": 200,
    "start_time": "2022-11-18T15:29:17.161Z"
   },
   {
    "duration": 26,
    "start_time": "2022-11-18T15:29:17.363Z"
   },
   {
    "duration": 15,
    "start_time": "2022-11-18T15:29:17.391Z"
   },
   {
    "duration": 10,
    "start_time": "2022-11-18T15:29:17.408Z"
   },
   {
    "duration": 94,
    "start_time": "2022-11-18T15:29:17.420Z"
   },
   {
    "duration": 125,
    "start_time": "2022-11-18T15:29:17.516Z"
   },
   {
    "duration": 45,
    "start_time": "2022-11-18T15:29:17.643Z"
   },
   {
    "duration": 793,
    "start_time": "2022-11-18T15:29:17.690Z"
   },
   {
    "duration": 15,
    "start_time": "2022-11-18T15:29:18.484Z"
   },
   {
    "duration": 3951,
    "start_time": "2022-11-18T15:29:18.501Z"
   },
   {
    "duration": 21,
    "start_time": "2022-11-18T15:29:22.454Z"
   },
   {
    "duration": 189,
    "start_time": "2022-11-18T15:29:22.477Z"
   },
   {
    "duration": 224,
    "start_time": "2022-11-18T15:29:22.669Z"
   },
   {
    "duration": 7,
    "start_time": "2022-11-18T15:29:22.895Z"
   },
   {
    "duration": 18,
    "start_time": "2022-11-18T15:29:22.903Z"
   },
   {
    "duration": 305,
    "start_time": "2022-11-18T15:29:22.923Z"
   },
   {
    "duration": 13,
    "start_time": "2022-11-18T15:29:41.583Z"
   },
   {
    "duration": 19,
    "start_time": "2022-11-18T15:29:56.604Z"
   },
   {
    "duration": 19,
    "start_time": "2022-11-18T15:30:49.322Z"
   },
   {
    "duration": 19,
    "start_time": "2022-11-18T15:31:05.574Z"
   },
   {
    "duration": 19,
    "start_time": "2022-11-18T15:31:28.466Z"
   },
   {
    "duration": 17,
    "start_time": "2022-11-18T15:31:32.240Z"
   },
   {
    "duration": 3,
    "start_time": "2022-11-18T15:31:35.043Z"
   },
   {
    "duration": 218,
    "start_time": "2022-11-18T15:31:35.048Z"
   },
   {
    "duration": 30,
    "start_time": "2022-11-18T15:31:35.268Z"
   },
   {
    "duration": 15,
    "start_time": "2022-11-18T15:31:35.301Z"
   },
   {
    "duration": 37,
    "start_time": "2022-11-18T15:31:35.318Z"
   },
   {
    "duration": 65,
    "start_time": "2022-11-18T15:31:35.358Z"
   },
   {
    "duration": 125,
    "start_time": "2022-11-18T15:31:35.426Z"
   },
   {
    "duration": 45,
    "start_time": "2022-11-18T15:31:35.553Z"
   },
   {
    "duration": 756,
    "start_time": "2022-11-18T15:31:35.600Z"
   },
   {
    "duration": 15,
    "start_time": "2022-11-18T15:31:36.357Z"
   },
   {
    "duration": 3967,
    "start_time": "2022-11-18T15:31:36.374Z"
   },
   {
    "duration": 22,
    "start_time": "2022-11-18T15:31:40.350Z"
   },
   {
    "duration": 48,
    "start_time": "2022-11-18T15:31:40.374Z"
   },
   {
    "duration": 267,
    "start_time": "2022-11-18T15:31:40.424Z"
   },
   {
    "duration": 8,
    "start_time": "2022-11-18T15:31:40.693Z"
   },
   {
    "duration": 43,
    "start_time": "2022-11-18T15:31:40.703Z"
   },
   {
    "duration": 17,
    "start_time": "2022-11-18T15:31:40.748Z"
   },
   {
    "duration": 10,
    "start_time": "2022-11-18T15:32:01.545Z"
   },
   {
    "duration": 14,
    "start_time": "2022-11-18T15:32:18.702Z"
   },
   {
    "duration": 13,
    "start_time": "2022-11-18T15:32:34.632Z"
   },
   {
    "duration": 19,
    "start_time": "2022-11-18T15:32:49.587Z"
   },
   {
    "duration": 15,
    "start_time": "2022-11-18T15:32:59.478Z"
   },
   {
    "duration": 16,
    "start_time": "2022-11-18T15:35:01.932Z"
   },
   {
    "duration": 11,
    "start_time": "2022-11-18T15:35:35.931Z"
   },
   {
    "duration": 11,
    "start_time": "2022-11-18T15:36:05.602Z"
   },
   {
    "duration": 16,
    "start_time": "2022-11-18T15:36:15.418Z"
   },
   {
    "duration": 16,
    "start_time": "2022-11-18T15:36:20.930Z"
   },
   {
    "duration": 16,
    "start_time": "2022-11-18T15:36:46.985Z"
   },
   {
    "duration": 15,
    "start_time": "2022-11-18T15:39:29.895Z"
   },
   {
    "duration": 21,
    "start_time": "2022-11-18T15:39:40.175Z"
   },
   {
    "duration": 22,
    "start_time": "2022-11-18T15:39:46.788Z"
   },
   {
    "duration": 21,
    "start_time": "2022-11-18T15:39:51.228Z"
   },
   {
    "duration": 17,
    "start_time": "2022-11-18T15:40:41.660Z"
   },
   {
    "duration": 18,
    "start_time": "2022-11-18T15:41:35.172Z"
   },
   {
    "duration": 21,
    "start_time": "2022-11-18T15:41:55.919Z"
   },
   {
    "duration": 21,
    "start_time": "2022-11-18T15:42:12.434Z"
   },
   {
    "duration": 22,
    "start_time": "2022-11-18T15:42:55.804Z"
   },
   {
    "duration": 24,
    "start_time": "2022-11-18T15:45:45.155Z"
   },
   {
    "duration": 28,
    "start_time": "2022-11-18T15:47:29.690Z"
   },
   {
    "duration": 44,
    "start_time": "2022-11-18T15:48:25.092Z"
   },
   {
    "duration": 31,
    "start_time": "2022-11-18T15:48:41.031Z"
   },
   {
    "duration": 43,
    "start_time": "2022-11-18T15:48:49.041Z"
   },
   {
    "duration": 44,
    "start_time": "2022-11-18T15:49:01.976Z"
   },
   {
    "duration": 90,
    "start_time": "2022-11-18T15:52:09.763Z"
   },
   {
    "duration": 3,
    "start_time": "2022-11-18T15:52:16.563Z"
   },
   {
    "duration": 215,
    "start_time": "2022-11-18T15:52:16.569Z"
   },
   {
    "duration": 30,
    "start_time": "2022-11-18T15:52:16.786Z"
   },
   {
    "duration": 40,
    "start_time": "2022-11-18T15:52:16.819Z"
   },
   {
    "duration": 12,
    "start_time": "2022-11-18T15:52:16.861Z"
   },
   {
    "duration": 85,
    "start_time": "2022-11-18T15:52:16.875Z"
   },
   {
    "duration": 140,
    "start_time": "2022-11-18T15:52:16.963Z"
   },
   {
    "duration": 55,
    "start_time": "2022-11-18T15:52:17.105Z"
   },
   {
    "duration": 833,
    "start_time": "2022-11-18T15:52:17.162Z"
   },
   {
    "duration": 17,
    "start_time": "2022-11-18T15:52:17.997Z"
   },
   {
    "duration": 4382,
    "start_time": "2022-11-18T15:52:18.016Z"
   },
   {
    "duration": 28,
    "start_time": "2022-11-18T15:52:22.400Z"
   },
   {
    "duration": 77,
    "start_time": "2022-11-18T15:52:22.431Z"
   },
   {
    "duration": 310,
    "start_time": "2022-11-18T15:52:22.510Z"
   },
   {
    "duration": 6,
    "start_time": "2022-11-18T15:52:22.822Z"
   },
   {
    "duration": 31,
    "start_time": "2022-11-18T15:52:22.829Z"
   },
   {
    "duration": 26,
    "start_time": "2022-11-18T15:52:22.863Z"
   },
   {
    "duration": 24,
    "start_time": "2022-11-18T15:52:22.891Z"
   },
   {
    "duration": 21,
    "start_time": "2022-11-18T15:52:47.791Z"
   },
   {
    "duration": 19,
    "start_time": "2022-11-18T15:53:54.196Z"
   },
   {
    "duration": 11,
    "start_time": "2022-11-18T15:54:05.651Z"
   },
   {
    "duration": 3,
    "start_time": "2022-11-18T15:54:11.761Z"
   },
   {
    "duration": 190,
    "start_time": "2022-11-18T15:54:11.766Z"
   },
   {
    "duration": 30,
    "start_time": "2022-11-18T15:54:11.958Z"
   },
   {
    "duration": 16,
    "start_time": "2022-11-18T15:54:11.989Z"
   },
   {
    "duration": 12,
    "start_time": "2022-11-18T15:54:12.007Z"
   },
   {
    "duration": 102,
    "start_time": "2022-11-18T15:54:12.021Z"
   },
   {
    "duration": 113,
    "start_time": "2022-11-18T15:54:12.125Z"
   },
   {
    "duration": 42,
    "start_time": "2022-11-18T15:54:12.250Z"
   },
   {
    "duration": 795,
    "start_time": "2022-11-18T15:54:12.294Z"
   },
   {
    "duration": 17,
    "start_time": "2022-11-18T15:54:13.091Z"
   },
   {
    "duration": 4187,
    "start_time": "2022-11-18T15:54:13.110Z"
   },
   {
    "duration": 23,
    "start_time": "2022-11-18T15:54:17.299Z"
   },
   {
    "duration": 84,
    "start_time": "2022-11-18T15:54:17.325Z"
   },
   {
    "duration": 241,
    "start_time": "2022-11-18T15:54:17.411Z"
   },
   {
    "duration": 7,
    "start_time": "2022-11-18T15:54:17.654Z"
   },
   {
    "duration": 21,
    "start_time": "2022-11-18T15:54:17.664Z"
   },
   {
    "duration": 18,
    "start_time": "2022-11-18T15:54:17.687Z"
   },
   {
    "duration": 61,
    "start_time": "2022-11-18T15:54:17.707Z"
   },
   {
    "duration": 19,
    "start_time": "2022-11-18T15:54:24.307Z"
   },
   {
    "duration": 20,
    "start_time": "2022-11-18T15:55:01.431Z"
   },
   {
    "duration": 20,
    "start_time": "2022-11-18T15:55:16.662Z"
   },
   {
    "duration": 18,
    "start_time": "2022-11-18T15:55:31.973Z"
   },
   {
    "duration": 3,
    "start_time": "2022-11-18T15:55:48.509Z"
   },
   {
    "duration": 194,
    "start_time": "2022-11-18T15:55:48.515Z"
   },
   {
    "duration": 56,
    "start_time": "2022-11-18T15:55:48.712Z"
   },
   {
    "duration": 21,
    "start_time": "2022-11-18T15:55:48.771Z"
   },
   {
    "duration": 11,
    "start_time": "2022-11-18T15:55:48.794Z"
   },
   {
    "duration": 97,
    "start_time": "2022-11-18T15:55:48.807Z"
   },
   {
    "duration": 99,
    "start_time": "2022-11-18T15:55:48.905Z"
   },
   {
    "duration": 53,
    "start_time": "2022-11-18T15:55:49.006Z"
   },
   {
    "duration": 982,
    "start_time": "2022-11-18T15:55:49.061Z"
   },
   {
    "duration": 24,
    "start_time": "2022-11-18T15:55:50.045Z"
   },
   {
    "duration": 3691,
    "start_time": "2022-11-18T15:55:50.071Z"
   },
   {
    "duration": 21,
    "start_time": "2022-11-18T15:55:53.764Z"
   },
   {
    "duration": 63,
    "start_time": "2022-11-18T15:55:53.787Z"
   },
   {
    "duration": 240,
    "start_time": "2022-11-18T15:55:53.852Z"
   },
   {
    "duration": 7,
    "start_time": "2022-11-18T15:55:54.094Z"
   },
   {
    "duration": 21,
    "start_time": "2022-11-18T15:55:54.103Z"
   },
   {
    "duration": 46,
    "start_time": "2022-11-18T15:55:54.126Z"
   },
   {
    "duration": 29,
    "start_time": "2022-11-18T15:55:54.177Z"
   },
   {
    "duration": 16,
    "start_time": "2022-11-18T15:56:02.761Z"
   },
   {
    "duration": 54,
    "start_time": "2022-11-18T15:59:50.415Z"
   },
   {
    "duration": 26,
    "start_time": "2022-11-18T16:00:55.169Z"
   },
   {
    "duration": 26,
    "start_time": "2022-11-18T16:02:12.957Z"
   },
   {
    "duration": 19,
    "start_time": "2022-11-18T16:02:50.103Z"
   },
   {
    "duration": 22,
    "start_time": "2022-11-18T16:03:52.149Z"
   },
   {
    "duration": 33,
    "start_time": "2022-11-18T16:03:59.736Z"
   },
   {
    "duration": 21,
    "start_time": "2022-11-18T16:04:08.604Z"
   },
   {
    "duration": 24,
    "start_time": "2022-11-18T16:04:20.797Z"
   },
   {
    "duration": 18,
    "start_time": "2022-11-18T16:05:30.402Z"
   },
   {
    "duration": 15,
    "start_time": "2022-11-18T16:05:44.412Z"
   },
   {
    "duration": 21,
    "start_time": "2022-11-18T16:06:00.776Z"
   },
   {
    "duration": 22,
    "start_time": "2022-11-18T16:06:07.042Z"
   },
   {
    "duration": 18,
    "start_time": "2022-11-18T16:06:16.971Z"
   },
   {
    "duration": 24,
    "start_time": "2022-11-18T16:06:23.085Z"
   },
   {
    "duration": 33,
    "start_time": "2022-11-18T16:07:28.439Z"
   },
   {
    "duration": 29,
    "start_time": "2022-11-18T16:10:17.868Z"
   },
   {
    "duration": 20,
    "start_time": "2022-11-18T16:11:50.566Z"
   },
   {
    "duration": 25,
    "start_time": "2022-11-18T16:12:03.434Z"
   },
   {
    "duration": 31,
    "start_time": "2022-11-18T16:13:28.558Z"
   },
   {
    "duration": 31,
    "start_time": "2022-11-18T16:13:52.414Z"
   },
   {
    "duration": 3,
    "start_time": "2022-11-18T16:14:01.158Z"
   },
   {
    "duration": 212,
    "start_time": "2022-11-18T16:14:01.164Z"
   },
   {
    "duration": 29,
    "start_time": "2022-11-18T16:14:01.378Z"
   },
   {
    "duration": 18,
    "start_time": "2022-11-18T16:14:01.409Z"
   },
   {
    "duration": 11,
    "start_time": "2022-11-18T16:14:01.450Z"
   },
   {
    "duration": 70,
    "start_time": "2022-11-18T16:14:01.463Z"
   },
   {
    "duration": 105,
    "start_time": "2022-11-18T16:14:01.550Z"
   },
   {
    "duration": 56,
    "start_time": "2022-11-18T16:14:01.657Z"
   },
   {
    "duration": 777,
    "start_time": "2022-11-18T16:14:01.717Z"
   },
   {
    "duration": 16,
    "start_time": "2022-11-18T16:14:02.497Z"
   },
   {
    "duration": 3860,
    "start_time": "2022-11-18T16:14:02.514Z"
   },
   {
    "duration": 33,
    "start_time": "2022-11-18T16:14:06.376Z"
   },
   {
    "duration": 81,
    "start_time": "2022-11-18T16:14:06.411Z"
   },
   {
    "duration": 243,
    "start_time": "2022-11-18T16:14:06.494Z"
   },
   {
    "duration": 13,
    "start_time": "2022-11-18T16:14:06.738Z"
   },
   {
    "duration": 16,
    "start_time": "2022-11-18T16:14:06.753Z"
   },
   {
    "duration": 19,
    "start_time": "2022-11-18T16:14:06.771Z"
   },
   {
    "duration": 22,
    "start_time": "2022-11-18T16:14:06.792Z"
   },
   {
    "duration": 67,
    "start_time": "2022-11-18T16:14:06.816Z"
   },
   {
    "duration": 27,
    "start_time": "2022-11-18T16:15:26.119Z"
   },
   {
    "duration": 30,
    "start_time": "2022-11-18T16:16:36.499Z"
   },
   {
    "duration": 32,
    "start_time": "2022-11-18T16:25:08.180Z"
   },
   {
    "duration": 10,
    "start_time": "2022-11-18T16:25:34.559Z"
   },
   {
    "duration": 10,
    "start_time": "2022-11-18T16:26:09.600Z"
   },
   {
    "duration": 11,
    "start_time": "2022-11-18T16:26:17.656Z"
   },
   {
    "duration": 3,
    "start_time": "2022-11-18T16:27:11.528Z"
   },
   {
    "duration": 207,
    "start_time": "2022-11-18T16:27:11.533Z"
   },
   {
    "duration": 28,
    "start_time": "2022-11-18T16:27:11.742Z"
   },
   {
    "duration": 20,
    "start_time": "2022-11-18T16:27:11.772Z"
   },
   {
    "duration": 13,
    "start_time": "2022-11-18T16:27:11.795Z"
   },
   {
    "duration": 80,
    "start_time": "2022-11-18T16:27:11.810Z"
   },
   {
    "duration": 105,
    "start_time": "2022-11-18T16:27:11.892Z"
   },
   {
    "duration": 58,
    "start_time": "2022-11-18T16:27:11.998Z"
   },
   {
    "duration": 928,
    "start_time": "2022-11-18T16:27:12.059Z"
   },
   {
    "duration": 16,
    "start_time": "2022-11-18T16:27:12.989Z"
   },
   {
    "duration": 3826,
    "start_time": "2022-11-18T16:27:13.008Z"
   },
   {
    "duration": 33,
    "start_time": "2022-11-18T16:27:16.836Z"
   },
   {
    "duration": 50,
    "start_time": "2022-11-18T16:27:16.871Z"
   },
   {
    "duration": 240,
    "start_time": "2022-11-18T16:27:16.922Z"
   },
   {
    "duration": 7,
    "start_time": "2022-11-18T16:27:17.164Z"
   },
   {
    "duration": 29,
    "start_time": "2022-11-18T16:27:17.173Z"
   },
   {
    "duration": 39,
    "start_time": "2022-11-18T16:27:17.205Z"
   },
   {
    "duration": 22,
    "start_time": "2022-11-18T16:27:17.246Z"
   },
   {
    "duration": 58,
    "start_time": "2022-11-18T16:27:17.270Z"
   },
   {
    "duration": 24,
    "start_time": "2022-11-18T16:27:17.331Z"
   },
   {
    "duration": 8,
    "start_time": "2022-11-18T16:27:28.907Z"
   },
   {
    "duration": 10,
    "start_time": "2022-11-18T16:27:32.590Z"
   },
   {
    "duration": 25,
    "start_time": "2022-11-18T16:29:51.474Z"
   },
   {
    "duration": 32,
    "start_time": "2022-11-18T16:30:06.005Z"
   },
   {
    "duration": 10,
    "start_time": "2022-11-18T16:32:53.122Z"
   },
   {
    "duration": 37,
    "start_time": "2022-11-18T16:33:09.021Z"
   },
   {
    "duration": 8,
    "start_time": "2022-11-18T16:33:11.430Z"
   },
   {
    "duration": 8,
    "start_time": "2022-11-18T16:34:14.240Z"
   },
   {
    "duration": 1255,
    "start_time": "2022-11-18T16:35:55.520Z"
   },
   {
    "duration": 229,
    "start_time": "2022-11-18T16:36:12.562Z"
   },
   {
    "duration": 20,
    "start_time": "2022-11-18T16:36:59.606Z"
   },
   {
    "duration": 274,
    "start_time": "2022-11-18T16:37:08.605Z"
   },
   {
    "duration": 357,
    "start_time": "2022-11-18T16:37:45.588Z"
   },
   {
    "duration": 31,
    "start_time": "2022-11-18T16:38:21.805Z"
   },
   {
    "duration": 3,
    "start_time": "2022-11-18T16:38:27.183Z"
   },
   {
    "duration": 200,
    "start_time": "2022-11-18T16:38:27.189Z"
   },
   {
    "duration": 30,
    "start_time": "2022-11-18T16:38:27.392Z"
   },
   {
    "duration": 41,
    "start_time": "2022-11-18T16:38:27.424Z"
   },
   {
    "duration": 18,
    "start_time": "2022-11-18T16:38:27.467Z"
   },
   {
    "duration": 89,
    "start_time": "2022-11-18T16:38:27.488Z"
   },
   {
    "duration": 119,
    "start_time": "2022-11-18T16:38:27.578Z"
   },
   {
    "duration": 75,
    "start_time": "2022-11-18T16:38:27.699Z"
   },
   {
    "duration": 800,
    "start_time": "2022-11-18T16:38:27.777Z"
   },
   {
    "duration": 21,
    "start_time": "2022-11-18T16:38:28.579Z"
   },
   {
    "duration": 4456,
    "start_time": "2022-11-18T16:38:28.603Z"
   },
   {
    "duration": 26,
    "start_time": "2022-11-18T16:38:33.060Z"
   },
   {
    "duration": 77,
    "start_time": "2022-11-18T16:38:33.089Z"
   },
   {
    "duration": 326,
    "start_time": "2022-11-18T16:38:33.168Z"
   },
   {
    "duration": 8,
    "start_time": "2022-11-18T16:38:33.496Z"
   },
   {
    "duration": 24,
    "start_time": "2022-11-18T16:38:33.506Z"
   },
   {
    "duration": 43,
    "start_time": "2022-11-18T16:38:33.532Z"
   },
   {
    "duration": 22,
    "start_time": "2022-11-18T16:38:33.578Z"
   },
   {
    "duration": 207,
    "start_time": "2022-11-18T16:38:33.604Z"
   },
   {
    "duration": 11,
    "start_time": "2022-11-18T16:38:33.812Z"
   },
   {
    "duration": 30,
    "start_time": "2022-11-18T16:38:45.758Z"
   },
   {
    "duration": 297,
    "start_time": "2022-11-18T16:38:55.275Z"
   },
   {
    "duration": 3,
    "start_time": "2022-11-18T16:39:08.132Z"
   },
   {
    "duration": 3,
    "start_time": "2022-11-18T16:39:11.481Z"
   },
   {
    "duration": 271,
    "start_time": "2022-11-18T16:39:11.486Z"
   },
   {
    "duration": 47,
    "start_time": "2022-11-18T16:39:11.759Z"
   },
   {
    "duration": 21,
    "start_time": "2022-11-18T16:39:11.809Z"
   },
   {
    "duration": 30,
    "start_time": "2022-11-18T16:39:11.833Z"
   },
   {
    "duration": 89,
    "start_time": "2022-11-18T16:39:11.865Z"
   },
   {
    "duration": 111,
    "start_time": "2022-11-18T16:39:11.957Z"
   },
   {
    "duration": 46,
    "start_time": "2022-11-18T16:39:12.071Z"
   },
   {
    "duration": 867,
    "start_time": "2022-11-18T16:39:12.119Z"
   },
   {
    "duration": 24,
    "start_time": "2022-11-18T16:39:12.988Z"
   },
   {
    "duration": 4066,
    "start_time": "2022-11-18T16:39:13.016Z"
   },
   {
    "duration": 23,
    "start_time": "2022-11-18T16:39:17.084Z"
   },
   {
    "duration": 70,
    "start_time": "2022-11-18T16:39:17.109Z"
   },
   {
    "duration": 251,
    "start_time": "2022-11-18T16:39:17.181Z"
   },
   {
    "duration": 7,
    "start_time": "2022-11-18T16:39:17.434Z"
   },
   {
    "duration": 20,
    "start_time": "2022-11-18T16:39:17.452Z"
   },
   {
    "duration": 22,
    "start_time": "2022-11-18T16:39:17.474Z"
   },
   {
    "duration": 63,
    "start_time": "2022-11-18T16:39:17.498Z"
   },
   {
    "duration": 38,
    "start_time": "2022-11-18T16:39:17.563Z"
   },
   {
    "duration": 310,
    "start_time": "2022-11-18T16:39:17.604Z"
   },
   {
    "duration": 117,
    "start_time": "2022-11-18T16:47:34.507Z"
   },
   {
    "duration": 172,
    "start_time": "2022-11-18T16:47:49.460Z"
   },
   {
    "duration": 143,
    "start_time": "2022-11-18T16:47:56.700Z"
   },
   {
    "duration": 151,
    "start_time": "2022-11-18T16:48:12.061Z"
   },
   {
    "duration": 12,
    "start_time": "2022-11-18T16:48:29.368Z"
   },
   {
    "duration": 172,
    "start_time": "2022-11-18T16:48:38.066Z"
   },
   {
    "duration": 43,
    "start_time": "2022-11-18T16:59:54.030Z"
   },
   {
    "duration": 70,
    "start_time": "2022-11-18T17:04:48.410Z"
   },
   {
    "duration": 10,
    "start_time": "2022-11-18T17:06:14.903Z"
   },
   {
    "duration": 41,
    "start_time": "2022-11-18T17:06:22.910Z"
   },
   {
    "duration": 20,
    "start_time": "2022-11-18T17:09:03.389Z"
   },
   {
    "duration": 33,
    "start_time": "2022-11-18T17:09:25.590Z"
   },
   {
    "duration": 22,
    "start_time": "2022-11-18T17:09:37.837Z"
   },
   {
    "duration": 28,
    "start_time": "2022-11-18T17:11:21.619Z"
   },
   {
    "duration": 4,
    "start_time": "2022-11-18T17:12:26.225Z"
   },
   {
    "duration": 27,
    "start_time": "2022-11-18T17:12:32.590Z"
   },
   {
    "duration": 1258,
    "start_time": "2022-11-18T17:14:09.595Z"
   },
   {
    "duration": 36,
    "start_time": "2022-11-18T17:14:30.882Z"
   },
   {
    "duration": 1243,
    "start_time": "2022-11-18T17:15:31.936Z"
   },
   {
    "duration": 25,
    "start_time": "2022-11-18T17:15:42.919Z"
   },
   {
    "duration": 35,
    "start_time": "2022-11-18T17:15:47.763Z"
   },
   {
    "duration": 27,
    "start_time": "2022-11-18T17:16:00.999Z"
   },
   {
    "duration": 4,
    "start_time": "2022-11-18T17:16:20.989Z"
   },
   {
    "duration": 238,
    "start_time": "2022-11-18T17:16:20.995Z"
   },
   {
    "duration": 40,
    "start_time": "2022-11-18T17:16:21.251Z"
   },
   {
    "duration": 17,
    "start_time": "2022-11-18T17:16:21.293Z"
   },
   {
    "duration": 13,
    "start_time": "2022-11-18T17:16:21.313Z"
   },
   {
    "duration": 70,
    "start_time": "2022-11-18T17:16:21.351Z"
   },
   {
    "duration": 140,
    "start_time": "2022-11-18T17:16:21.424Z"
   },
   {
    "duration": 52,
    "start_time": "2022-11-18T17:16:21.567Z"
   },
   {
    "duration": 1035,
    "start_time": "2022-11-18T17:16:21.620Z"
   },
   {
    "duration": 16,
    "start_time": "2022-11-18T17:16:22.658Z"
   },
   {
    "duration": 3753,
    "start_time": "2022-11-18T17:16:22.677Z"
   },
   {
    "duration": 30,
    "start_time": "2022-11-18T17:16:26.432Z"
   },
   {
    "duration": 55,
    "start_time": "2022-11-18T17:16:26.464Z"
   },
   {
    "duration": 265,
    "start_time": "2022-11-18T17:16:26.520Z"
   },
   {
    "duration": 167,
    "start_time": "2022-11-18T17:16:26.787Z"
   },
   {
    "duration": 15,
    "start_time": "2022-11-18T17:16:26.956Z"
   },
   {
    "duration": 21,
    "start_time": "2022-11-18T17:16:26.973Z"
   },
   {
    "duration": 25,
    "start_time": "2022-11-18T17:16:26.997Z"
   },
   {
    "duration": 30,
    "start_time": "2022-11-18T17:16:27.050Z"
   },
   {
    "duration": 351,
    "start_time": "2022-11-18T17:16:27.082Z"
   },
   {
    "duration": 34,
    "start_time": "2022-11-18T17:16:27.436Z"
   },
   {
    "duration": 1331,
    "start_time": "2022-11-18T17:17:07.942Z"
   },
   {
    "duration": 67,
    "start_time": "2022-11-18T17:17:23.304Z"
   },
   {
    "duration": 30,
    "start_time": "2022-11-18T17:17:29.319Z"
   },
   {
    "duration": 32,
    "start_time": "2022-11-18T17:17:54.675Z"
   },
   {
    "duration": 1347,
    "start_time": "2022-11-18T17:18:08.882Z"
   },
   {
    "duration": 26,
    "start_time": "2022-11-18T17:18:26.295Z"
   },
   {
    "duration": 38,
    "start_time": "2022-11-18T17:18:31.131Z"
   },
   {
    "duration": 51,
    "start_time": "2022-11-18T17:19:05.389Z"
   },
   {
    "duration": 58,
    "start_time": "2022-11-18T17:19:22.217Z"
   },
   {
    "duration": 34,
    "start_time": "2022-11-18T17:19:30.136Z"
   },
   {
    "duration": 46,
    "start_time": "2022-11-18T17:19:36.201Z"
   },
   {
    "duration": 44,
    "start_time": "2022-11-18T17:20:16.313Z"
   },
   {
    "duration": 43,
    "start_time": "2022-11-18T17:20:34.449Z"
   },
   {
    "duration": 38,
    "start_time": "2022-11-18T17:20:46.655Z"
   },
   {
    "duration": 39,
    "start_time": "2022-11-18T17:21:14.648Z"
   },
   {
    "duration": 38,
    "start_time": "2022-11-18T17:22:01.419Z"
   },
   {
    "duration": 37,
    "start_time": "2022-11-18T17:22:15.650Z"
   },
   {
    "duration": 32,
    "start_time": "2022-11-18T17:22:19.976Z"
   },
   {
    "duration": 31,
    "start_time": "2022-11-18T17:23:05.126Z"
   },
   {
    "duration": 32,
    "start_time": "2022-11-18T17:23:21.488Z"
   },
   {
    "duration": 30,
    "start_time": "2022-11-18T17:23:41.005Z"
   },
   {
    "duration": 1153,
    "start_time": "2022-11-18T17:24:42.707Z"
   },
   {
    "duration": 30,
    "start_time": "2022-11-18T17:25:03.075Z"
   },
   {
    "duration": 70,
    "start_time": "2022-11-18T17:25:35.299Z"
   },
   {
    "duration": 33,
    "start_time": "2022-11-18T17:26:32.495Z"
   },
   {
    "duration": 28,
    "start_time": "2022-11-18T17:26:44.609Z"
   },
   {
    "duration": 1270,
    "start_time": "2022-11-18T17:28:03.053Z"
   },
   {
    "duration": 1430,
    "start_time": "2022-11-18T17:28:29.022Z"
   },
   {
    "duration": 32,
    "start_time": "2022-11-18T17:29:00.136Z"
   },
   {
    "duration": 36,
    "start_time": "2022-11-18T17:29:35.309Z"
   },
   {
    "duration": 35,
    "start_time": "2022-11-18T17:30:12.226Z"
   },
   {
    "duration": 29,
    "start_time": "2022-11-18T17:30:33.686Z"
   },
   {
    "duration": 29,
    "start_time": "2022-11-18T17:30:43.277Z"
   },
   {
    "duration": 42,
    "start_time": "2022-11-18T17:31:10.556Z"
   },
   {
    "duration": 47,
    "start_time": "2022-11-18T17:37:59.331Z"
   },
   {
    "duration": 35,
    "start_time": "2022-11-18T17:38:08.555Z"
   },
   {
    "duration": 34,
    "start_time": "2022-11-18T17:42:20.412Z"
   },
   {
    "duration": 32,
    "start_time": "2022-11-18T17:45:27.601Z"
   },
   {
    "duration": 10,
    "start_time": "2022-11-18T17:47:07.132Z"
   },
   {
    "duration": 16,
    "start_time": "2022-11-18T17:47:21.849Z"
   },
   {
    "duration": 1205,
    "start_time": "2022-11-18T17:48:04.991Z"
   },
   {
    "duration": 18,
    "start_time": "2022-11-18T17:48:22.482Z"
   },
   {
    "duration": 47,
    "start_time": "2022-11-18T17:57:58.571Z"
   },
   {
    "duration": 43,
    "start_time": "2022-11-18T17:58:42.997Z"
   },
   {
    "duration": 39,
    "start_time": "2022-11-18T17:59:40.286Z"
   },
   {
    "duration": 40,
    "start_time": "2022-11-18T17:59:53.723Z"
   },
   {
    "duration": 38,
    "start_time": "2022-11-18T18:00:07.215Z"
   },
   {
    "duration": 9,
    "start_time": "2022-11-18T18:01:01.170Z"
   },
   {
    "duration": 38,
    "start_time": "2022-11-18T18:01:07.510Z"
   },
   {
    "duration": 38,
    "start_time": "2022-11-18T18:01:51.926Z"
   },
   {
    "duration": 36,
    "start_time": "2022-11-18T18:03:35.549Z"
   },
   {
    "duration": 19,
    "start_time": "2022-11-18T18:06:32.470Z"
   },
   {
    "duration": 26,
    "start_time": "2022-11-18T18:06:44.730Z"
   },
   {
    "duration": 26,
    "start_time": "2022-11-18T18:06:49.769Z"
   },
   {
    "duration": 44,
    "start_time": "2022-11-18T18:07:32.320Z"
   },
   {
    "duration": 49,
    "start_time": "2022-11-18T18:08:03.969Z"
   },
   {
    "duration": 22,
    "start_time": "2022-11-18T18:08:33.167Z"
   },
   {
    "duration": 2,
    "start_time": "2022-11-18T18:09:16.066Z"
   },
   {
    "duration": 205,
    "start_time": "2022-11-18T18:09:16.071Z"
   },
   {
    "duration": 30,
    "start_time": "2022-11-18T18:09:16.277Z"
   },
   {
    "duration": 44,
    "start_time": "2022-11-18T18:09:16.310Z"
   },
   {
    "duration": 15,
    "start_time": "2022-11-18T18:09:16.356Z"
   },
   {
    "duration": 78,
    "start_time": "2022-11-18T18:09:16.374Z"
   },
   {
    "duration": 98,
    "start_time": "2022-11-18T18:09:16.454Z"
   },
   {
    "duration": 39,
    "start_time": "2022-11-18T18:09:16.554Z"
   },
   {
    "duration": 775,
    "start_time": "2022-11-18T18:09:16.596Z"
   },
   {
    "duration": 16,
    "start_time": "2022-11-18T18:09:17.373Z"
   },
   {
    "duration": 4111,
    "start_time": "2022-11-18T18:09:17.391Z"
   },
   {
    "duration": 20,
    "start_time": "2022-11-18T18:09:21.504Z"
   },
   {
    "duration": 67,
    "start_time": "2022-11-18T18:09:21.526Z"
   },
   {
    "duration": 230,
    "start_time": "2022-11-18T18:09:21.594Z"
   },
   {
    "duration": 165,
    "start_time": "2022-11-18T18:09:21.826Z"
   },
   {
    "duration": 15,
    "start_time": "2022-11-18T18:09:21.992Z"
   },
   {
    "duration": 17,
    "start_time": "2022-11-18T18:09:22.009Z"
   },
   {
    "duration": 45,
    "start_time": "2022-11-18T18:09:22.028Z"
   },
   {
    "duration": 233,
    "start_time": "2022-11-18T18:09:22.075Z"
   },
   {
    "duration": 283,
    "start_time": "2022-11-18T18:09:22.310Z"
   },
   {
    "duration": 35,
    "start_time": "2022-11-18T18:09:22.595Z"
   },
   {
    "duration": 37,
    "start_time": "2022-11-18T18:09:22.631Z"
   },
   {
    "duration": 22,
    "start_time": "2022-11-18T18:09:22.670Z"
   },
   {
    "duration": 1116,
    "start_time": "2022-11-18T18:09:47.719Z"
   },
   {
    "duration": 3,
    "start_time": "2022-11-18T18:10:43.382Z"
   },
   {
    "duration": 221,
    "start_time": "2022-11-18T18:10:43.388Z"
   },
   {
    "duration": 53,
    "start_time": "2022-11-18T18:10:43.611Z"
   },
   {
    "duration": 17,
    "start_time": "2022-11-18T18:10:43.667Z"
   },
   {
    "duration": 15,
    "start_time": "2022-11-18T18:10:43.686Z"
   },
   {
    "duration": 114,
    "start_time": "2022-11-18T18:10:43.703Z"
   },
   {
    "duration": 105,
    "start_time": "2022-11-18T18:10:43.819Z"
   },
   {
    "duration": 52,
    "start_time": "2022-11-18T18:10:43.925Z"
   },
   {
    "duration": 801,
    "start_time": "2022-11-18T18:10:43.979Z"
   },
   {
    "duration": 15,
    "start_time": "2022-11-18T18:10:44.782Z"
   },
   {
    "duration": 4156,
    "start_time": "2022-11-18T18:10:44.799Z"
   },
   {
    "duration": 24,
    "start_time": "2022-11-18T18:10:48.957Z"
   },
   {
    "duration": 46,
    "start_time": "2022-11-18T18:10:48.983Z"
   },
   {
    "duration": 281,
    "start_time": "2022-11-18T18:10:49.051Z"
   },
   {
    "duration": 159,
    "start_time": "2022-11-18T18:10:49.335Z"
   },
   {
    "duration": 18,
    "start_time": "2022-11-18T18:10:49.496Z"
   },
   {
    "duration": 43,
    "start_time": "2022-11-18T18:10:49.516Z"
   },
   {
    "duration": 29,
    "start_time": "2022-11-18T18:10:49.561Z"
   },
   {
    "duration": 41,
    "start_time": "2022-11-18T18:10:49.592Z"
   },
   {
    "duration": 388,
    "start_time": "2022-11-18T18:10:49.650Z"
   },
   {
    "duration": 50,
    "start_time": "2022-11-18T18:10:50.040Z"
   },
   {
    "duration": 21,
    "start_time": "2022-11-18T18:10:50.092Z"
   },
   {
    "duration": 42,
    "start_time": "2022-11-18T18:10:50.115Z"
   },
   {
    "duration": 18,
    "start_time": "2022-11-18T18:11:01.004Z"
   },
   {
    "duration": 19,
    "start_time": "2022-11-18T18:11:08.434Z"
   },
   {
    "duration": 20,
    "start_time": "2022-11-18T18:11:18.136Z"
   },
   {
    "duration": 2,
    "start_time": "2022-11-18T18:11:34.329Z"
   },
   {
    "duration": 177,
    "start_time": "2022-11-18T18:11:34.333Z"
   },
   {
    "duration": 40,
    "start_time": "2022-11-18T18:11:34.512Z"
   },
   {
    "duration": 17,
    "start_time": "2022-11-18T18:11:34.554Z"
   },
   {
    "duration": 11,
    "start_time": "2022-11-18T18:11:34.573Z"
   },
   {
    "duration": 89,
    "start_time": "2022-11-18T18:11:34.585Z"
   },
   {
    "duration": 94,
    "start_time": "2022-11-18T18:11:34.676Z"
   },
   {
    "duration": 35,
    "start_time": "2022-11-18T18:11:34.772Z"
   },
   {
    "duration": 700,
    "start_time": "2022-11-18T18:11:34.809Z"
   },
   {
    "duration": 14,
    "start_time": "2022-11-18T18:11:35.510Z"
   },
   {
    "duration": 3543,
    "start_time": "2022-11-18T18:11:35.527Z"
   },
   {
    "duration": 21,
    "start_time": "2022-11-18T18:11:39.072Z"
   },
   {
    "duration": 63,
    "start_time": "2022-11-18T18:11:39.094Z"
   },
   {
    "duration": 411,
    "start_time": "2022-11-18T18:11:39.158Z"
   },
   {
    "duration": 190,
    "start_time": "2022-11-18T18:11:39.571Z"
   },
   {
    "duration": 21,
    "start_time": "2022-11-18T18:11:39.763Z"
   },
   {
    "duration": 21,
    "start_time": "2022-11-18T18:11:39.786Z"
   },
   {
    "duration": 49,
    "start_time": "2022-11-18T18:11:39.812Z"
   },
   {
    "duration": 31,
    "start_time": "2022-11-18T18:11:39.863Z"
   },
   {
    "duration": 304,
    "start_time": "2022-11-18T18:11:39.896Z"
   },
   {
    "duration": 50,
    "start_time": "2022-11-18T18:11:40.202Z"
   },
   {
    "duration": 17,
    "start_time": "2022-11-18T18:11:40.254Z"
   },
   {
    "duration": 25,
    "start_time": "2022-11-18T18:11:40.272Z"
   },
   {
    "duration": 19,
    "start_time": "2022-11-18T18:12:59.961Z"
   },
   {
    "duration": 3,
    "start_time": "2022-11-18T18:13:10.263Z"
   },
   {
    "duration": 185,
    "start_time": "2022-11-18T18:13:10.268Z"
   },
   {
    "duration": 31,
    "start_time": "2022-11-18T18:13:10.455Z"
   },
   {
    "duration": 16,
    "start_time": "2022-11-18T18:13:10.487Z"
   },
   {
    "duration": 10,
    "start_time": "2022-11-18T18:13:10.506Z"
   },
   {
    "duration": 91,
    "start_time": "2022-11-18T18:13:10.518Z"
   },
   {
    "duration": 114,
    "start_time": "2022-11-18T18:13:10.611Z"
   },
   {
    "duration": 47,
    "start_time": "2022-11-18T18:13:10.726Z"
   },
   {
    "duration": 744,
    "start_time": "2022-11-18T18:13:10.775Z"
   },
   {
    "duration": 15,
    "start_time": "2022-11-18T18:13:11.521Z"
   },
   {
    "duration": 3559,
    "start_time": "2022-11-18T18:13:11.551Z"
   },
   {
    "duration": 21,
    "start_time": "2022-11-18T18:13:15.112Z"
   },
   {
    "duration": 58,
    "start_time": "2022-11-18T18:13:15.134Z"
   },
   {
    "duration": 216,
    "start_time": "2022-11-18T18:13:15.195Z"
   },
   {
    "duration": 147,
    "start_time": "2022-11-18T18:13:15.413Z"
   },
   {
    "duration": 16,
    "start_time": "2022-11-18T18:13:15.562Z"
   },
   {
    "duration": 17,
    "start_time": "2022-11-18T18:13:15.580Z"
   },
   {
    "duration": 20,
    "start_time": "2022-11-18T18:13:15.599Z"
   },
   {
    "duration": 57,
    "start_time": "2022-11-18T18:13:15.620Z"
   },
   {
    "duration": 283,
    "start_time": "2022-11-18T18:13:15.679Z"
   },
   {
    "duration": 36,
    "start_time": "2022-11-18T18:13:15.964Z"
   },
   {
    "duration": 16,
    "start_time": "2022-11-18T18:13:16.002Z"
   },
   {
    "duration": 44,
    "start_time": "2022-11-18T18:13:16.020Z"
   },
   {
    "duration": 3,
    "start_time": "2022-11-18T18:15:24.669Z"
   },
   {
    "duration": 183,
    "start_time": "2022-11-18T18:15:24.674Z"
   },
   {
    "duration": 27,
    "start_time": "2022-11-18T18:15:24.859Z"
   },
   {
    "duration": 14,
    "start_time": "2022-11-18T18:15:24.888Z"
   },
   {
    "duration": 10,
    "start_time": "2022-11-18T18:15:24.905Z"
   },
   {
    "duration": 88,
    "start_time": "2022-11-18T18:15:24.917Z"
   },
   {
    "duration": 126,
    "start_time": "2022-11-18T18:15:25.008Z"
   },
   {
    "duration": 41,
    "start_time": "2022-11-18T18:15:25.136Z"
   },
   {
    "duration": 720,
    "start_time": "2022-11-18T18:15:25.179Z"
   },
   {
    "duration": 14,
    "start_time": "2022-11-18T18:15:25.901Z"
   },
   {
    "duration": 3733,
    "start_time": "2022-11-18T18:15:25.918Z"
   },
   {
    "duration": 29,
    "start_time": "2022-11-18T18:15:29.652Z"
   },
   {
    "duration": 284,
    "start_time": "2022-11-18T18:15:29.684Z"
   },
   {
    "duration": 226,
    "start_time": "2022-11-18T18:15:29.970Z"
   },
   {
    "duration": 158,
    "start_time": "2022-11-18T18:15:30.198Z"
   },
   {
    "duration": 17,
    "start_time": "2022-11-18T18:15:30.358Z"
   },
   {
    "duration": 19,
    "start_time": "2022-11-18T18:15:30.377Z"
   },
   {
    "duration": 20,
    "start_time": "2022-11-18T18:15:30.398Z"
   },
   {
    "duration": 59,
    "start_time": "2022-11-18T18:15:30.419Z"
   },
   {
    "duration": 310,
    "start_time": "2022-11-18T18:15:30.480Z"
   },
   {
    "duration": 36,
    "start_time": "2022-11-18T18:15:30.792Z"
   },
   {
    "duration": 41,
    "start_time": "2022-11-18T18:15:30.830Z"
   },
   {
    "duration": 36,
    "start_time": "2022-11-18T18:15:30.872Z"
   },
   {
    "duration": 24,
    "start_time": "2022-11-18T18:16:07.047Z"
   },
   {
    "duration": 20,
    "start_time": "2022-11-18T18:16:17.916Z"
   },
   {
    "duration": 29,
    "start_time": "2022-11-18T18:16:25.040Z"
   },
   {
    "duration": 3,
    "start_time": "2022-11-18T18:16:36.637Z"
   },
   {
    "duration": 193,
    "start_time": "2022-11-18T18:16:36.642Z"
   },
   {
    "duration": 28,
    "start_time": "2022-11-18T18:16:36.837Z"
   },
   {
    "duration": 15,
    "start_time": "2022-11-18T18:16:36.867Z"
   },
   {
    "duration": 20,
    "start_time": "2022-11-18T18:16:36.884Z"
   },
   {
    "duration": 79,
    "start_time": "2022-11-18T18:16:36.906Z"
   },
   {
    "duration": 103,
    "start_time": "2022-11-18T18:16:36.987Z"
   },
   {
    "duration": 39,
    "start_time": "2022-11-18T18:16:37.092Z"
   },
   {
    "duration": 740,
    "start_time": "2022-11-18T18:16:37.133Z"
   },
   {
    "duration": 15,
    "start_time": "2022-11-18T18:16:37.874Z"
   },
   {
    "duration": 3957,
    "start_time": "2022-11-18T18:16:37.891Z"
   },
   {
    "duration": 29,
    "start_time": "2022-11-18T18:16:41.849Z"
   },
   {
    "duration": 44,
    "start_time": "2022-11-18T18:16:41.880Z"
   },
   {
    "duration": 237,
    "start_time": "2022-11-18T18:16:41.926Z"
   },
   {
    "duration": 175,
    "start_time": "2022-11-18T18:16:42.165Z"
   },
   {
    "duration": 25,
    "start_time": "2022-11-18T18:16:42.342Z"
   },
   {
    "duration": 18,
    "start_time": "2022-11-18T18:16:42.369Z"
   },
   {
    "duration": 21,
    "start_time": "2022-11-18T18:16:42.389Z"
   },
   {
    "duration": 61,
    "start_time": "2022-11-18T18:16:42.412Z"
   },
   {
    "duration": 347,
    "start_time": "2022-11-18T18:16:42.474Z"
   },
   {
    "duration": 58,
    "start_time": "2022-11-18T18:16:42.823Z"
   },
   {
    "duration": 16,
    "start_time": "2022-11-18T18:16:42.883Z"
   },
   {
    "duration": 23,
    "start_time": "2022-11-18T18:16:42.901Z"
   },
   {
    "duration": 3,
    "start_time": "2022-11-18T18:18:06.838Z"
   },
   {
    "duration": 190,
    "start_time": "2022-11-18T18:18:06.843Z"
   },
   {
    "duration": 29,
    "start_time": "2022-11-18T18:18:07.035Z"
   },
   {
    "duration": 20,
    "start_time": "2022-11-18T18:18:07.066Z"
   },
   {
    "duration": 13,
    "start_time": "2022-11-18T18:18:07.089Z"
   },
   {
    "duration": 102,
    "start_time": "2022-11-18T18:18:07.105Z"
   },
   {
    "duration": 95,
    "start_time": "2022-11-18T18:18:07.209Z"
   },
   {
    "duration": 55,
    "start_time": "2022-11-18T18:18:07.306Z"
   },
   {
    "duration": 722,
    "start_time": "2022-11-18T18:18:07.362Z"
   },
   {
    "duration": 19,
    "start_time": "2022-11-18T18:18:08.087Z"
   },
   {
    "duration": 3978,
    "start_time": "2022-11-18T18:18:08.109Z"
   },
   {
    "duration": 24,
    "start_time": "2022-11-18T18:18:12.090Z"
   },
   {
    "duration": 71,
    "start_time": "2022-11-18T18:18:12.116Z"
   },
   {
    "duration": 441,
    "start_time": "2022-11-18T18:18:12.189Z"
   },
   {
    "duration": 153,
    "start_time": "2022-11-18T18:18:12.632Z"
   },
   {
    "duration": 17,
    "start_time": "2022-11-18T18:18:12.787Z"
   },
   {
    "duration": 19,
    "start_time": "2022-11-18T18:18:12.805Z"
   },
   {
    "duration": 43,
    "start_time": "2022-11-18T18:18:12.826Z"
   },
   {
    "duration": 29,
    "start_time": "2022-11-18T18:18:12.870Z"
   },
   {
    "duration": 328,
    "start_time": "2022-11-18T18:18:12.901Z"
   },
   {
    "duration": 49,
    "start_time": "2022-11-18T18:18:13.231Z"
   },
   {
    "duration": 17,
    "start_time": "2022-11-18T18:18:13.282Z"
   },
   {
    "duration": 21,
    "start_time": "2022-11-18T18:18:13.301Z"
   },
   {
    "duration": 171,
    "start_time": "2022-11-18T18:18:59.852Z"
   },
   {
    "duration": 47,
    "start_time": "2022-11-18T18:20:34.076Z"
   },
   {
    "duration": 43,
    "start_time": "2022-11-18T18:20:57.989Z"
   },
   {
    "duration": 3,
    "start_time": "2022-11-18T18:21:02.920Z"
   },
   {
    "duration": 179,
    "start_time": "2022-11-18T18:21:02.925Z"
   },
   {
    "duration": 45,
    "start_time": "2022-11-18T18:21:03.106Z"
   },
   {
    "duration": 15,
    "start_time": "2022-11-18T18:21:03.153Z"
   },
   {
    "duration": 18,
    "start_time": "2022-11-18T18:21:03.170Z"
   },
   {
    "duration": 77,
    "start_time": "2022-11-18T18:21:03.189Z"
   },
   {
    "duration": 96,
    "start_time": "2022-11-18T18:21:03.268Z"
   },
   {
    "duration": 36,
    "start_time": "2022-11-18T18:21:03.366Z"
   },
   {
    "duration": 728,
    "start_time": "2022-11-18T18:21:03.404Z"
   },
   {
    "duration": 19,
    "start_time": "2022-11-18T18:21:04.134Z"
   },
   {
    "duration": 3752,
    "start_time": "2022-11-18T18:21:04.156Z"
   },
   {
    "duration": 21,
    "start_time": "2022-11-18T18:21:07.910Z"
   },
   {
    "duration": 53,
    "start_time": "2022-11-18T18:21:07.933Z"
   },
   {
    "duration": 235,
    "start_time": "2022-11-18T18:21:07.988Z"
   },
   {
    "duration": 151,
    "start_time": "2022-11-18T18:21:08.225Z"
   },
   {
    "duration": 16,
    "start_time": "2022-11-18T18:21:08.378Z"
   },
   {
    "duration": 22,
    "start_time": "2022-11-18T18:21:08.396Z"
   },
   {
    "duration": 42,
    "start_time": "2022-11-18T18:21:08.420Z"
   },
   {
    "duration": 34,
    "start_time": "2022-11-18T18:21:08.464Z"
   },
   {
    "duration": 302,
    "start_time": "2022-11-18T18:21:08.500Z"
   },
   {
    "duration": 50,
    "start_time": "2022-11-18T18:21:08.804Z"
   },
   {
    "duration": 17,
    "start_time": "2022-11-18T18:21:08.856Z"
   },
   {
    "duration": 312,
    "start_time": "2022-11-18T18:21:08.875Z"
   },
   {
    "duration": 17,
    "start_time": "2022-11-18T18:21:15.579Z"
   },
   {
    "duration": 20,
    "start_time": "2022-11-18T18:22:40.277Z"
   },
   {
    "duration": 27,
    "start_time": "2022-11-18T18:23:01.104Z"
   },
   {
    "duration": 3,
    "start_time": "2022-11-18T18:23:03.962Z"
   },
   {
    "duration": 186,
    "start_time": "2022-11-18T18:23:03.968Z"
   },
   {
    "duration": 39,
    "start_time": "2022-11-18T18:23:04.157Z"
   },
   {
    "duration": 17,
    "start_time": "2022-11-18T18:23:04.197Z"
   },
   {
    "duration": 35,
    "start_time": "2022-11-18T18:23:04.216Z"
   },
   {
    "duration": 62,
    "start_time": "2022-11-18T18:23:04.253Z"
   },
   {
    "duration": 109,
    "start_time": "2022-11-18T18:23:04.316Z"
   },
   {
    "duration": 50,
    "start_time": "2022-11-18T18:23:04.427Z"
   },
   {
    "duration": 787,
    "start_time": "2022-11-18T18:23:04.480Z"
   },
   {
    "duration": 20,
    "start_time": "2022-11-18T18:23:05.269Z"
   },
   {
    "duration": 3715,
    "start_time": "2022-11-18T18:23:05.293Z"
   },
   {
    "duration": 21,
    "start_time": "2022-11-18T18:23:09.010Z"
   },
   {
    "duration": 293,
    "start_time": "2022-11-18T18:23:09.033Z"
   },
   {
    "duration": 229,
    "start_time": "2022-11-18T18:23:09.327Z"
   },
   {
    "duration": 196,
    "start_time": "2022-11-18T18:23:09.557Z"
   },
   {
    "duration": 20,
    "start_time": "2022-11-18T18:23:09.756Z"
   },
   {
    "duration": 25,
    "start_time": "2022-11-18T18:23:09.779Z"
   },
   {
    "duration": 56,
    "start_time": "2022-11-18T18:23:09.806Z"
   },
   {
    "duration": 34,
    "start_time": "2022-11-18T18:23:09.865Z"
   },
   {
    "duration": 311,
    "start_time": "2022-11-18T18:23:09.901Z"
   },
   {
    "duration": 56,
    "start_time": "2022-11-18T18:23:10.214Z"
   },
   {
    "duration": 19,
    "start_time": "2022-11-18T18:23:10.272Z"
   },
   {
    "duration": 27,
    "start_time": "2022-11-18T18:23:10.293Z"
   },
   {
    "duration": 28,
    "start_time": "2022-11-18T18:23:34.731Z"
   },
   {
    "duration": 22,
    "start_time": "2022-11-18T18:23:46.381Z"
   },
   {
    "duration": 21,
    "start_time": "2022-11-18T18:23:55.999Z"
   },
   {
    "duration": 22,
    "start_time": "2022-11-18T18:24:03.825Z"
   },
   {
    "duration": 20,
    "start_time": "2022-11-18T18:24:08.666Z"
   },
   {
    "duration": 19,
    "start_time": "2022-11-18T18:24:43.221Z"
   },
   {
    "duration": 26,
    "start_time": "2022-11-18T18:24:59.209Z"
   },
   {
    "duration": 112,
    "start_time": "2022-11-18T18:25:32.929Z"
   },
   {
    "duration": 32,
    "start_time": "2022-11-18T18:30:09.360Z"
   },
   {
    "duration": 39,
    "start_time": "2022-11-18T18:31:14.787Z"
   },
   {
    "duration": 42,
    "start_time": "2022-11-18T18:31:28.559Z"
   },
   {
    "duration": 4,
    "start_time": "2022-11-18T18:32:19.122Z"
   },
   {
    "duration": 208,
    "start_time": "2022-11-18T18:32:19.129Z"
   },
   {
    "duration": 28,
    "start_time": "2022-11-18T18:32:19.339Z"
   },
   {
    "duration": 16,
    "start_time": "2022-11-18T18:32:19.369Z"
   },
   {
    "duration": 11,
    "start_time": "2022-11-18T18:32:19.387Z"
   },
   {
    "duration": 85,
    "start_time": "2022-11-18T18:32:19.400Z"
   },
   {
    "duration": 121,
    "start_time": "2022-11-18T18:32:19.487Z"
   },
   {
    "duration": 56,
    "start_time": "2022-11-18T18:32:19.610Z"
   },
   {
    "duration": 771,
    "start_time": "2022-11-18T18:32:19.670Z"
   },
   {
    "duration": 20,
    "start_time": "2022-11-18T18:32:20.443Z"
   },
   {
    "duration": 3742,
    "start_time": "2022-11-18T18:32:20.465Z"
   },
   {
    "duration": 41,
    "start_time": "2022-11-18T18:32:24.209Z"
   },
   {
    "duration": 89,
    "start_time": "2022-11-18T18:32:24.252Z"
   },
   {
    "duration": 339,
    "start_time": "2022-11-18T18:32:24.343Z"
   },
   {
    "duration": 179,
    "start_time": "2022-11-18T18:32:24.685Z"
   },
   {
    "duration": 20,
    "start_time": "2022-11-18T18:32:24.866Z"
   },
   {
    "duration": 25,
    "start_time": "2022-11-18T18:32:24.888Z"
   },
   {
    "duration": 51,
    "start_time": "2022-11-18T18:32:24.915Z"
   },
   {
    "duration": 32,
    "start_time": "2022-11-18T18:32:24.968Z"
   },
   {
    "duration": 309,
    "start_time": "2022-11-18T18:32:25.001Z"
   },
   {
    "duration": 63,
    "start_time": "2022-11-18T18:32:25.313Z"
   },
   {
    "duration": 28,
    "start_time": "2022-11-18T18:32:25.378Z"
   },
   {
    "duration": 45,
    "start_time": "2022-11-18T18:32:25.408Z"
   },
   {
    "duration": 2,
    "start_time": "2022-11-18T18:33:05.609Z"
   },
   {
    "duration": 185,
    "start_time": "2022-11-18T18:33:05.614Z"
   },
   {
    "duration": 51,
    "start_time": "2022-11-18T18:33:05.801Z"
   },
   {
    "duration": 14,
    "start_time": "2022-11-18T18:33:05.854Z"
   },
   {
    "duration": 10,
    "start_time": "2022-11-18T18:33:05.871Z"
   },
   {
    "duration": 109,
    "start_time": "2022-11-18T18:33:05.893Z"
   },
   {
    "duration": 106,
    "start_time": "2022-11-18T18:33:06.005Z"
   },
   {
    "duration": 48,
    "start_time": "2022-11-18T18:33:06.112Z"
   },
   {
    "duration": 807,
    "start_time": "2022-11-18T18:33:06.162Z"
   },
   {
    "duration": 16,
    "start_time": "2022-11-18T18:33:06.970Z"
   },
   {
    "duration": 3877,
    "start_time": "2022-11-18T18:33:06.989Z"
   },
   {
    "duration": 23,
    "start_time": "2022-11-18T18:33:10.868Z"
   },
   {
    "duration": 279,
    "start_time": "2022-11-18T18:33:10.893Z"
   },
   {
    "duration": 229,
    "start_time": "2022-11-18T18:33:11.174Z"
   },
   {
    "duration": 154,
    "start_time": "2022-11-18T18:33:11.405Z"
   },
   {
    "duration": 16,
    "start_time": "2022-11-18T18:33:11.562Z"
   },
   {
    "duration": 23,
    "start_time": "2022-11-18T18:33:11.580Z"
   },
   {
    "duration": 59,
    "start_time": "2022-11-18T18:33:11.605Z"
   },
   {
    "duration": 37,
    "start_time": "2022-11-18T18:33:11.666Z"
   },
   {
    "duration": 337,
    "start_time": "2022-11-18T18:33:11.706Z"
   },
   {
    "duration": 46,
    "start_time": "2022-11-18T18:33:12.052Z"
   },
   {
    "duration": 18,
    "start_time": "2022-11-18T18:33:12.100Z"
   },
   {
    "duration": 56,
    "start_time": "2022-11-18T18:33:12.120Z"
   },
   {
    "duration": 4,
    "start_time": "2022-11-18T18:33:38.968Z"
   },
   {
    "duration": 235,
    "start_time": "2022-11-18T18:33:38.974Z"
   },
   {
    "duration": 59,
    "start_time": "2022-11-18T18:33:39.211Z"
   },
   {
    "duration": 16,
    "start_time": "2022-11-18T18:33:39.272Z"
   },
   {
    "duration": 10,
    "start_time": "2022-11-18T18:33:39.290Z"
   },
   {
    "duration": 87,
    "start_time": "2022-11-18T18:33:39.302Z"
   },
   {
    "duration": 104,
    "start_time": "2022-11-18T18:33:39.391Z"
   },
   {
    "duration": 54,
    "start_time": "2022-11-18T18:33:39.497Z"
   },
   {
    "duration": 835,
    "start_time": "2022-11-18T18:33:39.553Z"
   },
   {
    "duration": 15,
    "start_time": "2022-11-18T18:33:40.391Z"
   },
   {
    "duration": 3520,
    "start_time": "2022-11-18T18:33:40.408Z"
   },
   {
    "duration": 31,
    "start_time": "2022-11-18T18:33:43.930Z"
   },
   {
    "duration": 48,
    "start_time": "2022-11-18T18:33:43.963Z"
   },
   {
    "duration": 239,
    "start_time": "2022-11-18T18:33:44.012Z"
   },
   {
    "duration": 183,
    "start_time": "2022-11-18T18:33:44.253Z"
   },
   {
    "duration": 22,
    "start_time": "2022-11-18T18:33:44.438Z"
   },
   {
    "duration": 21,
    "start_time": "2022-11-18T18:33:44.462Z"
   },
   {
    "duration": 20,
    "start_time": "2022-11-18T18:33:44.485Z"
   },
   {
    "duration": 52,
    "start_time": "2022-11-18T18:33:44.506Z"
   },
   {
    "duration": 282,
    "start_time": "2022-11-18T18:33:44.560Z"
   },
   {
    "duration": 38,
    "start_time": "2022-11-18T18:33:44.851Z"
   },
   {
    "duration": 19,
    "start_time": "2022-11-18T18:33:44.892Z"
   },
   {
    "duration": 46,
    "start_time": "2022-11-18T18:33:44.913Z"
   },
   {
    "duration": 3,
    "start_time": "2022-11-18T18:34:07.154Z"
   },
   {
    "duration": 184,
    "start_time": "2022-11-18T18:34:07.160Z"
   },
   {
    "duration": 28,
    "start_time": "2022-11-18T18:34:07.346Z"
   },
   {
    "duration": 22,
    "start_time": "2022-11-18T18:34:07.377Z"
   },
   {
    "duration": 11,
    "start_time": "2022-11-18T18:34:07.401Z"
   },
   {
    "duration": 86,
    "start_time": "2022-11-18T18:34:07.413Z"
   },
   {
    "duration": 102,
    "start_time": "2022-11-18T18:34:07.501Z"
   },
   {
    "duration": 50,
    "start_time": "2022-11-18T18:34:07.605Z"
   },
   {
    "duration": 755,
    "start_time": "2022-11-18T18:34:07.658Z"
   },
   {
    "duration": 15,
    "start_time": "2022-11-18T18:34:08.415Z"
   },
   {
    "duration": 3916,
    "start_time": "2022-11-18T18:34:08.431Z"
   },
   {
    "duration": 23,
    "start_time": "2022-11-18T18:34:12.350Z"
   },
   {
    "duration": 51,
    "start_time": "2022-11-18T18:34:12.374Z"
   },
   {
    "duration": 235,
    "start_time": "2022-11-18T18:34:12.451Z"
   },
   {
    "duration": 150,
    "start_time": "2022-11-18T18:34:12.688Z"
   },
   {
    "duration": 16,
    "start_time": "2022-11-18T18:34:12.850Z"
   },
   {
    "duration": 18,
    "start_time": "2022-11-18T18:34:12.867Z"
   },
   {
    "duration": 20,
    "start_time": "2022-11-18T18:34:12.887Z"
   },
   {
    "duration": 59,
    "start_time": "2022-11-18T18:34:12.909Z"
   },
   {
    "duration": 293,
    "start_time": "2022-11-18T18:34:12.970Z"
   },
   {
    "duration": 37,
    "start_time": "2022-11-18T18:34:13.265Z"
   },
   {
    "duration": 16,
    "start_time": "2022-11-18T18:34:13.304Z"
   },
   {
    "duration": 291,
    "start_time": "2022-11-18T18:34:13.322Z"
   },
   {
    "duration": 32,
    "start_time": "2022-11-18T18:34:54.828Z"
   },
   {
    "duration": 41,
    "start_time": "2022-11-18T18:35:14.559Z"
   },
   {
    "duration": 42,
    "start_time": "2022-11-18T18:35:43.091Z"
   },
   {
    "duration": 43,
    "start_time": "2022-11-18T18:35:50.277Z"
   },
   {
    "duration": 43,
    "start_time": "2022-11-18T18:36:14.951Z"
   },
   {
    "duration": 73,
    "start_time": "2022-11-18T18:39:37.116Z"
   },
   {
    "duration": 26,
    "start_time": "2022-11-18T18:41:52.549Z"
   },
   {
    "duration": 168,
    "start_time": "2022-11-18T18:42:31.146Z"
   },
   {
    "duration": 303,
    "start_time": "2022-11-18T18:43:09.304Z"
   },
   {
    "duration": 29,
    "start_time": "2022-11-18T18:44:56.721Z"
   },
   {
    "duration": 29,
    "start_time": "2022-11-18T18:45:09.467Z"
   },
   {
    "duration": 22,
    "start_time": "2022-11-18T18:49:13.952Z"
   },
   {
    "duration": 31,
    "start_time": "2022-11-18T18:49:23.409Z"
   },
   {
    "duration": 98,
    "start_time": "2022-11-18T18:49:44.970Z"
   },
   {
    "duration": 26,
    "start_time": "2022-11-18T18:50:08.419Z"
   },
   {
    "duration": 26,
    "start_time": "2022-11-18T18:50:19.714Z"
   },
   {
    "duration": 26,
    "start_time": "2022-11-18T18:51:24.895Z"
   },
   {
    "duration": 21,
    "start_time": "2022-11-18T18:52:37.093Z"
   },
   {
    "duration": 16,
    "start_time": "2022-11-18T18:54:04.536Z"
   },
   {
    "duration": 19,
    "start_time": "2022-11-18T18:55:53.269Z"
   },
   {
    "duration": 83,
    "start_time": "2022-11-18T19:00:39.769Z"
   },
   {
    "duration": 22,
    "start_time": "2022-11-18T19:00:45.763Z"
   },
   {
    "duration": 64,
    "start_time": "2022-11-18T19:00:49.598Z"
   },
   {
    "duration": 69,
    "start_time": "2022-11-18T19:01:11.608Z"
   },
   {
    "duration": 45,
    "start_time": "2022-11-18T19:05:28.141Z"
   },
   {
    "duration": 1276,
    "start_time": "2022-11-18T19:06:24.131Z"
   },
   {
    "duration": 1316,
    "start_time": "2022-11-18T19:06:30.222Z"
   },
   {
    "duration": 1336,
    "start_time": "2022-11-18T19:06:34.972Z"
   },
   {
    "duration": 1357,
    "start_time": "2022-11-18T19:07:25.019Z"
   },
   {
    "duration": 2920,
    "start_time": "2022-11-18T19:07:59.802Z"
   },
   {
    "duration": 2832,
    "start_time": "2022-11-18T19:08:25.077Z"
   },
   {
    "duration": 5627,
    "start_time": "2022-11-18T19:09:35.669Z"
   },
   {
    "duration": 2557,
    "start_time": "2022-11-18T19:10:21.344Z"
   },
   {
    "duration": 2838,
    "start_time": "2022-11-18T19:10:27.746Z"
   },
   {
    "duration": 3,
    "start_time": "2022-11-18T19:11:03.919Z"
   },
   {
    "duration": 265,
    "start_time": "2022-11-18T19:11:03.924Z"
   },
   {
    "duration": 45,
    "start_time": "2022-11-18T19:11:04.192Z"
   },
   {
    "duration": 21,
    "start_time": "2022-11-18T19:11:04.239Z"
   },
   {
    "duration": 53,
    "start_time": "2022-11-18T19:11:04.263Z"
   },
   {
    "duration": 87,
    "start_time": "2022-11-18T19:11:04.318Z"
   },
   {
    "duration": 116,
    "start_time": "2022-11-18T19:11:04.407Z"
   },
   {
    "duration": 71,
    "start_time": "2022-11-18T19:11:04.525Z"
   },
   {
    "duration": 885,
    "start_time": "2022-11-18T19:11:04.599Z"
   },
   {
    "duration": 22,
    "start_time": "2022-11-18T19:11:05.489Z"
   },
   {
    "duration": 4281,
    "start_time": "2022-11-18T19:11:05.514Z"
   },
   {
    "duration": 37,
    "start_time": "2022-11-18T19:11:09.797Z"
   },
   {
    "duration": 81,
    "start_time": "2022-11-18T19:11:09.835Z"
   },
   {
    "duration": 295,
    "start_time": "2022-11-18T19:11:09.918Z"
   },
   {
    "duration": 229,
    "start_time": "2022-11-18T19:11:10.216Z"
   },
   {
    "duration": 36,
    "start_time": "2022-11-18T19:11:10.448Z"
   },
   {
    "duration": 41,
    "start_time": "2022-11-18T19:11:10.487Z"
   },
   {
    "duration": 31,
    "start_time": "2022-11-18T19:11:10.530Z"
   },
   {
    "duration": 75,
    "start_time": "2022-11-18T19:11:10.564Z"
   },
   {
    "duration": 387,
    "start_time": "2022-11-18T19:11:10.642Z"
   },
   {
    "duration": 78,
    "start_time": "2022-11-18T19:11:11.031Z"
   },
   {
    "duration": 54,
    "start_time": "2022-11-18T19:11:11.112Z"
   },
   {
    "duration": 2719,
    "start_time": "2022-11-18T19:11:11.170Z"
   },
   {
    "duration": 65,
    "start_time": "2022-11-18T19:13:24.099Z"
   },
   {
    "duration": 33,
    "start_time": "2022-11-18T19:13:28.913Z"
   },
   {
    "duration": 22,
    "start_time": "2022-11-18T19:13:58.273Z"
   },
   {
    "duration": 3,
    "start_time": "2022-11-18T19:14:03.496Z"
   },
   {
    "duration": 193,
    "start_time": "2022-11-18T19:14:03.501Z"
   },
   {
    "duration": 25,
    "start_time": "2022-11-18T19:14:03.696Z"
   },
   {
    "duration": 43,
    "start_time": "2022-11-18T19:14:03.724Z"
   },
   {
    "duration": 12,
    "start_time": "2022-11-18T19:14:03.768Z"
   },
   {
    "duration": 72,
    "start_time": "2022-11-18T19:14:03.782Z"
   },
   {
    "duration": 110,
    "start_time": "2022-11-18T19:14:03.856Z"
   },
   {
    "duration": 40,
    "start_time": "2022-11-18T19:14:03.968Z"
   },
   {
    "duration": 737,
    "start_time": "2022-11-18T19:14:04.011Z"
   },
   {
    "duration": 20,
    "start_time": "2022-11-18T19:14:04.753Z"
   },
   {
    "duration": 3772,
    "start_time": "2022-11-18T19:14:04.774Z"
   },
   {
    "duration": 25,
    "start_time": "2022-11-18T19:14:08.551Z"
   },
   {
    "duration": 41,
    "start_time": "2022-11-18T19:14:08.578Z"
   },
   {
    "duration": 245,
    "start_time": "2022-11-18T19:14:08.621Z"
   },
   {
    "duration": 154,
    "start_time": "2022-11-18T19:14:08.867Z"
   },
   {
    "duration": 33,
    "start_time": "2022-11-18T19:14:09.024Z"
   },
   {
    "duration": 19,
    "start_time": "2022-11-18T19:14:09.063Z"
   },
   {
    "duration": 21,
    "start_time": "2022-11-18T19:14:09.084Z"
   },
   {
    "duration": 61,
    "start_time": "2022-11-18T19:14:09.107Z"
   },
   {
    "duration": 297,
    "start_time": "2022-11-18T19:14:09.170Z"
   },
   {
    "duration": 36,
    "start_time": "2022-11-18T19:14:09.469Z"
   },
   {
    "duration": 18,
    "start_time": "2022-11-18T19:14:09.506Z"
   },
   {
    "duration": 47,
    "start_time": "2022-11-18T19:14:09.525Z"
   },
   {
    "duration": 29,
    "start_time": "2022-11-18T19:16:58.265Z"
   },
   {
    "duration": 667,
    "start_time": "2022-11-18T19:17:09.131Z"
   },
   {
    "duration": 20,
    "start_time": "2022-11-18T19:17:35.712Z"
   },
   {
    "duration": 28,
    "start_time": "2022-11-18T19:18:37.068Z"
   },
   {
    "duration": 41,
    "start_time": "2022-11-18T19:19:06.099Z"
   },
   {
    "duration": 30,
    "start_time": "2022-11-18T19:19:14.207Z"
   },
   {
    "duration": 37,
    "start_time": "2022-11-18T19:19:55.684Z"
   },
   {
    "duration": 28,
    "start_time": "2022-11-18T19:20:17.373Z"
   },
   {
    "duration": 22,
    "start_time": "2022-11-18T19:20:21.316Z"
   },
   {
    "duration": 36,
    "start_time": "2022-11-18T19:20:32.941Z"
   },
   {
    "duration": 3,
    "start_time": "2022-11-18T19:20:38.225Z"
   },
   {
    "duration": 201,
    "start_time": "2022-11-18T19:20:38.230Z"
   },
   {
    "duration": 32,
    "start_time": "2022-11-18T19:20:38.433Z"
   },
   {
    "duration": 16,
    "start_time": "2022-11-18T19:20:38.467Z"
   },
   {
    "duration": 11,
    "start_time": "2022-11-18T19:20:38.484Z"
   },
   {
    "duration": 88,
    "start_time": "2022-11-18T19:20:38.497Z"
   },
   {
    "duration": 102,
    "start_time": "2022-11-18T19:20:38.587Z"
   },
   {
    "duration": 38,
    "start_time": "2022-11-18T19:20:38.691Z"
   },
   {
    "duration": 1115,
    "start_time": "2022-11-18T19:20:38.731Z"
   },
   {
    "duration": 27,
    "start_time": "2022-11-18T19:20:39.848Z"
   },
   {
    "duration": 3856,
    "start_time": "2022-11-18T19:20:39.877Z"
   },
   {
    "duration": 38,
    "start_time": "2022-11-18T19:20:43.736Z"
   },
   {
    "duration": 51,
    "start_time": "2022-11-18T19:20:43.775Z"
   },
   {
    "duration": 244,
    "start_time": "2022-11-18T19:20:43.828Z"
   },
   {
    "duration": 153,
    "start_time": "2022-11-18T19:20:44.074Z"
   },
   {
    "duration": 35,
    "start_time": "2022-11-18T19:20:44.229Z"
   },
   {
    "duration": 19,
    "start_time": "2022-11-18T19:20:44.265Z"
   },
   {
    "duration": 26,
    "start_time": "2022-11-18T19:20:44.287Z"
   },
   {
    "duration": 58,
    "start_time": "2022-11-18T19:20:44.315Z"
   },
   {
    "duration": 289,
    "start_time": "2022-11-18T19:20:44.375Z"
   },
   {
    "duration": 37,
    "start_time": "2022-11-18T19:20:44.666Z"
   },
   {
    "duration": 18,
    "start_time": "2022-11-18T19:20:44.705Z"
   },
   {
    "duration": 67,
    "start_time": "2022-11-18T19:20:44.724Z"
   },
   {
    "duration": 45,
    "start_time": "2022-11-18T19:22:07.431Z"
   },
   {
    "duration": 30,
    "start_time": "2022-11-18T19:23:40.715Z"
   },
   {
    "duration": 12,
    "start_time": "2022-11-18T19:24:25.449Z"
   },
   {
    "duration": 199,
    "start_time": "2022-11-18T19:24:25.464Z"
   },
   {
    "duration": 30,
    "start_time": "2022-11-18T19:24:25.665Z"
   },
   {
    "duration": 16,
    "start_time": "2022-11-18T19:24:25.697Z"
   },
   {
    "duration": 10,
    "start_time": "2022-11-18T19:24:25.715Z"
   },
   {
    "duration": 85,
    "start_time": "2022-11-18T19:24:25.726Z"
   },
   {
    "duration": 104,
    "start_time": "2022-11-18T19:24:25.813Z"
   },
   {
    "duration": 46,
    "start_time": "2022-11-18T19:24:25.919Z"
   },
   {
    "duration": 757,
    "start_time": "2022-11-18T19:24:25.967Z"
   },
   {
    "duration": 36,
    "start_time": "2022-11-18T19:24:26.727Z"
   },
   {
    "duration": 3863,
    "start_time": "2022-11-18T19:24:26.765Z"
   },
   {
    "duration": 36,
    "start_time": "2022-11-18T19:24:30.630Z"
   },
   {
    "duration": 67,
    "start_time": "2022-11-18T19:24:30.667Z"
   },
   {
    "duration": 227,
    "start_time": "2022-11-18T19:24:30.736Z"
   },
   {
    "duration": 147,
    "start_time": "2022-11-18T19:24:30.965Z"
   },
   {
    "duration": 14,
    "start_time": "2022-11-18T19:24:31.114Z"
   },
   {
    "duration": 32,
    "start_time": "2022-11-18T19:24:31.129Z"
   },
   {
    "duration": 40,
    "start_time": "2022-11-18T19:24:31.163Z"
   },
   {
    "duration": 27,
    "start_time": "2022-11-18T19:24:31.205Z"
   },
   {
    "duration": 279,
    "start_time": "2022-11-18T19:24:31.234Z"
   },
   {
    "duration": 97,
    "start_time": "2022-11-18T19:24:31.515Z"
   },
   {
    "duration": 0,
    "start_time": "2022-11-18T19:24:31.614Z"
   },
   {
    "duration": 0,
    "start_time": "2022-11-18T19:24:31.615Z"
   },
   {
    "duration": 38,
    "start_time": "2022-11-18T19:24:49.992Z"
   },
   {
    "duration": 4,
    "start_time": "2022-11-18T19:24:53.215Z"
   },
   {
    "duration": 389,
    "start_time": "2022-11-18T19:24:53.221Z"
   },
   {
    "duration": 59,
    "start_time": "2022-11-18T19:24:53.612Z"
   },
   {
    "duration": 21,
    "start_time": "2022-11-18T19:24:53.675Z"
   },
   {
    "duration": 20,
    "start_time": "2022-11-18T19:24:53.699Z"
   },
   {
    "duration": 83,
    "start_time": "2022-11-18T19:24:53.721Z"
   },
   {
    "duration": 100,
    "start_time": "2022-11-18T19:24:53.806Z"
   },
   {
    "duration": 63,
    "start_time": "2022-11-18T19:24:53.908Z"
   },
   {
    "duration": 780,
    "start_time": "2022-11-18T19:24:53.975Z"
   },
   {
    "duration": 16,
    "start_time": "2022-11-18T19:24:54.764Z"
   },
   {
    "duration": 3646,
    "start_time": "2022-11-18T19:24:54.781Z"
   },
   {
    "duration": 34,
    "start_time": "2022-11-18T19:24:58.428Z"
   },
   {
    "duration": 44,
    "start_time": "2022-11-18T19:24:58.464Z"
   },
   {
    "duration": 232,
    "start_time": "2022-11-18T19:24:58.510Z"
   },
   {
    "duration": 147,
    "start_time": "2022-11-18T19:24:58.743Z"
   },
   {
    "duration": 14,
    "start_time": "2022-11-18T19:24:58.892Z"
   },
   {
    "duration": 17,
    "start_time": "2022-11-18T19:24:58.908Z"
   },
   {
    "duration": 45,
    "start_time": "2022-11-18T19:24:58.927Z"
   },
   {
    "duration": 30,
    "start_time": "2022-11-18T19:24:58.974Z"
   },
   {
    "duration": 328,
    "start_time": "2022-11-18T19:24:59.007Z"
   },
   {
    "duration": 57,
    "start_time": "2022-11-18T19:24:59.337Z"
   },
   {
    "duration": 23,
    "start_time": "2022-11-18T19:24:59.397Z"
   },
   {
    "duration": 65,
    "start_time": "2022-11-18T19:24:59.422Z"
   },
   {
    "duration": 25,
    "start_time": "2022-11-18T19:31:32.543Z"
   },
   {
    "duration": 24,
    "start_time": "2022-11-18T19:31:57.228Z"
   },
   {
    "duration": 3,
    "start_time": "2022-11-18T19:32:00.540Z"
   },
   {
    "duration": 207,
    "start_time": "2022-11-18T19:32:00.545Z"
   },
   {
    "duration": 29,
    "start_time": "2022-11-18T19:32:00.754Z"
   },
   {
    "duration": 16,
    "start_time": "2022-11-18T19:32:00.785Z"
   },
   {
    "duration": 13,
    "start_time": "2022-11-18T19:32:00.803Z"
   },
   {
    "duration": 121,
    "start_time": "2022-11-18T19:32:00.819Z"
   },
   {
    "duration": 102,
    "start_time": "2022-11-18T19:32:00.950Z"
   },
   {
    "duration": 36,
    "start_time": "2022-11-18T19:32:01.054Z"
   },
   {
    "duration": 1075,
    "start_time": "2022-11-18T19:32:01.092Z"
   },
   {
    "duration": 20,
    "start_time": "2022-11-18T19:32:02.170Z"
   },
   {
    "duration": 3744,
    "start_time": "2022-11-18T19:32:02.193Z"
   },
   {
    "duration": 29,
    "start_time": "2022-11-18T19:32:05.939Z"
   },
   {
    "duration": 49,
    "start_time": "2022-11-18T19:32:05.969Z"
   },
   {
    "duration": 229,
    "start_time": "2022-11-18T19:32:06.020Z"
   },
   {
    "duration": 142,
    "start_time": "2022-11-18T19:32:06.251Z"
   },
   {
    "duration": 16,
    "start_time": "2022-11-18T19:32:06.395Z"
   },
   {
    "duration": 18,
    "start_time": "2022-11-18T19:32:06.412Z"
   },
   {
    "duration": 21,
    "start_time": "2022-11-18T19:32:06.451Z"
   },
   {
    "duration": 28,
    "start_time": "2022-11-18T19:32:06.473Z"
   },
   {
    "duration": 295,
    "start_time": "2022-11-18T19:32:06.503Z"
   },
   {
    "duration": 34,
    "start_time": "2022-11-18T19:32:06.800Z"
   },
   {
    "duration": 27,
    "start_time": "2022-11-18T19:32:06.836Z"
   },
   {
    "duration": 23,
    "start_time": "2022-11-18T19:32:06.865Z"
   },
   {
    "duration": 289,
    "start_time": "2022-11-18T19:32:46.427Z"
   },
   {
    "duration": 74,
    "start_time": "2022-11-18T19:34:00.300Z"
   },
   {
    "duration": 20,
    "start_time": "2022-11-18T19:35:06.865Z"
   },
   {
    "duration": 18,
    "start_time": "2022-11-18T19:35:12.279Z"
   },
   {
    "duration": 17,
    "start_time": "2022-11-18T19:35:17.665Z"
   },
   {
    "duration": 16,
    "start_time": "2022-11-18T19:35:28.504Z"
   },
   {
    "duration": 3,
    "start_time": "2022-11-18T19:35:33.047Z"
   },
   {
    "duration": 178,
    "start_time": "2022-11-18T19:35:33.052Z"
   },
   {
    "duration": 27,
    "start_time": "2022-11-18T19:35:33.232Z"
   },
   {
    "duration": 14,
    "start_time": "2022-11-18T19:35:33.261Z"
   },
   {
    "duration": 10,
    "start_time": "2022-11-18T19:35:33.277Z"
   },
   {
    "duration": 73,
    "start_time": "2022-11-18T19:35:33.289Z"
   },
   {
    "duration": 99,
    "start_time": "2022-11-18T19:35:33.364Z"
   },
   {
    "duration": 37,
    "start_time": "2022-11-18T19:35:33.465Z"
   },
   {
    "duration": 714,
    "start_time": "2022-11-18T19:35:33.504Z"
   },
   {
    "duration": 14,
    "start_time": "2022-11-18T19:35:34.220Z"
   },
   {
    "duration": 3510,
    "start_time": "2022-11-18T19:35:34.236Z"
   },
   {
    "duration": 19,
    "start_time": "2022-11-18T19:35:37.751Z"
   },
   {
    "duration": 39,
    "start_time": "2022-11-18T19:35:37.772Z"
   },
   {
    "duration": 216,
    "start_time": "2022-11-18T19:35:37.812Z"
   },
   {
    "duration": 140,
    "start_time": "2022-11-18T19:35:38.030Z"
   },
   {
    "duration": 18,
    "start_time": "2022-11-18T19:35:38.172Z"
   },
   {
    "duration": 23,
    "start_time": "2022-11-18T19:35:38.192Z"
   },
   {
    "duration": 36,
    "start_time": "2022-11-18T19:35:38.217Z"
   },
   {
    "duration": 25,
    "start_time": "2022-11-18T19:35:38.255Z"
   },
   {
    "duration": 271,
    "start_time": "2022-11-18T19:35:38.282Z"
   },
   {
    "duration": 35,
    "start_time": "2022-11-18T19:35:38.554Z"
   },
   {
    "duration": 16,
    "start_time": "2022-11-18T19:35:38.591Z"
   },
   {
    "duration": 32,
    "start_time": "2022-11-18T19:35:38.608Z"
   },
   {
    "duration": 3,
    "start_time": "2022-11-18T19:35:45.218Z"
   },
   {
    "duration": 195,
    "start_time": "2022-11-18T19:35:45.223Z"
   },
   {
    "duration": 37,
    "start_time": "2022-11-18T19:35:45.420Z"
   },
   {
    "duration": 14,
    "start_time": "2022-11-18T19:35:45.459Z"
   },
   {
    "duration": 11,
    "start_time": "2022-11-18T19:35:45.475Z"
   },
   {
    "duration": 87,
    "start_time": "2022-11-18T19:35:45.488Z"
   },
   {
    "duration": 96,
    "start_time": "2022-11-18T19:35:45.577Z"
   },
   {
    "duration": 35,
    "start_time": "2022-11-18T19:35:45.675Z"
   },
   {
    "duration": 743,
    "start_time": "2022-11-18T19:35:45.713Z"
   },
   {
    "duration": 20,
    "start_time": "2022-11-18T19:35:46.457Z"
   },
   {
    "duration": 3907,
    "start_time": "2022-11-18T19:35:46.479Z"
   },
   {
    "duration": 20,
    "start_time": "2022-11-18T19:35:50.387Z"
   },
   {
    "duration": 57,
    "start_time": "2022-11-18T19:35:50.408Z"
   },
   {
    "duration": 220,
    "start_time": "2022-11-18T19:35:50.467Z"
   },
   {
    "duration": 141,
    "start_time": "2022-11-18T19:35:50.688Z"
   },
   {
    "duration": 22,
    "start_time": "2022-11-18T19:35:50.831Z"
   },
   {
    "duration": 19,
    "start_time": "2022-11-18T19:35:50.855Z"
   },
   {
    "duration": 20,
    "start_time": "2022-11-18T19:35:50.875Z"
   },
   {
    "duration": 26,
    "start_time": "2022-11-18T19:35:50.896Z"
   },
   {
    "duration": 262,
    "start_time": "2022-11-18T19:35:50.951Z"
   },
   {
    "duration": 42,
    "start_time": "2022-11-18T19:35:51.214Z"
   },
   {
    "duration": 16,
    "start_time": "2022-11-18T19:35:51.258Z"
   },
   {
    "duration": 18,
    "start_time": "2022-11-18T19:35:51.276Z"
   },
   {
    "duration": 6,
    "start_time": "2022-11-18T19:39:53.676Z"
   },
   {
    "duration": 31,
    "start_time": "2022-11-18T19:42:33.068Z"
   },
   {
    "duration": 45,
    "start_time": "2022-11-18T19:44:09.768Z"
   },
   {
    "duration": 1332,
    "start_time": "2022-11-18T19:45:27.085Z"
   },
   {
    "duration": 51,
    "start_time": "2022-11-18T19:45:45.520Z"
   },
   {
    "duration": 35,
    "start_time": "2022-11-18T19:47:17.183Z"
   },
   {
    "duration": 1261,
    "start_time": "2022-11-18T19:48:00.639Z"
   },
   {
    "duration": 6,
    "start_time": "2022-11-18T19:48:04.750Z"
   },
   {
    "duration": 210,
    "start_time": "2022-11-18T19:48:04.759Z"
   },
   {
    "duration": 31,
    "start_time": "2022-11-18T19:48:04.971Z"
   },
   {
    "duration": 15,
    "start_time": "2022-11-18T19:48:05.004Z"
   },
   {
    "duration": 34,
    "start_time": "2022-11-18T19:48:05.021Z"
   },
   {
    "duration": 64,
    "start_time": "2022-11-18T19:48:05.056Z"
   },
   {
    "duration": 108,
    "start_time": "2022-11-18T19:48:05.122Z"
   },
   {
    "duration": 56,
    "start_time": "2022-11-18T19:48:05.233Z"
   },
   {
    "duration": 1038,
    "start_time": "2022-11-18T19:48:05.291Z"
   },
   {
    "duration": 24,
    "start_time": "2022-11-18T19:48:06.330Z"
   },
   {
    "duration": 3857,
    "start_time": "2022-11-18T19:48:06.356Z"
   },
   {
    "duration": 22,
    "start_time": "2022-11-18T19:48:10.214Z"
   },
   {
    "duration": 68,
    "start_time": "2022-11-18T19:48:10.250Z"
   },
   {
    "duration": 232,
    "start_time": "2022-11-18T19:48:10.320Z"
   },
   {
    "duration": 183,
    "start_time": "2022-11-18T19:48:10.561Z"
   },
   {
    "duration": 23,
    "start_time": "2022-11-18T19:48:10.750Z"
   },
   {
    "duration": 39,
    "start_time": "2022-11-18T19:48:10.774Z"
   },
   {
    "duration": 23,
    "start_time": "2022-11-18T19:48:10.816Z"
   },
   {
    "duration": 32,
    "start_time": "2022-11-18T19:48:10.841Z"
   },
   {
    "duration": 296,
    "start_time": "2022-11-18T19:48:10.875Z"
   },
   {
    "duration": 1273,
    "start_time": "2022-11-18T19:48:11.172Z"
   },
   {
    "duration": 0,
    "start_time": "2022-11-18T19:48:12.447Z"
   },
   {
    "duration": 39,
    "start_time": "2022-11-18T19:48:56.734Z"
   },
   {
    "duration": 3,
    "start_time": "2022-11-18T19:49:02.701Z"
   },
   {
    "duration": 192,
    "start_time": "2022-11-18T19:49:02.706Z"
   },
   {
    "duration": 52,
    "start_time": "2022-11-18T19:49:02.900Z"
   },
   {
    "duration": 15,
    "start_time": "2022-11-18T19:49:02.964Z"
   },
   {
    "duration": 10,
    "start_time": "2022-11-18T19:49:02.981Z"
   },
   {
    "duration": 78,
    "start_time": "2022-11-18T19:49:02.993Z"
   },
   {
    "duration": 109,
    "start_time": "2022-11-18T19:49:03.072Z"
   },
   {
    "duration": 38,
    "start_time": "2022-11-18T19:49:03.183Z"
   },
   {
    "duration": 756,
    "start_time": "2022-11-18T19:49:03.223Z"
   },
   {
    "duration": 14,
    "start_time": "2022-11-18T19:49:03.980Z"
   },
   {
    "duration": 3846,
    "start_time": "2022-11-18T19:49:03.997Z"
   },
   {
    "duration": 27,
    "start_time": "2022-11-18T19:49:07.845Z"
   },
   {
    "duration": 46,
    "start_time": "2022-11-18T19:49:07.873Z"
   },
   {
    "duration": 253,
    "start_time": "2022-11-18T19:49:07.920Z"
   },
   {
    "duration": 150,
    "start_time": "2022-11-18T19:49:08.175Z"
   },
   {
    "duration": 29,
    "start_time": "2022-11-18T19:49:08.327Z"
   },
   {
    "duration": 23,
    "start_time": "2022-11-18T19:49:08.361Z"
   },
   {
    "duration": 24,
    "start_time": "2022-11-18T19:49:08.386Z"
   },
   {
    "duration": 48,
    "start_time": "2022-11-18T19:49:08.412Z"
   },
   {
    "duration": 270,
    "start_time": "2022-11-18T19:49:08.462Z"
   },
   {
    "duration": 51,
    "start_time": "2022-11-18T19:49:08.734Z"
   },
   {
    "duration": 80,
    "start_time": "2022-11-18T19:49:08.786Z"
   },
   {
    "duration": 36,
    "start_time": "2022-11-18T19:50:11.480Z"
   },
   {
    "duration": 15,
    "start_time": "2022-11-18T19:51:33.302Z"
   },
   {
    "duration": 27,
    "start_time": "2022-11-18T19:51:41.396Z"
   },
   {
    "duration": 32,
    "start_time": "2022-11-18T19:52:31.814Z"
   },
   {
    "duration": 26,
    "start_time": "2022-11-18T19:52:42.634Z"
   },
   {
    "duration": 82,
    "start_time": "2022-11-18T19:52:59.788Z"
   },
   {
    "duration": 78,
    "start_time": "2022-11-18T19:53:21.531Z"
   },
   {
    "duration": 79,
    "start_time": "2022-11-18T19:54:06.630Z"
   },
   {
    "duration": 3,
    "start_time": "2022-11-18T19:54:20.589Z"
   },
   {
    "duration": 205,
    "start_time": "2022-11-18T19:54:20.594Z"
   },
   {
    "duration": 27,
    "start_time": "2022-11-18T19:54:20.802Z"
   },
   {
    "duration": 42,
    "start_time": "2022-11-18T19:54:20.830Z"
   },
   {
    "duration": 11,
    "start_time": "2022-11-18T19:54:20.874Z"
   },
   {
    "duration": 75,
    "start_time": "2022-11-18T19:54:20.886Z"
   },
   {
    "duration": 85,
    "start_time": "2022-11-18T19:54:20.963Z"
   },
   {
    "duration": 43,
    "start_time": "2022-11-18T19:54:21.050Z"
   },
   {
    "duration": 704,
    "start_time": "2022-11-18T19:54:21.094Z"
   },
   {
    "duration": 15,
    "start_time": "2022-11-18T19:54:21.799Z"
   },
   {
    "duration": 3545,
    "start_time": "2022-11-18T19:54:21.816Z"
   },
   {
    "duration": 21,
    "start_time": "2022-11-18T19:54:25.363Z"
   },
   {
    "duration": 42,
    "start_time": "2022-11-18T19:54:25.386Z"
   },
   {
    "duration": 207,
    "start_time": "2022-11-18T19:54:25.430Z"
   },
   {
    "duration": 148,
    "start_time": "2022-11-18T19:54:25.639Z"
   },
   {
    "duration": 14,
    "start_time": "2022-11-18T19:54:25.789Z"
   },
   {
    "duration": 16,
    "start_time": "2022-11-18T19:54:25.804Z"
   },
   {
    "duration": 43,
    "start_time": "2022-11-18T19:54:25.822Z"
   },
   {
    "duration": 26,
    "start_time": "2022-11-18T19:54:25.867Z"
   },
   {
    "duration": 293,
    "start_time": "2022-11-18T19:54:25.894Z"
   },
   {
    "duration": 34,
    "start_time": "2022-11-18T19:54:26.189Z"
   },
   {
    "duration": 42,
    "start_time": "2022-11-18T19:54:26.226Z"
   },
   {
    "duration": 68,
    "start_time": "2022-11-18T19:54:26.269Z"
   },
   {
    "duration": 383,
    "start_time": "2022-11-18T19:55:47.241Z"
   },
   {
    "duration": 5,
    "start_time": "2022-11-18T19:57:47.673Z"
   },
   {
    "duration": 5,
    "start_time": "2022-11-18T19:57:57.807Z"
   },
   {
    "duration": 6,
    "start_time": "2022-11-18T19:58:35.006Z"
   },
   {
    "duration": 8,
    "start_time": "2022-11-18T19:58:54.283Z"
   },
   {
    "duration": 8,
    "start_time": "2022-11-18T19:59:10.726Z"
   },
   {
    "duration": 6,
    "start_time": "2022-11-18T19:59:47.308Z"
   },
   {
    "duration": 5,
    "start_time": "2022-11-18T20:03:20.382Z"
   },
   {
    "duration": 21,
    "start_time": "2022-11-18T20:05:09.747Z"
   },
   {
    "duration": 7,
    "start_time": "2022-11-18T20:05:41.476Z"
   },
   {
    "duration": 35,
    "start_time": "2022-11-18T20:15:49.600Z"
   },
   {
    "duration": 42,
    "start_time": "2022-11-18T20:16:19.638Z"
   },
   {
    "duration": 20,
    "start_time": "2022-11-18T20:17:31.010Z"
   },
   {
    "duration": 14,
    "start_time": "2022-11-18T20:18:49.499Z"
   },
   {
    "duration": 18,
    "start_time": "2022-11-18T20:19:51.828Z"
   },
   {
    "duration": 20,
    "start_time": "2022-11-18T20:20:29.373Z"
   },
   {
    "duration": 24,
    "start_time": "2022-11-18T20:20:42.467Z"
   },
   {
    "duration": 143,
    "start_time": "2022-11-18T20:22:10.701Z"
   },
   {
    "duration": 128,
    "start_time": "2022-11-18T20:24:15.366Z"
   },
   {
    "duration": 34,
    "start_time": "2022-11-18T20:25:30.714Z"
   },
   {
    "duration": 19,
    "start_time": "2022-11-18T20:25:42.005Z"
   },
   {
    "duration": 7,
    "start_time": "2022-11-18T20:25:53.242Z"
   },
   {
    "duration": 133,
    "start_time": "2022-11-18T20:25:57.935Z"
   },
   {
    "duration": 122,
    "start_time": "2022-11-18T20:27:17.515Z"
   },
   {
    "duration": 18,
    "start_time": "2022-11-18T20:27:21.396Z"
   },
   {
    "duration": 235,
    "start_time": "2022-11-18T20:28:28.742Z"
   },
   {
    "duration": 260,
    "start_time": "2022-11-18T20:28:46.273Z"
   },
   {
    "duration": 439,
    "start_time": "2022-11-18T20:35:39.867Z"
   },
   {
    "duration": 570,
    "start_time": "2022-11-18T20:36:20.067Z"
   },
   {
    "duration": 594,
    "start_time": "2022-11-18T20:37:10.489Z"
   },
   {
    "duration": 32,
    "start_time": "2022-11-18T20:37:30.264Z"
   },
   {
    "duration": 653,
    "start_time": "2022-11-18T20:38:01.144Z"
   },
   {
    "duration": 528,
    "start_time": "2022-11-18T20:38:15.590Z"
   },
   {
    "duration": 453,
    "start_time": "2022-11-18T20:38:28.817Z"
   },
   {
    "duration": 459,
    "start_time": "2022-11-18T20:38:38.111Z"
   },
   {
    "duration": 439,
    "start_time": "2022-11-18T20:38:48.367Z"
   },
   {
    "duration": 121,
    "start_time": "2022-11-18T20:40:21.425Z"
   },
   {
    "duration": 3,
    "start_time": "2022-11-18T20:40:41.578Z"
   },
   {
    "duration": 199,
    "start_time": "2022-11-18T20:40:41.583Z"
   },
   {
    "duration": 27,
    "start_time": "2022-11-18T20:40:41.784Z"
   },
   {
    "duration": 14,
    "start_time": "2022-11-18T20:40:41.813Z"
   },
   {
    "duration": 35,
    "start_time": "2022-11-18T20:40:41.829Z"
   },
   {
    "duration": 373,
    "start_time": "2022-11-18T20:40:41.866Z"
   },
   {
    "duration": 98,
    "start_time": "2022-11-18T20:40:42.241Z"
   },
   {
    "duration": 50,
    "start_time": "2022-11-18T20:40:42.341Z"
   },
   {
    "duration": 734,
    "start_time": "2022-11-18T20:40:42.392Z"
   },
   {
    "duration": 22,
    "start_time": "2022-11-18T20:40:43.128Z"
   },
   {
    "duration": 3720,
    "start_time": "2022-11-18T20:40:43.165Z"
   },
   {
    "duration": 22,
    "start_time": "2022-11-18T20:40:46.887Z"
   },
   {
    "duration": 64,
    "start_time": "2022-11-18T20:40:46.912Z"
   },
   {
    "duration": 219,
    "start_time": "2022-11-18T20:40:46.978Z"
   },
   {
    "duration": 167,
    "start_time": "2022-11-18T20:40:47.198Z"
   },
   {
    "duration": 17,
    "start_time": "2022-11-18T20:40:47.367Z"
   },
   {
    "duration": 17,
    "start_time": "2022-11-18T20:40:47.386Z"
   },
   {
    "duration": 21,
    "start_time": "2022-11-18T20:40:47.405Z"
   },
   {
    "duration": 51,
    "start_time": "2022-11-18T20:40:47.428Z"
   },
   {
    "duration": 326,
    "start_time": "2022-11-18T20:40:47.481Z"
   },
   {
    "duration": 59,
    "start_time": "2022-11-18T20:40:47.809Z"
   },
   {
    "duration": 23,
    "start_time": "2022-11-18T20:40:47.870Z"
   },
   {
    "duration": 8,
    "start_time": "2022-11-18T20:40:47.895Z"
   },
   {
    "duration": 162,
    "start_time": "2022-11-18T20:40:47.905Z"
   },
   {
    "duration": 288,
    "start_time": "2022-11-18T20:40:48.070Z"
   },
   {
    "duration": 424,
    "start_time": "2022-11-18T20:40:48.368Z"
   },
   {
    "duration": 380,
    "start_time": "2022-11-18T20:43:59.052Z"
   },
   {
    "duration": 375,
    "start_time": "2022-11-18T20:44:11.237Z"
   },
   {
    "duration": 371,
    "start_time": "2022-11-18T20:44:43.629Z"
   },
   {
    "duration": 357,
    "start_time": "2022-11-18T20:45:56.218Z"
   },
   {
    "duration": 361,
    "start_time": "2022-11-18T20:46:22.387Z"
   },
   {
    "duration": 424,
    "start_time": "2022-11-18T20:46:39.146Z"
   },
   {
    "duration": 365,
    "start_time": "2022-11-18T20:47:02.778Z"
   },
   {
    "duration": 361,
    "start_time": "2022-11-18T20:47:08.429Z"
   },
   {
    "duration": 389,
    "start_time": "2022-11-18T20:48:43.825Z"
   },
   {
    "duration": 770,
    "start_time": "2022-11-18T20:49:28.593Z"
   },
   {
    "duration": 2,
    "start_time": "2022-11-18T20:49:40.410Z"
   },
   {
    "duration": 184,
    "start_time": "2022-11-18T20:49:40.414Z"
   },
   {
    "duration": 53,
    "start_time": "2022-11-18T20:49:40.600Z"
   },
   {
    "duration": 18,
    "start_time": "2022-11-18T20:49:40.655Z"
   },
   {
    "duration": 14,
    "start_time": "2022-11-18T20:49:40.677Z"
   },
   {
    "duration": 84,
    "start_time": "2022-11-18T20:49:40.693Z"
   },
   {
    "duration": 121,
    "start_time": "2022-11-18T20:49:40.779Z"
   },
   {
    "duration": 36,
    "start_time": "2022-11-18T20:49:40.901Z"
   },
   {
    "duration": 703,
    "start_time": "2022-11-18T20:49:40.939Z"
   },
   {
    "duration": 16,
    "start_time": "2022-11-18T20:49:41.650Z"
   },
   {
    "duration": 3568,
    "start_time": "2022-11-18T20:49:41.668Z"
   },
   {
    "duration": 31,
    "start_time": "2022-11-18T20:49:45.237Z"
   },
   {
    "duration": 42,
    "start_time": "2022-11-18T20:49:45.269Z"
   },
   {
    "duration": 222,
    "start_time": "2022-11-18T20:49:45.313Z"
   },
   {
    "duration": 142,
    "start_time": "2022-11-18T20:49:45.536Z"
   },
   {
    "duration": 15,
    "start_time": "2022-11-18T20:49:45.680Z"
   },
   {
    "duration": 17,
    "start_time": "2022-11-18T20:49:45.697Z"
   },
   {
    "duration": 47,
    "start_time": "2022-11-18T20:49:45.717Z"
   },
   {
    "duration": 27,
    "start_time": "2022-11-18T20:49:45.766Z"
   },
   {
    "duration": 282,
    "start_time": "2022-11-18T20:49:45.794Z"
   },
   {
    "duration": 33,
    "start_time": "2022-11-18T20:49:46.077Z"
   },
   {
    "duration": 16,
    "start_time": "2022-11-18T20:49:46.111Z"
   },
   {
    "duration": 7,
    "start_time": "2022-11-18T20:49:46.151Z"
   },
   {
    "duration": 137,
    "start_time": "2022-11-18T20:49:46.160Z"
   },
   {
    "duration": 235,
    "start_time": "2022-11-18T20:49:46.298Z"
   },
   {
    "duration": 408,
    "start_time": "2022-11-18T20:49:46.536Z"
   },
   {
    "duration": 356,
    "start_time": "2022-11-18T20:50:53.787Z"
   },
   {
    "duration": 358,
    "start_time": "2022-11-18T20:51:04.869Z"
   },
   {
    "duration": 462,
    "start_time": "2022-11-18T20:51:49.047Z"
   },
   {
    "duration": 442,
    "start_time": "2022-11-18T20:54:59.464Z"
   },
   {
    "duration": 6,
    "start_time": "2022-11-18T21:18:33.737Z"
   },
   {
    "duration": 9,
    "start_time": "2022-11-18T21:19:48.155Z"
   },
   {
    "duration": 10,
    "start_time": "2022-11-18T21:20:36.584Z"
   },
   {
    "duration": 40,
    "start_time": "2022-11-18T21:20:48.022Z"
   },
   {
    "duration": 38,
    "start_time": "2022-11-18T21:21:06.878Z"
   },
   {
    "duration": 54,
    "start_time": "2022-11-18T21:21:16.909Z"
   },
   {
    "duration": 39,
    "start_time": "2022-11-18T21:21:43.440Z"
   },
   {
    "duration": 28,
    "start_time": "2022-11-18T21:22:35.663Z"
   },
   {
    "duration": 3,
    "start_time": "2022-11-18T21:27:00.192Z"
   },
   {
    "duration": 202,
    "start_time": "2022-11-18T21:27:00.197Z"
   },
   {
    "duration": 29,
    "start_time": "2022-11-18T21:27:00.402Z"
   },
   {
    "duration": 16,
    "start_time": "2022-11-18T21:27:00.452Z"
   },
   {
    "duration": 11,
    "start_time": "2022-11-18T21:27:00.470Z"
   },
   {
    "duration": 78,
    "start_time": "2022-11-18T21:27:00.483Z"
   },
   {
    "duration": 105,
    "start_time": "2022-11-18T21:27:00.563Z"
   },
   {
    "duration": 40,
    "start_time": "2022-11-18T21:27:00.670Z"
   },
   {
    "duration": 747,
    "start_time": "2022-11-18T21:27:00.712Z"
   },
   {
    "duration": 16,
    "start_time": "2022-11-18T21:27:01.461Z"
   },
   {
    "duration": 3642,
    "start_time": "2022-11-18T21:27:01.480Z"
   },
   {
    "duration": 30,
    "start_time": "2022-11-18T21:27:05.124Z"
   },
   {
    "duration": 69,
    "start_time": "2022-11-18T21:27:05.156Z"
   },
   {
    "duration": 204,
    "start_time": "2022-11-18T21:27:05.226Z"
   },
   {
    "duration": 149,
    "start_time": "2022-11-18T21:27:05.431Z"
   },
   {
    "duration": 15,
    "start_time": "2022-11-18T21:27:05.581Z"
   },
   {
    "duration": 26,
    "start_time": "2022-11-18T21:27:05.598Z"
   },
   {
    "duration": 36,
    "start_time": "2022-11-18T21:27:05.626Z"
   },
   {
    "duration": 46,
    "start_time": "2022-11-18T21:27:05.664Z"
   },
   {
    "duration": 308,
    "start_time": "2022-11-18T21:27:05.713Z"
   },
   {
    "duration": 44,
    "start_time": "2022-11-18T21:27:06.023Z"
   },
   {
    "duration": 19,
    "start_time": "2022-11-18T21:27:06.069Z"
   },
   {
    "duration": 8,
    "start_time": "2022-11-18T21:27:06.090Z"
   },
   {
    "duration": 163,
    "start_time": "2022-11-18T21:27:06.100Z"
   },
   {
    "duration": 240,
    "start_time": "2022-11-18T21:27:06.266Z"
   },
   {
    "duration": 385,
    "start_time": "2022-11-18T21:27:06.508Z"
   },
   {
    "duration": 27,
    "start_time": "2022-11-18T21:27:06.895Z"
   },
   {
    "duration": 403,
    "start_time": "2022-11-19T19:20:46.390Z"
   },
   {
    "duration": 172,
    "start_time": "2022-11-19T19:20:46.795Z"
   },
   {
    "duration": 23,
    "start_time": "2022-11-19T19:20:46.969Z"
   },
   {
    "duration": 33,
    "start_time": "2022-11-19T19:20:46.994Z"
   },
   {
    "duration": 10,
    "start_time": "2022-11-19T19:20:47.029Z"
   },
   {
    "duration": 52,
    "start_time": "2022-11-19T19:20:47.040Z"
   },
   {
    "duration": 102,
    "start_time": "2022-11-19T19:20:47.093Z"
   },
   {
    "duration": 43,
    "start_time": "2022-11-19T19:20:47.197Z"
   },
   {
    "duration": 813,
    "start_time": "2022-11-19T19:20:47.241Z"
   },
   {
    "duration": 12,
    "start_time": "2022-11-19T19:20:48.056Z"
   },
   {
    "duration": 3175,
    "start_time": "2022-11-19T19:20:48.069Z"
   },
   {
    "duration": 20,
    "start_time": "2022-11-19T19:20:51.246Z"
   },
   {
    "duration": 55,
    "start_time": "2022-11-19T19:20:51.267Z"
   },
   {
    "duration": 307,
    "start_time": "2022-11-19T19:20:51.326Z"
   },
   {
    "duration": 115,
    "start_time": "2022-11-19T19:20:51.635Z"
   },
   {
    "duration": 14,
    "start_time": "2022-11-19T19:20:51.752Z"
   },
   {
    "duration": 56,
    "start_time": "2022-11-19T19:20:51.767Z"
   },
   {
    "duration": 19,
    "start_time": "2022-11-19T19:20:51.824Z"
   },
   {
    "duration": 25,
    "start_time": "2022-11-19T19:20:51.844Z"
   },
   {
    "duration": 383,
    "start_time": "2022-11-19T19:20:51.870Z"
   },
   {
    "duration": 28,
    "start_time": "2022-11-19T19:20:52.254Z"
   },
   {
    "duration": 13,
    "start_time": "2022-11-19T19:20:52.284Z"
   },
   {
    "duration": 27,
    "start_time": "2022-11-19T19:20:52.298Z"
   },
   {
    "duration": 122,
    "start_time": "2022-11-19T19:20:52.326Z"
   },
   {
    "duration": 218,
    "start_time": "2022-11-19T19:20:52.449Z"
   },
   {
    "duration": 383,
    "start_time": "2022-11-19T19:20:52.668Z"
   },
   {
    "duration": 23,
    "start_time": "2022-11-19T19:20:53.053Z"
   },
   {
    "duration": 45,
    "start_time": "2022-11-19T19:54:54.891Z"
   },
   {
    "duration": 376,
    "start_time": "2022-11-19T19:54:58.837Z"
   },
   {
    "duration": 168,
    "start_time": "2022-11-19T19:54:59.215Z"
   },
   {
    "duration": 24,
    "start_time": "2022-11-19T19:54:59.385Z"
   },
   {
    "duration": 13,
    "start_time": "2022-11-19T19:54:59.421Z"
   },
   {
    "duration": 10,
    "start_time": "2022-11-19T19:54:59.435Z"
   },
   {
    "duration": 53,
    "start_time": "2022-11-19T19:54:59.447Z"
   },
   {
    "duration": 41,
    "start_time": "2022-11-19T19:55:01.272Z"
   },
   {
    "duration": 6,
    "start_time": "2022-11-19T19:58:31.021Z"
   },
   {
    "duration": 33,
    "start_time": "2022-11-19T19:59:13.766Z"
   },
   {
    "duration": 6,
    "start_time": "2022-11-19T20:13:03.933Z"
   },
   {
    "duration": 28,
    "start_time": "2022-11-19T20:14:38.571Z"
   },
   {
    "duration": 368,
    "start_time": "2022-11-19T20:14:48.243Z"
   },
   {
    "duration": 165,
    "start_time": "2022-11-19T20:14:48.612Z"
   },
   {
    "duration": 24,
    "start_time": "2022-11-19T20:14:48.778Z"
   },
   {
    "duration": 28,
    "start_time": "2022-11-19T20:14:48.804Z"
   },
   {
    "duration": 9,
    "start_time": "2022-11-19T20:14:48.833Z"
   },
   {
    "duration": 51,
    "start_time": "2022-11-19T20:14:48.844Z"
   },
   {
    "duration": 114,
    "start_time": "2022-11-19T20:14:48.896Z"
   },
   {
    "duration": 41,
    "start_time": "2022-11-19T20:14:49.012Z"
   },
   {
    "duration": 812,
    "start_time": "2022-11-19T20:14:49.055Z"
   },
   {
    "duration": 13,
    "start_time": "2022-11-19T20:14:49.869Z"
   },
   {
    "duration": 3273,
    "start_time": "2022-11-19T20:14:49.883Z"
   },
   {
    "duration": 5,
    "start_time": "2022-11-19T20:14:53.157Z"
   },
   {
    "duration": 24,
    "start_time": "2022-11-19T20:14:53.164Z"
   },
   {
    "duration": 48,
    "start_time": "2022-11-19T20:14:53.189Z"
   },
   {
    "duration": 230,
    "start_time": "2022-11-19T20:14:53.239Z"
   },
   {
    "duration": 118,
    "start_time": "2022-11-19T20:14:53.471Z"
   },
   {
    "duration": 13,
    "start_time": "2022-11-19T20:14:53.590Z"
   },
   {
    "duration": 58,
    "start_time": "2022-11-19T20:14:53.604Z"
   },
   {
    "duration": 16,
    "start_time": "2022-11-19T20:14:53.664Z"
   },
   {
    "duration": 40,
    "start_time": "2022-11-19T20:14:53.682Z"
   },
   {
    "duration": 240,
    "start_time": "2022-11-19T20:14:53.724Z"
   },
   {
    "duration": 27,
    "start_time": "2022-11-19T20:14:53.966Z"
   },
   {
    "duration": 28,
    "start_time": "2022-11-19T20:14:53.994Z"
   },
   {
    "duration": 5,
    "start_time": "2022-11-19T20:14:54.023Z"
   },
   {
    "duration": 118,
    "start_time": "2022-11-19T20:14:54.030Z"
   },
   {
    "duration": 211,
    "start_time": "2022-11-19T20:14:54.149Z"
   },
   {
    "duration": 332,
    "start_time": "2022-11-19T20:14:54.362Z"
   },
   {
    "duration": 29,
    "start_time": "2022-11-19T20:14:54.696Z"
   },
   {
    "duration": 6,
    "start_time": "2022-11-19T20:17:23.513Z"
   },
   {
    "duration": 27,
    "start_time": "2022-11-19T20:47:14.970Z"
   },
   {
    "duration": 403,
    "start_time": "2022-11-19T20:59:52.107Z"
   },
   {
    "duration": 170,
    "start_time": "2022-11-19T20:59:52.512Z"
   },
   {
    "duration": 26,
    "start_time": "2022-11-19T20:59:52.683Z"
   },
   {
    "duration": 21,
    "start_time": "2022-11-19T20:59:52.711Z"
   },
   {
    "duration": 22,
    "start_time": "2022-11-19T20:59:52.733Z"
   },
   {
    "duration": 63,
    "start_time": "2022-11-19T20:59:52.757Z"
   },
   {
    "duration": 90,
    "start_time": "2022-11-19T20:59:52.821Z"
   },
   {
    "duration": 35,
    "start_time": "2022-11-19T20:59:52.921Z"
   },
   {
    "duration": 848,
    "start_time": "2022-11-19T20:59:52.958Z"
   },
   {
    "duration": 20,
    "start_time": "2022-11-19T20:59:53.808Z"
   },
   {
    "duration": 3291,
    "start_time": "2022-11-19T20:59:53.830Z"
   },
   {
    "duration": 19,
    "start_time": "2022-11-19T20:59:57.123Z"
   },
   {
    "duration": 38,
    "start_time": "2022-11-19T20:59:57.144Z"
   },
   {
    "duration": 252,
    "start_time": "2022-11-19T20:59:57.185Z"
   },
   {
    "duration": 125,
    "start_time": "2022-11-19T20:59:57.439Z"
   },
   {
    "duration": 14,
    "start_time": "2022-11-19T20:59:57.566Z"
   },
   {
    "duration": 64,
    "start_time": "2022-11-19T20:59:57.581Z"
   },
   {
    "duration": 19,
    "start_time": "2022-11-19T20:59:57.647Z"
   },
   {
    "duration": 23,
    "start_time": "2022-11-19T20:59:57.667Z"
   },
   {
    "duration": 276,
    "start_time": "2022-11-19T20:59:57.692Z"
   },
   {
    "duration": 32,
    "start_time": "2022-11-19T20:59:57.970Z"
   },
   {
    "duration": 29,
    "start_time": "2022-11-19T20:59:58.004Z"
   },
   {
    "duration": 10,
    "start_time": "2022-11-19T20:59:58.035Z"
   },
   {
    "duration": 118,
    "start_time": "2022-11-19T20:59:58.046Z"
   },
   {
    "duration": 210,
    "start_time": "2022-11-19T20:59:58.166Z"
   },
   {
    "duration": 346,
    "start_time": "2022-11-19T20:59:58.378Z"
   },
   {
    "duration": 23,
    "start_time": "2022-11-19T20:59:58.726Z"
   },
   {
    "duration": 46,
    "start_time": "2022-11-20T06:51:41.687Z"
   },
   {
    "duration": 358,
    "start_time": "2022-11-20T06:51:46.220Z"
   },
   {
    "duration": 407,
    "start_time": "2022-11-20T06:51:46.580Z"
   },
   {
    "duration": 25,
    "start_time": "2022-11-20T06:51:46.989Z"
   },
   {
    "duration": 37,
    "start_time": "2022-11-20T06:51:47.016Z"
   },
   {
    "duration": 10,
    "start_time": "2022-11-20T06:51:47.055Z"
   },
   {
    "duration": 67,
    "start_time": "2022-11-20T06:51:47.067Z"
   },
   {
    "duration": 98,
    "start_time": "2022-11-20T06:51:47.136Z"
   },
   {
    "duration": 42,
    "start_time": "2022-11-20T06:51:47.236Z"
   },
   {
    "duration": 1062,
    "start_time": "2022-11-20T06:51:47.280Z"
   },
   {
    "duration": 14,
    "start_time": "2022-11-20T06:51:48.352Z"
   },
   {
    "duration": 3222,
    "start_time": "2022-11-20T06:51:48.368Z"
   },
   {
    "duration": 18,
    "start_time": "2022-11-20T06:51:51.592Z"
   },
   {
    "duration": 103,
    "start_time": "2022-11-20T06:51:51.611Z"
   },
   {
    "duration": 211,
    "start_time": "2022-11-20T06:51:51.716Z"
   },
   {
    "duration": 124,
    "start_time": "2022-11-20T06:51:51.929Z"
   },
   {
    "duration": 12,
    "start_time": "2022-11-20T06:51:52.055Z"
   },
   {
    "duration": 48,
    "start_time": "2022-11-20T06:51:52.069Z"
   },
   {
    "duration": 44,
    "start_time": "2022-11-20T06:51:52.118Z"
   },
   {
    "duration": 25,
    "start_time": "2022-11-20T06:51:52.163Z"
   },
   {
    "duration": 276,
    "start_time": "2022-11-20T06:51:52.190Z"
   },
   {
    "duration": 42,
    "start_time": "2022-11-20T06:51:52.468Z"
   },
   {
    "duration": 19,
    "start_time": "2022-11-20T06:51:52.512Z"
   },
   {
    "duration": 12,
    "start_time": "2022-11-20T06:51:52.553Z"
   },
   {
    "duration": 123,
    "start_time": "2022-11-20T06:51:52.567Z"
   },
   {
    "duration": 207,
    "start_time": "2022-11-20T06:51:52.692Z"
   },
   {
    "duration": 343,
    "start_time": "2022-11-20T06:51:52.901Z"
   },
   {
    "duration": 27,
    "start_time": "2022-11-20T06:51:53.246Z"
   },
   {
    "duration": 384,
    "start_time": "2022-11-20T10:41:49.832Z"
   },
   {
    "duration": 330,
    "start_time": "2022-11-20T10:41:50.218Z"
   },
   {
    "duration": 23,
    "start_time": "2022-11-20T10:41:50.550Z"
   },
   {
    "duration": 35,
    "start_time": "2022-11-20T10:41:50.575Z"
   },
   {
    "duration": 9,
    "start_time": "2022-11-20T10:41:50.612Z"
   },
   {
    "duration": 54,
    "start_time": "2022-11-20T10:41:50.622Z"
   },
   {
    "duration": 83,
    "start_time": "2022-11-20T10:41:50.697Z"
   },
   {
    "duration": 45,
    "start_time": "2022-11-20T10:41:50.782Z"
   },
   {
    "duration": 1070,
    "start_time": "2022-11-20T10:41:50.829Z"
   },
   {
    "duration": 16,
    "start_time": "2022-11-20T10:41:51.901Z"
   },
   {
    "duration": 3475,
    "start_time": "2022-11-20T10:41:51.918Z"
   },
   {
    "duration": 20,
    "start_time": "2022-11-20T10:41:55.397Z"
   },
   {
    "duration": 106,
    "start_time": "2022-11-20T10:41:55.419Z"
   },
   {
    "duration": 217,
    "start_time": "2022-11-20T10:41:55.526Z"
   },
   {
    "duration": 141,
    "start_time": "2022-11-20T10:41:55.745Z"
   },
   {
    "duration": 22,
    "start_time": "2022-11-20T10:41:55.888Z"
   },
   {
    "duration": 55,
    "start_time": "2022-11-20T10:41:55.912Z"
   },
   {
    "duration": 45,
    "start_time": "2022-11-20T10:41:55.969Z"
   },
   {
    "duration": 26,
    "start_time": "2022-11-20T10:41:56.016Z"
   },
   {
    "duration": 274,
    "start_time": "2022-11-20T10:41:56.044Z"
   },
   {
    "duration": 32,
    "start_time": "2022-11-20T10:41:56.319Z"
   },
   {
    "duration": 14,
    "start_time": "2022-11-20T10:41:56.353Z"
   },
   {
    "duration": 6,
    "start_time": "2022-11-20T10:41:56.369Z"
   },
   {
    "duration": 120,
    "start_time": "2022-11-20T10:41:56.397Z"
   },
   {
    "duration": 227,
    "start_time": "2022-11-20T10:41:56.518Z"
   },
   {
    "duration": 353,
    "start_time": "2022-11-20T10:41:56.747Z"
   },
   {
    "duration": 25,
    "start_time": "2022-11-20T10:41:57.101Z"
   },
   {
    "duration": 40,
    "start_time": "2022-11-20T10:42:54.419Z"
   },
   {
    "duration": 15,
    "start_time": "2022-11-20T10:48:52.838Z"
   },
   {
    "duration": 24,
    "start_time": "2022-11-20T10:49:05.582Z"
   },
   {
    "duration": 11,
    "start_time": "2022-11-20T10:49:15.831Z"
   },
   {
    "duration": 3,
    "start_time": "2022-11-20T10:49:28.114Z"
   },
   {
    "duration": 185,
    "start_time": "2022-11-20T10:49:28.119Z"
   },
   {
    "duration": 37,
    "start_time": "2022-11-20T10:49:28.305Z"
   },
   {
    "duration": 13,
    "start_time": "2022-11-20T10:49:28.345Z"
   },
   {
    "duration": 17,
    "start_time": "2022-11-20T10:49:28.359Z"
   },
   {
    "duration": 57,
    "start_time": "2022-11-20T10:49:28.397Z"
   },
   {
    "duration": 315,
    "start_time": "2022-11-20T10:49:28.455Z"
   },
   {
    "duration": 0,
    "start_time": "2022-11-20T10:49:28.773Z"
   },
   {
    "duration": 0,
    "start_time": "2022-11-20T10:49:28.776Z"
   },
   {
    "duration": 0,
    "start_time": "2022-11-20T10:49:28.782Z"
   },
   {
    "duration": 0,
    "start_time": "2022-11-20T10:49:28.783Z"
   },
   {
    "duration": 0,
    "start_time": "2022-11-20T10:49:28.784Z"
   },
   {
    "duration": 0,
    "start_time": "2022-11-20T10:49:28.785Z"
   },
   {
    "duration": 0,
    "start_time": "2022-11-20T10:49:28.787Z"
   },
   {
    "duration": 0,
    "start_time": "2022-11-20T10:49:28.788Z"
   },
   {
    "duration": 0,
    "start_time": "2022-11-20T10:49:28.789Z"
   },
   {
    "duration": 0,
    "start_time": "2022-11-20T10:49:28.791Z"
   },
   {
    "duration": 0,
    "start_time": "2022-11-20T10:49:28.793Z"
   },
   {
    "duration": 0,
    "start_time": "2022-11-20T10:49:28.794Z"
   },
   {
    "duration": 0,
    "start_time": "2022-11-20T10:49:28.796Z"
   },
   {
    "duration": 0,
    "start_time": "2022-11-20T10:49:28.797Z"
   },
   {
    "duration": 0,
    "start_time": "2022-11-20T10:49:28.798Z"
   },
   {
    "duration": 0,
    "start_time": "2022-11-20T10:49:28.799Z"
   },
   {
    "duration": 0,
    "start_time": "2022-11-20T10:49:28.800Z"
   },
   {
    "duration": 0,
    "start_time": "2022-11-20T10:49:28.801Z"
   },
   {
    "duration": 0,
    "start_time": "2022-11-20T10:49:28.803Z"
   },
   {
    "duration": 0,
    "start_time": "2022-11-20T10:49:28.804Z"
   },
   {
    "duration": 14,
    "start_time": "2022-11-20T10:50:33.898Z"
   },
   {
    "duration": 20,
    "start_time": "2022-11-20T10:50:43.533Z"
   },
   {
    "duration": 20,
    "start_time": "2022-11-20T10:51:18.584Z"
   },
   {
    "duration": 19,
    "start_time": "2022-11-20T10:51:44.083Z"
   },
   {
    "duration": 23,
    "start_time": "2022-11-20T10:51:54.936Z"
   },
   {
    "duration": 3,
    "start_time": "2022-11-20T10:51:59.815Z"
   },
   {
    "duration": 225,
    "start_time": "2022-11-20T10:51:59.820Z"
   },
   {
    "duration": 59,
    "start_time": "2022-11-20T10:52:00.047Z"
   },
   {
    "duration": 14,
    "start_time": "2022-11-20T10:52:00.111Z"
   },
   {
    "duration": 68,
    "start_time": "2022-11-20T10:52:00.127Z"
   },
   {
    "duration": 123,
    "start_time": "2022-11-20T10:52:00.197Z"
   },
   {
    "duration": 110,
    "start_time": "2022-11-20T10:52:00.322Z"
   },
   {
    "duration": 33,
    "start_time": "2022-11-20T10:52:00.434Z"
   },
   {
    "duration": 814,
    "start_time": "2022-11-20T10:52:00.470Z"
   },
   {
    "duration": 22,
    "start_time": "2022-11-20T10:52:01.286Z"
   },
   {
    "duration": 3736,
    "start_time": "2022-11-20T10:52:01.309Z"
   },
   {
    "duration": 25,
    "start_time": "2022-11-20T10:52:05.047Z"
   },
   {
    "duration": 56,
    "start_time": "2022-11-20T10:52:05.074Z"
   },
   {
    "duration": 229,
    "start_time": "2022-11-20T10:52:05.131Z"
   },
   {
    "duration": 153,
    "start_time": "2022-11-20T10:52:05.362Z"
   },
   {
    "duration": 15,
    "start_time": "2022-11-20T10:52:05.517Z"
   },
   {
    "duration": 16,
    "start_time": "2022-11-20T10:52:05.534Z"
   },
   {
    "duration": 47,
    "start_time": "2022-11-20T10:52:05.552Z"
   },
   {
    "duration": 29,
    "start_time": "2022-11-20T10:52:05.601Z"
   },
   {
    "duration": 294,
    "start_time": "2022-11-20T10:52:05.632Z"
   },
   {
    "duration": 34,
    "start_time": "2022-11-20T10:52:05.928Z"
   },
   {
    "duration": 36,
    "start_time": "2022-11-20T10:52:05.963Z"
   },
   {
    "duration": 11,
    "start_time": "2022-11-20T10:52:06.001Z"
   },
   {
    "duration": 159,
    "start_time": "2022-11-20T10:52:06.016Z"
   },
   {
    "duration": 286,
    "start_time": "2022-11-20T10:52:06.177Z"
   },
   {
    "duration": 402,
    "start_time": "2022-11-20T10:52:06.465Z"
   },
   {
    "duration": 29,
    "start_time": "2022-11-20T10:52:06.869Z"
   },
   {
    "duration": 159,
    "start_time": "2022-11-20T10:52:52.905Z"
   },
   {
    "duration": 3,
    "start_time": "2022-11-20T10:52:59.034Z"
   },
   {
    "duration": 170,
    "start_time": "2022-11-20T10:52:59.042Z"
   },
   {
    "duration": 35,
    "start_time": "2022-11-20T10:52:59.215Z"
   },
   {
    "duration": 14,
    "start_time": "2022-11-20T10:52:59.251Z"
   },
   {
    "duration": 51,
    "start_time": "2022-11-20T10:52:59.266Z"
   },
   {
    "duration": 62,
    "start_time": "2022-11-20T10:52:59.320Z"
   },
   {
    "duration": 91,
    "start_time": "2022-11-20T10:52:59.395Z"
   },
   {
    "duration": 35,
    "start_time": "2022-11-20T10:52:59.496Z"
   },
   {
    "duration": 871,
    "start_time": "2022-11-20T10:52:59.534Z"
   },
   {
    "duration": 17,
    "start_time": "2022-11-20T10:53:00.406Z"
   },
   {
    "duration": 3894,
    "start_time": "2022-11-20T10:53:00.425Z"
   },
   {
    "duration": 19,
    "start_time": "2022-11-20T10:53:04.321Z"
   },
   {
    "duration": 54,
    "start_time": "2022-11-20T10:53:04.342Z"
   },
   {
    "duration": 202,
    "start_time": "2022-11-20T10:53:04.398Z"
   },
   {
    "duration": 140,
    "start_time": "2022-11-20T10:53:04.602Z"
   },
   {
    "duration": 13,
    "start_time": "2022-11-20T10:53:04.744Z"
   },
   {
    "duration": 15,
    "start_time": "2022-11-20T10:53:04.759Z"
   },
   {
    "duration": 36,
    "start_time": "2022-11-20T10:53:04.776Z"
   },
   {
    "duration": 26,
    "start_time": "2022-11-20T10:53:04.814Z"
   },
   {
    "duration": 270,
    "start_time": "2022-11-20T10:53:04.842Z"
   },
   {
    "duration": 36,
    "start_time": "2022-11-20T10:53:05.114Z"
   },
   {
    "duration": 16,
    "start_time": "2022-11-20T10:53:05.152Z"
   },
   {
    "duration": 29,
    "start_time": "2022-11-20T10:53:05.170Z"
   },
   {
    "duration": 128,
    "start_time": "2022-11-20T10:53:05.201Z"
   },
   {
    "duration": 252,
    "start_time": "2022-11-20T10:53:05.331Z"
   },
   {
    "duration": 402,
    "start_time": "2022-11-20T10:53:05.585Z"
   },
   {
    "duration": 41,
    "start_time": "2022-11-20T10:53:05.989Z"
   },
   {
    "duration": 173,
    "start_time": "2022-11-20T10:57:08.343Z"
   },
   {
    "duration": 85,
    "start_time": "2022-11-20T10:57:21.808Z"
   },
   {
    "duration": 3,
    "start_time": "2022-11-20T10:57:27.832Z"
   },
   {
    "duration": 167,
    "start_time": "2022-11-20T10:57:27.842Z"
   },
   {
    "duration": 37,
    "start_time": "2022-11-20T10:57:28.011Z"
   },
   {
    "duration": 14,
    "start_time": "2022-11-20T10:57:28.050Z"
   },
   {
    "duration": 48,
    "start_time": "2022-11-20T10:57:28.066Z"
   },
   {
    "duration": 92,
    "start_time": "2022-11-20T10:57:28.117Z"
   },
   {
    "duration": 100,
    "start_time": "2022-11-20T10:57:28.211Z"
   },
   {
    "duration": 44,
    "start_time": "2022-11-20T10:57:28.313Z"
   },
   {
    "duration": 713,
    "start_time": "2022-11-20T10:57:28.359Z"
   },
   {
    "duration": 14,
    "start_time": "2022-11-20T10:57:29.074Z"
   },
   {
    "duration": 3677,
    "start_time": "2022-11-20T10:57:29.097Z"
   },
   {
    "duration": 33,
    "start_time": "2022-11-20T10:57:32.777Z"
   },
   {
    "duration": 43,
    "start_time": "2022-11-20T10:57:32.813Z"
   },
   {
    "duration": 238,
    "start_time": "2022-11-20T10:57:32.858Z"
   },
   {
    "duration": 144,
    "start_time": "2022-11-20T10:57:33.099Z"
   },
   {
    "duration": 15,
    "start_time": "2022-11-20T10:57:33.245Z"
   },
   {
    "duration": 35,
    "start_time": "2022-11-20T10:57:33.261Z"
   },
   {
    "duration": 20,
    "start_time": "2022-11-20T10:57:33.298Z"
   },
   {
    "duration": 25,
    "start_time": "2022-11-20T10:57:33.319Z"
   },
   {
    "duration": 286,
    "start_time": "2022-11-20T10:57:33.346Z"
   },
   {
    "duration": 33,
    "start_time": "2022-11-20T10:57:33.634Z"
   },
   {
    "duration": 35,
    "start_time": "2022-11-20T10:57:33.669Z"
   },
   {
    "duration": 9,
    "start_time": "2022-11-20T10:57:33.706Z"
   },
   {
    "duration": 136,
    "start_time": "2022-11-20T10:57:33.717Z"
   },
   {
    "duration": 235,
    "start_time": "2022-11-20T10:57:33.855Z"
   },
   {
    "duration": 469,
    "start_time": "2022-11-20T10:57:34.091Z"
   },
   {
    "duration": 36,
    "start_time": "2022-11-20T10:57:34.561Z"
   },
   {
    "duration": 124,
    "start_time": "2022-11-20T11:01:55.423Z"
   },
   {
    "duration": 34,
    "start_time": "2022-11-20T11:08:39.302Z"
   },
   {
    "duration": 35,
    "start_time": "2022-11-20T11:08:50.694Z"
   },
   {
    "duration": 3,
    "start_time": "2022-11-20T11:18:32.451Z"
   },
   {
    "duration": 13,
    "start_time": "2022-11-20T11:18:32.456Z"
   },
   {
    "duration": 187,
    "start_time": "2022-11-20T11:18:32.471Z"
   },
   {
    "duration": 71,
    "start_time": "2022-11-20T11:18:32.661Z"
   },
   {
    "duration": 19,
    "start_time": "2022-11-20T11:18:32.734Z"
   },
   {
    "duration": 42,
    "start_time": "2022-11-20T11:18:32.755Z"
   },
   {
    "duration": 80,
    "start_time": "2022-11-20T11:18:32.799Z"
   },
   {
    "duration": 102,
    "start_time": "2022-11-20T11:18:32.896Z"
   },
   {
    "duration": 45,
    "start_time": "2022-11-20T11:18:33.000Z"
   },
   {
    "duration": 764,
    "start_time": "2022-11-20T11:18:33.049Z"
   },
   {
    "duration": 20,
    "start_time": "2022-11-20T11:18:33.816Z"
   },
   {
    "duration": 4024,
    "start_time": "2022-11-20T11:18:33.838Z"
   },
   {
    "duration": 32,
    "start_time": "2022-11-20T11:18:37.864Z"
   },
   {
    "duration": 54,
    "start_time": "2022-11-20T11:18:37.899Z"
   },
   {
    "duration": 258,
    "start_time": "2022-11-20T11:18:37.955Z"
   },
   {
    "duration": 151,
    "start_time": "2022-11-20T11:18:38.215Z"
   },
   {
    "duration": 16,
    "start_time": "2022-11-20T11:18:38.368Z"
   },
   {
    "duration": 18,
    "start_time": "2022-11-20T11:18:38.397Z"
   },
   {
    "duration": 22,
    "start_time": "2022-11-20T11:18:38.417Z"
   },
   {
    "duration": 25,
    "start_time": "2022-11-20T11:18:38.441Z"
   },
   {
    "duration": 283,
    "start_time": "2022-11-20T11:18:38.496Z"
   },
   {
    "duration": 40,
    "start_time": "2022-11-20T11:18:38.781Z"
   },
   {
    "duration": 17,
    "start_time": "2022-11-20T11:18:38.823Z"
   },
   {
    "duration": 10,
    "start_time": "2022-11-20T11:18:38.842Z"
   },
   {
    "duration": 162,
    "start_time": "2022-11-20T11:18:38.853Z"
   },
   {
    "duration": 240,
    "start_time": "2022-11-20T11:18:39.017Z"
   },
   {
    "duration": 515,
    "start_time": "2022-11-20T11:18:39.259Z"
   },
   {
    "duration": 38,
    "start_time": "2022-11-20T11:18:39.777Z"
   },
   {
    "duration": 115,
    "start_time": "2022-11-20T11:24:52.804Z"
   },
   {
    "duration": 34,
    "start_time": "2022-11-20T11:25:49.037Z"
   },
   {
    "duration": 2,
    "start_time": "2022-11-20T11:25:52.444Z"
   },
   {
    "duration": 8,
    "start_time": "2022-11-20T11:25:52.448Z"
   },
   {
    "duration": 164,
    "start_time": "2022-11-20T11:25:52.457Z"
   },
   {
    "duration": 37,
    "start_time": "2022-11-20T11:25:52.623Z"
   },
   {
    "duration": 37,
    "start_time": "2022-11-20T11:25:52.662Z"
   },
   {
    "duration": 23,
    "start_time": "2022-11-20T11:25:52.701Z"
   },
   {
    "duration": 92,
    "start_time": "2022-11-20T11:25:52.725Z"
   },
   {
    "duration": 93,
    "start_time": "2022-11-20T11:25:52.819Z"
   },
   {
    "duration": 32,
    "start_time": "2022-11-20T11:25:52.915Z"
   },
   {
    "duration": 693,
    "start_time": "2022-11-20T11:25:52.948Z"
   },
   {
    "duration": 15,
    "start_time": "2022-11-20T11:25:53.643Z"
   },
   {
    "duration": 3592,
    "start_time": "2022-11-20T11:25:53.660Z"
   },
   {
    "duration": 19,
    "start_time": "2022-11-20T11:25:57.254Z"
   },
   {
    "duration": 54,
    "start_time": "2022-11-20T11:25:57.275Z"
   },
   {
    "duration": 201,
    "start_time": "2022-11-20T11:25:57.330Z"
   },
   {
    "duration": 132,
    "start_time": "2022-11-20T11:25:57.533Z"
   },
   {
    "duration": 13,
    "start_time": "2022-11-20T11:25:57.667Z"
   },
   {
    "duration": 29,
    "start_time": "2022-11-20T11:25:57.681Z"
   },
   {
    "duration": 25,
    "start_time": "2022-11-20T11:25:57.711Z"
   },
   {
    "duration": 26,
    "start_time": "2022-11-20T11:25:57.737Z"
   },
   {
    "duration": 295,
    "start_time": "2022-11-20T11:25:57.765Z"
   },
   {
    "duration": 40,
    "start_time": "2022-11-20T11:25:58.062Z"
   },
   {
    "duration": 17,
    "start_time": "2022-11-20T11:25:58.104Z"
   },
   {
    "duration": 6,
    "start_time": "2022-11-20T11:25:58.124Z"
   },
   {
    "duration": 237,
    "start_time": "2022-11-20T11:25:58.132Z"
   },
   {
    "duration": 223,
    "start_time": "2022-11-20T11:25:58.371Z"
   },
   {
    "duration": 387,
    "start_time": "2022-11-20T11:25:58.597Z"
   },
   {
    "duration": 31,
    "start_time": "2022-11-20T11:25:58.986Z"
   },
   {
    "duration": 2,
    "start_time": "2022-11-20T11:28:07.300Z"
   },
   {
    "duration": 7,
    "start_time": "2022-11-20T11:28:07.306Z"
   },
   {
    "duration": 162,
    "start_time": "2022-11-20T11:28:07.314Z"
   },
   {
    "duration": 36,
    "start_time": "2022-11-20T11:28:07.477Z"
   },
   {
    "duration": 13,
    "start_time": "2022-11-20T11:28:07.515Z"
   },
   {
    "duration": 22,
    "start_time": "2022-11-20T11:28:07.529Z"
   },
   {
    "duration": 98,
    "start_time": "2022-11-20T11:28:07.552Z"
   },
   {
    "duration": 92,
    "start_time": "2022-11-20T11:28:07.652Z"
   },
   {
    "duration": 35,
    "start_time": "2022-11-20T11:28:07.745Z"
   },
   {
    "duration": 677,
    "start_time": "2022-11-20T11:28:07.795Z"
   },
   {
    "duration": 13,
    "start_time": "2022-11-20T11:28:08.474Z"
   },
   {
    "duration": 3579,
    "start_time": "2022-11-20T11:28:08.497Z"
   },
   {
    "duration": 28,
    "start_time": "2022-11-20T11:28:12.078Z"
   },
   {
    "duration": 40,
    "start_time": "2022-11-20T11:28:12.108Z"
   },
   {
    "duration": 217,
    "start_time": "2022-11-20T11:28:12.150Z"
   },
   {
    "duration": 135,
    "start_time": "2022-11-20T11:28:12.369Z"
   },
   {
    "duration": 13,
    "start_time": "2022-11-20T11:28:12.505Z"
   },
   {
    "duration": 16,
    "start_time": "2022-11-20T11:28:12.520Z"
   },
   {
    "duration": 18,
    "start_time": "2022-11-20T11:28:12.538Z"
   },
   {
    "duration": 168,
    "start_time": "2022-11-20T11:28:12.558Z"
   },
   {
    "duration": 291,
    "start_time": "2022-11-20T11:28:12.728Z"
   },
   {
    "duration": 33,
    "start_time": "2022-11-20T11:28:13.022Z"
   },
   {
    "duration": 15,
    "start_time": "2022-11-20T11:28:13.057Z"
   },
   {
    "duration": 8,
    "start_time": "2022-11-20T11:28:13.095Z"
   },
   {
    "duration": 124,
    "start_time": "2022-11-20T11:28:13.106Z"
   },
   {
    "duration": 236,
    "start_time": "2022-11-20T11:28:13.232Z"
   },
   {
    "duration": 372,
    "start_time": "2022-11-20T11:28:13.470Z"
   },
   {
    "duration": 26,
    "start_time": "2022-11-20T11:28:13.844Z"
   },
   {
    "duration": 454,
    "start_time": "2022-11-21T06:59:13.956Z"
   },
   {
    "duration": 3,
    "start_time": "2022-11-21T06:59:14.412Z"
   },
   {
    "duration": 409,
    "start_time": "2022-11-21T06:59:14.417Z"
   },
   {
    "duration": 59,
    "start_time": "2022-11-21T06:59:14.828Z"
   },
   {
    "duration": 15,
    "start_time": "2022-11-21T06:59:14.890Z"
   },
   {
    "duration": 84,
    "start_time": "2022-11-21T06:59:14.906Z"
   },
   {
    "duration": 94,
    "start_time": "2022-11-21T06:59:14.992Z"
   },
   {
    "duration": 101,
    "start_time": "2022-11-21T06:59:15.088Z"
   },
   {
    "duration": 49,
    "start_time": "2022-11-21T06:59:15.191Z"
   },
   {
    "duration": 1331,
    "start_time": "2022-11-21T06:59:15.242Z"
   },
   {
    "duration": 17,
    "start_time": "2022-11-21T06:59:16.575Z"
   },
   {
    "duration": 4501,
    "start_time": "2022-11-21T06:59:16.593Z"
   },
   {
    "duration": 26,
    "start_time": "2022-11-21T06:59:21.096Z"
   },
   {
    "duration": 164,
    "start_time": "2022-11-21T06:59:21.134Z"
   },
   {
    "duration": 306,
    "start_time": "2022-11-21T06:59:21.300Z"
   },
   {
    "duration": 184,
    "start_time": "2022-11-21T06:59:21.609Z"
   },
   {
    "duration": 18,
    "start_time": "2022-11-21T06:59:21.795Z"
   },
   {
    "duration": 81,
    "start_time": "2022-11-21T06:59:21.814Z"
   },
   {
    "duration": 23,
    "start_time": "2022-11-21T06:59:21.897Z"
   },
   {
    "duration": 52,
    "start_time": "2022-11-21T06:59:21.937Z"
   },
   {
    "duration": 390,
    "start_time": "2022-11-21T06:59:21.991Z"
   },
   {
    "duration": 61,
    "start_time": "2022-11-21T06:59:22.383Z"
   },
   {
    "duration": 41,
    "start_time": "2022-11-21T06:59:22.446Z"
   },
   {
    "duration": 40,
    "start_time": "2022-11-21T06:59:22.490Z"
   },
   {
    "duration": 237,
    "start_time": "2022-11-21T06:59:22.531Z"
   },
   {
    "duration": 312,
    "start_time": "2022-11-21T06:59:22.770Z"
   },
   {
    "duration": 508,
    "start_time": "2022-11-21T06:59:23.084Z"
   },
   {
    "duration": 32,
    "start_time": "2022-11-21T06:59:23.594Z"
   },
   {
    "duration": 411,
    "start_time": "2022-11-21T07:23:31.461Z"
   },
   {
    "duration": 3,
    "start_time": "2022-11-21T07:23:31.875Z"
   },
   {
    "duration": 226,
    "start_time": "2022-11-21T07:23:31.880Z"
   },
   {
    "duration": 59,
    "start_time": "2022-11-21T07:23:32.108Z"
   },
   {
    "duration": 15,
    "start_time": "2022-11-21T07:23:32.169Z"
   },
   {
    "duration": 22,
    "start_time": "2022-11-21T07:23:32.186Z"
   },
   {
    "duration": 103,
    "start_time": "2022-11-21T07:23:32.235Z"
   },
   {
    "duration": 127,
    "start_time": "2022-11-21T07:23:32.341Z"
   },
   {
    "duration": 48,
    "start_time": "2022-11-21T07:23:32.470Z"
   },
   {
    "duration": 1134,
    "start_time": "2022-11-21T07:23:32.536Z"
   },
   {
    "duration": 15,
    "start_time": "2022-11-21T07:23:33.671Z"
   },
   {
    "duration": 4045,
    "start_time": "2022-11-21T07:23:33.688Z"
   },
   {
    "duration": 35,
    "start_time": "2022-11-21T07:23:37.737Z"
   },
   {
    "duration": 88,
    "start_time": "2022-11-21T07:23:37.776Z"
   },
   {
    "duration": 311,
    "start_time": "2022-11-21T07:23:37.866Z"
   },
   {
    "duration": 140,
    "start_time": "2022-11-21T07:23:38.179Z"
   },
   {
    "duration": 24,
    "start_time": "2022-11-21T07:23:38.322Z"
   },
   {
    "duration": 64,
    "start_time": "2022-11-21T07:23:38.349Z"
   },
   {
    "duration": 22,
    "start_time": "2022-11-21T07:23:38.415Z"
   },
   {
    "duration": 58,
    "start_time": "2022-11-21T07:23:38.439Z"
   },
   {
    "duration": 303,
    "start_time": "2022-11-21T07:23:38.498Z"
   },
   {
    "duration": 48,
    "start_time": "2022-11-21T07:23:38.802Z"
   },
   {
    "duration": 21,
    "start_time": "2022-11-21T07:23:38.854Z"
   },
   {
    "duration": 18,
    "start_time": "2022-11-21T07:23:38.876Z"
   },
   {
    "duration": 168,
    "start_time": "2022-11-21T07:23:38.896Z"
   },
   {
    "duration": 245,
    "start_time": "2022-11-21T07:23:39.066Z"
   },
   {
    "duration": 381,
    "start_time": "2022-11-21T07:23:39.312Z"
   },
   {
    "duration": 26,
    "start_time": "2022-11-21T07:23:39.695Z"
   },
   {
    "duration": 430,
    "start_time": "2022-11-21T08:53:30.890Z"
   },
   {
    "duration": 2,
    "start_time": "2022-11-21T08:53:31.322Z"
   },
   {
    "duration": 486,
    "start_time": "2022-11-21T08:53:31.326Z"
   },
   {
    "duration": 47,
    "start_time": "2022-11-21T08:53:31.814Z"
   },
   {
    "duration": 35,
    "start_time": "2022-11-21T08:53:31.863Z"
   },
   {
    "duration": 26,
    "start_time": "2022-11-21T08:53:31.900Z"
   },
   {
    "duration": 118,
    "start_time": "2022-11-21T08:53:31.928Z"
   },
   {
    "duration": 97,
    "start_time": "2022-11-21T08:53:32.048Z"
   },
   {
    "duration": 53,
    "start_time": "2022-11-21T08:53:32.146Z"
   },
   {
    "duration": 1242,
    "start_time": "2022-11-21T08:53:32.201Z"
   },
   {
    "duration": 15,
    "start_time": "2022-11-21T08:53:33.445Z"
   },
   {
    "duration": 3784,
    "start_time": "2022-11-21T08:53:33.480Z"
   },
   {
    "duration": 28,
    "start_time": "2022-11-21T08:53:37.266Z"
   },
   {
    "duration": 137,
    "start_time": "2022-11-21T08:53:37.298Z"
   },
   {
    "duration": 230,
    "start_time": "2022-11-21T08:53:37.437Z"
   },
   {
    "duration": 164,
    "start_time": "2022-11-21T08:53:37.669Z"
   },
   {
    "duration": 21,
    "start_time": "2022-11-21T08:53:37.835Z"
   },
   {
    "duration": 74,
    "start_time": "2022-11-21T08:53:37.859Z"
   },
   {
    "duration": 21,
    "start_time": "2022-11-21T08:53:37.935Z"
   },
   {
    "duration": 53,
    "start_time": "2022-11-21T08:53:37.957Z"
   },
   {
    "duration": 328,
    "start_time": "2022-11-21T08:53:38.012Z"
   },
   {
    "duration": 432,
    "start_time": "2022-11-21T10:09:54.597Z"
   },
   {
    "duration": 4,
    "start_time": "2022-11-21T10:09:55.030Z"
   },
   {
    "duration": 249,
    "start_time": "2022-11-21T10:09:55.039Z"
   },
   {
    "duration": 66,
    "start_time": "2022-11-21T10:09:55.290Z"
   },
   {
    "duration": 21,
    "start_time": "2022-11-21T10:09:55.360Z"
   },
   {
    "duration": 79,
    "start_time": "2022-11-21T10:09:55.382Z"
   },
   {
    "duration": 101,
    "start_time": "2022-11-21T10:09:55.465Z"
   },
   {
    "duration": 128,
    "start_time": "2022-11-21T10:09:55.568Z"
   },
   {
    "duration": 47,
    "start_time": "2022-11-21T10:09:55.698Z"
   },
   {
    "duration": 1219,
    "start_time": "2022-11-21T10:09:55.747Z"
   },
   {
    "duration": 16,
    "start_time": "2022-11-21T10:09:56.969Z"
   },
   {
    "duration": 4185,
    "start_time": "2022-11-21T10:09:56.988Z"
   },
   {
    "duration": 23,
    "start_time": "2022-11-21T10:10:01.175Z"
   },
   {
    "duration": 92,
    "start_time": "2022-11-21T10:10:01.201Z"
   },
   {
    "duration": 330,
    "start_time": "2022-11-21T10:10:01.295Z"
   },
   {
    "duration": 161,
    "start_time": "2022-11-21T10:10:01.626Z"
   },
   {
    "duration": 15,
    "start_time": "2022-11-21T10:10:01.789Z"
   },
   {
    "duration": 82,
    "start_time": "2022-11-21T10:10:01.805Z"
   },
   {
    "duration": 20,
    "start_time": "2022-11-21T10:10:01.889Z"
   },
   {
    "duration": 104,
    "start_time": "2022-11-21T10:10:01.911Z"
   },
   {
    "duration": 326,
    "start_time": "2022-11-21T10:10:02.017Z"
   },
   {
    "duration": 44,
    "start_time": "2022-11-21T10:10:02.345Z"
   },
   {
    "duration": 23,
    "start_time": "2022-11-21T10:10:02.391Z"
   },
   {
    "duration": 62,
    "start_time": "2022-11-21T10:10:02.416Z"
   },
   {
    "duration": 201,
    "start_time": "2022-11-21T10:10:02.481Z"
   },
   {
    "duration": 299,
    "start_time": "2022-11-21T10:10:02.684Z"
   },
   {
    "duration": 433,
    "start_time": "2022-11-21T10:10:02.985Z"
   },
   {
    "duration": 44,
    "start_time": "2022-11-21T10:10:03.420Z"
   }
  ],
  "colab": {
   "name": "DA+. Сборный проект 1. Шаблон (1).ipynb",
   "provenance": []
  },
  "kernelspec": {
   "display_name": "Python 3 (ipykernel)",
   "language": "python",
   "name": "python3"
  },
  "language_info": {
   "codemirror_mode": {
    "name": "ipython",
    "version": 3
   },
   "file_extension": ".py",
   "mimetype": "text/x-python",
   "name": "python",
   "nbconvert_exporter": "python",
   "pygments_lexer": "ipython3",
   "version": "3.9.12"
  },
  "toc": {
   "base_numbering": 1,
   "nav_menu": {},
   "number_sections": true,
   "sideBar": true,
   "skip_h1_title": true,
   "title_cell": "Table of Contents",
   "title_sidebar": "Contents",
   "toc_cell": false,
   "toc_position": {
    "height": "calc(100% - 180px)",
    "left": "10px",
    "top": "150px",
    "width": "375.391px"
   },
   "toc_section_display": true,
   "toc_window_display": false
  }
 },
 "nbformat": 4,
 "nbformat_minor": 1
}
